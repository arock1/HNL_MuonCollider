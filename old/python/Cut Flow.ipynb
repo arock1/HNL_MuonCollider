{
 "cells": [
  {
   "cell_type": "code",
   "execution_count": 48,
   "id": "7159f777",
   "metadata": {},
   "outputs": [],
   "source": [
    "import uproot\n",
    "import pandas as pd\n",
    "import numpy as np\n",
    "import matplotlib.pyplot as plt\n",
    "\n",
    "import warnings\n",
    "warnings.filterwarnings(\"ignore\")"
   ]
  },
  {
   "cell_type": "code",
   "execution_count": 49,
   "id": "6c291f4e",
   "metadata": {},
   "outputs": [],
   "source": [
    "cm = 3\n",
    "mN1 = 1\n",
    "mN1_str = ''.join(str(mN1).split('.'))\n",
    "\n",
    "# iM_file = uproot.open(f'../features/signal_reco_E-{cm}TeV_N-{mN1_str}TeV.root')\n",
    "sM_file = uproot.open(f'../features/signal_schannel_reco_E-{cm}TeV_N-{mN1_str}TeV.root')\n",
    "tM_file = uproot.open(f'../features/signal_tchannel_reco_E-{cm}TeV_N-{mN1_str}TeV.root')\n",
    "sD_file = uproot.open(f'../features/signal_schannel_reco_E-{cm}TeV_N-{mN1_str}TeV_Dirac.root')\n",
    "tD_file = uproot.open(f'../features/signal_tchannel_reco_E-{cm}TeV_N-{mN1_str}TeV_Dirac.root')\n",
    "b_file = uproot.open(f'../features/background_reco_E-{cm}TeV.root')\n",
    "\n"
   ]
  },
  {
   "cell_type": "code",
   "execution_count": 50,
   "id": "9400e858",
   "metadata": {},
   "outputs": [],
   "source": [
    "# df_iM = pd.DataFrame(np.array(iM_file['t']['features'].array()))\n",
    "df_sM = pd.DataFrame(np.array(sM_file['t']['features'].array()))\n",
    "df_tM = pd.DataFrame(np.array(tM_file['t']['features'].array()))\n",
    "df_sD = pd.DataFrame(np.array(sD_file['t']['features'].array()))\n",
    "df_tD = pd.DataFrame(np.array(tD_file['t']['features'].array()))\n",
    "df_b = pd.DataFrame(np.array(b_file['t']['features'].array()))\n",
    "\n",
    "# df_i['target']=9\n",
    "df_sM['target']=1\n",
    "df_tM['target']=2\n",
    "df_sD['target']=-1\n",
    "df_tD['target']=-2\n",
    "df_b['target']=0\n",
    "\n",
    "df = pd.concat([df_sM, df_tM, df_sD, df_tD, df_b])\n",
    "# dfI = pd.concat([df_i, df_b])\n",
    "# df_o = df.copy()\n",
    "# dfI_o = dfI.copy()\n",
    "\n",
    "# df_i_o = df_i.copy()\n",
    "df_sM_o = df_sM.copy()\n",
    "df_tM_o = df_tM.copy()\n",
    "df_sD_o = df_sD.copy()\n",
    "df_tD_o = df_tD.copy()\n",
    "df_b_o = df_b.copy()\n"
   ]
  },
  {
   "cell_type": "code",
   "execution_count": null,
   "id": "a9efe921",
   "metadata": {},
   "outputs": [],
   "source": []
  },
  {
   "cell_type": "code",
   "execution_count": 51,
   "id": "2c8fc132",
   "metadata": {},
   "outputs": [],
   "source": [
    "def plot_pt_eta_phi_M(df, particle, cm=1, mN1=1):\n",
    "    \n",
    "    if (particle == 'Jet1') or (particle == 'Jet2'):\n",
    "        df = df[df.nJets==2]\n",
    "    elif (particle == 'JJ'):\n",
    "        df = df[df.nJets==1]\n",
    "    \n",
    "    if (len(df) == 0):\n",
    "        print(particle, \": No samples\")\n",
    "        return\n",
    "    \n",
    "#     df_i = df[df.target==9]\n",
    "    df_sM = df[df.target==1]\n",
    "    df_tM = df[df.target==2]\n",
    "    df_sM = df[df.target==1]\n",
    "    df_tM = df[df.target==2]\n",
    "    df_b = df[df.target==0]\n",
    "    \n",
    "    try:\n",
    "        plt.figure(figsize=(21, 4))\n",
    "\n",
    "#         range_ = [0,500]\n",
    "        range_ = [0,1300]\n",
    "        ax1 = plt.subplot(141)\n",
    "        if (len(df_i)!=0):\n",
    "            ax1.hist(df_i['pt'+particle], weights=[1/len(df_i)]*len(df_i), bins=25, range=range_, histtype='step', alpha=0.5, lw=3, label='Signal', color='C3');\n",
    "            ax1.hist(df_i['pt'+particle+'True'], weights=[1/len(df_i)]*len(df_i), bins=25, range=range_, histtype='step', alpha=0.5, lw=3, color='C3', linestyle='--');\n",
    "        else:\n",
    "            ax1.hist(df_sM['pt'+particle], weights=[1/len(df_sM)]*len(df_sM), bins=25, range=range_, histtype='step', alpha=0.5, lw=3, label='s-ch', color='C0');\n",
    "            ax1.hist(df_sM['pt'+particle+'True'], weights=[1/len(df_sM)]*len(df_sM), bins=25, range=range_, histtype='step', alpha=0.5, lw=3, color='C0', linestyle='--');\n",
    "            ax1.hist(df_tM['pt'+particle], weights=[1/len(df_tM)]*len(df_tM), bins=25, range=range_, histtype='step', alpha=0.5, lw=3, label='t-ch', color='C1');\n",
    "            ax1.hist(df_tM['pt'+particle+'True'], weights=[1/len(df_tM)]*len(df_tM), bins=25, range=range_, histtype='step', alpha=0.5, lw=3, color='C1', linestyle='--');\n",
    "            ax1.hist(df_sD['pt'+particle], weights=[1/len(df_sD)]*len(df_sD), bins=25, range=range_, histtype='step', alpha=0.5, lw=3, label='s-ch', color='C2');\n",
    "            ax1.hist(df_sD['pt'+particle+'True'], weights=[1/len(df_sD)]*len(df_sD), bins=25, range=range_, histtype='step', alpha=0.5, lw=3, color='C2', linestyle='--');\n",
    "            ax1.hist(df_tD['pt'+particle], weights=[1/len(df_tD)]*len(df_tD), bins=25, range=range_, histtype='step', alpha=0.5, lw=3, label='t-ch', color='C3');\n",
    "            ax1.hist(df_tD['pt'+particle+'True'], weights=[1/len(df_tD)]*len(df_tD), bins=25, range=range_, histtype='step', alpha=0.5, lw=3, color='C3', linestyle='--');\n",
    "        \n",
    "        ax1.hist(df_b['pt'+particle], weights=[1/len(df_b)]*len(df_b), bins=25, range=range_, histtype='step', alpha=0.5, lw=3, label='Background', color='C4');\n",
    "        \n",
    "        ax1.set_title(r'$\\sqrt{s}=$'+str(cm)+'TeV'+';  $m_N$='+str(mN1)+'TeV :\\n'+\n",
    "                      r'$p_T$ of '+particle)\n",
    "\n",
    "        range_ = [-5,5]\n",
    "        ax2 = plt.subplot(142)\n",
    "        if (len(df_i)!=0):\n",
    "            ax2.hist(df_i['eta'+particle], weights=[1/len(df_i)]*len(df_i), bins=25, range=range_, histtype='step', alpha=0.5, lw=3, label='Signal', color='C3');\n",
    "            ax2.hist(df_i['eta'+particle+'True'], weights=[1/len(df_i)]*len(df_i), bins=25, range=range_, histtype='step', alpha=0.5, lw=3, color='C3', linestyle='--');\n",
    "        else:\n",
    "            ax2.hist(df_sM['eta'+particle], weights=[1/len(df_sM)]*len(df_sM), bins=25, range=range_, histtype='step', alpha=0.5, lw=3, label='s-ch', color='C0');\n",
    "            ax2.hist(df_sM['eta'+particle+'True'], weights=[1/len(df_sM)]*len(df_sM), bins=25, range=range_, histtype='step', alpha=0.5, lw=3, color='C0', linestyle='--');\n",
    "            ax2.hist(df_tM['eta'+particle], weights=[1/len(df_tM)]*len(df_tM), bins=25, range=range_, histtype='step', alpha=0.5, lw=3, label='t-ch', color='C1');\n",
    "            ax2.hist(df_tM['eta'+particle+'True'], weights=[1/len(df_tM)]*len(df_tM), bins=25, range=range_, histtype='step', alpha=0.5, lw=3, color='C1', linestyle='--');\n",
    "        ax2.hist(df_b['eta'+particle], weights=[1/len(df_b)]*len(df_b), bins=25, range=range_, histtype='step', alpha=0.5, lw=3, label='Background', color='C2');\n",
    "        \n",
    "        ax2.set_title(r'$\\sqrt{s}=$'+str(cm)+'TeV'+';  $m_N$='+str(mN1)+'TeV :\\n'+\n",
    "                      r'$\\eta$ of '+particle)\n",
    "\n",
    "#         range_ = [-6,6]\n",
    "#         ax3 = plt.subplot(143)\n",
    "#         if (len(df_i)!=0):\n",
    "#             ax3.hist(df_i['phi'+particle], weights=[1/len(df_i)]*len(df_i), bins=25, range=range_, histtype='step', alpha=0.5, lw=3, label='Signal', color='C3');\n",
    "#             ax3.hist(df_i['phi'+particle+'True'], weights=[1/len(df_i)]*len(df_i), bins=25, range=range_, histtype='step', alpha=0.5, lw=3, color='C3', linestyle='--');\n",
    "#         else:\n",
    "#             ax3.hist(df_sM['phi'+particle], weights=[1/len(df_sM)]*len(df_sM), bins=25, range=range_, histtype='step', alpha=0.5, lw=3, label='s-ch', color='C0');\n",
    "#             ax3.hist(df_sM['phi'+particle+'True'], weights=[1/len(df_sM)]*len(df_sM), bins=25, range=range_, histtype='step', alpha=0.5, lw=3, color='C0', linestyle='--');\n",
    "#             ax3.hist(df_tM['phi'+particle], weights=[1/len(df_tM)]*len(df_tM), bins=25, range=range_, histtype='step', alpha=0.5, lw=3, label='t-ch', color='C1');\n",
    "#             ax3.hist(df_tM['phi'+particle+'True'], weights=[1/len(df_tM)]*len(df_tM), bins=25, range=range_, histtype='step', alpha=0.5, lw=3, color='C1', linestyle='--');\n",
    "#         ax3.hist(df_b['phi'+particle], weights=[1/len(df_b)]*len(df_b), bins=25, range=range_, histtype='step', alpha=0.5, lw=3, label='Background', color='C2');\n",
    "        \n",
    "#         ax3.set_title(r'$\\sqrt{s}=$'+str(cm)+'TeV'+';  $m_N$='+str(mN1)+'TeV :\\n'+\n",
    "#                       r'$\\phi$ of '+particle)\n",
    "\n",
    "\n",
    "        \n",
    "        if particle == 'JJ':\n",
    "            range_ = [0,120]\n",
    "            col = 'm'\n",
    "        elif particle == 'N':\n",
    "            range_ = [0,1000*mN1*1.1]\n",
    "            col = 'm'\n",
    "        else:\n",
    "            if cm == 10:\n",
    "                range_ = [0, 6000]\n",
    "            elif cm == 3:\n",
    "                range_ = [0,2000]\n",
    "#                 range_ = [0,100]\n",
    "            col = 'E'\n",
    "            \n",
    "        ax4 = plt.subplot(143)\n",
    "        \n",
    "        if (len(df_i)!=0):\n",
    "            ax4.hist(df_i[col+particle], weights=[1/len(df_i)]*len(df_i), bins=25, range=range_, histtype='step', alpha=0.5, lw=3, label='Signal', color='C3');\n",
    "            ax4.hist(df_i[col+particle+'True'], weights=[1/len(df_i)]*len(df_i), bins=25, range=range_, histtype='step', alpha=0.5, lw=3, color='C3', linestyle='--');\n",
    "        else:\n",
    "            ax4.hist(df_sM[col+particle], weights=[1/len(df_sM)]*len(df_sM), bins=25, range=range_, histtype='step', alpha=0.5, lw=3, label='s-ch', color='C0');\n",
    "            ax4.hist(df_sM[col+particle+'True'], weights=[1/len(df_sM)]*len(df_sM), bins=25, range=range_, histtype='step', alpha=0.5, lw=3, color='C0', linestyle='--');\n",
    "            ax4.hist(df_tM[col+particle], weights=[1/len(df_tM)]*len(df_tM), bins=25, range=range_, histtype='step', alpha=0.5, lw=3, label='t-ch', color='C1');\n",
    "            ax4.hist(df_tM[col+particle+'True'], weights=[1/len(df_tM)]*len(df_tM), bins=25, range=range_, histtype='step', alpha=0.5, lw=3, color='C1', linestyle='--');\n",
    "        ax4.hist(df_b[col+particle], weights=[1/len(df_b)]*len(df_b), bins=25, range=range_, histtype='step', alpha=0.5, lw=3, label='Background', color='C2');\n",
    "        ax4.set_title(r'$\\sqrt{s}=$'+str(cm)+'TeV'+';  $m_N$='+str(mN1)+'TeV :\\n'+\n",
    "                      f'${col}$ of '+particle)\n",
    "\n",
    "        \n",
    "\n",
    "        ax1.legend() \n",
    "        plt.show()\n",
    "        \n",
    "        \n",
    "    except ZeroDivisionError:\n",
    "        print(\"No samples\")\n",
    "\n"
   ]
  },
  {
   "cell_type": "code",
   "execution_count": 52,
   "id": "32f8b721",
   "metadata": {},
   "outputs": [],
   "source": [
    "def plot_them(df):\n",
    "    plot_pt_eta_phi_M(df, 'Lep', cm, mN1)\n",
    "#     plot_pt_eta_phi_M(df, 'Jet1', cm, mN1)\n",
    "#     plot_pt_eta_phi_M(df, 'Jet2', cm, mN1)\n",
    "    plot_pt_eta_phi_M(df, 'JJ', cm, mN1)\n",
    "    plot_pt_eta_phi_M(df, 'N', cm, mN1)"
   ]
  },
  {
   "cell_type": "code",
   "execution_count": null,
   "id": "5db7853f",
   "metadata": {},
   "outputs": [],
   "source": []
  },
  {
   "cell_type": "code",
   "execution_count": null,
   "id": "4b02f5a9",
   "metadata": {},
   "outputs": [],
   "source": []
  },
  {
   "cell_type": "code",
   "execution_count": null,
   "id": "4c137aa1",
   "metadata": {},
   "outputs": [],
   "source": []
  },
  {
   "cell_type": "code",
   "execution_count": 6,
   "id": "1344b09d",
   "metadata": {},
   "outputs": [],
   "source": [
    "def cut_flow(df, col, upper=1e10, lower=-1e10, plot=False):\n",
    "    print(f\"cut :{col}>={lower} & {col}<={upper}\")\n",
    "    \n",
    "    i_before = len(df[df.target==9])\n",
    "    s_before = len(df[df.target==1])\n",
    "    t_before = len(df[df.target==2])\n",
    "    b_before = len(df[df.target==0])\n",
    "    \n",
    "    if i_before != 0 :\n",
    "        print('Before cut:\\tI samples:', i_before, '; B samples:', b_before)\n",
    "    else:\n",
    "        print('Before cut:\\tS samples:', s_before, '; B samples:', b_before)\n",
    "        print('Before cut:\\tT samples:', t_before, '; B samples:', b_before)\n",
    "    \n",
    "    df = df[df[col] <= upper]\n",
    "    df = df[df[col] >= lower]\n",
    "    i_after = len(df[df.target==9])\n",
    "    s_after = len(df[df.target==1])\n",
    "    t_after = len(df[df.target==2])\n",
    "    b_after = len(df[df.target==0])\n",
    "    \n",
    "    if i_before != 0 :\n",
    "        print(f'After cut: \\\n",
    "        I samples: {i_after}/{i_before} ({round(100*(i_after/i_before),2)}%); B samples: {b_after}/{b_before} ({round(100*(b_after/b_before),2)}%)')\n",
    "    else:\n",
    "        print(f'After cut: \\\n",
    "        S samples: {s_after}/{s_before} ({round(100*(s_after/s_before),2)}%); B samples: {b_after}/{b_before} ({round(100*(b_after/b_before),2)}%)')\n",
    "        print(f'After cut: \\\n",
    "        T samples: {t_after}/{t_before} ({round(100*(t_after/t_before),2)}%); B samples: {b_after}/{b_before} ({round(100*(b_after/b_before),2)}%)')\n",
    "    \n",
    "    if plot:\n",
    "        plot_them(df)\n",
    "        \n",
    "    return df\n",
    "    "
   ]
  },
  {
   "cell_type": "code",
   "execution_count": 7,
   "id": "1a00e9c7",
   "metadata": {
    "scrolled": false
   },
   "outputs": [
    {
     "ename": "NameError",
     "evalue": "name 'plot_pt_eta_phi_M' is not defined",
     "output_type": "error",
     "traceback": [
      "\u001b[0;31m---------------------------------------------------------------------------\u001b[0m",
      "\u001b[0;31mNameError\u001b[0m                                 Traceback (most recent call last)",
      "Input \u001b[0;32mIn [7]\u001b[0m, in \u001b[0;36m<cell line: 2>\u001b[0;34m()\u001b[0m\n\u001b[1;32m      1\u001b[0m \u001b[38;5;66;03m# plot_them(dfI)\u001b[39;00m\n\u001b[0;32m----> 2\u001b[0m \u001b[43mplot_them\u001b[49m\u001b[43m(\u001b[49m\u001b[43mdf\u001b[49m\u001b[43m)\u001b[49m\n",
      "Input \u001b[0;32mIn [5]\u001b[0m, in \u001b[0;36mplot_them\u001b[0;34m(df)\u001b[0m\n\u001b[1;32m      1\u001b[0m \u001b[38;5;28;01mdef\u001b[39;00m \u001b[38;5;21mplot_them\u001b[39m(df):\n\u001b[0;32m----> 2\u001b[0m     \u001b[43mplot_pt_eta_phi_M\u001b[49m(df, \u001b[38;5;124m'\u001b[39m\u001b[38;5;124mLep\u001b[39m\u001b[38;5;124m'\u001b[39m, cm, mN1)\n\u001b[1;32m      3\u001b[0m \u001b[38;5;66;03m#     plot_pt_eta_phi_M(df, 'Jet1', cm, mN1)\u001b[39;00m\n\u001b[1;32m      4\u001b[0m \u001b[38;5;66;03m#     plot_pt_eta_phi_M(df, 'Jet2', cm, mN1)\u001b[39;00m\n\u001b[1;32m      5\u001b[0m     plot_pt_eta_phi_M(df, \u001b[38;5;124m'\u001b[39m\u001b[38;5;124mJJ\u001b[39m\u001b[38;5;124m'\u001b[39m, cm, mN1)\n",
      "\u001b[0;31mNameError\u001b[0m: name 'plot_pt_eta_phi_M' is not defined"
     ]
    }
   ],
   "source": [
    "# plot_them(dfI)\n",
    "plot_them(df)"
   ]
  },
  {
   "cell_type": "code",
   "execution_count": 8,
   "id": "fe7b0bd4",
   "metadata": {},
   "outputs": [
    {
     "ename": "NameError",
     "evalue": "name 'df_o' is not defined",
     "output_type": "error",
     "traceback": [
      "\u001b[0;31m---------------------------------------------------------------------------\u001b[0m",
      "\u001b[0;31mNameError\u001b[0m                                 Traceback (most recent call last)",
      "Input \u001b[0;32mIn [8]\u001b[0m, in \u001b[0;36m<cell line: 1>\u001b[0;34m()\u001b[0m\n\u001b[0;32m----> 1\u001b[0m df \u001b[38;5;241m=\u001b[39m cut_flow(\u001b[43mdf_o\u001b[49m, \u001b[38;5;124m'\u001b[39m\u001b[38;5;124mptLep\u001b[39m\u001b[38;5;124m'\u001b[39m, lower\u001b[38;5;241m=\u001b[39m\u001b[38;5;241m100\u001b[39m, plot\u001b[38;5;241m=\u001b[39m\u001b[38;5;28;01mTrue\u001b[39;00m)\n",
      "\u001b[0;31mNameError\u001b[0m: name 'df_o' is not defined"
     ]
    }
   ],
   "source": [
    "df = cut_flow(df_o, 'ptLep', lower=100, plot=True)\n",
    "\n",
    "# df = cut_flow(dfI_o, 'ptLep', lower=100, plot=True)\n"
   ]
  },
  {
   "cell_type": "code",
   "execution_count": 9,
   "id": "6757e53e",
   "metadata": {},
   "outputs": [
    {
     "name": "stdout",
     "output_type": "stream",
     "text": [
      "cut :ptJJ>=100 & ptJJ<=10000000000.0\n",
      "Before cut:\tS samples: 6138 ; B samples: 11908\n",
      "Before cut:\tT samples: 5707 ; B samples: 11908\n",
      "After cut:         S samples: 6138/6138 (100.0%); B samples: 11908/11908 (100.0%)\n",
      "After cut:         T samples: 5707/5707 (100.0%); B samples: 11908/11908 (100.0%)\n"
     ]
    },
    {
     "ename": "NameError",
     "evalue": "name 'plot_pt_eta_phi_M' is not defined",
     "output_type": "error",
     "traceback": [
      "\u001b[0;31m---------------------------------------------------------------------------\u001b[0m",
      "\u001b[0;31mNameError\u001b[0m                                 Traceback (most recent call last)",
      "Input \u001b[0;32mIn [9]\u001b[0m, in \u001b[0;36m<cell line: 1>\u001b[0;34m()\u001b[0m\n\u001b[0;32m----> 1\u001b[0m df \u001b[38;5;241m=\u001b[39m \u001b[43mcut_flow\u001b[49m\u001b[43m(\u001b[49m\u001b[43mdf\u001b[49m\u001b[43m,\u001b[49m\u001b[43m \u001b[49m\u001b[38;5;124;43m'\u001b[39;49m\u001b[38;5;124;43mptJJ\u001b[39;49m\u001b[38;5;124;43m'\u001b[39;49m\u001b[43m,\u001b[49m\u001b[43m \u001b[49m\u001b[43mlower\u001b[49m\u001b[38;5;241;43m=\u001b[39;49m\u001b[38;5;241;43m100\u001b[39;49m\u001b[43m,\u001b[49m\u001b[43m \u001b[49m\u001b[43mplot\u001b[49m\u001b[38;5;241;43m=\u001b[39;49m\u001b[38;5;28;43;01mTrue\u001b[39;49;00m\u001b[43m)\u001b[49m\n",
      "Input \u001b[0;32mIn [6]\u001b[0m, in \u001b[0;36mcut_flow\u001b[0;34m(df, col, upper, lower, plot)\u001b[0m\n\u001b[1;32m     28\u001b[0m     \u001b[38;5;28mprint\u001b[39m(\u001b[38;5;124mf\u001b[39m\u001b[38;5;124m'\u001b[39m\u001b[38;5;124mAfter cut: \u001b[39m\u001b[38;5;130;01m\\\u001b[39;00m\n\u001b[1;32m     29\u001b[0m \u001b[38;5;124m    T samples: \u001b[39m\u001b[38;5;132;01m{\u001b[39;00mt_after\u001b[38;5;132;01m}\u001b[39;00m\u001b[38;5;124m/\u001b[39m\u001b[38;5;132;01m{\u001b[39;00mt_before\u001b[38;5;132;01m}\u001b[39;00m\u001b[38;5;124m (\u001b[39m\u001b[38;5;132;01m{\u001b[39;00m\u001b[38;5;28mround\u001b[39m(\u001b[38;5;241m100\u001b[39m\u001b[38;5;241m*\u001b[39m(t_after\u001b[38;5;241m/\u001b[39mt_before),\u001b[38;5;241m2\u001b[39m)\u001b[38;5;132;01m}\u001b[39;00m\u001b[38;5;124m%); B samples: \u001b[39m\u001b[38;5;132;01m{\u001b[39;00mb_after\u001b[38;5;132;01m}\u001b[39;00m\u001b[38;5;124m/\u001b[39m\u001b[38;5;132;01m{\u001b[39;00mb_before\u001b[38;5;132;01m}\u001b[39;00m\u001b[38;5;124m (\u001b[39m\u001b[38;5;132;01m{\u001b[39;00m\u001b[38;5;28mround\u001b[39m(\u001b[38;5;241m100\u001b[39m\u001b[38;5;241m*\u001b[39m(b_after\u001b[38;5;241m/\u001b[39mb_before),\u001b[38;5;241m2\u001b[39m)\u001b[38;5;132;01m}\u001b[39;00m\u001b[38;5;124m%)\u001b[39m\u001b[38;5;124m'\u001b[39m)\n\u001b[1;32m     31\u001b[0m \u001b[38;5;28;01mif\u001b[39;00m plot:\n\u001b[0;32m---> 32\u001b[0m     \u001b[43mplot_them\u001b[49m\u001b[43m(\u001b[49m\u001b[43mdf\u001b[49m\u001b[43m)\u001b[49m\n\u001b[1;32m     34\u001b[0m \u001b[38;5;28;01mreturn\u001b[39;00m df\n",
      "Input \u001b[0;32mIn [5]\u001b[0m, in \u001b[0;36mplot_them\u001b[0;34m(df)\u001b[0m\n\u001b[1;32m      1\u001b[0m \u001b[38;5;28;01mdef\u001b[39;00m \u001b[38;5;21mplot_them\u001b[39m(df):\n\u001b[0;32m----> 2\u001b[0m     \u001b[43mplot_pt_eta_phi_M\u001b[49m(df, \u001b[38;5;124m'\u001b[39m\u001b[38;5;124mLep\u001b[39m\u001b[38;5;124m'\u001b[39m, cm, mN1)\n\u001b[1;32m      3\u001b[0m \u001b[38;5;66;03m#     plot_pt_eta_phi_M(df, 'Jet1', cm, mN1)\u001b[39;00m\n\u001b[1;32m      4\u001b[0m \u001b[38;5;66;03m#     plot_pt_eta_phi_M(df, 'Jet2', cm, mN1)\u001b[39;00m\n\u001b[1;32m      5\u001b[0m     plot_pt_eta_phi_M(df, \u001b[38;5;124m'\u001b[39m\u001b[38;5;124mJJ\u001b[39m\u001b[38;5;124m'\u001b[39m, cm, mN1)\n",
      "\u001b[0;31mNameError\u001b[0m: name 'plot_pt_eta_phi_M' is not defined"
     ]
    }
   ],
   "source": [
    "df = cut_flow(df, 'ptJJ', lower=100, plot=True)\n",
    "# df = cut_flow(df, 'ptJJ', lower=50, plot=True)"
   ]
  },
  {
   "cell_type": "code",
   "execution_count": 10,
   "id": "310832cb",
   "metadata": {},
   "outputs": [
    {
     "name": "stdout",
     "output_type": "stream",
     "text": [
      "cut :mJJ>=69.95400000000001 & mJJ<=90.804\n",
      "Before cut:\tS samples: 6138 ; B samples: 11908\n",
      "Before cut:\tT samples: 5707 ; B samples: 11908\n",
      "After cut:         S samples: 6138/6138 (100.0%); B samples: 11908/11908 (100.0%)\n",
      "After cut:         T samples: 5707/5707 (100.0%); B samples: 11908/11908 (100.0%)\n"
     ]
    },
    {
     "ename": "NameError",
     "evalue": "name 'plot_pt_eta_phi_M' is not defined",
     "output_type": "error",
     "traceback": [
      "\u001b[0;31m---------------------------------------------------------------------------\u001b[0m",
      "\u001b[0;31mNameError\u001b[0m                                 Traceback (most recent call last)",
      "Input \u001b[0;32mIn [10]\u001b[0m, in \u001b[0;36m<cell line: 5>\u001b[0;34m()\u001b[0m\n\u001b[1;32m      2\u001b[0m widthW \u001b[38;5;241m=\u001b[39m \u001b[38;5;241m2.085\u001b[39m\n\u001b[1;32m      3\u001b[0m nwidth \u001b[38;5;241m=\u001b[39m \u001b[38;5;241m5\u001b[39m\n\u001b[0;32m----> 5\u001b[0m df \u001b[38;5;241m=\u001b[39m \u001b[43mcut_flow\u001b[49m\u001b[43m(\u001b[49m\u001b[43mdf\u001b[49m\u001b[43m,\u001b[49m\u001b[43m \u001b[49m\u001b[38;5;124;43m'\u001b[39;49m\u001b[38;5;124;43mmJJ\u001b[39;49m\u001b[38;5;124;43m'\u001b[39;49m\u001b[43m,\u001b[49m\u001b[43m \u001b[49m\u001b[43mupper\u001b[49m\u001b[38;5;241;43m=\u001b[39;49m\u001b[43mmW\u001b[49m\u001b[38;5;241;43m+\u001b[39;49m\u001b[43mnwidth\u001b[49m\u001b[38;5;241;43m*\u001b[39;49m\u001b[43mwidthW\u001b[49m\u001b[43m \u001b[49m\u001b[43m,\u001b[49m\u001b[43mlower\u001b[49m\u001b[38;5;241;43m=\u001b[39;49m\u001b[43mmW\u001b[49m\u001b[38;5;241;43m-\u001b[39;49m\u001b[43mnwidth\u001b[49m\u001b[38;5;241;43m*\u001b[39;49m\u001b[43mwidthW\u001b[49m\u001b[43m,\u001b[49m\u001b[43m \u001b[49m\u001b[43mplot\u001b[49m\u001b[38;5;241;43m=\u001b[39;49m\u001b[38;5;28;43;01mTrue\u001b[39;49;00m\u001b[43m)\u001b[49m\n",
      "Input \u001b[0;32mIn [6]\u001b[0m, in \u001b[0;36mcut_flow\u001b[0;34m(df, col, upper, lower, plot)\u001b[0m\n\u001b[1;32m     28\u001b[0m     \u001b[38;5;28mprint\u001b[39m(\u001b[38;5;124mf\u001b[39m\u001b[38;5;124m'\u001b[39m\u001b[38;5;124mAfter cut: \u001b[39m\u001b[38;5;130;01m\\\u001b[39;00m\n\u001b[1;32m     29\u001b[0m \u001b[38;5;124m    T samples: \u001b[39m\u001b[38;5;132;01m{\u001b[39;00mt_after\u001b[38;5;132;01m}\u001b[39;00m\u001b[38;5;124m/\u001b[39m\u001b[38;5;132;01m{\u001b[39;00mt_before\u001b[38;5;132;01m}\u001b[39;00m\u001b[38;5;124m (\u001b[39m\u001b[38;5;132;01m{\u001b[39;00m\u001b[38;5;28mround\u001b[39m(\u001b[38;5;241m100\u001b[39m\u001b[38;5;241m*\u001b[39m(t_after\u001b[38;5;241m/\u001b[39mt_before),\u001b[38;5;241m2\u001b[39m)\u001b[38;5;132;01m}\u001b[39;00m\u001b[38;5;124m%); B samples: \u001b[39m\u001b[38;5;132;01m{\u001b[39;00mb_after\u001b[38;5;132;01m}\u001b[39;00m\u001b[38;5;124m/\u001b[39m\u001b[38;5;132;01m{\u001b[39;00mb_before\u001b[38;5;132;01m}\u001b[39;00m\u001b[38;5;124m (\u001b[39m\u001b[38;5;132;01m{\u001b[39;00m\u001b[38;5;28mround\u001b[39m(\u001b[38;5;241m100\u001b[39m\u001b[38;5;241m*\u001b[39m(b_after\u001b[38;5;241m/\u001b[39mb_before),\u001b[38;5;241m2\u001b[39m)\u001b[38;5;132;01m}\u001b[39;00m\u001b[38;5;124m%)\u001b[39m\u001b[38;5;124m'\u001b[39m)\n\u001b[1;32m     31\u001b[0m \u001b[38;5;28;01mif\u001b[39;00m plot:\n\u001b[0;32m---> 32\u001b[0m     \u001b[43mplot_them\u001b[49m\u001b[43m(\u001b[49m\u001b[43mdf\u001b[49m\u001b[43m)\u001b[49m\n\u001b[1;32m     34\u001b[0m \u001b[38;5;28;01mreturn\u001b[39;00m df\n",
      "Input \u001b[0;32mIn [5]\u001b[0m, in \u001b[0;36mplot_them\u001b[0;34m(df)\u001b[0m\n\u001b[1;32m      1\u001b[0m \u001b[38;5;28;01mdef\u001b[39;00m \u001b[38;5;21mplot_them\u001b[39m(df):\n\u001b[0;32m----> 2\u001b[0m     \u001b[43mplot_pt_eta_phi_M\u001b[49m(df, \u001b[38;5;124m'\u001b[39m\u001b[38;5;124mLep\u001b[39m\u001b[38;5;124m'\u001b[39m, cm, mN1)\n\u001b[1;32m      3\u001b[0m \u001b[38;5;66;03m#     plot_pt_eta_phi_M(df, 'Jet1', cm, mN1)\u001b[39;00m\n\u001b[1;32m      4\u001b[0m \u001b[38;5;66;03m#     plot_pt_eta_phi_M(df, 'Jet2', cm, mN1)\u001b[39;00m\n\u001b[1;32m      5\u001b[0m     plot_pt_eta_phi_M(df, \u001b[38;5;124m'\u001b[39m\u001b[38;5;124mJJ\u001b[39m\u001b[38;5;124m'\u001b[39m, cm, mN1)\n",
      "\u001b[0;31mNameError\u001b[0m: name 'plot_pt_eta_phi_M' is not defined"
     ]
    }
   ],
   "source": [
    "mW = 80.379\n",
    "widthW = 2.085\n",
    "nwidth = 5\n",
    "\n",
    "df = cut_flow(df, 'mJJ', upper=mW+nwidth*widthW ,lower=mW-nwidth*widthW, plot=True)"
   ]
  },
  {
   "cell_type": "code",
   "execution_count": 11,
   "id": "22bd0d26",
   "metadata": {},
   "outputs": [],
   "source": [
    "df_i = df[df.target==9]\n",
    "df_t = df[df.target==1]\n",
    "df_s = df[df.target==2]\n",
    "df_b = df[df.target==0]\n"
   ]
  },
  {
   "cell_type": "code",
   "execution_count": 12,
   "id": "248ab12e",
   "metadata": {},
   "outputs": [
    {
     "ename": "NameError",
     "evalue": "name 'df_s_o' is not defined",
     "output_type": "error",
     "traceback": [
      "\u001b[0;31m---------------------------------------------------------------------------\u001b[0m",
      "\u001b[0;31mNameError\u001b[0m                                 Traceback (most recent call last)",
      "Input \u001b[0;32mIn [12]\u001b[0m, in \u001b[0;36m<cell line: 1>\u001b[0;34m()\u001b[0m\n\u001b[0;32m----> 1\u001b[0m \u001b[38;5;28mlen\u001b[39m(df_s)\u001b[38;5;241m/\u001b[39m\u001b[38;5;28mlen\u001b[39m(\u001b[43mdf_s_o\u001b[49m), \u001b[38;5;28mlen\u001b[39m(df_s)\u001b[38;5;241m/\u001b[39m\u001b[38;5;28mlen\u001b[39m(df_s_o)\n",
      "\u001b[0;31mNameError\u001b[0m: name 'df_s_o' is not defined"
     ]
    }
   ],
   "source": [
    "len(df_s)/len(df_s_o), len(df_s)/len(df_s_o)"
   ]
  },
  {
   "cell_type": "code",
   "execution_count": null,
   "id": "8c0cc544",
   "metadata": {},
   "outputs": [],
   "source": []
  },
  {
   "cell_type": "code",
   "execution_count": null,
   "id": "e6a2ef2b",
   "metadata": {},
   "outputs": [],
   "source": []
  },
  {
   "cell_type": "code",
   "execution_count": null,
   "id": "a9ceda64",
   "metadata": {},
   "outputs": [],
   "source": []
  },
  {
   "cell_type": "code",
   "execution_count": 13,
   "id": "3e4cae2e",
   "metadata": {},
   "outputs": [
    {
     "name": "stdout",
     "output_type": "stream",
     "text": [
      "m(N) between 900.0 and 1100.0 TeV\n",
      "Signal:\n"
     ]
    },
    {
     "ename": "NameError",
     "evalue": "name 'df_s_o' is not defined",
     "output_type": "error",
     "traceback": [
      "\u001b[0;31m---------------------------------------------------------------------------\u001b[0m",
      "\u001b[0;31mNameError\u001b[0m                                 Traceback (most recent call last)",
      "Input \u001b[0;32mIn [13]\u001b[0m, in \u001b[0;36m<cell line: 60>\u001b[0;34m()\u001b[0m\n\u001b[1;32m     74\u001b[0m \u001b[38;5;28mprint\u001b[39m(\u001b[38;5;124m\"\u001b[39m\u001b[38;5;124mm(N) between \u001b[39m\u001b[38;5;132;01m{}\u001b[39;00m\u001b[38;5;124m and \u001b[39m\u001b[38;5;132;01m{}\u001b[39;00m\u001b[38;5;124m TeV\u001b[39m\u001b[38;5;124m\"\u001b[39m\u001b[38;5;241m.\u001b[39mformat(lower_b, upper_b))\n\u001b[1;32m     75\u001b[0m \u001b[38;5;28mprint\u001b[39m(\u001b[38;5;124m\"\u001b[39m\u001b[38;5;124mSignal:\u001b[39m\u001b[38;5;124m\"\u001b[39m)\n\u001b[1;32m     76\u001b[0m \u001b[38;5;28mprint\u001b[39m(\u001b[38;5;124m\"\u001b[39m\u001b[38;5;124mContains \u001b[39m\u001b[38;5;132;01m{}\u001b[39;00m\u001b[38;5;124m/\u001b[39m\u001b[38;5;132;01m{}\u001b[39;00m\u001b[38;5;124m = \u001b[39m\u001b[38;5;132;01m{:.2f}\u001b[39;00m\u001b[38;5;132;01m% o\u001b[39;00m\u001b[38;5;124mf the reconstructed events (Found 1(or 2) Jet & >1 lepton)\u001b[39m\u001b[38;5;124m\"\u001b[39m\u001b[38;5;241m.\u001b[39mformat(\n\u001b[1;32m     77\u001b[0m     s_in_range, \n\u001b[0;32m---> 78\u001b[0m     \u001b[38;5;28mlen\u001b[39m(\u001b[43mdf_s_o\u001b[49m), \n\u001b[1;32m     79\u001b[0m     \u001b[38;5;241m100\u001b[39m\u001b[38;5;241m*\u001b[39ms_in_range\u001b[38;5;241m/\u001b[39m\u001b[38;5;28mlen\u001b[39m(df_s_o)))\n\u001b[1;32m     81\u001b[0m \u001b[38;5;28mprint\u001b[39m(\u001b[38;5;124m\"\u001b[39m\u001b[38;5;124mContains \u001b[39m\u001b[38;5;132;01m{}\u001b[39;00m\u001b[38;5;124m/\u001b[39m\u001b[38;5;132;01m{}\u001b[39;00m\u001b[38;5;124m = \u001b[39m\u001b[38;5;132;01m{:.2f}\u001b[39;00m\u001b[38;5;132;01m% o\u001b[39;00m\u001b[38;5;124mf total simulations \u001b[39m\u001b[38;5;124m\"\u001b[39m\u001b[38;5;241m.\u001b[39mformat(\n\u001b[1;32m     82\u001b[0m     s_in_range, \n\u001b[1;32m     83\u001b[0m     sim_num, \n\u001b[1;32m     84\u001b[0m     \u001b[38;5;241m100\u001b[39m\u001b[38;5;241m*\u001b[39ms_in_range\u001b[38;5;241m/\u001b[39msim_num, sim_num))\n\u001b[1;32m     86\u001b[0m \u001b[38;5;28mprint\u001b[39m(\u001b[38;5;124m\"\u001b[39m\u001b[38;5;124mm(N) between \u001b[39m\u001b[38;5;132;01m{}\u001b[39;00m\u001b[38;5;124m and \u001b[39m\u001b[38;5;132;01m{}\u001b[39;00m\u001b[38;5;124m TeV\u001b[39m\u001b[38;5;124m\"\u001b[39m\u001b[38;5;241m.\u001b[39mformat(lower_b, upper_b))\n",
      "\u001b[0;31mNameError\u001b[0m: name 'df_s_o' is not defined"
     ]
    },
    {
     "data": {
      "text/plain": [
       "<Figure size 864x360 with 0 Axes>"
      ]
     },
     "metadata": {},
     "output_type": "display_data"
    },
    {
     "data": {
      "image/png": "[encoded data removed]",
      "text/plain": [
       "<Figure size 864x360 with 2 Axes>"
      ]
     },
     "metadata": {
      "needs_background": "light"
     },
     "output_type": "display_data"
    }
   ],
   "source": [
    "\n",
    "plt.figure(figsize=(12,5))\n",
    "\n",
    "mJJ = 0.08\n",
    "width_ = 0.6\n",
    "\n",
    "sim_num=10000\n",
    "\n",
    "plt.figure(figsize=(12,5))\n",
    "\n",
    "\n",
    "ax1=plt.subplot(121)\n",
    "\n",
    "range_ = [mJJ*(1-width_)*1000, mJJ*(1+width_)*1000]\n",
    "# range_ = None\n",
    "col = 'm'\n",
    "particle = 'JJ'\n",
    "\n",
    "if (len(df_i)!=0):\n",
    "    ax1.hist(df_i[col+particle], weights=[1/len(df_i)]*len(df_i), bins=25, range=range_, histtype='step', alpha=0.5, lw=3, label='Signal', color='C3');\n",
    "else:\n",
    "    ax1.hist(df_s[col+particle], weights=[1/len(df_s)]*len(df_s), bins=25, range=range_, histtype='step', alpha=0.5, lw=3, label='s-ch', color='C0');\n",
    "    ax1.hist(df_t[col+particle], weights=[1/len(df_t)]*len(df_t), bins=25, range=range_, histtype='step', alpha=0.5, lw=3, label='t-ch', color='C1');\n",
    "ax1.hist(df_b[col+particle], weights=[1/len(df_b)]*len(df_b), bins=25, range=range_, histtype='step', alpha=0.5, lw=3, label='Background', color='C2');\n",
    "\n",
    "\n",
    "\n",
    "ax2=plt.subplot(122)\n",
    "\n",
    "width_ = 0.6\n",
    "width_num = 0.1\n",
    "lower_b, upper_b = mN1*(1-width_num)*1000, mN1*(1+width_num)*1000\n",
    "\n",
    "sim_num=10000\n",
    "\n",
    "range_ = [mN1*(1-width_)*1000, mN1*(1+width_)*1000]\n",
    "\n",
    "col = 'm'\n",
    "particle = 'N'\n",
    "\n",
    "if (len(df_i)!=0):\n",
    "    ax2.hist(df_i[col+particle], weights=[1/len(df_i)]*len(df_i), bins=25, range=range_, histtype='step', alpha=0.5, lw=3, label='Signal', color='C3');\n",
    "else:\n",
    "    ax2.hist(df_s[col+particle], weights=[1/len(df_s)]*len(df_s), bins=25, range=range_, histtype='step', alpha=0.5, lw=3, label='s-ch', color='C0');\n",
    "    ax2.hist(df_t[col+particle], weights=[1/len(df_t)]*len(df_t), bins=25, range=range_, histtype='step', alpha=0.5, lw=3, label='t-ch', color='C1');\n",
    "ax2.hist(df_b[col+particle], weights=[1/len(df_b)]*len(df_b), bins=25, range=range_, histtype='step', alpha=0.5, lw=3, label='Background', color='C2');\n",
    "\n",
    "\n",
    "ax2.axvline(lower_b, color='black')\n",
    "ax2.axvline(upper_b, color='black')\n",
    "\n",
    "ax1.legend()\n",
    "\n",
    "# ==================================================================================================\n",
    "\n",
    "s_in_range = len(df_s[(df_s['mN'] >= lower_b) & (df_s['mN'] <= upper_b)])\n",
    "t_in_range = len(df_t[(df_t['mN'] >= lower_b) & (df_t['mN'] <= upper_b)])\n",
    "i_in_range = len(df_i[(df_i['mN'] >= lower_b) & (df_i['mN'] <= upper_b)])\n",
    "\n",
    "\n",
    "if len(df_i) != 0:\n",
    "    print(\"m(N) between {} and {} TeV\".format(lower_b, upper_b))\n",
    "    print(\"Inclusive Signal:\")\n",
    "    print(\"Contains {}/{} = {:.2f}% of the reconstructed events (Found 1(or 2) Jet & >1 lepton)\".format(\n",
    "        i_in_range, \n",
    "        len(df_i_o), \n",
    "        100*s_in_range/len(df_i_o)))\n",
    "\n",
    "    print(\"Contains {}/{} = {:.2f}% of total simulations \".format(\n",
    "        i_in_range, \n",
    "        sim_num, \n",
    "        100*i_in_range/sim_num, sim_num))\n",
    "\n",
    "else:\n",
    "    print(\"m(N) between {} and {} TeV\".format(lower_b, upper_b))\n",
    "    print(\"Signal:\")\n",
    "    print(\"Contains {}/{} = {:.2f}% of the reconstructed events (Found 1(or 2) Jet & >1 lepton)\".format(\n",
    "        s_in_range, \n",
    "        len(df_s_o), \n",
    "        100*s_in_range/len(df_s_o)))\n",
    "\n",
    "    print(\"Contains {}/{} = {:.2f}% of total simulations \".format(\n",
    "        s_in_range, \n",
    "        sim_num, \n",
    "        100*s_in_range/sim_num, sim_num))\n",
    "\n",
    "    print(\"m(N) between {} and {} TeV\".format(lower_b, upper_b))\n",
    "    print(\"Signal:\")\n",
    "    print(\"Contains {}/{} = {:.2f}% of the reconstructed events (Found 1(or 2) Jet & >1 lepton)\".format(\n",
    "        s_in_range, \n",
    "        len(df_s_o), \n",
    "        100*s_in_range/len(df_s_o)))\n",
    "\n",
    "    print(\"Contains {}/{} = {:.2f}% of total simulations \".format(\n",
    "        s_in_range, \n",
    "        sim_num, \n",
    "        100*s_in_range/sim_num, sim_num))\n",
    "\n",
    "\n",
    "\n",
    "\n",
    "b_in_range = len(df_b[(df_b['mN'] >= lower_b) & (df_b['mN'] <= upper_b)])\n",
    "\n",
    "print(\"\\nBackground:\")\n",
    "print(\"Contains {}/{} = {:.2f}% of the reconstructed events (Found 1(or 2) Jet & >1 lepton)\".format(\n",
    "    b_in_range, \n",
    "    len(df_b_o), \n",
    "    100*b_in_range/len(df_b_o)))\n",
    "\n",
    "print(\"Contains {}/{} = {:.2f}% of total simulations \".format(\n",
    "    b_in_range, \n",
    "    sim_num, \n",
    "    100*b_in_range/sim_num, sim_num))\n",
    "\n"
   ]
  },
  {
   "cell_type": "code",
   "execution_count": null,
   "id": "f3532551",
   "metadata": {},
   "outputs": [],
   "source": []
  },
  {
   "cell_type": "code",
   "execution_count": null,
   "id": "8137a612",
   "metadata": {},
   "outputs": [],
   "source": []
  },
  {
   "cell_type": "code",
   "execution_count": null,
   "id": "f0827750",
   "metadata": {},
   "outputs": [],
   "source": []
  },
  {
   "cell_type": "code",
   "execution_count": null,
   "id": "dfd6f1b2",
   "metadata": {},
   "outputs": [],
   "source": []
  },
  {
   "cell_type": "code",
   "execution_count": null,
   "id": "4fbea2cf",
   "metadata": {},
   "outputs": [],
   "source": []
  },
  {
   "cell_type": "code",
   "execution_count": 14,
   "id": "633ea6ab",
   "metadata": {},
   "outputs": [
    {
     "ename": "NameError",
     "evalue": "name 'df_t_o' is not defined",
     "output_type": "error",
     "traceback": [
      "\u001b[0;31m---------------------------------------------------------------------------\u001b[0m",
      "\u001b[0;31mNameError\u001b[0m                                 Traceback (most recent call last)",
      "Input \u001b[0;32mIn [14]\u001b[0m, in \u001b[0;36m<cell line: 1>\u001b[0;34m()\u001b[0m\n\u001b[0;32m----> 1\u001b[0m plt\u001b[38;5;241m.\u001b[39mhist(\u001b[43mdf_t_o\u001b[49m[df_t_o\u001b[38;5;241m.\u001b[39mchargeLepTrue \u001b[38;5;241m==\u001b[39m \u001b[38;5;241m-\u001b[39m\u001b[38;5;241m1\u001b[39m][\u001b[38;5;124m'\u001b[39m\u001b[38;5;124metaNTrue\u001b[39m\u001b[38;5;124m'\u001b[39m], \u001b[38;5;28mrange\u001b[39m\u001b[38;5;241m=\u001b[39m[\u001b[38;5;241m-\u001b[39m\u001b[38;5;241m7\u001b[39m,\u001b[38;5;241m7\u001b[39m], bins\u001b[38;5;241m=\u001b[39m\u001b[38;5;241m20\u001b[39m, histtype\u001b[38;5;241m=\u001b[39m\u001b[38;5;124m'\u001b[39m\u001b[38;5;124mstep\u001b[39m\u001b[38;5;124m'\u001b[39m, alpha\u001b[38;5;241m=\u001b[39m\u001b[38;5;241m0.5\u001b[39m, lw\u001b[38;5;241m=\u001b[39m\u001b[38;5;241m3\u001b[39m, label\u001b[38;5;241m=\u001b[39m\u001b[38;5;124m'\u001b[39m\u001b[38;5;124mneg lepton\u001b[39m\u001b[38;5;124m'\u001b[39m);\n\u001b[1;32m      2\u001b[0m plt\u001b[38;5;241m.\u001b[39mhist(df_t_o[df_t_o\u001b[38;5;241m.\u001b[39mchargeLepTrue \u001b[38;5;241m==\u001b[39m \u001b[38;5;241m1\u001b[39m][\u001b[38;5;124m'\u001b[39m\u001b[38;5;124metaNTrue\u001b[39m\u001b[38;5;124m'\u001b[39m], \u001b[38;5;28mrange\u001b[39m\u001b[38;5;241m=\u001b[39m[\u001b[38;5;241m-\u001b[39m\u001b[38;5;241m7\u001b[39m,\u001b[38;5;241m7\u001b[39m], bins\u001b[38;5;241m=\u001b[39m\u001b[38;5;241m20\u001b[39m, histtype\u001b[38;5;241m=\u001b[39m\u001b[38;5;124m'\u001b[39m\u001b[38;5;124mstep\u001b[39m\u001b[38;5;124m'\u001b[39m, alpha\u001b[38;5;241m=\u001b[39m\u001b[38;5;241m0.5\u001b[39m, lw\u001b[38;5;241m=\u001b[39m\u001b[38;5;241m3\u001b[39m, label\u001b[38;5;241m=\u001b[39m\u001b[38;5;124m'\u001b[39m\u001b[38;5;124mpos lepton\u001b[39m\u001b[38;5;124m'\u001b[39m);\n\u001b[1;32m      3\u001b[0m plt\u001b[38;5;241m.\u001b[39maxvline(\u001b[38;5;241m0\u001b[39m)\n",
      "\u001b[0;31mNameError\u001b[0m: name 'df_t_o' is not defined"
     ]
    }
   ],
   "source": [
    "plt.hist(df_t_o[df_t_o.chargeLepTrue == -1]['etaNTrue'], range=[-7,7], bins=20, histtype='step', alpha=0.5, lw=3, label='neg lepton');\n",
    "plt.hist(df_t_o[df_t_o.chargeLepTrue == 1]['etaNTrue'], range=[-7,7], bins=20, histtype='step', alpha=0.5, lw=3, label='pos lepton');\n",
    "plt.axvline(0)\n",
    "\n",
    "plt.legend()\n",
    "\n",
    "plt.xlabel('eta of N');"
   ]
  },
  {
   "cell_type": "code",
   "execution_count": 15,
   "id": "1bd3c7af",
   "metadata": {},
   "outputs": [
    {
     "ename": "NameError",
     "evalue": "name 'df_t_o' is not defined",
     "output_type": "error",
     "traceback": [
      "\u001b[0;31m---------------------------------------------------------------------------\u001b[0m",
      "\u001b[0;31mNameError\u001b[0m                                 Traceback (most recent call last)",
      "Input \u001b[0;32mIn [15]\u001b[0m, in \u001b[0;36m<cell line: 6>\u001b[0;34m()\u001b[0m\n\u001b[1;32m      1\u001b[0m plt\u001b[38;5;241m.\u001b[39mfigure(figsize\u001b[38;5;241m=\u001b[39m(\u001b[38;5;241m13\u001b[39m,\u001b[38;5;241m5\u001b[39m))\n\u001b[1;32m      4\u001b[0m ax1 \u001b[38;5;241m=\u001b[39m plt\u001b[38;5;241m.\u001b[39msubplot(\u001b[38;5;241m121\u001b[39m)\n\u001b[0;32m----> 6\u001b[0m ax1\u001b[38;5;241m.\u001b[39mhist(\u001b[43mdf_t_o\u001b[49m[df_t_o\u001b[38;5;241m.\u001b[39mchargeLepTrue \u001b[38;5;241m==\u001b[39m \u001b[38;5;241m-\u001b[39m\u001b[38;5;241m1\u001b[39m][\u001b[38;5;124m'\u001b[39m\u001b[38;5;124metaLepTrue\u001b[39m\u001b[38;5;124m'\u001b[39m], \u001b[38;5;28mrange\u001b[39m\u001b[38;5;241m=\u001b[39m[\u001b[38;5;241m-\u001b[39m\u001b[38;5;241m3\u001b[39m,\u001b[38;5;241m3\u001b[39m], bins\u001b[38;5;241m=\u001b[39m\u001b[38;5;241m20\u001b[39m, histtype\u001b[38;5;241m=\u001b[39m\u001b[38;5;124m'\u001b[39m\u001b[38;5;124mstep\u001b[39m\u001b[38;5;124m'\u001b[39m, alpha\u001b[38;5;241m=\u001b[39m\u001b[38;5;241m0.5\u001b[39m, lw\u001b[38;5;241m=\u001b[39m\u001b[38;5;241m3\u001b[39m, label\u001b[38;5;241m=\u001b[39m\u001b[38;5;124m'\u001b[39m\u001b[38;5;124mLepeg leptoLep\u001b[39m\u001b[38;5;124m'\u001b[39m);\n\u001b[1;32m      7\u001b[0m ax1\u001b[38;5;241m.\u001b[39mhist(df_t_o[df_t_o\u001b[38;5;241m.\u001b[39mchargeLepTrue \u001b[38;5;241m==\u001b[39m \u001b[38;5;241m1\u001b[39m][\u001b[38;5;124m'\u001b[39m\u001b[38;5;124metaLepTrue\u001b[39m\u001b[38;5;124m'\u001b[39m], \u001b[38;5;28mrange\u001b[39m\u001b[38;5;241m=\u001b[39m[\u001b[38;5;241m-\u001b[39m\u001b[38;5;241m3\u001b[39m,\u001b[38;5;241m3\u001b[39m], bins\u001b[38;5;241m=\u001b[39m\u001b[38;5;241m20\u001b[39m, histtype\u001b[38;5;241m=\u001b[39m\u001b[38;5;124m'\u001b[39m\u001b[38;5;124mstep\u001b[39m\u001b[38;5;124m'\u001b[39m, alpha\u001b[38;5;241m=\u001b[39m\u001b[38;5;241m0.5\u001b[39m, lw\u001b[38;5;241m=\u001b[39m\u001b[38;5;241m3\u001b[39m, label\u001b[38;5;241m=\u001b[39m\u001b[38;5;124m'\u001b[39m\u001b[38;5;124mpos leptoLep\u001b[39m\u001b[38;5;124m'\u001b[39m);\n\u001b[1;32m      8\u001b[0m ax1\u001b[38;5;241m.\u001b[39maxvline(\u001b[38;5;241m0\u001b[39m)\n",
      "\u001b[0;31mNameError\u001b[0m: name 'df_t_o' is not defined"
     ]
    },
    {
     "data": {
      "image/png": "[encoded data removed]",
      "text/plain": [
       "<Figure size 936x360 with 1 Axes>"
      ]
     },
     "metadata": {
      "needs_background": "light"
     },
     "output_type": "display_data"
    }
   ],
   "source": [
    "plt.figure(figsize=(13,5))\n",
    "\n",
    "\n",
    "ax1 = plt.subplot(121)\n",
    "\n",
    "ax1.hist(df_t_o[df_t_o.chargeLepTrue == -1]['etaLepTrue'], range=[-3,3], bins=20, histtype='step', alpha=0.5, lw=3, label='Lepeg leptoLep');\n",
    "ax1.hist(df_t_o[df_t_o.chargeLepTrue == 1]['etaLepTrue'], range=[-3,3], bins=20, histtype='step', alpha=0.5, lw=3, label='pos leptoLep');\n",
    "ax1.axvline(0)\n",
    "\n",
    "ax1.legend()\n",
    "\n",
    "ax1.set_xlabel('eta of Lepton');\n",
    "\n",
    "\n",
    "\n",
    "ax2 = plt.subplot(122)\n",
    "\n",
    "ax2.hist(df_t_o[df_t_o.chargeLepTrue == -1]['etaJJTrue'], range=[-3,3], bins=20, histtype='step', alpha=0.5, lw=3, label='Lepeg leptoLep');\n",
    "ax2.hist(df_t_o[df_t_o.chargeLepTrue == 1]['etaJJTrue'], range=[-3,3], bins=20, histtype='step', alpha=0.5, lw=3, label='pos leptoLep');\n",
    "ax2.axvline(0)\n",
    "\n",
    "ax2.legend()\n",
    "\n",
    "ax2.set_xlabel('eta of W Jet');"
   ]
  },
  {
   "cell_type": "code",
   "execution_count": null,
   "id": "e37b4b51",
   "metadata": {},
   "outputs": [],
   "source": [
    "plt.figure(figsize=(13,5))\n",
    "\n",
    "\n",
    "ax1 = plt.subplot(121)\n",
    "\n",
    "ax1.hist(df_t_o[(df_t_o.chargeLepTrue == -1) & (df_t_o.typeLep == 11)]['etaLepTrue'], range=[-3,3], bins=20, histtype='step', alpha=0.5, lw=3, label='neg electron');\n",
    "ax1.hist(df_t_o[(df_t_o.chargeLepTrue == -1) & (df_t_o.typeLep == 13)]['etaLepTrue'], range=[-3,3], bins=20, histtype='step', alpha=0.5, lw=3, label='neg muon');\n",
    "ax1.axvline(0)\n",
    "\n",
    "ax1.legend()\n",
    "ax1.set_xlabel('eta of Lepton');\n",
    "\n",
    "\n",
    "ax2 = plt.subplot(122)\n",
    "\n",
    "ax2.hist(df_t_o[(df_t_o.chargeLepTrue == 1) & (df_t_o.typeLep == 11)]['etaLepTrue'], range=[-3,3], bins=20, histtype='step', alpha=0.5, lw=3, label='pos electron');\n",
    "ax2.hist(df_t_o[(df_t_o.chargeLepTrue == 1) & (df_t_o.typeLep == 13)]['etaLepTrue'], range=[-3,3], bins=20, histtype='step', alpha=0.5, lw=3, label='pos muon');\n",
    "ax2.axvline(0)\n",
    "\n",
    "ax2.legend()\n",
    "ax2.set_xlabel('eta of Lepton');"
   ]
  },
  {
   "cell_type": "code",
   "execution_count": null,
   "id": "03d870f5",
   "metadata": {},
   "outputs": [],
   "source": []
  },
  {
   "cell_type": "code",
   "execution_count": null,
   "id": "2642d328",
   "metadata": {},
   "outputs": [],
   "source": []
  },
  {
   "cell_type": "code",
   "execution_count": 16,
   "id": "26f63ad9",
   "metadata": {},
   "outputs": [
    {
     "ename": "NameError",
     "evalue": "name 'df_t_o' is not defined",
     "output_type": "error",
     "traceback": [
      "\u001b[0;31m---------------------------------------------------------------------------\u001b[0m",
      "\u001b[0;31mNameError\u001b[0m                                 Traceback (most recent call last)",
      "Input \u001b[0;32mIn [16]\u001b[0m, in \u001b[0;36m<cell line: 1>\u001b[0;34m()\u001b[0m\n\u001b[0;32m----> 1\u001b[0m plt\u001b[38;5;241m.\u001b[39mhist(\u001b[43mdf_t_o\u001b[49m[(df_t_o\u001b[38;5;241m.\u001b[39mchargeLepTrue \u001b[38;5;241m==\u001b[39m \u001b[38;5;241m-\u001b[39m\u001b[38;5;241m1\u001b[39m) \u001b[38;5;241m&\u001b[39m (df_t_o\u001b[38;5;241m.\u001b[39metaNTrue \u001b[38;5;241m>\u001b[39m \u001b[38;5;241m0\u001b[39m)][\u001b[38;5;124m'\u001b[39m\u001b[38;5;124mELepTrue\u001b[39m\u001b[38;5;124m'\u001b[39m], \u001b[38;5;28mrange\u001b[39m\u001b[38;5;241m=\u001b[39m[\u001b[38;5;241m-\u001b[39m\u001b[38;5;241m3\u001b[39m,\u001b[38;5;241m1800\u001b[39m], bins\u001b[38;5;241m=\u001b[39m\u001b[38;5;241m20\u001b[39m, histtype\u001b[38;5;241m=\u001b[39m\u001b[38;5;124m'\u001b[39m\u001b[38;5;124mstep\u001b[39m\u001b[38;5;124m'\u001b[39m, alpha\u001b[38;5;241m=\u001b[39m\u001b[38;5;241m0.5\u001b[39m, lw\u001b[38;5;241m=\u001b[39m\u001b[38;5;241m3\u001b[39m, label\u001b[38;5;241m=\u001b[39m\u001b[38;5;124m'\u001b[39m\u001b[38;5;124mneg lepton\u001b[39m\u001b[38;5;124m'\u001b[39m);\n\u001b[1;32m      2\u001b[0m plt\u001b[38;5;241m.\u001b[39mhist(df_t_o[(df_t_o\u001b[38;5;241m.\u001b[39mchargeLepTrue \u001b[38;5;241m==\u001b[39m \u001b[38;5;241m1\u001b[39m) \u001b[38;5;241m&\u001b[39m (df_t_o\u001b[38;5;241m.\u001b[39metaNTrue \u001b[38;5;241m>\u001b[39m \u001b[38;5;241m0\u001b[39m)][\u001b[38;5;124m'\u001b[39m\u001b[38;5;124mELepTrue\u001b[39m\u001b[38;5;124m'\u001b[39m], \u001b[38;5;28mrange\u001b[39m\u001b[38;5;241m=\u001b[39m[\u001b[38;5;241m-\u001b[39m\u001b[38;5;241m3\u001b[39m,\u001b[38;5;241m1800\u001b[39m], bins\u001b[38;5;241m=\u001b[39m\u001b[38;5;241m20\u001b[39m, histtype\u001b[38;5;241m=\u001b[39m\u001b[38;5;124m'\u001b[39m\u001b[38;5;124mstep\u001b[39m\u001b[38;5;124m'\u001b[39m, alpha\u001b[38;5;241m=\u001b[39m\u001b[38;5;241m0.5\u001b[39m, lw\u001b[38;5;241m=\u001b[39m\u001b[38;5;241m3\u001b[39m, label\u001b[38;5;241m=\u001b[39m\u001b[38;5;124m'\u001b[39m\u001b[38;5;124mpos lepton\u001b[39m\u001b[38;5;124m'\u001b[39m);\n\u001b[1;32m      3\u001b[0m \u001b[38;5;66;03m# plt.axvline(0)\u001b[39;00m\n",
      "\u001b[0;31mNameError\u001b[0m: name 'df_t_o' is not defined"
     ]
    }
   ],
   "source": [
    "plt.hist(df_t_o[(df_t_o.chargeLepTrue == -1) & (df_t_o.etaNTrue > 0)]['ELepTrue'], range=[-3,1800], bins=20, histtype='step', alpha=0.5, lw=3, label='neg lepton');\n",
    "plt.hist(df_t_o[(df_t_o.chargeLepTrue == 1) & (df_t_o.etaNTrue > 0)]['ELepTrue'], range=[-3,1800], bins=20, histtype='step', alpha=0.5, lw=3, label='pos lepton');\n",
    "# plt.axvline(0)\n",
    "\n",
    "plt.legend()\n",
    "plt.title(r'$\\eta(N)>0$');\n",
    "plt.xlabel('E of Lepton');"
   ]
  },
  {
   "cell_type": "code",
   "execution_count": 17,
   "id": "cf6fb77f",
   "metadata": {},
   "outputs": [
    {
     "ename": "NameError",
     "evalue": "name 'df_s_o' is not defined",
     "output_type": "error",
     "traceback": [
      "\u001b[0;31m---------------------------------------------------------------------------\u001b[0m",
      "\u001b[0;31mNameError\u001b[0m                                 Traceback (most recent call last)",
      "Input \u001b[0;32mIn [17]\u001b[0m, in \u001b[0;36m<cell line: 1>\u001b[0;34m()\u001b[0m\n\u001b[0;32m----> 1\u001b[0m plt\u001b[38;5;241m.\u001b[39mhist(\u001b[43mdf_s_o\u001b[49m[(df_s_o\u001b[38;5;241m.\u001b[39mchargeLepTrue \u001b[38;5;241m==\u001b[39m \u001b[38;5;241m-\u001b[39m\u001b[38;5;241m1\u001b[39m) \u001b[38;5;241m&\u001b[39m (df_s_o\u001b[38;5;241m.\u001b[39metaNTrue \u001b[38;5;241m>\u001b[39m \u001b[38;5;241m0\u001b[39m)][\u001b[38;5;124m'\u001b[39m\u001b[38;5;124mELepTrue\u001b[39m\u001b[38;5;124m'\u001b[39m], \u001b[38;5;28mrange\u001b[39m\u001b[38;5;241m=\u001b[39m[\u001b[38;5;241m-\u001b[39m\u001b[38;5;241m3\u001b[39m,\u001b[38;5;241m1800\u001b[39m], bins\u001b[38;5;241m=\u001b[39m\u001b[38;5;241m20\u001b[39m, histtype\u001b[38;5;241m=\u001b[39m\u001b[38;5;124m'\u001b[39m\u001b[38;5;124mstep\u001b[39m\u001b[38;5;124m'\u001b[39m, alpha\u001b[38;5;241m=\u001b[39m\u001b[38;5;241m0.5\u001b[39m, lw\u001b[38;5;241m=\u001b[39m\u001b[38;5;241m3\u001b[39m, label\u001b[38;5;241m=\u001b[39m\u001b[38;5;124m'\u001b[39m\u001b[38;5;124mneg lepton\u001b[39m\u001b[38;5;124m'\u001b[39m);\n\u001b[1;32m      2\u001b[0m plt\u001b[38;5;241m.\u001b[39mhist(df_s_o[(df_s_o\u001b[38;5;241m.\u001b[39mchargeLepTrue \u001b[38;5;241m==\u001b[39m \u001b[38;5;241m1\u001b[39m) \u001b[38;5;241m&\u001b[39m (df_s_o\u001b[38;5;241m.\u001b[39metaNTrue \u001b[38;5;241m>\u001b[39m \u001b[38;5;241m0\u001b[39m)][\u001b[38;5;124m'\u001b[39m\u001b[38;5;124mELepTrue\u001b[39m\u001b[38;5;124m'\u001b[39m], \u001b[38;5;28mrange\u001b[39m\u001b[38;5;241m=\u001b[39m[\u001b[38;5;241m-\u001b[39m\u001b[38;5;241m3\u001b[39m,\u001b[38;5;241m1800\u001b[39m], bins\u001b[38;5;241m=\u001b[39m\u001b[38;5;241m20\u001b[39m, histtype\u001b[38;5;241m=\u001b[39m\u001b[38;5;124m'\u001b[39m\u001b[38;5;124mstep\u001b[39m\u001b[38;5;124m'\u001b[39m, alpha\u001b[38;5;241m=\u001b[39m\u001b[38;5;241m0.5\u001b[39m, lw\u001b[38;5;241m=\u001b[39m\u001b[38;5;241m3\u001b[39m, label\u001b[38;5;241m=\u001b[39m\u001b[38;5;124m'\u001b[39m\u001b[38;5;124mpos lepton\u001b[39m\u001b[38;5;124m'\u001b[39m);\n\u001b[1;32m      3\u001b[0m \u001b[38;5;66;03m# plt.axvline(0)\u001b[39;00m\n",
      "\u001b[0;31mNameError\u001b[0m: name 'df_s_o' is not defined"
     ]
    }
   ],
   "source": [
    "plt.hist(df_s_o[(df_s_o.chargeLepTrue == -1) & (df_s_o.etaNTrue > 0)]['ELepTrue'], range=[-3,1800], bins=20, histtype='step', alpha=0.5, lw=3, label='neg lepton');\n",
    "plt.hist(df_s_o[(df_s_o.chargeLepTrue == 1) & (df_s_o.etaNTrue > 0)]['ELepTrue'], range=[-3,1800], bins=20, histtype='step', alpha=0.5, lw=3, label='pos lepton');\n",
    "# plt.axvline(0)\n",
    "\n",
    "plt.legend()\n",
    "plt.title(r'$\\eta(N)>0$');\n",
    "plt.xlabel('E of Lepton');"
   ]
  },
  {
   "cell_type": "code",
   "execution_count": 18,
   "id": "8fd5972a",
   "metadata": {},
   "outputs": [
    {
     "ename": "NameError",
     "evalue": "name 'df_s_o' is not defined",
     "output_type": "error",
     "traceback": [
      "\u001b[0;31m---------------------------------------------------------------------------\u001b[0m",
      "\u001b[0;31mNameError\u001b[0m                                 Traceback (most recent call last)",
      "Input \u001b[0;32mIn [18]\u001b[0m, in \u001b[0;36m<cell line: 1>\u001b[0;34m()\u001b[0m\n\u001b[0;32m----> 1\u001b[0m plt\u001b[38;5;241m.\u001b[39mhist(\u001b[43mdf_s_o\u001b[49m[(df_s_o\u001b[38;5;241m.\u001b[39mchargeLepTrue \u001b[38;5;241m==\u001b[39m \u001b[38;5;241m-\u001b[39m\u001b[38;5;241m1\u001b[39m) \u001b[38;5;241m&\u001b[39m (df_s_o\u001b[38;5;241m.\u001b[39metaNTrue \u001b[38;5;241m>\u001b[39m \u001b[38;5;241m0\u001b[39m)][\u001b[38;5;124m'\u001b[39m\u001b[38;5;124mELepTrue\u001b[39m\u001b[38;5;124m'\u001b[39m], \u001b[38;5;28mrange\u001b[39m\u001b[38;5;241m=\u001b[39m[\u001b[38;5;241m-\u001b[39m\u001b[38;5;241m3\u001b[39m,\u001b[38;5;241m1800\u001b[39m], bins\u001b[38;5;241m=\u001b[39m\u001b[38;5;241m20\u001b[39m, histtype\u001b[38;5;241m=\u001b[39m\u001b[38;5;124m'\u001b[39m\u001b[38;5;124mstep\u001b[39m\u001b[38;5;124m'\u001b[39m, alpha\u001b[38;5;241m=\u001b[39m\u001b[38;5;241m0.5\u001b[39m, lw\u001b[38;5;241m=\u001b[39m\u001b[38;5;241m3\u001b[39m, label\u001b[38;5;241m=\u001b[39m\u001b[38;5;124m'\u001b[39m\u001b[38;5;124mneg lepton\u001b[39m\u001b[38;5;124m'\u001b[39m);\n\u001b[1;32m      2\u001b[0m plt\u001b[38;5;241m.\u001b[39mhist(df_s_o[(df_s_o\u001b[38;5;241m.\u001b[39mchargeLepTrue \u001b[38;5;241m==\u001b[39m \u001b[38;5;241m1\u001b[39m) \u001b[38;5;241m&\u001b[39m (df_s_o\u001b[38;5;241m.\u001b[39metaNTrue \u001b[38;5;241m>\u001b[39m \u001b[38;5;241m0\u001b[39m)][\u001b[38;5;124m'\u001b[39m\u001b[38;5;124mELepTrue\u001b[39m\u001b[38;5;124m'\u001b[39m], \u001b[38;5;28mrange\u001b[39m\u001b[38;5;241m=\u001b[39m[\u001b[38;5;241m-\u001b[39m\u001b[38;5;241m3\u001b[39m,\u001b[38;5;241m1800\u001b[39m], bins\u001b[38;5;241m=\u001b[39m\u001b[38;5;241m20\u001b[39m, histtype\u001b[38;5;241m=\u001b[39m\u001b[38;5;124m'\u001b[39m\u001b[38;5;124mstep\u001b[39m\u001b[38;5;124m'\u001b[39m, alpha\u001b[38;5;241m=\u001b[39m\u001b[38;5;241m0.5\u001b[39m, lw\u001b[38;5;241m=\u001b[39m\u001b[38;5;241m3\u001b[39m, label\u001b[38;5;241m=\u001b[39m\u001b[38;5;124m'\u001b[39m\u001b[38;5;124mpos lepton\u001b[39m\u001b[38;5;124m'\u001b[39m);\n\u001b[1;32m      3\u001b[0m \u001b[38;5;66;03m# plt.axvline(0)\u001b[39;00m\n",
      "\u001b[0;31mNameError\u001b[0m: name 'df_s_o' is not defined"
     ]
    }
   ],
   "source": [
    "plt.hist(df_s_o[(df_s_o.chargeLepTrue == -1) & (df_s_o.etaNTrue > 0)]['ELepTrue'], range=[-3,1800], bins=20, histtype='step', alpha=0.5, lw=3, label='neg lepton');\n",
    "plt.hist(df_s_o[(df_s_o.chargeLepTrue == 1) & (df_s_o.etaNTrue > 0)]['ELepTrue'], range=[-3,1800], bins=20, histtype='step', alpha=0.5, lw=3, label='pos lepton');\n",
    "# plt.axvline(0)\n",
    "\n",
    "plt.legend()\n",
    "plt.title(r'$\\eta(N)>0$');\n",
    "plt.xlabel('E of Lepton');"
   ]
  },
  {
   "cell_type": "code",
   "execution_count": 19,
   "id": "b4817082",
   "metadata": {},
   "outputs": [
    {
     "ename": "NameError",
     "evalue": "name 'df_t_o' is not defined",
     "output_type": "error",
     "traceback": [
      "\u001b[0;31m---------------------------------------------------------------------------\u001b[0m",
      "\u001b[0;31mNameError\u001b[0m                                 Traceback (most recent call last)",
      "Input \u001b[0;32mIn [19]\u001b[0m, in \u001b[0;36m<cell line: 1>\u001b[0;34m()\u001b[0m\n\u001b[0;32m----> 1\u001b[0m plt\u001b[38;5;241m.\u001b[39mhist(\u001b[43mdf_t_o\u001b[49m[(df_t_o\u001b[38;5;241m.\u001b[39mchargeLepTrue \u001b[38;5;241m==\u001b[39m \u001b[38;5;241m-\u001b[39m\u001b[38;5;241m1\u001b[39m) \u001b[38;5;241m&\u001b[39m (df_t_o\u001b[38;5;241m.\u001b[39metaNTrue \u001b[38;5;241m>\u001b[39m \u001b[38;5;241m0\u001b[39m)][\u001b[38;5;124m'\u001b[39m\u001b[38;5;124mptLepTrue\u001b[39m\u001b[38;5;124m'\u001b[39m], \u001b[38;5;28mrange\u001b[39m\u001b[38;5;241m=\u001b[39m[\u001b[38;5;241m0\u001b[39m,\u001b[38;5;241m800\u001b[39m], bins\u001b[38;5;241m=\u001b[39m\u001b[38;5;241m20\u001b[39m, histtype\u001b[38;5;241m=\u001b[39m\u001b[38;5;124m'\u001b[39m\u001b[38;5;124mstep\u001b[39m\u001b[38;5;124m'\u001b[39m, alpha\u001b[38;5;241m=\u001b[39m\u001b[38;5;241m0.5\u001b[39m, lw\u001b[38;5;241m=\u001b[39m\u001b[38;5;241m3\u001b[39m, label\u001b[38;5;241m=\u001b[39m\u001b[38;5;124m'\u001b[39m\u001b[38;5;124mneg lepton\u001b[39m\u001b[38;5;124m'\u001b[39m);\n\u001b[1;32m      2\u001b[0m plt\u001b[38;5;241m.\u001b[39mhist(df_t_o[(df_t_o\u001b[38;5;241m.\u001b[39mchargeLepTrue \u001b[38;5;241m==\u001b[39m \u001b[38;5;241m1\u001b[39m) \u001b[38;5;241m&\u001b[39m (df_t_o\u001b[38;5;241m.\u001b[39metaNTrue \u001b[38;5;241m>\u001b[39m \u001b[38;5;241m0\u001b[39m)][\u001b[38;5;124m'\u001b[39m\u001b[38;5;124mptLepTrue\u001b[39m\u001b[38;5;124m'\u001b[39m], \u001b[38;5;28mrange\u001b[39m\u001b[38;5;241m=\u001b[39m[\u001b[38;5;241m0\u001b[39m,\u001b[38;5;241m800\u001b[39m], bins\u001b[38;5;241m=\u001b[39m\u001b[38;5;241m20\u001b[39m, histtype\u001b[38;5;241m=\u001b[39m\u001b[38;5;124m'\u001b[39m\u001b[38;5;124mstep\u001b[39m\u001b[38;5;124m'\u001b[39m, alpha\u001b[38;5;241m=\u001b[39m\u001b[38;5;241m0.5\u001b[39m, lw\u001b[38;5;241m=\u001b[39m\u001b[38;5;241m3\u001b[39m, label\u001b[38;5;241m=\u001b[39m\u001b[38;5;124m'\u001b[39m\u001b[38;5;124mpos lepton\u001b[39m\u001b[38;5;124m'\u001b[39m);\n\u001b[1;32m      3\u001b[0m \u001b[38;5;66;03m# plt.axvline(0)\u001b[39;00m\n",
      "\u001b[0;31mNameError\u001b[0m: name 'df_t_o' is not defined"
     ]
    }
   ],
   "source": [
    "plt.hist(df_t_o[(df_t_o.chargeLepTrue == -1) & (df_t_o.etaNTrue > 0)]['ptLepTrue'], range=[0,800], bins=20, histtype='step', alpha=0.5, lw=3, label='neg lepton');\n",
    "plt.hist(df_t_o[(df_t_o.chargeLepTrue == 1) & (df_t_o.etaNTrue > 0)]['ptLepTrue'], range=[0,800], bins=20, histtype='step', alpha=0.5, lw=3, label='pos lepton');\n",
    "# plt.axvline(0)\n",
    "\n",
    "plt.legend()\n",
    "plt.title(r'$\\eta(N)>0$');\n",
    "plt.xlabel('pt of Lepton');"
   ]
  },
  {
   "cell_type": "code",
   "execution_count": 20,
   "id": "b262f5d8",
   "metadata": {},
   "outputs": [
    {
     "ename": "NameError",
     "evalue": "name 'df_t_o' is not defined",
     "output_type": "error",
     "traceback": [
      "\u001b[0;31m---------------------------------------------------------------------------\u001b[0m",
      "\u001b[0;31mNameError\u001b[0m                                 Traceback (most recent call last)",
      "Input \u001b[0;32mIn [20]\u001b[0m, in \u001b[0;36m<cell line: 1>\u001b[0;34m()\u001b[0m\n\u001b[0;32m----> 1\u001b[0m plt\u001b[38;5;241m.\u001b[39mhist(\u001b[43mdf_t_o\u001b[49m[(df_t_o\u001b[38;5;241m.\u001b[39mchargeLepTrue \u001b[38;5;241m==\u001b[39m \u001b[38;5;241m-\u001b[39m\u001b[38;5;241m1\u001b[39m) \u001b[38;5;241m&\u001b[39m (df_t_o\u001b[38;5;241m.\u001b[39metaNTrue \u001b[38;5;241m>\u001b[39m \u001b[38;5;241m0\u001b[39m)][\u001b[38;5;124m'\u001b[39m\u001b[38;5;124metaLepTrue\u001b[39m\u001b[38;5;124m'\u001b[39m], \u001b[38;5;28mrange\u001b[39m\u001b[38;5;241m=\u001b[39m[\u001b[38;5;241m-\u001b[39m\u001b[38;5;241m3\u001b[39m,\u001b[38;5;241m3\u001b[39m], bins\u001b[38;5;241m=\u001b[39m\u001b[38;5;241m20\u001b[39m, histtype\u001b[38;5;241m=\u001b[39m\u001b[38;5;124m'\u001b[39m\u001b[38;5;124mstep\u001b[39m\u001b[38;5;124m'\u001b[39m, alpha\u001b[38;5;241m=\u001b[39m\u001b[38;5;241m0.5\u001b[39m, lw\u001b[38;5;241m=\u001b[39m\u001b[38;5;241m3\u001b[39m);\n\u001b[1;32m      2\u001b[0m plt\u001b[38;5;241m.\u001b[39mhist(df_t_o[(df_t_o\u001b[38;5;241m.\u001b[39mchargeLepTrue \u001b[38;5;241m==\u001b[39m \u001b[38;5;241m1\u001b[39m) \u001b[38;5;241m&\u001b[39m (df_t_o\u001b[38;5;241m.\u001b[39metaNTrue \u001b[38;5;241m>\u001b[39m \u001b[38;5;241m0\u001b[39m)][\u001b[38;5;124m'\u001b[39m\u001b[38;5;124metaLepTrue\u001b[39m\u001b[38;5;124m'\u001b[39m], \u001b[38;5;28mrange\u001b[39m\u001b[38;5;241m=\u001b[39m[\u001b[38;5;241m-\u001b[39m\u001b[38;5;241m3\u001b[39m,\u001b[38;5;241m3\u001b[39m], bins\u001b[38;5;241m=\u001b[39m\u001b[38;5;241m20\u001b[39m, histtype\u001b[38;5;241m=\u001b[39m\u001b[38;5;124m'\u001b[39m\u001b[38;5;124mstep\u001b[39m\u001b[38;5;124m'\u001b[39m, alpha\u001b[38;5;241m=\u001b[39m\u001b[38;5;241m0.5\u001b[39m, lw\u001b[38;5;241m=\u001b[39m\u001b[38;5;241m3\u001b[39m);\n\u001b[1;32m      3\u001b[0m plt\u001b[38;5;241m.\u001b[39maxvline(\u001b[38;5;241m0\u001b[39m)\n",
      "\u001b[0;31mNameError\u001b[0m: name 'df_t_o' is not defined"
     ]
    }
   ],
   "source": [
    "plt.hist(df_t_o[(df_t_o.chargeLepTrue == -1) & (df_t_o.etaNTrue > 0)]['etaLepTrue'], range=[-3,3], bins=20, histtype='step', alpha=0.5, lw=3);\n",
    "plt.hist(df_t_o[(df_t_o.chargeLepTrue == 1) & (df_t_o.etaNTrue > 0)]['etaLepTrue'], range=[-3,3], bins=20, histtype='step', alpha=0.5, lw=3);\n",
    "plt.axvline(0)"
   ]
  },
  {
   "cell_type": "code",
   "execution_count": 21,
   "id": "02501311",
   "metadata": {},
   "outputs": [
    {
     "ename": "NameError",
     "evalue": "name 'df_t_o' is not defined",
     "output_type": "error",
     "traceback": [
      "\u001b[0;31m---------------------------------------------------------------------------\u001b[0m",
      "\u001b[0;31mNameError\u001b[0m                                 Traceback (most recent call last)",
      "Input \u001b[0;32mIn [21]\u001b[0m, in \u001b[0;36m<cell line: 1>\u001b[0;34m()\u001b[0m\n\u001b[0;32m----> 1\u001b[0m plt\u001b[38;5;241m.\u001b[39mhist(\u001b[43mdf_t_o\u001b[49m[(df_t_o\u001b[38;5;241m.\u001b[39mchargeLepTrue \u001b[38;5;241m==\u001b[39m \u001b[38;5;241m-\u001b[39m\u001b[38;5;241m1\u001b[39m) \u001b[38;5;241m&\u001b[39m (df_t_o\u001b[38;5;241m.\u001b[39metaNTrue \u001b[38;5;241m>\u001b[39m \u001b[38;5;241m0\u001b[39m)][\u001b[38;5;124m'\u001b[39m\u001b[38;5;124metaJJTrue\u001b[39m\u001b[38;5;124m'\u001b[39m], \u001b[38;5;28mrange\u001b[39m\u001b[38;5;241m=\u001b[39m[\u001b[38;5;241m-\u001b[39m\u001b[38;5;241m3\u001b[39m,\u001b[38;5;241m3\u001b[39m], bins\u001b[38;5;241m=\u001b[39m\u001b[38;5;241m20\u001b[39m, histtype\u001b[38;5;241m=\u001b[39m\u001b[38;5;124m'\u001b[39m\u001b[38;5;124mstep\u001b[39m\u001b[38;5;124m'\u001b[39m, alpha\u001b[38;5;241m=\u001b[39m\u001b[38;5;241m0.5\u001b[39m, lw\u001b[38;5;241m=\u001b[39m\u001b[38;5;241m3\u001b[39m);\n\u001b[1;32m      2\u001b[0m plt\u001b[38;5;241m.\u001b[39mhist(df_t_o[(df_t_o\u001b[38;5;241m.\u001b[39mchargeLepTrue \u001b[38;5;241m==\u001b[39m \u001b[38;5;241m1\u001b[39m) \u001b[38;5;241m&\u001b[39m (df_t_o\u001b[38;5;241m.\u001b[39metaNTrue \u001b[38;5;241m>\u001b[39m \u001b[38;5;241m0\u001b[39m)][\u001b[38;5;124m'\u001b[39m\u001b[38;5;124metaJJTrue\u001b[39m\u001b[38;5;124m'\u001b[39m], \u001b[38;5;28mrange\u001b[39m\u001b[38;5;241m=\u001b[39m[\u001b[38;5;241m-\u001b[39m\u001b[38;5;241m3\u001b[39m,\u001b[38;5;241m3\u001b[39m], bins\u001b[38;5;241m=\u001b[39m\u001b[38;5;241m20\u001b[39m, histtype\u001b[38;5;241m=\u001b[39m\u001b[38;5;124m'\u001b[39m\u001b[38;5;124mstep\u001b[39m\u001b[38;5;124m'\u001b[39m, alpha\u001b[38;5;241m=\u001b[39m\u001b[38;5;241m0.5\u001b[39m, lw\u001b[38;5;241m=\u001b[39m\u001b[38;5;241m3\u001b[39m);\n\u001b[1;32m      3\u001b[0m plt\u001b[38;5;241m.\u001b[39maxvline(\u001b[38;5;241m0\u001b[39m)\n",
      "\u001b[0;31mNameError\u001b[0m: name 'df_t_o' is not defined"
     ]
    }
   ],
   "source": [
    "plt.hist(df_t_o[(df_t_o.chargeLepTrue == -1) & (df_t_o.etaNTrue > 0)]['etaJJTrue'], range=[-3,3], bins=20, histtype='step', alpha=0.5, lw=3);\n",
    "plt.hist(df_t_o[(df_t_o.chargeLepTrue == 1) & (df_t_o.etaNTrue > 0)]['etaJJTrue'], range=[-3,3], bins=20, histtype='step', alpha=0.5, lw=3);\n",
    "plt.axvline(0)"
   ]
  },
  {
   "cell_type": "code",
   "execution_count": 22,
   "id": "604e2105",
   "metadata": {},
   "outputs": [],
   "source": [
    "# positive charged muon beam had eta = 999\n",
    "# nagetive charged muon beam had eta = -999"
   ]
  },
  {
   "cell_type": "code",
   "execution_count": 23,
   "id": "ebb94966",
   "metadata": {},
   "outputs": [
    {
     "ename": "NameError",
     "evalue": "name 'df_t_o' is not defined",
     "output_type": "error",
     "traceback": [
      "\u001b[0;31m---------------------------------------------------------------------------\u001b[0m",
      "\u001b[0;31mNameError\u001b[0m                                 Traceback (most recent call last)",
      "Input \u001b[0;32mIn [23]\u001b[0m, in \u001b[0;36m<cell line: 6>\u001b[0;34m()\u001b[0m\n\u001b[1;32m      1\u001b[0m plt\u001b[38;5;241m.\u001b[39mfigure(figsize\u001b[38;5;241m=\u001b[39m(\u001b[38;5;241m13\u001b[39m,\u001b[38;5;241m5\u001b[39m))\n\u001b[1;32m      4\u001b[0m ax1 \u001b[38;5;241m=\u001b[39m plt\u001b[38;5;241m.\u001b[39msubplot(\u001b[38;5;241m121\u001b[39m)\n\u001b[0;32m----> 6\u001b[0m ax1\u001b[38;5;241m.\u001b[39mhist(\u001b[43mdf_t_o\u001b[49m[(df_t_o\u001b[38;5;241m.\u001b[39mchargeLepTrue \u001b[38;5;241m==\u001b[39m \u001b[38;5;241m-\u001b[39m\u001b[38;5;241m1\u001b[39m) \u001b[38;5;241m&\u001b[39m (df_t_o\u001b[38;5;241m.\u001b[39metaNTrue \u001b[38;5;241m>\u001b[39m \u001b[38;5;241m0\u001b[39m)][\u001b[38;5;124m'\u001b[39m\u001b[38;5;124metaLepTrue\u001b[39m\u001b[38;5;124m'\u001b[39m], \u001b[38;5;28mrange\u001b[39m\u001b[38;5;241m=\u001b[39m[\u001b[38;5;241m-\u001b[39m\u001b[38;5;241m1\u001b[39m,\u001b[38;5;241m3\u001b[39m], bins\u001b[38;5;241m=\u001b[39m\u001b[38;5;241m20\u001b[39m, histtype\u001b[38;5;241m=\u001b[39m\u001b[38;5;124m'\u001b[39m\u001b[38;5;124mstep\u001b[39m\u001b[38;5;124m'\u001b[39m, alpha\u001b[38;5;241m=\u001b[39m\u001b[38;5;241m0.5\u001b[39m, lw\u001b[38;5;241m=\u001b[39m\u001b[38;5;241m3\u001b[39m, label\u001b[38;5;241m=\u001b[39m\u001b[38;5;124m'\u001b[39m\u001b[38;5;124mLepeg leptoLep\u001b[39m\u001b[38;5;124m'\u001b[39m);\n\u001b[1;32m      7\u001b[0m ax1\u001b[38;5;241m.\u001b[39mhist(df_t_o[(df_t_o\u001b[38;5;241m.\u001b[39mchargeLepTrue \u001b[38;5;241m==\u001b[39m \u001b[38;5;241m1\u001b[39m) \u001b[38;5;241m&\u001b[39m (df_t_o\u001b[38;5;241m.\u001b[39metaNTrue \u001b[38;5;241m>\u001b[39m \u001b[38;5;241m0\u001b[39m)][\u001b[38;5;124m'\u001b[39m\u001b[38;5;124metaLepTrue\u001b[39m\u001b[38;5;124m'\u001b[39m], \u001b[38;5;28mrange\u001b[39m\u001b[38;5;241m=\u001b[39m[\u001b[38;5;241m-\u001b[39m\u001b[38;5;241m1\u001b[39m,\u001b[38;5;241m3\u001b[39m], bins\u001b[38;5;241m=\u001b[39m\u001b[38;5;241m20\u001b[39m, histtype\u001b[38;5;241m=\u001b[39m\u001b[38;5;124m'\u001b[39m\u001b[38;5;124mstep\u001b[39m\u001b[38;5;124m'\u001b[39m, alpha\u001b[38;5;241m=\u001b[39m\u001b[38;5;241m0.5\u001b[39m, lw\u001b[38;5;241m=\u001b[39m\u001b[38;5;241m3\u001b[39m, label\u001b[38;5;241m=\u001b[39m\u001b[38;5;124m'\u001b[39m\u001b[38;5;124mpos leptoLep\u001b[39m\u001b[38;5;124m'\u001b[39m);\n\u001b[1;32m      8\u001b[0m ax1\u001b[38;5;241m.\u001b[39maxvline(\u001b[38;5;241m0\u001b[39m)\n",
      "\u001b[0;31mNameError\u001b[0m: name 'df_t_o' is not defined"
     ]
    },
    {
     "data": {
      "image/png": "[encoded data removed]",
      "text/plain": [
       "<Figure size 936x360 with 1 Axes>"
      ]
     },
     "metadata": {
      "needs_background": "light"
     },
     "output_type": "display_data"
    }
   ],
   "source": [
    "plt.figure(figsize=(13,5))\n",
    "\n",
    "\n",
    "ax1 = plt.subplot(121)\n",
    "\n",
    "ax1.hist(df_t_o[(df_t_o.chargeLepTrue == -1) & (df_t_o.etaNTrue > 0)]['etaLepTrue'], range=[-1,3], bins=20, histtype='step', alpha=0.5, lw=3, label='Lepeg leptoLep');\n",
    "ax1.hist(df_t_o[(df_t_o.chargeLepTrue == 1) & (df_t_o.etaNTrue > 0)]['etaLepTrue'], range=[-1,3], bins=20, histtype='step', alpha=0.5, lw=3, label='pos leptoLep');\n",
    "ax1.axvline(0)\n",
    "\n",
    "ax1.legend()\n",
    "\n",
    "ax1.set_xlabel('eta of Lepton');\n",
    "\n",
    "\n",
    "\n",
    "ax2 = plt.subplot(122)\n",
    "\n",
    "ax2.hist(df_t_o[(df_t_o.chargeLepTrue == -1) & (df_t_o.etaNTrue > 0)]['etaJJTrue'], range=[-1,3], bins=20, histtype='step', alpha=0.5, lw=3, label='Lepeg leptoLep');\n",
    "ax2.hist(df_t_o[(df_t_o.chargeLepTrue == 1) & (df_t_o.etaNTrue > 0)]['etaJJTrue'], range=[-1,3], bins=20, histtype='step', alpha=0.5, lw=3, label='pos leptoLep');\n",
    "ax2.axvline(0)\n",
    "\n",
    "ax2.legend()\n",
    "\n",
    "ax2.set_xlabel('eta of W Jet');"
   ]
  },
  {
   "cell_type": "code",
   "execution_count": null,
   "id": "04b2e8ea",
   "metadata": {},
   "outputs": [],
   "source": []
  },
  {
   "cell_type": "code",
   "execution_count": null,
   "id": "8df07e05",
   "metadata": {},
   "outputs": [],
   "source": []
  },
  {
   "cell_type": "code",
   "execution_count": 24,
   "id": "27d94509",
   "metadata": {},
   "outputs": [
    {
     "ename": "NameError",
     "evalue": "name 'df_t_o' is not defined",
     "output_type": "error",
     "traceback": [
      "\u001b[0;31m---------------------------------------------------------------------------\u001b[0m",
      "\u001b[0;31mNameError\u001b[0m                                 Traceback (most recent call last)",
      "Input \u001b[0;32mIn [24]\u001b[0m, in \u001b[0;36m<cell line: 6>\u001b[0;34m()\u001b[0m\n\u001b[1;32m      1\u001b[0m plt\u001b[38;5;241m.\u001b[39mfigure(figsize\u001b[38;5;241m=\u001b[39m(\u001b[38;5;241m13\u001b[39m,\u001b[38;5;241m5\u001b[39m))\n\u001b[1;32m      4\u001b[0m ax1 \u001b[38;5;241m=\u001b[39m plt\u001b[38;5;241m.\u001b[39msubplot(\u001b[38;5;241m121\u001b[39m)\n\u001b[0;32m----> 6\u001b[0m ax1\u001b[38;5;241m.\u001b[39mhist(\u001b[43mdf_t_o\u001b[49m[(df_t_o\u001b[38;5;241m.\u001b[39mchargeLepTrue \u001b[38;5;241m==\u001b[39m \u001b[38;5;241m-\u001b[39m\u001b[38;5;241m1\u001b[39m) \u001b[38;5;241m&\u001b[39m (df_t_o\u001b[38;5;241m.\u001b[39metaNTrue \u001b[38;5;241m>\u001b[39m \u001b[38;5;241m0\u001b[39m)][\u001b[38;5;124m'\u001b[39m\u001b[38;5;124metaLepTrue\u001b[39m\u001b[38;5;124m'\u001b[39m] \u001b[38;5;241m-\u001b[39m df_t_o[(df_t_o\u001b[38;5;241m.\u001b[39mchargeLepTrue \u001b[38;5;241m==\u001b[39m \u001b[38;5;241m-\u001b[39m\u001b[38;5;241m1\u001b[39m) \u001b[38;5;241m&\u001b[39m (df_t_o\u001b[38;5;241m.\u001b[39metaNTrue \u001b[38;5;241m>\u001b[39m \u001b[38;5;241m0\u001b[39m)][\u001b[38;5;124m'\u001b[39m\u001b[38;5;124metaNTrue\u001b[39m\u001b[38;5;124m'\u001b[39m], \u001b[38;5;28mrange\u001b[39m\u001b[38;5;241m=\u001b[39m[\u001b[38;5;241m-\u001b[39m\u001b[38;5;241m6\u001b[39m,\u001b[38;5;241m6\u001b[39m], bins\u001b[38;5;241m=\u001b[39m\u001b[38;5;241m20\u001b[39m, histtype\u001b[38;5;241m=\u001b[39m\u001b[38;5;124m'\u001b[39m\u001b[38;5;124mstep\u001b[39m\u001b[38;5;124m'\u001b[39m, alpha\u001b[38;5;241m=\u001b[39m\u001b[38;5;241m0.5\u001b[39m, lw\u001b[38;5;241m=\u001b[39m\u001b[38;5;241m3\u001b[39m, label\u001b[38;5;241m=\u001b[39m\u001b[38;5;124m'\u001b[39m\u001b[38;5;124mLepeg leptoLep\u001b[39m\u001b[38;5;124m'\u001b[39m);\n\u001b[1;32m      7\u001b[0m ax1\u001b[38;5;241m.\u001b[39mhist(df_t_o[(df_t_o\u001b[38;5;241m.\u001b[39mchargeLepTrue \u001b[38;5;241m==\u001b[39m \u001b[38;5;241m1\u001b[39m) \u001b[38;5;241m&\u001b[39m (df_t_o\u001b[38;5;241m.\u001b[39metaNTrue \u001b[38;5;241m>\u001b[39m \u001b[38;5;241m0\u001b[39m)][\u001b[38;5;124m'\u001b[39m\u001b[38;5;124metaLepTrue\u001b[39m\u001b[38;5;124m'\u001b[39m] \u001b[38;5;241m-\u001b[39m df_t_o[(df_t_o\u001b[38;5;241m.\u001b[39mchargeLepTrue \u001b[38;5;241m==\u001b[39m \u001b[38;5;241m1\u001b[39m) \u001b[38;5;241m&\u001b[39m (df_t_o\u001b[38;5;241m.\u001b[39metaNTrue \u001b[38;5;241m>\u001b[39m \u001b[38;5;241m0\u001b[39m)][\u001b[38;5;124m'\u001b[39m\u001b[38;5;124metaNTrue\u001b[39m\u001b[38;5;124m'\u001b[39m], \u001b[38;5;28mrange\u001b[39m\u001b[38;5;241m=\u001b[39m[\u001b[38;5;241m-\u001b[39m\u001b[38;5;241m6\u001b[39m,\u001b[38;5;241m6\u001b[39m], bins\u001b[38;5;241m=\u001b[39m\u001b[38;5;241m20\u001b[39m, histtype\u001b[38;5;241m=\u001b[39m\u001b[38;5;124m'\u001b[39m\u001b[38;5;124mstep\u001b[39m\u001b[38;5;124m'\u001b[39m, alpha\u001b[38;5;241m=\u001b[39m\u001b[38;5;241m0.5\u001b[39m, lw\u001b[38;5;241m=\u001b[39m\u001b[38;5;241m3\u001b[39m, label\u001b[38;5;241m=\u001b[39m\u001b[38;5;124m'\u001b[39m\u001b[38;5;124mpos leptoLep\u001b[39m\u001b[38;5;124m'\u001b[39m);\n\u001b[1;32m      8\u001b[0m ax1\u001b[38;5;241m.\u001b[39maxvline(\u001b[38;5;241m0\u001b[39m)\n",
      "\u001b[0;31mNameError\u001b[0m: name 'df_t_o' is not defined"
     ]
    },
    {
     "data": {
      "image/png": "[encoded data removed]",
      "text/plain": [
       "<Figure size 936x360 with 1 Axes>"
      ]
     },
     "metadata": {
      "needs_background": "light"
     },
     "output_type": "display_data"
    }
   ],
   "source": [
    "plt.figure(figsize=(13,5))\n",
    "\n",
    "\n",
    "ax1 = plt.subplot(121)\n",
    "\n",
    "ax1.hist(df_t_o[(df_t_o.chargeLepTrue == -1) & (df_t_o.etaNTrue > 0)]['etaLepTrue'] - df_t_o[(df_t_o.chargeLepTrue == -1) & (df_t_o.etaNTrue > 0)]['etaNTrue'], range=[-6,6], bins=20, histtype='step', alpha=0.5, lw=3, label='Lepeg leptoLep');\n",
    "ax1.hist(df_t_o[(df_t_o.chargeLepTrue == 1) & (df_t_o.etaNTrue > 0)]['etaLepTrue'] - df_t_o[(df_t_o.chargeLepTrue == 1) & (df_t_o.etaNTrue > 0)]['etaNTrue'], range=[-6,6], bins=20, histtype='step', alpha=0.5, lw=3, label='pos leptoLep');\n",
    "ax1.axvline(0)\n",
    "\n",
    "ax1.legend()\n",
    "\n",
    "ax1.set_xlabel('eta of Lepton');\n",
    "\n",
    "\n",
    "\n",
    "# ax2 = plt.subplot(122)\n",
    "\n",
    "# ax2.hist(df_t_o[df_t_o.chargeLepTrue == -1]['etaJJTrue'], range=[-6,2], bins=20, histtype='step', alpha=0.5, lw=3, label='Lepeg leptoLep');\n",
    "# ax2.hist(df_t_o[df_t_o.chargeLepTrue == 1]['etaJJTrue'], range=[-6,2], bins=20, histtype='step', alpha=0.5, lw=3, label='pos leptoLep');\n",
    "# ax2.axvline(0)\n",
    "\n",
    "# ax2.legend()\n",
    "\n",
    "# ax2.set_xlabel('eta of W Jet');"
   ]
  },
  {
   "cell_type": "code",
   "execution_count": null,
   "id": "5550e033",
   "metadata": {},
   "outputs": [],
   "source": []
  },
  {
   "cell_type": "code",
   "execution_count": 25,
   "id": "0a3464d0",
   "metadata": {},
   "outputs": [
    {
     "ename": "NameError",
     "evalue": "name 'df_t_o' is not defined",
     "output_type": "error",
     "traceback": [
      "\u001b[0;31m---------------------------------------------------------------------------\u001b[0m",
      "\u001b[0;31mNameError\u001b[0m                                 Traceback (most recent call last)",
      "Input \u001b[0;32mIn [25]\u001b[0m, in \u001b[0;36m<cell line: 6>\u001b[0;34m()\u001b[0m\n\u001b[1;32m      1\u001b[0m plt\u001b[38;5;241m.\u001b[39mfigure(figsize\u001b[38;5;241m=\u001b[39m(\u001b[38;5;241m13\u001b[39m,\u001b[38;5;241m5\u001b[39m))\n\u001b[1;32m      4\u001b[0m ax1 \u001b[38;5;241m=\u001b[39m plt\u001b[38;5;241m.\u001b[39msubplot(\u001b[38;5;241m121\u001b[39m)\n\u001b[0;32m----> 6\u001b[0m df_neg \u001b[38;5;241m=\u001b[39m \u001b[43mdf_t_o\u001b[49m[(df_t_o\u001b[38;5;241m.\u001b[39mchargeLepTrue \u001b[38;5;241m==\u001b[39m \u001b[38;5;241m-\u001b[39m\u001b[38;5;241m1\u001b[39m) \u001b[38;5;241m&\u001b[39m (df_t_o\u001b[38;5;241m.\u001b[39metaNTrue \u001b[38;5;241m>\u001b[39m \u001b[38;5;241m0\u001b[39m)]\n\u001b[1;32m      7\u001b[0m df_pos \u001b[38;5;241m=\u001b[39m df_t_o[(df_t_o\u001b[38;5;241m.\u001b[39mchargeLepTrue \u001b[38;5;241m==\u001b[39m \u001b[38;5;241m1\u001b[39m) \u001b[38;5;241m&\u001b[39m (df_t_o\u001b[38;5;241m.\u001b[39metaNTrue \u001b[38;5;241m>\u001b[39m \u001b[38;5;241m0\u001b[39m)]\n\u001b[1;32m      9\u001b[0m ax1\u001b[38;5;241m.\u001b[39mhist(((df_neg[\u001b[38;5;124m'\u001b[39m\u001b[38;5;124metaNTrue\u001b[39m\u001b[38;5;124m'\u001b[39m] \u001b[38;5;241m-\u001b[39m df_neg[\u001b[38;5;124m'\u001b[39m\u001b[38;5;124metaLepTrue\u001b[39m\u001b[38;5;124m'\u001b[39m])\u001b[38;5;241m*\u001b[39m\u001b[38;5;241m*\u001b[39m\u001b[38;5;241m2\u001b[39m \u001b[38;5;241m+\u001b[39m (df_neg[\u001b[38;5;124m'\u001b[39m\u001b[38;5;124mphiNTrue\u001b[39m\u001b[38;5;124m'\u001b[39m] \u001b[38;5;241m-\u001b[39m df_neg[\u001b[38;5;124m'\u001b[39m\u001b[38;5;124mphiLepTrue\u001b[39m\u001b[38;5;124m'\u001b[39m])\u001b[38;5;241m*\u001b[39m\u001b[38;5;241m*\u001b[39m\u001b[38;5;241m2\u001b[39m)\u001b[38;5;241m*\u001b[39m\u001b[38;5;241m*\u001b[39m\u001b[38;5;241m0.5\u001b[39m, \u001b[38;5;28mrange\u001b[39m\u001b[38;5;241m=\u001b[39m[\u001b[38;5;241m0\u001b[39m,\u001b[38;5;241m8\u001b[39m], bins\u001b[38;5;241m=\u001b[39m\u001b[38;5;241m20\u001b[39m, histtype\u001b[38;5;241m=\u001b[39m\u001b[38;5;124m'\u001b[39m\u001b[38;5;124mstep\u001b[39m\u001b[38;5;124m'\u001b[39m, alpha\u001b[38;5;241m=\u001b[39m\u001b[38;5;241m0.5\u001b[39m, lw\u001b[38;5;241m=\u001b[39m\u001b[38;5;241m3\u001b[39m, label\u001b[38;5;241m=\u001b[39m\u001b[38;5;124m'\u001b[39m\u001b[38;5;124mneg lepton\u001b[39m\u001b[38;5;124m'\u001b[39m);\n",
      "\u001b[0;31mNameError\u001b[0m: name 'df_t_o' is not defined"
     ]
    },
    {
     "data": {
      "image/png": "[encoded data removed]",
      "text/plain": [
       "<Figure size 936x360 with 1 Axes>"
      ]
     },
     "metadata": {
      "needs_background": "light"
     },
     "output_type": "display_data"
    }
   ],
   "source": [
    "plt.figure(figsize=(13,5))\n",
    "\n",
    "\n",
    "ax1 = plt.subplot(121)\n",
    "\n",
    "df_neg = df_t_o[(df_t_o.chargeLepTrue == -1) & (df_t_o.etaNTrue > 0)]\n",
    "df_pos = df_t_o[(df_t_o.chargeLepTrue == 1) & (df_t_o.etaNTrue > 0)]\n",
    "\n",
    "ax1.hist(((df_neg['etaNTrue'] - df_neg['etaLepTrue'])**2 + (df_neg['phiNTrue'] - df_neg['phiLepTrue'])**2)**0.5, range=[0,8], bins=20, histtype='step', alpha=0.5, lw=3, label='neg lepton');\n",
    "ax1.hist(((df_pos['etaNTrue'] - df_pos['etaLepTrue'])**2 + (df_pos['phiNTrue'] - df_pos['phiLepTrue'])**2)**0.5, range=[0,8], bins=20, histtype='step', alpha=0.5, lw=3, label='pos lepton');\n",
    "\n",
    "ax1.legend()\n",
    "\n",
    "ax1.set_xlabel('delta R of Lepton and N (t-channel) (eta_N > 0) samples');\n",
    "\n",
    "\n"
   ]
  },
  {
   "cell_type": "code",
   "execution_count": 26,
   "id": "6484ffe8",
   "metadata": {},
   "outputs": [
    {
     "ename": "NameError",
     "evalue": "name 'df_s_o' is not defined",
     "output_type": "error",
     "traceback": [
      "\u001b[0;31m---------------------------------------------------------------------------\u001b[0m",
      "\u001b[0;31mNameError\u001b[0m                                 Traceback (most recent call last)",
      "Input \u001b[0;32mIn [26]\u001b[0m, in \u001b[0;36m<cell line: 3>\u001b[0;34m()\u001b[0m\n\u001b[1;32m      1\u001b[0m plt\u001b[38;5;241m.\u001b[39mfigure(figsize\u001b[38;5;241m=\u001b[39m(\u001b[38;5;241m13\u001b[39m,\u001b[38;5;241m5\u001b[39m))\n\u001b[1;32m      2\u001b[0m ax1 \u001b[38;5;241m=\u001b[39m plt\u001b[38;5;241m.\u001b[39msubplot(\u001b[38;5;241m121\u001b[39m)\n\u001b[0;32m----> 3\u001b[0m df_neg \u001b[38;5;241m=\u001b[39m \u001b[43mdf_s_o\u001b[49m[(df_s_o\u001b[38;5;241m.\u001b[39mchargeLepTrue \u001b[38;5;241m==\u001b[39m \u001b[38;5;241m-\u001b[39m\u001b[38;5;241m1\u001b[39m) \u001b[38;5;241m&\u001b[39m (df_s_o\u001b[38;5;241m.\u001b[39metaNTrue \u001b[38;5;241m>\u001b[39m \u001b[38;5;241m0\u001b[39m)]\n\u001b[1;32m      4\u001b[0m df_pos \u001b[38;5;241m=\u001b[39m df_s_o[(df_s_o\u001b[38;5;241m.\u001b[39mchargeLepTrue \u001b[38;5;241m==\u001b[39m \u001b[38;5;241m1\u001b[39m) \u001b[38;5;241m&\u001b[39m (df_s_o\u001b[38;5;241m.\u001b[39metaNTrue \u001b[38;5;241m>\u001b[39m \u001b[38;5;241m0\u001b[39m)]\n\u001b[1;32m      5\u001b[0m ax1\u001b[38;5;241m.\u001b[39mhist(((df_neg[\u001b[38;5;124m'\u001b[39m\u001b[38;5;124metaNTrue\u001b[39m\u001b[38;5;124m'\u001b[39m] \u001b[38;5;241m-\u001b[39m df_neg[\u001b[38;5;124m'\u001b[39m\u001b[38;5;124metaLepTrue\u001b[39m\u001b[38;5;124m'\u001b[39m])\u001b[38;5;241m*\u001b[39m\u001b[38;5;241m*\u001b[39m\u001b[38;5;241m2\u001b[39m \u001b[38;5;241m+\u001b[39m (df_neg[\u001b[38;5;124m'\u001b[39m\u001b[38;5;124mphiNTrue\u001b[39m\u001b[38;5;124m'\u001b[39m] \u001b[38;5;241m-\u001b[39m df_neg[\u001b[38;5;124m'\u001b[39m\u001b[38;5;124mphiLepTrue\u001b[39m\u001b[38;5;124m'\u001b[39m])\u001b[38;5;241m*\u001b[39m\u001b[38;5;241m*\u001b[39m\u001b[38;5;241m2\u001b[39m)\u001b[38;5;241m*\u001b[39m\u001b[38;5;241m*\u001b[39m\u001b[38;5;241m0.5\u001b[39m, \u001b[38;5;28mrange\u001b[39m\u001b[38;5;241m=\u001b[39m[\u001b[38;5;241m0\u001b[39m,\u001b[38;5;241m8\u001b[39m], bins\u001b[38;5;241m=\u001b[39m\u001b[38;5;241m20\u001b[39m, histtype\u001b[38;5;241m=\u001b[39m\u001b[38;5;124m'\u001b[39m\u001b[38;5;124mstep\u001b[39m\u001b[38;5;124m'\u001b[39m, alpha\u001b[38;5;241m=\u001b[39m\u001b[38;5;241m0.5\u001b[39m, lw\u001b[38;5;241m=\u001b[39m\u001b[38;5;241m3\u001b[39m, label\u001b[38;5;241m=\u001b[39m\u001b[38;5;124m'\u001b[39m\u001b[38;5;124mneg lepton\u001b[39m\u001b[38;5;124m'\u001b[39m);\n",
      "\u001b[0;31mNameError\u001b[0m: name 'df_s_o' is not defined"
     ]
    },
    {
     "data": {
      "image/png": "[encoded data removed]",
      "text/plain": [
       "<Figure size 936x360 with 1 Axes>"
      ]
     },
     "metadata": {
      "needs_background": "light"
     },
     "output_type": "display_data"
    }
   ],
   "source": [
    "plt.figure(figsize=(13,5))\n",
    "ax1 = plt.subplot(121)\n",
    "df_neg = df_s_o[(df_s_o.chargeLepTrue == -1) & (df_s_o.etaNTrue > 0)]\n",
    "df_pos = df_s_o[(df_s_o.chargeLepTrue == 1) & (df_s_o.etaNTrue > 0)]\n",
    "ax1.hist(((df_neg['etaNTrue'] - df_neg['etaLepTrue'])**2 + (df_neg['phiNTrue'] - df_neg['phiLepTrue'])**2)**0.5, range=[0,8], bins=20, histtype='step', alpha=0.5, lw=3, label='neg lepton');\n",
    "ax1.hist(((df_pos['etaNTrue'] - df_pos['etaLepTrue'])**2 + (df_pos['phiNTrue'] - df_pos['phiLepTrue'])**2)**0.5, range=[0,8], bins=20, histtype='step', alpha=0.5, lw=3, label='pos lepton');\n",
    "ax1.legend()\n",
    "ax1.set_xlabel('delta R of Lepton and N (s-channel) (eta_N > 0 samples)');"
   ]
  },
  {
   "cell_type": "code",
   "execution_count": null,
   "id": "916a99a6",
   "metadata": {},
   "outputs": [],
   "source": []
  },
  {
   "cell_type": "code",
   "execution_count": 41,
   "id": "111b8cca",
   "metadata": {},
   "outputs": [
    {
     "data": {
      "text/plain": [
       "<matplotlib.legend.Legend at 0x7f0464ae43a0>"
      ]
     },
     "execution_count": 41,
     "metadata": {},
     "output_type": "execute_result"
    },
    {
     "data": {
      "image/png": "[encoded data removed]",
      "text/plain": [
       "<Figure size 432x288 with 1 Axes>"
      ]
     },
     "metadata": {
      "needs_background": "light"
     },
     "output_type": "display_data"
    }
   ],
   "source": [
    "range_ = [0,1500]\n",
    "\n",
    "plt.hist(df_tM_o[(df_tM_o.chargeLepTrue == -1) & (df_tM_o.etaNTrue > 0)]['pzNTrue'], range=range_, bins=50, histtype='step', alpha=0.5, lw=3, label='neg lepton');\n",
    "plt.hist(df_tM_o[(df_tM_o.chargeLepTrue == 1) & (df_tM_o.etaNTrue > 0)]['pzNTrue'], range=range_, bins=50, histtype='step', alpha=0.5, lw=3, label='pos lepton');\n",
    "# plt.axvline(0)\n",
    "plt.legend(loc=2)\n"
   ]
  },
  {
   "cell_type": "code",
   "execution_count": 53,
   "id": "35f829a5",
   "metadata": {},
   "outputs": [
    {
     "data": {
      "image/png": "[encoded data removed]",
      "text/plain": [
       "<Figure size 864x576 with 1 Axes>"
      ]
     },
     "metadata": {
      "needs_background": "light"
     },
     "output_type": "display_data"
    }
   ],
   "source": [
    "plt.figure(figsize=(12,8))\n",
    "\n",
    "range_ = [-1500,1500]\n",
    "\n",
    "plt.hist(df_tM_o['pzNTrue'], range=range_, bins=50, histtype='step', alpha=0.5, lw=3, label='neg lepton');\n",
    "# plt.axvline(0)\n",
    "# plt.legend(loc=9)\n"
   ]
  },
  {
   "cell_type": "code",
   "execution_count": null,
   "id": "b2aee607",
   "metadata": {},
   "outputs": [],
   "source": []
  },
  {
   "cell_type": "code",
   "execution_count": null,
   "id": "fe23679a",
   "metadata": {},
   "outputs": [],
   "source": []
  },
  {
   "cell_type": "code",
   "execution_count": 34,
   "id": "ac8f97e6",
   "metadata": {},
   "outputs": [
    {
     "ename": "NameError",
     "evalue": "name 'df_t_o' is not defined",
     "output_type": "error",
     "traceback": [
      "\u001b[0;31m---------------------------------------------------------------------------\u001b[0m",
      "\u001b[0;31mNameError\u001b[0m                                 Traceback (most recent call last)",
      "Input \u001b[0;32mIn [34]\u001b[0m, in \u001b[0;36m<cell line: 1>\u001b[0;34m()\u001b[0m\n\u001b[0;32m----> 1\u001b[0m plt\u001b[38;5;241m.\u001b[39mhist(\u001b[43mdf_t_o\u001b[49m[(df_t_o\u001b[38;5;241m.\u001b[39mchargeLepTrue \u001b[38;5;241m==\u001b[39m \u001b[38;5;241m-\u001b[39m\u001b[38;5;241m1\u001b[39m) \u001b[38;5;241m&\u001b[39m (df_t_o\u001b[38;5;241m.\u001b[39metaNTrue \u001b[38;5;241m>\u001b[39m \u001b[38;5;241m0\u001b[39m)][\u001b[38;5;124m'\u001b[39m\u001b[38;5;124mptNTrue\u001b[39m\u001b[38;5;124m'\u001b[39m], \u001b[38;5;28mrange\u001b[39m\u001b[38;5;241m=\u001b[39m[\u001b[38;5;241m10\u001b[39m,\u001b[38;5;241m1400\u001b[39m], bins\u001b[38;5;241m=\u001b[39m\u001b[38;5;241m20\u001b[39m, histtype\u001b[38;5;241m=\u001b[39m\u001b[38;5;124m'\u001b[39m\u001b[38;5;124mstep\u001b[39m\u001b[38;5;124m'\u001b[39m, alpha\u001b[38;5;241m=\u001b[39m\u001b[38;5;241m0.5\u001b[39m, lw\u001b[38;5;241m=\u001b[39m\u001b[38;5;241m3\u001b[39m, label\u001b[38;5;241m=\u001b[39m\u001b[38;5;124m'\u001b[39m\u001b[38;5;124mneg lepton\u001b[39m\u001b[38;5;124m'\u001b[39m);\n\u001b[1;32m      2\u001b[0m plt\u001b[38;5;241m.\u001b[39mhist(df_t_o[(df_t_o\u001b[38;5;241m.\u001b[39mchargeLepTrue \u001b[38;5;241m==\u001b[39m \u001b[38;5;241m1\u001b[39m) \u001b[38;5;241m&\u001b[39m (df_t_o\u001b[38;5;241m.\u001b[39metaNTrue \u001b[38;5;241m>\u001b[39m \u001b[38;5;241m0\u001b[39m)][\u001b[38;5;124m'\u001b[39m\u001b[38;5;124mptNTrue\u001b[39m\u001b[38;5;124m'\u001b[39m], \u001b[38;5;28mrange\u001b[39m\u001b[38;5;241m=\u001b[39m[\u001b[38;5;241m10\u001b[39m,\u001b[38;5;241m1400\u001b[39m], bins\u001b[38;5;241m=\u001b[39m\u001b[38;5;241m20\u001b[39m, histtype\u001b[38;5;241m=\u001b[39m\u001b[38;5;124m'\u001b[39m\u001b[38;5;124mstep\u001b[39m\u001b[38;5;124m'\u001b[39m, alpha\u001b[38;5;241m=\u001b[39m\u001b[38;5;241m0.5\u001b[39m, lw\u001b[38;5;241m=\u001b[39m\u001b[38;5;241m3\u001b[39m, label\u001b[38;5;241m=\u001b[39m\u001b[38;5;124m'\u001b[39m\u001b[38;5;124mpos lepton\u001b[39m\u001b[38;5;124m'\u001b[39m);\n\u001b[1;32m      3\u001b[0m \u001b[38;5;66;03m# plt.axvline(0)\u001b[39;00m\n",
      "\u001b[0;31mNameError\u001b[0m: name 'df_t_o' is not defined"
     ]
    }
   ],
   "source": [
    "plt.hist(df_t_o[(df_t_o.chargeLepTrue == -1) & (df_t_o.etaNTrue > 0)]['ptNTrue'], range=[10,1400], bins=20, histtype='step', alpha=0.5, lw=3, label='neg lepton');\n",
    "plt.hist(df_t_o[(df_t_o.chargeLepTrue == 1) & (df_t_o.etaNTrue > 0)]['ptNTrue'], range=[10,1400], bins=20, histtype='step', alpha=0.5, lw=3, label='pos lepton');\n",
    "# plt.axvline(0)\n",
    "plt.legend()"
   ]
  },
  {
   "cell_type": "code",
   "execution_count": 33,
   "id": "74bf2848",
   "metadata": {},
   "outputs": [
    {
     "ename": "NameError",
     "evalue": "name 'df_s_o' is not defined",
     "output_type": "error",
     "traceback": [
      "\u001b[0;31m---------------------------------------------------------------------------\u001b[0m",
      "\u001b[0;31mNameError\u001b[0m                                 Traceback (most recent call last)",
      "Input \u001b[0;32mIn [33]\u001b[0m, in \u001b[0;36m<cell line: 1>\u001b[0;34m()\u001b[0m\n\u001b[0;32m----> 1\u001b[0m plt\u001b[38;5;241m.\u001b[39mhist(\u001b[43mdf_s_o\u001b[49m[(df_s_o\u001b[38;5;241m.\u001b[39mchargeLepTrue \u001b[38;5;241m==\u001b[39m \u001b[38;5;241m-\u001b[39m\u001b[38;5;241m1\u001b[39m) \u001b[38;5;241m&\u001b[39m (df_s_o\u001b[38;5;241m.\u001b[39metaNTrue \u001b[38;5;241m>\u001b[39m \u001b[38;5;241m0\u001b[39m)][\u001b[38;5;124m'\u001b[39m\u001b[38;5;124mpzNTrue\u001b[39m\u001b[38;5;124m'\u001b[39m], \u001b[38;5;28mrange\u001b[39m\u001b[38;5;241m=\u001b[39m[\u001b[38;5;241m0\u001b[39m,\u001b[38;5;241m1700\u001b[39m], bins\u001b[38;5;241m=\u001b[39m\u001b[38;5;241m20\u001b[39m, histtype\u001b[38;5;241m=\u001b[39m\u001b[38;5;124m'\u001b[39m\u001b[38;5;124mstep\u001b[39m\u001b[38;5;124m'\u001b[39m, alpha\u001b[38;5;241m=\u001b[39m\u001b[38;5;241m0.5\u001b[39m, lw\u001b[38;5;241m=\u001b[39m\u001b[38;5;241m3\u001b[39m, label\u001b[38;5;241m=\u001b[39m\u001b[38;5;124m'\u001b[39m\u001b[38;5;124mneg lepton\u001b[39m\u001b[38;5;124m'\u001b[39m);\n\u001b[1;32m      2\u001b[0m plt\u001b[38;5;241m.\u001b[39mhist(df_s_o[(df_s_o\u001b[38;5;241m.\u001b[39mchargeLepTrue \u001b[38;5;241m==\u001b[39m \u001b[38;5;241m1\u001b[39m) \u001b[38;5;241m&\u001b[39m (df_s_o\u001b[38;5;241m.\u001b[39metaNTrue \u001b[38;5;241m>\u001b[39m \u001b[38;5;241m0\u001b[39m)][\u001b[38;5;124m'\u001b[39m\u001b[38;5;124mpzNTrue\u001b[39m\u001b[38;5;124m'\u001b[39m], \u001b[38;5;28mrange\u001b[39m\u001b[38;5;241m=\u001b[39m[\u001b[38;5;241m0\u001b[39m,\u001b[38;5;241m1700\u001b[39m], bins\u001b[38;5;241m=\u001b[39m\u001b[38;5;241m20\u001b[39m, histtype\u001b[38;5;241m=\u001b[39m\u001b[38;5;124m'\u001b[39m\u001b[38;5;124mstep\u001b[39m\u001b[38;5;124m'\u001b[39m, alpha\u001b[38;5;241m=\u001b[39m\u001b[38;5;241m0.5\u001b[39m, lw\u001b[38;5;241m=\u001b[39m\u001b[38;5;241m3\u001b[39m, label\u001b[38;5;241m=\u001b[39m\u001b[38;5;124m'\u001b[39m\u001b[38;5;124mpos lepton\u001b[39m\u001b[38;5;124m'\u001b[39m);\n\u001b[1;32m      3\u001b[0m \u001b[38;5;66;03m# plt.axvline(0)\u001b[39;00m\n",
      "\u001b[0;31mNameError\u001b[0m: name 'df_s_o' is not defined"
     ]
    }
   ],
   "source": [
    "plt.hist(df_s_o[(df_s_o.chargeLepTrue == -1) & (df_s_o.etaNTrue > 0)]['pzNTrue'], range=[0,1700], bins=20, histtype='step', alpha=0.5, lw=3, label='neg lepton');\n",
    "plt.hist(df_s_o[(df_s_o.chargeLepTrue == 1) & (df_s_o.etaNTrue > 0)]['pzNTrue'], range=[0,1700], bins=20, histtype='step', alpha=0.5, lw=3, label='pos lepton');\n",
    "# plt.axvline(0)\n",
    "plt.legend()"
   ]
  },
  {
   "cell_type": "code",
   "execution_count": 30,
   "id": "e68297c4",
   "metadata": {},
   "outputs": [
    {
     "ename": "NameError",
     "evalue": "name 'df_s_o' is not defined",
     "output_type": "error",
     "traceback": [
      "\u001b[0;31m---------------------------------------------------------------------------\u001b[0m",
      "\u001b[0;31mNameError\u001b[0m                                 Traceback (most recent call last)",
      "Input \u001b[0;32mIn [30]\u001b[0m, in \u001b[0;36m<cell line: 1>\u001b[0;34m()\u001b[0m\n\u001b[0;32m----> 1\u001b[0m plt\u001b[38;5;241m.\u001b[39mhist(\u001b[43mdf_s_o\u001b[49m[(df_s_o\u001b[38;5;241m.\u001b[39mchargeLepTrue \u001b[38;5;241m==\u001b[39m \u001b[38;5;241m-\u001b[39m\u001b[38;5;241m1\u001b[39m) \u001b[38;5;241m&\u001b[39m (df_s_o\u001b[38;5;241m.\u001b[39metaNTrue \u001b[38;5;241m>\u001b[39m \u001b[38;5;241m0\u001b[39m)][\u001b[38;5;124m'\u001b[39m\u001b[38;5;124metaNTrue\u001b[39m\u001b[38;5;124m'\u001b[39m], \u001b[38;5;28mrange\u001b[39m\u001b[38;5;241m=\u001b[39m[\u001b[38;5;241m-\u001b[39m\u001b[38;5;241m1\u001b[39m,\u001b[38;5;241m5\u001b[39m], bins\u001b[38;5;241m=\u001b[39m\u001b[38;5;241m20\u001b[39m, histtype\u001b[38;5;241m=\u001b[39m\u001b[38;5;124m'\u001b[39m\u001b[38;5;124mstep\u001b[39m\u001b[38;5;124m'\u001b[39m, alpha\u001b[38;5;241m=\u001b[39m\u001b[38;5;241m0.5\u001b[39m, lw\u001b[38;5;241m=\u001b[39m\u001b[38;5;241m3\u001b[39m, label\u001b[38;5;241m=\u001b[39m\u001b[38;5;124m'\u001b[39m\u001b[38;5;124mneg lepton\u001b[39m\u001b[38;5;124m'\u001b[39m);\n\u001b[1;32m      2\u001b[0m plt\u001b[38;5;241m.\u001b[39mhist(df_s_o[(df_s_o\u001b[38;5;241m.\u001b[39mchargeLepTrue \u001b[38;5;241m==\u001b[39m \u001b[38;5;241m1\u001b[39m) \u001b[38;5;241m&\u001b[39m (df_s_o\u001b[38;5;241m.\u001b[39metaNTrue \u001b[38;5;241m>\u001b[39m \u001b[38;5;241m0\u001b[39m)][\u001b[38;5;124m'\u001b[39m\u001b[38;5;124metaNTrue\u001b[39m\u001b[38;5;124m'\u001b[39m], \u001b[38;5;28mrange\u001b[39m\u001b[38;5;241m=\u001b[39m[\u001b[38;5;241m-\u001b[39m\u001b[38;5;241m1\u001b[39m,\u001b[38;5;241m5\u001b[39m], bins\u001b[38;5;241m=\u001b[39m\u001b[38;5;241m20\u001b[39m, histtype\u001b[38;5;241m=\u001b[39m\u001b[38;5;124m'\u001b[39m\u001b[38;5;124mstep\u001b[39m\u001b[38;5;124m'\u001b[39m, alpha\u001b[38;5;241m=\u001b[39m\u001b[38;5;241m0.5\u001b[39m, lw\u001b[38;5;241m=\u001b[39m\u001b[38;5;241m3\u001b[39m, label\u001b[38;5;241m=\u001b[39m\u001b[38;5;124m'\u001b[39m\u001b[38;5;124mpos lepton\u001b[39m\u001b[38;5;124m'\u001b[39m);\n\u001b[1;32m      3\u001b[0m \u001b[38;5;66;03m# plt.axvline(0)\u001b[39;00m\n",
      "\u001b[0;31mNameError\u001b[0m: name 'df_s_o' is not defined"
     ]
    }
   ],
   "source": [
    "plt.hist(df_s_o[(df_s_o.chargeLepTrue == -1) & (df_s_o.etaNTrue > 0)]['etaNTrue'], range=[-1,5], bins=20, histtype='step', alpha=0.5, lw=3, label='neg lepton');\n",
    "plt.hist(df_s_o[(df_s_o.chargeLepTrue == 1) & (df_s_o.etaNTrue > 0)]['etaNTrue'], range=[-1,5], bins=20, histtype='step', alpha=0.5, lw=3, label='pos lepton');\n",
    "# plt.axvline(0)\n",
    "plt.legend()"
   ]
  },
  {
   "cell_type": "code",
   "execution_count": null,
   "id": "24ace9da",
   "metadata": {},
   "outputs": [],
   "source": []
  },
  {
   "cell_type": "code",
   "execution_count": null,
   "id": "8f3f1f76",
   "metadata": {},
   "outputs": [],
   "source": []
  },
  {
   "cell_type": "code",
   "execution_count": null,
   "id": "c7056f68",
   "metadata": {},
   "outputs": [],
   "source": []
  },
  {
   "cell_type": "code",
   "execution_count": null,
   "id": "9e565c74",
   "metadata": {},
   "outputs": [],
   "source": []
  },
  {
   "cell_type": "code",
   "execution_count": null,
   "id": "d62c91d0",
   "metadata": {},
   "outputs": [],
   "source": []
  },
  {
   "cell_type": "code",
   "execution_count": 1248,
   "id": "41f3924c",
   "metadata": {},
   "outputs": [
    {
     "data": {
      "image/png": "[encoded data removed]",
      "text/plain": [
       "<Figure size 432x288 with 1 Axes>"
      ]
     },
     "metadata": {
      "needs_background": "light"
     },
     "output_type": "display_data"
    }
   ],
   "source": [
    "# plt.figure()\n",
    "range_ = [0, 6]\n",
    "plt.hist(df_s['DeltaRjjl'], weights=[1/len(df_s)]*len(df_s), bins=25, range=range_, histtype='step', alpha=0.5, lw=3, label='s-ch', color='C0');\n",
    "plt.hist(df_s['DeltaRjjlTrue'], weights=[1/len(df_s)]*len(df_s), bins=25, range=range_, histtype='step', alpha=0.5, lw=3, color='C0', linestyle='--');\n",
    "plt.hist(df_t['DeltaRjjl'], weights=[1/len(df_t)]*len(df_t), bins=25, range=range_, histtype='step', alpha=0.5, lw=3, label='t-ch', color='C1');\n",
    "plt.hist(df_t['DeltaRjjlTrue'], weights=[1/len(df_t)]*len(df_t), bins=25, range=range_, histtype='step', alpha=0.5, lw=3, color='C1', linestyle='--');\n",
    "plt.hist(df_b['DeltaRjjl'], weights=[1/len(df_b)]*len(df_b), bins=25, range=range_, histtype='step', alpha=0.5, lw=3, label='Background', color='C2');\n",
    "\n",
    "plt.title(r'$\\sqrt{s}=$'+str(cm)+'TeV'+';  $m_N$='+str(mN1)+'TeV :\\n'+\n",
    "          r'$\\Delta R (jj, \\ell)$')\n",
    "plt.legend()\n",
    "plt.show()"
   ]
  },
  {
   "cell_type": "code",
   "execution_count": 1249,
   "id": "5efc6df3",
   "metadata": {},
   "outputs": [
    {
     "data": {
      "text/html": [
       "<div>\n",
       "<style scoped>\n",
       "    .dataframe tbody tr th:only-of-type {\n",
       "        vertical-align: middle;\n",
       "    }\n",
       "\n",
       "    .dataframe tbody tr th {\n",
       "        vertical-align: top;\n",
       "    }\n",
       "\n",
       "    .dataframe thead th {\n",
       "        text-align: right;\n",
       "    }\n",
       "</style>\n",
       "<table border=\"1\" class=\"dataframe\">\n",
       "  <thead>\n",
       "    <tr style=\"text-align: right;\">\n",
       "      <th></th>\n",
       "      <th>DeltaRjjl</th>\n",
       "      <th>DeltaRjjlTrue</th>\n",
       "    </tr>\n",
       "  </thead>\n",
       "  <tbody>\n",
       "    <tr>\n",
       "      <th>0</th>\n",
       "      <td>3.590940</td>\n",
       "      <td>3.573337</td>\n",
       "    </tr>\n",
       "    <tr>\n",
       "      <th>1</th>\n",
       "      <td>3.304816</td>\n",
       "      <td>3.324935</td>\n",
       "    </tr>\n",
       "    <tr>\n",
       "      <th>2</th>\n",
       "      <td>3.335180</td>\n",
       "      <td>3.339051</td>\n",
       "    </tr>\n",
       "    <tr>\n",
       "      <th>3</th>\n",
       "      <td>3.217755</td>\n",
       "      <td>3.224088</td>\n",
       "    </tr>\n",
       "    <tr>\n",
       "      <th>4</th>\n",
       "      <td>3.249262</td>\n",
       "      <td>3.268276</td>\n",
       "    </tr>\n",
       "    <tr>\n",
       "      <th>...</th>\n",
       "      <td>...</td>\n",
       "      <td>...</td>\n",
       "    </tr>\n",
       "    <tr>\n",
       "      <th>5960</th>\n",
       "      <td>3.113890</td>\n",
       "      <td>3.112576</td>\n",
       "    </tr>\n",
       "    <tr>\n",
       "      <th>5961</th>\n",
       "      <td>2.877986</td>\n",
       "      <td>2.886301</td>\n",
       "    </tr>\n",
       "    <tr>\n",
       "      <th>5962</th>\n",
       "      <td>3.439068</td>\n",
       "      <td>3.454011</td>\n",
       "    </tr>\n",
       "    <tr>\n",
       "      <th>5963</th>\n",
       "      <td>3.821110</td>\n",
       "      <td>3.823561</td>\n",
       "    </tr>\n",
       "    <tr>\n",
       "      <th>5964</th>\n",
       "      <td>3.166292</td>\n",
       "      <td>3.163996</td>\n",
       "    </tr>\n",
       "  </tbody>\n",
       "</table>\n",
       "<p>5965 rows × 2 columns</p>\n",
       "</div>"
      ],
      "text/plain": [
       "      DeltaRjjl  DeltaRjjlTrue\n",
       "0      3.590940       3.573337\n",
       "1      3.304816       3.324935\n",
       "2      3.335180       3.339051\n",
       "3      3.217755       3.224088\n",
       "4      3.249262       3.268276\n",
       "...         ...            ...\n",
       "5960   3.113890       3.112576\n",
       "5961   2.877986       2.886301\n",
       "5962   3.439068       3.454011\n",
       "5963   3.821110       3.823561\n",
       "5964   3.166292       3.163996\n",
       "\n",
       "[5965 rows x 2 columns]"
      ]
     },
     "execution_count": 1249,
     "metadata": {},
     "output_type": "execute_result"
    }
   ],
   "source": [
    "df_s[['DeltaRjjl', 'DeltaRjjlTrue']]"
   ]
  },
  {
   "cell_type": "code",
   "execution_count": null,
   "id": "60df05a4",
   "metadata": {},
   "outputs": [],
   "source": []
  },
  {
   "cell_type": "code",
   "execution_count": 1281,
   "id": "0c01174e",
   "metadata": {},
   "outputs": [
    {
     "data": {
      "image/png": "[encoded data removed]",
      "text/plain": [
       "<Figure size 936x360 with 1 Axes>"
      ]
     },
     "metadata": {
      "needs_background": "light"
     },
     "output_type": "display_data"
    }
   ],
   "source": [
    "plt.figure(figsize=(13,5))\n",
    "\n",
    "\n",
    "ax1 = plt.subplot(121)\n",
    "\n",
    "ax1.hist(df_s_o[(df_s_o.chargeLepTrue == -1) & (df_s_o.etaNTrue > 0) & (df_s_o.pzNTrue > 1300)]['etaLepTrue'] - df_s_o[(df_s_o.chargeLepTrue == -1) & (df_s_o.etaNTrue > 0)]['etaNTrue'], range=[-6,6], bins=20, histtype='step', density=True, alpha=0.5, lw=3, label='Lepeg leptoLep');\n",
    "ax1.hist(df_s_o[(df_s_o.chargeLepTrue == 1) & (df_s_o.etaNTrue > 0) & (df_s_o.pzNTrue > 1300)]['etaLepTrue'] - df_s_o[(df_s_o.chargeLepTrue == 1) & (df_s_o.etaNTrue > 0)]['etaNTrue'], range=[-6,6], bins=20, histtype='step', density=True, alpha=0.5, lw=3, label='pos leptoLep');\n",
    "ax1.axvline(0)\n",
    "\n",
    "ax1.legend()\n",
    "\n",
    "ax1.set_xlabel('eta of Lepton');\n",
    "\n",
    "\n",
    "\n",
    "# ax2 = plt.subplot(122)\n",
    "\n",
    "# ax2.hist(df_s_o[df_s_o.chargeLepTrue == -1]['etaJJTrue'], range=[-6,2], bins=20, histtype='step', alpha=0.5, lw=3, label='Lepeg leptoLep');\n",
    "# ax2.hist(df_s_o[df_s_o.chargeLepTrue == 1]['etaJJTrue'], range=[-6,2], bins=20, histtype='step', alpha=0.5, lw=3, label='pos leptoLep');\n",
    "# ax2.axvline(0)\n",
    "\n",
    "# ax2.legend()\n",
    "\n",
    "# ax2.set_xlabel('eta of W Jet');"
   ]
  },
  {
   "cell_type": "code",
   "execution_count": 1296,
   "id": "0365e96f",
   "metadata": {},
   "outputs": [
    {
     "data": {
      "image/png": "[encoded data removed]",
      "text/plain": [
       "<Figure size 936x360 with 2 Axes>"
      ]
     },
     "metadata": {
      "needs_background": "light"
     },
     "output_type": "display_data"
    }
   ],
   "source": [
    "plt.figure(figsize=(13,5))\n",
    "\n",
    "\n",
    "ax1 = plt.subplot(121)\n",
    "\n",
    "ax1.hist(df_s_o['etaNTrue'], range=[-6,6], bins=20, histtype='step', density=True, alpha=0.5, lw=3, label='neg lepton');\n",
    "# ax1.hist(df_s_o['etaNTrue'], range=[-6,6], bins=20, histtype='step', density=True, alpha=0.5, lw=3, label='pos lepton');\n",
    "ax1.axvline(0)\n",
    "\n",
    "# ax1.legend()\n",
    "\n",
    "ax1.set_xlabel('eta of N');\n",
    "\n",
    "\n",
    "ax2 = plt.subplot(122)\n",
    "\n",
    "ax2.hist(df_s_o['pzNTrue'], range=[0, 2000], bins=20, histtype='step', density=True, alpha=0.5, lw=3, label='neg lepton');\n",
    "# ax1.hist(df_t_o['etaNTrue'], range=[-6,6], bins=20, histtype='step', density=True, alpha=0.5, lw=3, label='pos lepton');\n",
    "# ax2.axvline(0)\n",
    "\n",
    "# ax1.legend()\n",
    "\n",
    "ax2.set_xlabel('pz of N');\n",
    "\n",
    "# ax2 = plt.subplot(122)\n",
    "\n",
    "# ax2.hist(df_s_o[df_s_o.chargeLepTrue == -1]['etaJJTrue'], range=[-6,2], bins=20, histtype='step', alpha=0.5, lw=3, label='Lepeg leptoLep');\n",
    "# ax2.hist(df_s_o[df_s_o.chargeLepTrue == 1]['etaJJTrue'], range=[-6,2], bins=20, histtype='step', alpha=0.5, lw=3, label='pos leptoLep');\n",
    "# ax2.axvline(0)\n",
    "\n",
    "# ax2.legend()\n",
    "\n",
    "# ax2.set_xlabel('eta of W Jet');"
   ]
  },
  {
   "cell_type": "code",
   "execution_count": 1295,
   "id": "b79ce86d",
   "metadata": {},
   "outputs": [
    {
     "data": {
      "image/png": "[encoded data removed]",
      "text/plain": [
       "<Figure size 936x360 with 2 Axes>"
      ]
     },
     "metadata": {
      "needs_background": "light"
     },
     "output_type": "display_data"
    }
   ],
   "source": [
    "plt.figure(figsize=(13,5))\n",
    "\n",
    "\n",
    "ax1 = plt.subplot(121)\n",
    "\n",
    "ax1.hist(df_t_o['etaNTrue'], range=[-6,6], bins=20, histtype='step', density=True, alpha=0.5, lw=3, label='neg lepton');\n",
    "# ax1.hist(df_t_o['etaNTrue'], range=[-6,6], bins=20, histtype='step', density=True, alpha=0.5, lw=3, label='pos lepton');\n",
    "ax1.axvline(0)\n",
    "\n",
    "# ax1.legend()\n",
    "\n",
    "ax1.set_xlabel('eta of N');\n",
    "\n",
    "ax2 = plt.subplot(122)\n",
    "\n",
    "ax2.hist(df_t_o['pzNTrue'], range=[0, 2000], bins=20, histtype='step', density=True, alpha=0.5, lw=3, label='neg lepton');\n",
    "# ax1.hist(df_t_o['etaNTrue'], range=[-6,6], bins=20, histtype='step', density=True, alpha=0.5, lw=3, label='pos lepton');\n",
    "# ax2.axvline(0)\n",
    "\n",
    "# ax1.legend()\n",
    "\n",
    "ax2.set_xlabel('pz of N');\n",
    "\n",
    "\n",
    "\n",
    "# ax2 = plt.subplot(122)\n",
    "\n",
    "# ax2.hist(df_t_o[df_t_o.chargeLepTrue == -1]['etaJJTrue'], range=[-6,2], bins=20, histtype='step', alpha=0.5, lw=3, label='Lepeg leptoLep');\n",
    "# ax2.hist(df_t_o[df_t_o.chargeLepTrue == 1]['etaJJTrue'], range=[-6,2], bins=20, histtype='step', alpha=0.5, lw=3, label='pos leptoLep');\n",
    "# ax2.axvline(0)\n",
    "\n",
    "# ax2.legend()\n",
    "\n",
    "# ax2.set_xlabel('eta of W Jet');"
   ]
  },
  {
   "cell_type": "code",
   "execution_count": null,
   "id": "5272014f",
   "metadata": {},
   "outputs": [],
   "source": [
    "b"
   ]
  },
  {
   "cell_type": "code",
   "execution_count": null,
   "id": "4b0bc6d5",
   "metadata": {},
   "outputs": [],
   "source": []
  },
  {
   "cell_type": "code",
   "execution_count": 1303,
   "id": "841d18ea",
   "metadata": {},
   "outputs": [
    {
     "data": {
      "image/png": "[encoded data removed]",
      "text/plain": [
       "<Figure size 936x360 with 2 Axes>"
      ]
     },
     "metadata": {
      "needs_background": "light"
     },
     "output_type": "display_data"
    }
   ],
   "source": [
    "plt.figure(figsize=(13,5))\n",
    "\n",
    "\n",
    "ax1 = plt.subplot(121)\n",
    "\n",
    "ax1.hist(df_b_o[df_b_o.chargeLep == -1]['etaLep'], range=[-3,3], bins=20, histtype='step', alpha=0.5, lw=3, label='neg lepton');\n",
    "ax1.hist(df_b_o[df_b_o.chargeLep == 1]['etaLep'], range=[-3,3], bins=20, histtype='step', alpha=0.5, lw=3, label='pos lepton');\n",
    "ax1.axvline(0)\n",
    "\n",
    "ax1.legend()\n",
    "\n",
    "ax1.set_xlabel('eta of Lepton');\n",
    "\n",
    "\n",
    "\n",
    "ax2 = plt.subplot(122)\n",
    "\n",
    "ax2.hist(df_b_o[df_b_o.chargeLep == -1]['etaJJ'], range=[-3,3], bins=20, histtype='step', alpha=0.5, lw=3, label='neg lepton');\n",
    "ax2.hist(df_b_o[df_b_o.chargeLep == 1]['etaJJ'], range=[-3,3], bins=20, histtype='step', alpha=0.5, lw=3, label='pos lepton');\n",
    "ax2.axvline(0)\n",
    "\n",
    "ax2.legend()\n",
    "\n",
    "ax2.set_xlabel('eta of W Jet');"
   ]
  },
  {
   "cell_type": "code",
   "execution_count": 1306,
   "id": "b43db889",
   "metadata": {},
   "outputs": [
    {
     "data": {
      "image/png": "[encoded data removed]",
      "text/plain": [
       "<Figure size 432x288 with 1 Axes>"
      ]
     },
     "metadata": {
      "needs_background": "light"
     },
     "output_type": "display_data"
    }
   ],
   "source": [
    "plt.hist(df_b_o[(df_b_o.chargeLep == -1) & (df_b_o.etaN > 0)]['ELep'], range=[-3,1800], bins=20, histtype='step', alpha=0.5, lw=3, label='neg lepton');\n",
    "plt.hist(df_b_o[(df_b_o.chargeLep == 1) & (df_b_o.etaN > 0)]['ELep'], range=[-3,1800], bins=20, histtype='step', alpha=0.5, lw=3, label='pos lepton');\n",
    "# plt.axvline(0)\n",
    "\n",
    "plt.legend()\n",
    "plt.title(r'$\\eta(N)>0$');\n",
    "plt.xlabel('E of Lepton');"
   ]
  },
  {
   "cell_type": "code",
   "execution_count": null,
   "id": "029a223b",
   "metadata": {},
   "outputs": [],
   "source": []
  },
  {
   "cell_type": "code",
   "execution_count": null,
   "id": "f48a9555",
   "metadata": {},
   "outputs": [],
   "source": []
  },
  {
   "cell_type": "code",
   "execution_count": null,
   "id": "388c13d9",
   "metadata": {},
   "outputs": [],
   "source": []
  },
  {
   "cell_type": "code",
   "execution_count": null,
   "id": "9e0632cf",
   "metadata": {},
   "outputs": [],
   "source": []
  },
  {
   "cell_type": "code",
   "execution_count": null,
   "id": "adc619e3",
   "metadata": {},
   "outputs": [],
   "source": []
  },
  {
   "cell_type": "code",
   "execution_count": 12,
   "id": "522b2be6",
   "metadata": {},
   "outputs": [
    {
     "data": {
      "image/png": "[encoded data removed]",
      "text/plain": [
       "<Figure size 432x288 with 1 Axes>"
      ]
     },
     "metadata": {
      "needs_background": "light"
     },
     "output_type": "display_data"
    }
   ],
   "source": [
    "plt.hist(df_t_o[df_t_o.chargeLepTrue == -1]['etaNTrue'], range=[-7,7], bins=20, histtype='step', alpha=0.5, lw=3, label='neg lepton');\n",
    "plt.hist(df_t_o[df_t_o.chargeLepTrue == 1]['etaNTrue'], range=[-7,7], bins=20, histtype='step', alpha=0.5, lw=3, label='pos lepton');\n",
    "plt.axvline(0)\n",
    "\n",
    "plt.legend()\n",
    "\n",
    "plt.xlabel('eta of N (t_channel)');"
   ]
  },
  {
   "cell_type": "code",
   "execution_count": 15,
   "id": "ef1a071a",
   "metadata": {},
   "outputs": [
    {
     "data": {
      "image/png": "[encoded data removed]",
      "text/plain": [
       "<Figure size 432x288 with 1 Axes>"
      ]
     },
     "metadata": {
      "needs_background": "light"
     },
     "output_type": "display_data"
    }
   ],
   "source": [
    "plt.hist(df_s_o[df_s_o.chargeLepTrue == -1]['etaNTrue'], range=[-7,7], bins=20, histtype='step', alpha=0.5, lw=3, label='neg lepton');\n",
    "plt.hist(df_s_o[df_s_o.chargeLepTrue == 1]['etaNTrue'], range=[-7,7], bins=20, histtype='step', alpha=0.5, lw=3, label='pos lepton');\n",
    "plt.axvline(0)\n",
    "\n",
    "plt.legend()\n",
    "\n",
    "plt.xlabel('eta of N (t_channel)');"
   ]
  },
  {
   "cell_type": "code",
   "execution_count": 16,
   "id": "e4f95c4a",
   "metadata": {},
   "outputs": [
    {
     "data": {
      "image/png": "[encoded data removed]",
      "text/plain": [
       "<Figure size 936x360 with 2 Axes>"
      ]
     },
     "metadata": {
      "needs_background": "light"
     },
     "output_type": "display_data"
    }
   ],
   "source": [
    "plt.figure(figsize=(13,5))\n",
    "\n",
    "\n",
    "ax1 = plt.subplot(121)\n",
    "\n",
    "ax1.hist(df_t_o[df_t_o.chargeLepTrue == -1]['etaLepTrue'], range=[-3,3], bins=20, histtype='step', alpha=0.5, lw=3, label='Lepeg leptoLep');\n",
    "ax1.hist(df_t_o[df_t_o.chargeLepTrue == 1]['etaLepTrue'], range=[-3,3], bins=20, histtype='step', alpha=0.5, lw=3, label='pos leptoLep');\n",
    "ax1.axvline(0)\n",
    "\n",
    "ax1.legend()\n",
    "\n",
    "ax1.set_xlabel('eta of Lepton (t_channel)');\n",
    "\n",
    "\n",
    "\n",
    "ax2 = plt.subplot(122)\n",
    "\n",
    "ax2.hist(df_t_o[df_t_o.chargeLepTrue == -1]['etaJJTrue'], range=[-3,3], bins=20, histtype='step', alpha=0.5, lw=3, label='Lepeg leptoLep');\n",
    "ax2.hist(df_t_o[df_t_o.chargeLepTrue == 1]['etaJJTrue'], range=[-3,3], bins=20, histtype='step', alpha=0.5, lw=3, label='pos leptoLep');\n",
    "ax2.axvline(0)\n",
    "\n",
    "ax2.legend()\n",
    "\n",
    "ax2.set_xlabel('eta of W Jet (t_channel)');"
   ]
  },
  {
   "cell_type": "code",
   "execution_count": 20,
   "id": "57a6c214",
   "metadata": {},
   "outputs": [
    {
     "data": {
      "image/png": "[encoded data removed]",
      "text/plain": [
       "<Figure size 936x360 with 2 Axes>"
      ]
     },
     "metadata": {
      "needs_background": "light"
     },
     "output_type": "display_data"
    }
   ],
   "source": [
    "plt.figure(figsize=(13,5))\n",
    "\n",
    "\n",
    "ax1 = plt.subplot(121)\n",
    "\n",
    "ax1.hist(df_s_o[df_s_o.chargeLepTrue == -1]['etaLepTrue'], range=[-3,3], bins=20, histtype='step', alpha=0.5, lw=3, label='Lepeg leptoLep');\n",
    "ax1.hist(df_s_o[df_s_o.chargeLepTrue == 1]['etaLepTrue'], range=[-3,3], bins=20, histtype='step', alpha=0.5, lw=3, label='pos leptoLep');\n",
    "ax1.axvline(0)\n",
    "\n",
    "ax1.legend()\n",
    "\n",
    "ax1.set_xlabel('eta of Lepton (t_channel)');\n",
    "\n",
    "\n",
    "\n",
    "ax2 = plt.subplot(122)\n",
    "\n",
    "ax2.hist(df_s_o[df_s_o.chargeLepTrue == -1]['etaJJTrue'], range=[-3,3], bins=20, histtype='step', alpha=0.5, lw=3, label='Lepeg leptoLep');\n",
    "ax2.hist(df_s_o[df_s_o.chargeLepTrue == 1]['etaJJTrue'], range=[-3,3], bins=20, histtype='step', alpha=0.5, lw=3, label='pos leptoLep');\n",
    "ax2.axvline(0)\n",
    "\n",
    "ax2.legend()\n",
    "\n",
    "ax2.set_xlabel('eta of W Jet (s_channel)');"
   ]
  },
  {
   "cell_type": "code",
   "execution_count": null,
   "id": "7303bd9e",
   "metadata": {},
   "outputs": [],
   "source": []
  },
  {
   "cell_type": "code",
   "execution_count": null,
   "id": "4671b2bf",
   "metadata": {},
   "outputs": [],
   "source": []
  },
  {
   "cell_type": "code",
   "execution_count": 18,
   "id": "09ee5d1b",
   "metadata": {},
   "outputs": [
    {
     "data": {
      "image/png": "[encoded data removed]",
      "text/plain": [
       "<Figure size 432x288 with 1 Axes>"
      ]
     },
     "metadata": {
      "needs_background": "light"
     },
     "output_type": "display_data"
    }
   ],
   "source": [
    "plt.hist(df_t_o[(df_t_o.chargeLepTrue == -1) & (df_t_o.etaNTrue > 0)]['ELepTrue'], range=[-3,1800], bins=20, histtype='step', alpha=0.5, lw=3, label='neg lepton');\n",
    "plt.hist(df_t_o[(df_t_o.chargeLepTrue == 1) & (df_t_o.etaNTrue > 0)]['ELepTrue'], range=[-3,1800], bins=20, histtype='step', alpha=0.5, lw=3, label='pos lepton');\n",
    "# plt.axvline(0)\n",
    "\n",
    "plt.legend()\n",
    "plt.title(r'$\\eta(N)>0$');\n",
    "plt.xlabel('E of Lepton (t_channel)');"
   ]
  },
  {
   "cell_type": "code",
   "execution_count": 19,
   "id": "e3c07695",
   "metadata": {},
   "outputs": [
    {
     "data": {
      "image/png": "[encoded data removed]",
      "text/plain": [
       "<Figure size 432x288 with 1 Axes>"
      ]
     },
     "metadata": {
      "needs_background": "light"
     },
     "output_type": "display_data"
    }
   ],
   "source": [
    "plt.hist(df_s_o[(df_s_o.chargeLepTrue == -1) & (df_s_o.etaNTrue > 0)]['ELepTrue'], range=[-3,1800], bins=20, histtype='step', alpha=0.5, lw=3, label='neg lepton');\n",
    "plt.hist(df_s_o[(df_s_o.chargeLepTrue == 1) & (df_s_o.etaNTrue > 0)]['ELepTrue'], range=[-3,1800], bins=20, histtype='step', alpha=0.5, lw=3, label='pos lepton');\n",
    "# plt.axvline(0)\n",
    "\n",
    "plt.legend()\n",
    "plt.title(r'$\\eta(N)>0$');\n",
    "plt.xlabel('E of Lepton (s_channel)');"
   ]
  },
  {
   "cell_type": "code",
   "execution_count": null,
   "id": "f020e203",
   "metadata": {},
   "outputs": [],
   "source": []
  },
  {
   "cell_type": "code",
   "execution_count": 21,
   "id": "ca1572e0",
   "metadata": {},
   "outputs": [
    {
     "ename": "KeyError",
     "evalue": "'pzLepTrue'",
     "output_type": "error",
     "traceback": [
      "\u001b[0;31m---------------------------------------------------------------------------\u001b[0m",
      "\u001b[0;31mKeyError\u001b[0m                                  Traceback (most recent call last)",
      "File \u001b[0;32m/usr/lib/python3.10/site-packages/pandas/core/indexes/base.py:3621\u001b[0m, in \u001b[0;36mIndex.get_loc\u001b[0;34m(self, key, method, tolerance)\u001b[0m\n\u001b[1;32m   3620\u001b[0m \u001b[38;5;28;01mtry\u001b[39;00m:\n\u001b[0;32m-> 3621\u001b[0m     \u001b[38;5;28;01mreturn\u001b[39;00m \u001b[38;5;28;43mself\u001b[39;49m\u001b[38;5;241;43m.\u001b[39;49m\u001b[43m_engine\u001b[49m\u001b[38;5;241;43m.\u001b[39;49m\u001b[43mget_loc\u001b[49m\u001b[43m(\u001b[49m\u001b[43mcasted_key\u001b[49m\u001b[43m)\u001b[49m\n\u001b[1;32m   3622\u001b[0m \u001b[38;5;28;01mexcept\u001b[39;00m \u001b[38;5;167;01mKeyError\u001b[39;00m \u001b[38;5;28;01mas\u001b[39;00m err:\n",
      "File \u001b[0;32m/usr/lib/python3.10/site-packages/pandas/_libs/index.pyx:136\u001b[0m, in \u001b[0;36mpandas._libs.index.IndexEngine.get_loc\u001b[0;34m()\u001b[0m\n",
      "File \u001b[0;32m/usr/lib/python3.10/site-packages/pandas/_libs/index.pyx:163\u001b[0m, in \u001b[0;36mpandas._libs.index.IndexEngine.get_loc\u001b[0;34m()\u001b[0m\n",
      "File \u001b[0;32mpandas/_libs/hashtable_class_helper.pxi:5198\u001b[0m, in \u001b[0;36mpandas._libs.hashtable.PyObjectHashTable.get_item\u001b[0;34m()\u001b[0m\n",
      "File \u001b[0;32mpandas/_libs/hashtable_class_helper.pxi:5206\u001b[0m, in \u001b[0;36mpandas._libs.hashtable.PyObjectHashTable.get_item\u001b[0;34m()\u001b[0m\n",
      "\u001b[0;31mKeyError\u001b[0m: 'pzLepTrue'",
      "\nThe above exception was the direct cause of the following exception:\n",
      "\u001b[0;31mKeyError\u001b[0m                                  Traceback (most recent call last)",
      "Input \u001b[0;32mIn [21]\u001b[0m, in \u001b[0;36m<cell line: 1>\u001b[0;34m()\u001b[0m\n\u001b[0;32m----> 1\u001b[0m plt\u001b[38;5;241m.\u001b[39mhist(\u001b[43mdf_t_o\u001b[49m\u001b[43m[\u001b[49m\u001b[43m(\u001b[49m\u001b[43mdf_t_o\u001b[49m\u001b[38;5;241;43m.\u001b[39;49m\u001b[43mchargeLepTrue\u001b[49m\u001b[43m \u001b[49m\u001b[38;5;241;43m==\u001b[39;49m\u001b[43m \u001b[49m\u001b[38;5;241;43m-\u001b[39;49m\u001b[38;5;241;43m1\u001b[39;49m\u001b[43m)\u001b[49m\u001b[43m \u001b[49m\u001b[38;5;241;43m&\u001b[39;49m\u001b[43m \u001b[49m\u001b[43m(\u001b[49m\u001b[43mdf_t_o\u001b[49m\u001b[38;5;241;43m.\u001b[39;49m\u001b[43metaNTrue\u001b[49m\u001b[43m \u001b[49m\u001b[38;5;241;43m>\u001b[39;49m\u001b[43m \u001b[49m\u001b[38;5;241;43m0\u001b[39;49m\u001b[43m)\u001b[49m\u001b[43m]\u001b[49m\u001b[43m[\u001b[49m\u001b[38;5;124;43m'\u001b[39;49m\u001b[38;5;124;43mpzLepTrue\u001b[39;49m\u001b[38;5;124;43m'\u001b[39;49m\u001b[43m]\u001b[49m, \u001b[38;5;28mrange\u001b[39m\u001b[38;5;241m=\u001b[39m[\u001b[38;5;241m-\u001b[39m\u001b[38;5;241m3\u001b[39m,\u001b[38;5;241m1800\u001b[39m], bins\u001b[38;5;241m=\u001b[39m\u001b[38;5;241m20\u001b[39m, histtype\u001b[38;5;241m=\u001b[39m\u001b[38;5;124m'\u001b[39m\u001b[38;5;124mstep\u001b[39m\u001b[38;5;124m'\u001b[39m, alpha\u001b[38;5;241m=\u001b[39m\u001b[38;5;241m0.5\u001b[39m, lw\u001b[38;5;241m=\u001b[39m\u001b[38;5;241m3\u001b[39m, label\u001b[38;5;241m=\u001b[39m\u001b[38;5;124m'\u001b[39m\u001b[38;5;124mneg lepton\u001b[39m\u001b[38;5;124m'\u001b[39m);\n\u001b[1;32m      2\u001b[0m plt\u001b[38;5;241m.\u001b[39mhist(df_t_o[(df_t_o\u001b[38;5;241m.\u001b[39mchargeLepTrue \u001b[38;5;241m==\u001b[39m \u001b[38;5;241m1\u001b[39m) \u001b[38;5;241m&\u001b[39m (df_t_o\u001b[38;5;241m.\u001b[39metaNTrue \u001b[38;5;241m>\u001b[39m \u001b[38;5;241m0\u001b[39m)][\u001b[38;5;124m'\u001b[39m\u001b[38;5;124mpzLepTrue\u001b[39m\u001b[38;5;124m'\u001b[39m], \u001b[38;5;28mrange\u001b[39m\u001b[38;5;241m=\u001b[39m[\u001b[38;5;241m-\u001b[39m\u001b[38;5;241m3\u001b[39m,\u001b[38;5;241m1800\u001b[39m], bins\u001b[38;5;241m=\u001b[39m\u001b[38;5;241m20\u001b[39m, histtype\u001b[38;5;241m=\u001b[39m\u001b[38;5;124m'\u001b[39m\u001b[38;5;124mstep\u001b[39m\u001b[38;5;124m'\u001b[39m, alpha\u001b[38;5;241m=\u001b[39m\u001b[38;5;241m0.5\u001b[39m, lw\u001b[38;5;241m=\u001b[39m\u001b[38;5;241m3\u001b[39m, label\u001b[38;5;241m=\u001b[39m\u001b[38;5;124m'\u001b[39m\u001b[38;5;124mpos lepton\u001b[39m\u001b[38;5;124m'\u001b[39m);\n\u001b[1;32m      3\u001b[0m \u001b[38;5;66;03m# plt.axvline(0)\u001b[39;00m\n",
      "File \u001b[0;32m/usr/lib/python3.10/site-packages/pandas/core/frame.py:3505\u001b[0m, in \u001b[0;36mDataFrame.__getitem__\u001b[0;34m(self, key)\u001b[0m\n\u001b[1;32m   3503\u001b[0m \u001b[38;5;28;01mif\u001b[39;00m \u001b[38;5;28mself\u001b[39m\u001b[38;5;241m.\u001b[39mcolumns\u001b[38;5;241m.\u001b[39mnlevels \u001b[38;5;241m>\u001b[39m \u001b[38;5;241m1\u001b[39m:\n\u001b[1;32m   3504\u001b[0m     \u001b[38;5;28;01mreturn\u001b[39;00m \u001b[38;5;28mself\u001b[39m\u001b[38;5;241m.\u001b[39m_getitem_multilevel(key)\n\u001b[0;32m-> 3505\u001b[0m indexer \u001b[38;5;241m=\u001b[39m \u001b[38;5;28;43mself\u001b[39;49m\u001b[38;5;241;43m.\u001b[39;49m\u001b[43mcolumns\u001b[49m\u001b[38;5;241;43m.\u001b[39;49m\u001b[43mget_loc\u001b[49m\u001b[43m(\u001b[49m\u001b[43mkey\u001b[49m\u001b[43m)\u001b[49m\n\u001b[1;32m   3506\u001b[0m \u001b[38;5;28;01mif\u001b[39;00m is_integer(indexer):\n\u001b[1;32m   3507\u001b[0m     indexer \u001b[38;5;241m=\u001b[39m [indexer]\n",
      "File \u001b[0;32m/usr/lib/python3.10/site-packages/pandas/core/indexes/base.py:3623\u001b[0m, in \u001b[0;36mIndex.get_loc\u001b[0;34m(self, key, method, tolerance)\u001b[0m\n\u001b[1;32m   3621\u001b[0m     \u001b[38;5;28;01mreturn\u001b[39;00m \u001b[38;5;28mself\u001b[39m\u001b[38;5;241m.\u001b[39m_engine\u001b[38;5;241m.\u001b[39mget_loc(casted_key)\n\u001b[1;32m   3622\u001b[0m \u001b[38;5;28;01mexcept\u001b[39;00m \u001b[38;5;167;01mKeyError\u001b[39;00m \u001b[38;5;28;01mas\u001b[39;00m err:\n\u001b[0;32m-> 3623\u001b[0m     \u001b[38;5;28;01mraise\u001b[39;00m \u001b[38;5;167;01mKeyError\u001b[39;00m(key) \u001b[38;5;28;01mfrom\u001b[39;00m \u001b[38;5;21;01merr\u001b[39;00m\n\u001b[1;32m   3624\u001b[0m \u001b[38;5;28;01mexcept\u001b[39;00m \u001b[38;5;167;01mTypeError\u001b[39;00m:\n\u001b[1;32m   3625\u001b[0m     \u001b[38;5;66;03m# If we have a listlike key, _check_indexing_error will raise\u001b[39;00m\n\u001b[1;32m   3626\u001b[0m     \u001b[38;5;66;03m#  InvalidIndexError. Otherwise we fall through and re-raise\u001b[39;00m\n\u001b[1;32m   3627\u001b[0m     \u001b[38;5;66;03m#  the TypeError.\u001b[39;00m\n\u001b[1;32m   3628\u001b[0m     \u001b[38;5;28mself\u001b[39m\u001b[38;5;241m.\u001b[39m_check_indexing_error(key)\n",
      "\u001b[0;31mKeyError\u001b[0m: 'pzLepTrue'"
     ]
    }
   ],
   "source": [
    "plt.hist(df_t_o[(df_t_o.chargeLepTrue == -1) & (df_t_o.etaNTrue > 0)]['pzLepTrue'], range=[-3,1800], bins=20, histtype='step', alpha=0.5, lw=3, label='neg lepton');\n",
    "plt.hist(df_t_o[(df_t_o.chargeLepTrue == 1) & (df_t_o.etaNTrue > 0)]['pzLepTrue'], range=[-3,1800], bins=20, histtype='step', alpha=0.5, lw=3, label='pos lepton');\n",
    "# plt.axvline(0)\n",
    "\n",
    "plt.legend()\n",
    "plt.title(r'$\\eta(N)>0$');\n",
    "plt.xlabel('E of Lepton (t_channel)');"
   ]
  },
  {
   "cell_type": "code",
   "execution_count": null,
   "id": "d6f5478d",
   "metadata": {},
   "outputs": [],
   "source": []
  },
  {
   "cell_type": "code",
   "execution_count": 19,
   "id": "b1855de3",
   "metadata": {},
   "outputs": [
    {
     "data": {
      "image/png": "[encoded data removed]",
      "text/plain": [
       "<Figure size 576x432 with 1 Axes>"
      ]
     },
     "metadata": {
      "needs_background": "light"
     },
     "output_type": "display_data"
    }
   ],
   "source": [
    "\n",
    "f = plt.figure(figsize=(8,6))\n",
    "ax2 = plt.subplot(111)\n",
    "\n",
    "range_ = [0, 2300]\n",
    "\n",
    "col = 'm'\n",
    "particle = 'N'\n",
    "\n",
    "\n",
    "ax2.hist(df_sM[col+particle], weights=[1/len(df_sM)]*len(df_sM), bins=25, range=range_, histtype='step', alpha=0.5, lw=3, label='s-ch (M)', color='C0');\n",
    "ax2.hist(df_tM[col+particle], weights=[1/len(df_tM)]*len(df_tM), bins=25, range=range_, histtype='step', alpha=0.5, lw=3, label='t-ch (M)', color='C1');\n",
    "ax2.hist(df_sD[col+particle], weights=[1/len(df_sD)]*len(df_sD), bins=25, range=range_, histtype='step', alpha=0.5, lw=3, label='s-ch (D)', color='C0', linestyle='--');\n",
    "ax2.hist(df_tD[col+particle], weights=[1/len(df_tD)]*len(df_tD), bins=25, range=range_, histtype='step', alpha=0.5, lw=3, label='t-ch (D)', color='C1', linestyle='--');\n",
    "ax2.hist(df_b[col+particle], weights=[1/len(df_b)]*len(df_b), bins=25, range=range_, histtype='step', alpha=0.5, lw=3, label='Background', color='C2');\n",
    "\n",
    "\n",
    "ax2.set_ylabel('Normlized distribution', fontsize=20)\n",
    "ax2.set_xlabel(r'$m_N ~[\\rmGeV]$', fontsize=20)\n",
    "ax2.set_yticks([])\n",
    "ax2.legend(loc=1, fontsize=20)\n",
    "\n",
    "\n",
    "f.savefig('../figures/mN')"
   ]
  },
  {
   "cell_type": "code",
   "execution_count": null,
   "id": "2ce75069",
   "metadata": {},
   "outputs": [],
   "source": []
  }
 ],
 "metadata": {
  "kernelspec": {
   "display_name": "Python 3 (ipykernel)",
   "language": "python",
   "name": "python3"
  },
  "language_info": {
   "codemirror_mode": {
    "name": "ipython",
    "version": 3
   },
   "file_extension": ".py",
   "mimetype": "text/x-python",
   "name": "python",
   "nbconvert_exporter": "python",
   "pygments_lexer": "ipython3",
   "version": "3.10.2"
  }
 },
 "nbformat": 4,
 "nbformat_minor": 5
}
