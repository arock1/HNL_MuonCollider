{
 "cells": [
  {
   "cell_type": "code",
   "execution_count": 17,
   "id": "4ab6c22a",
   "metadata": {},
   "outputs": [
    {
     "name": "stderr",
     "output_type": "stream",
     "text": [
      "/home/anson/.local/lib/python3.10/site-packages/xgboost/compat.py:36: FutureWarning: pandas.Int64Index is deprecated and will be removed from pandas in a future version. Use pandas.Index with the appropriate dtype instead.\n",
      "  from pandas import MultiIndex, Int64Index\n"
     ]
    }
   ],
   "source": [
    "import uproot\n",
    "import pandas as pd\n",
    "import numpy as np\n",
    "import matplotlib.pyplot as plt\n",
    "import xgboost as xgb\n",
    "\n",
    "import warnings\n",
    "warnings.filterwarnings(\"ignore\")"
   ]
  },
  {
   "cell_type": "code",
   "execution_count": 32,
   "id": "b7b2397f",
   "metadata": {},
   "outputs": [],
   "source": [
    "cm = 3\n",
    "mN = 1\n",
    "\n",
    "# V2 = 1e-4\n",
    "V2 = 1\n",
    "\n",
    "modes_dt = {0: {'mode': f'../features_ISR/bg_2W_E-{cm}_reco.root', 'yields': 1.80e4}, \n",
    "            1: {'mode': f'../features_ISR/bg_sZ_E-{cm}_reco.root', 'yields': 1.76e2*V2},\n",
    "#             2: {'mode': f'../features_ISR/signal_tchannel_reco_E-{cm}TeV_N-{mN}TeV.root', 'yields': 1.18e6*V2}\n",
    "           }"
   ]
  },
  {
   "cell_type": "code",
   "execution_count": 33,
   "id": "48d29db0",
   "metadata": {},
   "outputs": [],
   "source": [
    "def load_train_test(modes_dt, size=0.5):\n",
    "    np.random.seed(9)\n",
    "    df_train = pd.DataFrame()\n",
    "    df_test = pd.DataFrame()\n",
    "    num_lt = []\n",
    "    \n",
    "    # loop over different modes\n",
    "    for i, (k, v) in enumerate(modes_dt.items()):\n",
    "        file = uproot.open(v['mode'])\n",
    "        df_i = pd.DataFrame(np.array(file['t']['features'].array()))\n",
    "        df_i['target'] = i    # add the target label\n",
    "        df_i['weight'] = v['yields']/len(df_i)\n",
    "        num_lt.append(len(df_i))\n",
    "\n",
    "        # shuffle the index for training and testing sets\n",
    "        idx = df_i.index.tolist()\n",
    "        np.random.shuffle(idx)\n",
    "        \n",
    "        # cut according to the fraction\n",
    "        cut = int(np.ceil(len(idx) * size))\n",
    "        df_train_i = df_i.loc[idx[:cut]]\n",
    "        df_test_i = df_i.loc[idx[cut:]]\n",
    "        \n",
    "        # Put to the global dataframs\n",
    "        df_train = pd.concat([df_train, df_train_i])\n",
    "        df_test = pd.concat([df_test, df_test_i])\n",
    "    \n",
    "    df_train.reset_index(drop=True, inplace=True)\n",
    "    df_test.reset_index(drop=True, inplace=True)\n",
    "    \n",
    "    print('train size: {} ({:.2f}%); test size: {} ({:.2f}%)'.format(len(df_train), 100*len(df_train)/(len(df_train)+len(df_test)), len(df_test), 100*len(df_test)/(len(df_train)+len(df_test))))\n",
    "    print('data points per mode: ',num_lt)\n",
    "    return df_train, df_test\n",
    "\n",
    "    "
   ]
  },
  {
   "cell_type": "code",
   "execution_count": 34,
   "id": "670e8ffa",
   "metadata": {},
   "outputs": [
    {
     "name": "stdout",
     "output_type": "stream",
     "text": [
      "train size: 25739 (50.00%); test size: 25738 (50.00%)\n",
      "data points per mode:  [22458, 29019]\n"
     ]
    }
   ],
   "source": [
    "tr_te_size = 0.5 \n",
    "df_train, df_test = load_train_test(modes_dt, tr_te_size)"
   ]
  },
  {
   "cell_type": "code",
   "execution_count": 35,
   "id": "7d8f2695",
   "metadata": {},
   "outputs": [
    {
     "data": {
      "text/plain": [
       "Index(['iEvt', 'ptLep', 'etaLep', 'phiLep', 'ELep', 'pxLep', 'pyLep', 'pzLep',\n",
       "       'typeLep', 'typeLep2', 'ptJet1', 'etaJet1', 'phiJet1', 'EJet1',\n",
       "       'ptJet2', 'etaJet2', 'phiJet2', 'EJet2', 'DeltaPhijjl', 'DeltaRjj',\n",
       "       'DeltaRjjl', 'nJets', 'ptJJ', 'etaJJ', 'phiJJ', 'mJJ', 'mN', 'ptN',\n",
       "       'etaN', 'phiN', 'pxN', 'pyN', 'pzN', 'chargeLep', 'MET', 'pTheta',\n",
       "       'MinPtLep', 'DeltaPhiNMET', 'ptLepTrue', 'etaLepTrue', 'phiLepTrue',\n",
       "       'ELepTrue', 'ptJet1True', 'etaJet1True', 'phiJet1True', 'EJet1True',\n",
       "       'ptJet2True', 'etaJet2True', 'phiJet2True', 'EJet2True', 'DeltaRjjTrue',\n",
       "       'DeltaRjjlTrue', 'ptJJTrue', 'etaJJTrue', 'phiJJTrue', 'mJJTrue',\n",
       "       'mNTrue', 'ptNTrue', 'etaNTrue', 'phiNTrue', 'ENTrue', 'pzNTrue',\n",
       "       'chargeLepTrue', 'typeLepTrue', 'pxLepTrue', 'pyLepTrue', 'pzLepTrue',\n",
       "       'pxNTrue', 'pyNTrue', 'bkgPIDV1', 'bkgPIDV2', 'target', 'weight'],\n",
       "      dtype='object')"
      ]
     },
     "execution_count": 35,
     "metadata": {},
     "output_type": "execute_result"
    }
   ],
   "source": [
    "df_train.columns"
   ]
  },
  {
   "cell_type": "code",
   "execution_count": 40,
   "id": "b8622c31",
   "metadata": {},
   "outputs": [
    {
     "data": {
      "image/png": "[encoded data removed]",
      "text/plain": [
       "<Figure size 432x288 with 1 Axes>"
      ]
     },
     "metadata": {
      "needs_background": "light"
     },
     "output_type": "display_data"
    }
   ],
   "source": [
    "bins_=20\n",
    "range_=[0, 3000]\n",
    "plt.hist(df_train[df_train.target==1].mN, density=True, bins=bins_, range=range_, histtype='step');\n",
    "plt.hist(df_train[df_train.target==0].mN, density=True, bins=bins_, range=range_, histtype='step');"
   ]
  },
  {
   "cell_type": "code",
   "execution_count": 41,
   "id": "ecf2a64d",
   "metadata": {},
   "outputs": [
    {
     "data": {
      "image/png": "[encoded data removed]",
      "text/plain": [
       "<Figure size 432x288 with 1 Axes>"
      ]
     },
     "metadata": {
      "needs_background": "light"
     },
     "output_type": "display_data"
    }
   ],
   "source": [
    "bins_=20\n",
    "range_=[-1500, 1500]\n",
    "plt.hist(df_train[df_train.target==0].pzN, bins=bins_, range=range_, histtype='step');"
   ]
  },
  {
   "cell_type": "code",
   "execution_count": null,
   "id": "d4d0ea03",
   "metadata": {},
   "outputs": [],
   "source": []
  }
 ],
 "metadata": {
  "kernelspec": {
   "display_name": "Python 3 (ipykernel)",
   "language": "python",
   "name": "python3"
  },
  "language_info": {
   "codemirror_mode": {
    "name": "ipython",
    "version": 3
   },
   "file_extension": ".py",
   "mimetype": "text/x-python",
   "name": "python",
   "nbconvert_exporter": "python",
   "pygments_lexer": "ipython3",
   "version": "3.10.2"
  }
 },
 "nbformat": 4,
 "nbformat_minor": 5
}
