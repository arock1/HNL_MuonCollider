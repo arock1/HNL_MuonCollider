{
 "cells": [
  {
   "cell_type": "code",
   "execution_count": 71,
   "id": "23e36f82",
   "metadata": {},
   "outputs": [],
   "source": [
    "import uproot\n",
    "import pandas as pd\n",
    "import numpy as np\n",
    "import matplotlib.pyplot as plt\n",
    "\n",
    "import warnings\n",
    "warnings.filterwarnings(\"ignore\")"
   ]
  },
  {
   "cell_type": "code",
   "execution_count": 72,
   "id": "a5e86e98",
   "metadata": {},
   "outputs": [],
   "source": [
    "cm = 3\n",
    "mN1 = 1\n",
    "mN1_str = ''.join(str(mN1).split('.'))\n",
    "\n",
    "i_file = uproot.open(f'../features/signal_reco_E-{cm}TeV_N-{mN1_str}TeV.root')\n",
    "s_file = uproot.open(f'../features/signal_schannel_reco_E-{cm}TeV_N-{mN1_str}TeV.root')\n",
    "t_file = uproot.open(f'../features/signal_tchannel_reco_E-{cm}TeV_N-{mN1_str}TeV.root')\n",
    "b_file = uproot.open(f'../features/background_reco_E-{cm}TeV.root')\n",
    "\n"
   ]
  },
  {
   "cell_type": "code",
   "execution_count": 73,
   "id": "c91f4c2a",
   "metadata": {},
   "outputs": [],
   "source": [
    "df_i = pd.DataFrame(np.array(i_file['t']['features'].array()))\n",
    "df_s = pd.DataFrame(np.array(s_file['t']['features'].array()))\n",
    "df_t = pd.DataFrame(np.array(t_file['t']['features'].array()))\n",
    "df_b = pd.DataFrame(np.array(b_file['t']['features'].array()))\n",
    "\n",
    "df_i['target']=9\n",
    "df_s['target']=1\n",
    "df_t['target']=2\n",
    "df_b['target']=0\n",
    "\n",
    "df = pd.concat([df_s, df_t, df_b])\n",
    "dfI = pd.concat([df_i, df_b])\n",
    "df_o = df.copy()\n",
    "dfI_o = dfI.copy()\n",
    "\n",
    "df_i_o = df_i.copy()\n",
    "df_s_o = df_s.copy()\n",
    "df_t_o = df_t.copy()\n",
    "df_b_o = df_b.copy()\n"
   ]
  },
  {
   "cell_type": "code",
   "execution_count": 74,
   "id": "d20cafb8",
   "metadata": {},
   "outputs": [],
   "source": [
    "df_VV = df_b[df_b.bkgPIDV1 != 99999][['iEvt', 'bkgPIDV1', 'bkgPIDV2']]"
   ]
  },
  {
   "cell_type": "code",
   "execution_count": 75,
   "id": "2cf5ddd6",
   "metadata": {},
   "outputs": [
    {
     "data": {
      "text/plain": [
       "32"
      ]
     },
     "execution_count": 75,
     "metadata": {},
     "output_type": "execute_result"
    }
   ],
   "source": [
    "len(df_VV)"
   ]
  },
  {
   "cell_type": "code",
   "execution_count": 78,
   "id": "86cbacf3",
   "metadata": {},
   "outputs": [
    {
     "name": "stdout",
     "output_type": "stream",
     "text": [
      "Lepton from W, Jet from W:  29\n"
     ]
    }
   ],
   "source": [
    "print(\"Lepton from W, Jet from W: \", \n",
    "      len(df_b[(abs(df_b.bkgPIDV1) == 24) & (abs(df_b.bkgPIDV2) == 24)][['iEvt', 'bkgPIDV1', 'bkgPIDV2']]))"
   ]
  },
  {
   "cell_type": "code",
   "execution_count": 79,
   "id": "84f7130b",
   "metadata": {},
   "outputs": [
    {
     "name": "stdout",
     "output_type": "stream",
     "text": [
      "Lepton from Z, Jet from W:  2\n"
     ]
    }
   ],
   "source": [
    "print(\"Lepton from Z, Jet from W: \", \n",
    "      len(df_b[(abs(df_b.bkgPIDV1) == 23) & (abs(df_b.bkgPIDV2) == 24)][['iEvt', 'bkgPIDV1', 'bkgPIDV2']]))"
   ]
  },
  {
   "cell_type": "code",
   "execution_count": null,
   "id": "3d7f8dfd",
   "metadata": {},
   "outputs": [],
   "source": []
  },
  {
   "cell_type": "code",
   "execution_count": 80,
   "id": "5485f393",
   "metadata": {},
   "outputs": [
    {
     "data": {
      "text/plain": [
       "(13, 527)"
      ]
     },
     "execution_count": 80,
     "metadata": {},
     "output_type": "execute_result"
    }
   ],
   "source": [
    "len(df_b[df_b.typeLep == 11]), len(df_b[df_b.typeLep == 13])"
   ]
  },
  {
   "cell_type": "code",
   "execution_count": null,
   "id": "09561cb6",
   "metadata": {},
   "outputs": [],
   "source": []
  },
  {
   "cell_type": "code",
   "execution_count": null,
   "id": "39ee7cab",
   "metadata": {},
   "outputs": [],
   "source": []
  }
 ],
 "metadata": {
  "kernelspec": {
   "display_name": "Python 3 (ipykernel)",
   "language": "python",
   "name": "python3"
  },
  "language_info": {
   "codemirror_mode": {
    "name": "ipython",
    "version": 3
   },
   "file_extension": ".py",
   "mimetype": "text/x-python",
   "name": "python",
   "nbconvert_exporter": "python",
   "pygments_lexer": "ipython3",
   "version": "3.10.2"
  }
 },
 "nbformat": 4,
 "nbformat_minor": 5
}
