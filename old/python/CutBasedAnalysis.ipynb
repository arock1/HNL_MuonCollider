{
 "cells": [
  {
   "cell_type": "code",
   "execution_count": 48,
   "id": "0fa37e8d",
   "metadata": {},
   "outputs": [],
   "source": [
    "import uproot\n",
    "import pandas as pd\n",
    "import numpy as np\n",
    "import matplotlib.pyplot as plt\n",
    "import xgboost as xgb\n",
    "\n",
    "import warnings\n",
    "warnings.filterwarnings(\"ignore\")"
   ]
  },
  {
   "cell_type": "code",
   "execution_count": 49,
   "id": "8bb4577f",
   "metadata": {},
   "outputs": [],
   "source": [
    "cm = 3\n",
    "mN = 1\n",
    "\n",
    "V2 = 1\n",
    "\n",
    "modes_dt = {1: {'mode': f'../features/signal_tchannel_reco_E-{cm}TeV_N-{mN}TeV.root', 'yields': 1.17e7*V2},\n",
    "            2: {'mode': f'../features/signal_schannel_reco_E-{cm}TeV_N-{mN}TeV.root', 'yields': 1.75e3*V2}, \n",
    "            3: {'mode': f'../features/signal_tchannel_reco_E-{cm}TeV_N-{mN}TeV_Dirac.root', 'yields': 1.22e7*V2},\n",
    "            4: {'mode': f'../features/signal_schannel_reco_E-{cm}TeV_N-{mN}TeV_Dirac.root', 'yields': 1.77e3*V2},\n",
    "            0: {'mode': f'../features/background_reco_E-{cm}TeV.root', 'yields': 1.83e5}\n",
    "           }"
   ]
  },
  {
   "cell_type": "code",
   "execution_count": 50,
   "id": "6332f650",
   "metadata": {},
   "outputs": [],
   "source": [
    "def load_train_test(modes_dt, size=0.5):\n",
    "    np.random.seed(9)\n",
    "    df_train = pd.DataFrame()\n",
    "    df_test = pd.DataFrame()\n",
    "    num_lt = []\n",
    "    \n",
    "    # loop over different modes\n",
    "    for i, (k, v) in enumerate(modes_dt.items()):\n",
    "        file = uproot.open(v['mode'])\n",
    "        df_i = pd.DataFrame(np.array(file['t']['features'].array()))\n",
    "        df_i['target'] = k    # add the target label\n",
    "        df_i['weight'] = v['yields']/len(df_i)\n",
    "#         print(k, v)\n",
    "        num_lt.append(len(df_i))\n",
    "\n",
    "        # shuffle the index for training and testing sets\n",
    "        idx = df_i.index.tolist()\n",
    "        np.random.shuffle(idx)\n",
    "        \n",
    "        # cut according to the fraction\n",
    "        cut = int(np.ceil(len(idx) * size))\n",
    "        df_train_i = df_i.loc[idx[:cut]]\n",
    "        df_test_i = df_i.loc[idx[cut:]]\n",
    "        \n",
    "        # Put to the global dataframs\n",
    "        df_train = pd.concat([df_train, df_train_i])\n",
    "        df_test = pd.concat([df_test, df_test_i])\n",
    "    \n",
    "    df_train.reset_index(drop=True, inplace=True)\n",
    "    df_test.reset_index(drop=True, inplace=True)\n",
    "    \n",
    "    print('train size: {} ({:.2f}%); test size: {} ({:.2f}%)'.format(len(df_train), 100*len(df_train)/(len(df_train)+len(df_test)), len(df_test), 100*len(df_test)/(len(df_train)+len(df_test))))\n",
    "    print('data points per mode: ',num_lt)\n",
    "    return df_train, df_test\n",
    "\n",
    "    "
   ]
  },
  {
   "cell_type": "code",
   "execution_count": 51,
   "id": "638b8673",
   "metadata": {},
   "outputs": [
    {
     "name": "stdout",
     "output_type": "stream",
     "text": [
      "train size: 35712 (100.00%); test size: 0 (0.00%)\n",
      "data points per mode:  [5707, 6138, 5861, 6098, 11908]\n"
     ]
    }
   ],
   "source": [
    "tr_te_size = 1 \n",
    "df, _ = load_train_test(modes_dt, tr_te_size)\n",
    "\n"
   ]
  },
  {
   "cell_type": "code",
   "execution_count": null,
   "id": "eefdc38f",
   "metadata": {},
   "outputs": [],
   "source": [
    "def relabel(x):\n",
    "    if x == 0 :    # bkg\n",
    "        return 0\n",
    "    elif x == 1:     # t-channel signal\n",
    "        return 1\n",
    "    elif x == 2:    # 2-channel signal\n",
    "        return 1\n",
    "    elif x == 3:     # t-channel signal\n",
    "        return 1\n",
    "    elif x == 4:    # s-channel signal\n",
    "        return 1"
   ]
  },
  {
   "cell_type": "code",
   "execution_count": null,
   "id": "0ed89858",
   "metadata": {},
   "outputs": [],
   "source": []
  },
  {
   "cell_type": "code",
   "execution_count": null,
   "id": "06173adc",
   "metadata": {},
   "outputs": [],
   "source": []
  },
  {
   "cell_type": "code",
   "execution_count": 6,
   "id": "ff0cb87e",
   "metadata": {},
   "outputs": [],
   "source": [
    "# df_cutbased = pd.DataFrame(columns=['sM', 'tM', 'sD', 'tD', 'Bkg'])\n",
    "df_cutbased = pd.DataFrame(columns=['tM', 'tD', 'Bkg'])\n",
    "\n",
    "df_b_ = df[df.target==0]\n",
    "df_tM_ = df[df.target==1]\n",
    "df_sM_ = df[df.target==2]\n",
    "df_tD_ = df[df.target==3]\n",
    "df_sD_ = df[df.target==4]\n",
    "\n",
    "df_cutbased.loc['init'] = [df_tM_.weight.sum(), df_tD_.weight.sum(), df_b_.weight.sum()]\n",
    "# df_cutbased.loc['init'] = [df_sM_.weight.sum(), df_tM_.weight.sum(), df_sD_.weight.sum(), df_tD_.weight.sum(), df_b_.weight.sum()]"
   ]
  },
  {
   "cell_type": "code",
   "execution_count": 7,
   "id": "9332c175",
   "metadata": {
    "scrolled": false
   },
   "outputs": [
    {
     "name": "stdout",
     "output_type": "stream",
     "text": [
      "t-ch (Maj):\t1.17e+07 x |V|^2 -> 1.15e+07 x |V|^2\t: 98.34%\n",
      "t-ch (Dir):\t1.22e+07 x |V|^2 -> 1.20e+07 x |V|^2\t: 98.70%\n",
      "Bkg:\t\t1.83e+05\t -> 9.83e+04\t\t: 53.74%\n"
     ]
    },
    {
     "data": {
      "image/png": "[encoded data removed]",
      "text/plain": [
       "<Figure size 576x432 with 1 Axes>"
      ]
     },
     "metadata": {
      "needs_background": "light"
     },
     "output_type": "display_data"
    }
   ],
   "source": [
    "df_b = df_b_\n",
    "df_tM = df_tM_ \n",
    "df_sM = df_sM_ \n",
    "df_tD = df_tD_\n",
    "df_sD = df_sD_ \n",
    "\n",
    "f = plt.figure(figsize=(8,6))\n",
    "ax1 = plt.subplot(111)\n",
    "\n",
    "col = 'pzN'\n",
    "bins_=50\n",
    "range_=0, 1500\n",
    "ax1.hist(abs(df_b[col]), weights=[1/len(df_b)]*len(df_b), bins=bins_, range=range_, histtype='step', alpha=0.5, lw=3, label='Bkg');\n",
    "ax1.hist(abs(df_tM[col]), weights=[1/len(df_tM)]*len(df_tM), bins=bins_, range=range_, histtype='step', alpha=0.5, lw=3, label='t-ch (Majorana)');\n",
    "# ax1.hist(abs(df_sM[col]), weights=[1/len(df_sM)]*len(df_sM), bins=bins_, range=range_, histtype='step', alpha=0.5, lw=3, label='s-ch (Majorana)');\n",
    "ax1.hist(abs(df_tD[col]), weights=[1/len(df_tD)]*len(df_tD), bins=bins_, range=range_, histtype='step', alpha=0.5, lw=3, label='t-ch (Dirac)');\n",
    "# ax1.hist(abs(df_sD[col]), weights=[1/len(df_sD)]*len(df_sD), bins=bins_, range=range_, histtype='step', alpha=0.5, lw=3, label='s-ch (Dirac)');\n",
    "\n",
    "ax1.set_ylabel('Normlized distribution', fontsize=20)\n",
    "ax1.set_xlabel(r'$|p_z(N)| ~[\\rmGeV]$', fontsize=20)\n",
    "ax1.set_yticks([])\n",
    "ax1.legend(loc=2, fontsize=20)\n",
    "\n",
    "c1, c2 = 1000, 1400\n",
    "ax1.axvline(c1, color='red')\n",
    "ax1.axvline(c2, color='red')\n",
    "\n",
    "df_b_ = df_b[(abs(df_b[col])>c1) & (abs(df_b[col])<c2)]\n",
    "df_sM_ = df_sM[(abs(df_sM[col])>c1) & (abs(df_sM[col])<c2)]\n",
    "df_tM_ = df_tM[(abs(df_tM[col])>c1) & (abs(df_tM[col])<c2)]\n",
    "df_sD_ = df_sD[(abs(df_sD[col])>c1) & (abs(df_sD[col])<c2)]\n",
    "df_tD_ = df_tD[(abs(df_tD[col])>c1) & (abs(df_tD[col])<c2)]\n",
    "\n",
    "# print(\"s-ch (Maj):\\t{:.2e} x |V|^2 -> {:.2e} x |V|^2\\t: {:.2f}%\".format(df_sM.weight.sum(), df_sM_.weight.sum(), df_sM_.weight.sum()/df_sM.weight.sum()*100))\n",
    "print(\"t-ch (Maj):\\t{:.2e} x |V|^2 -> {:.2e} x |V|^2\\t: {:.2f}%\".format(df_tM.weight.sum(), df_tM_.weight.sum(), df_tM_.weight.sum()/df_tM.weight.sum()*100))\n",
    "# print(\"s-ch (Dir):\\t{:.2e} x |V|^2 -> {:.2e} x |V|^2\\t: {:.2f}%\".format(df_sD.weight.sum(), df_sD_.weight.sum(), df_sD_.weight.sum()/df_sD.weight.sum()*100))\n",
    "print(\"t-ch (Dir):\\t{:.2e} x |V|^2 -> {:.2e} x |V|^2\\t: {:.2f}%\".format(df_tD.weight.sum(), df_tD_.weight.sum(), df_tD_.weight.sum()/df_tD.weight.sum()*100))\n",
    "print(\"Bkg:\\t\\t{:.2e}\\t -> {:.2e}\\t\\t: {:.2f}%\".format(df_b.weight.sum(), df_b_.weight.sum(), df_b_.weight.sum()/df_b.weight.sum()*100))\n",
    "\n",
    "row_name = str(c1)+' < '+col+' < '+str(c2)\n",
    "df_cutbased.loc[row_name] = [df_tM_.weight.sum(), df_tD_.weight.sum(), df_b_.weight.sum()]\n",
    "\n",
    "# df_cutbased.loc[row_name] = [df_sM_.weight.sum(), df_tM_.weight.sum(), df_sD_.weight.sum(), df_tD_.weight.sum(), df_b_.weight.sum()]"
   ]
  },
  {
   "cell_type": "code",
   "execution_count": 8,
   "id": "3aaf622d",
   "metadata": {},
   "outputs": [
    {
     "name": "stdout",
     "output_type": "stream",
     "text": [
      "t-ch (Maj):\t1.15e+07 x |V|^2 -> 1.09e+07 x |V|^2\t: 95.15%\n",
      "t-ch (Dir):\t1.20e+07 x |V|^2 -> 1.15e+07 x |V|^2\t: 95.28%\n",
      "Bkg:\t\t9.83e+04\t -> 5.68e+04\t\t: 57.79%\n"
     ]
    },
    {
     "data": {
      "image/png": "[encoded data removed]",
      "text/plain": [
       "<Figure size 576x432 with 1 Axes>"
      ]
     },
     "metadata": {
      "needs_background": "light"
     },
     "output_type": "display_data"
    }
   ],
   "source": [
    "df_b = df_b_\n",
    "df_tM = df_tM_ \n",
    "df_tD = df_tD_\n",
    "\n",
    "f = plt.figure(figsize=(8,6))\n",
    "ax1 = plt.subplot(111)\n",
    "\n",
    "\n",
    "col = 'ptN'\n",
    "bins_=30\n",
    "range_=0, 1000\n",
    "ax1.hist(df_b[col], weights=[1/len(df_b)]*len(df_b), bins=bins_, range=range_, histtype='step', alpha=0.5, lw=3, label='Bkg');\n",
    "ax1.hist(df_tM[col], weights=[1/len(df_tM)]*len(df_tM), bins=bins_, range=range_, histtype='step', alpha=0.5, lw=3, label='t-ch (Majorana)');\n",
    "ax1.hist(df_tD[col], weights=[1/len(df_tD)]*len(df_tD), bins=bins_, range=range_, histtype='step', alpha=0.5, lw=3, label='t-ch (Dirac)');\n",
    "\n",
    "ax1.set_ylabel('Normlized distribution', fontsize=20)\n",
    "ax1.set_xlabel(r'$p_T(N) ~[\\rmGeV]$', fontsize=20)\n",
    "ax1.set_yticks([])\n",
    "ax1.legend(loc=1, fontsize=20)\n",
    "\n",
    "c1, c2 = 0, 300\n",
    "ax1.axvline(c1, color='red')\n",
    "ax1.axvline(c2, color='red')\n",
    "\n",
    "df_b_ = df_b[(df_b[col]>c1) & (df_b[col]<c2)]\n",
    "df_tM_ = df_tM[(df_tM[col]>c1) & (df_tM[col]<c2)]\n",
    "df_tD_ = df_tD[(df_tD[col]>c1) & (df_tD[col]<c2)]\n",
    "\n",
    "print(\"t-ch (Maj):\\t{:.2e} x |V|^2 -> {:.2e} x |V|^2\\t: {:.2f}%\".format(df_tM.weight.sum(), df_tM_.weight.sum(), df_tM_.weight.sum()/df_tM.weight.sum()*100))\n",
    "print(\"t-ch (Dir):\\t{:.2e} x |V|^2 -> {:.2e} x |V|^2\\t: {:.2f}%\".format(df_tD.weight.sum(), df_tD_.weight.sum(), df_tD_.weight.sum()/df_tD.weight.sum()*100))\n",
    "print(\"Bkg:\\t\\t{:.2e}\\t -> {:.2e}\\t\\t: {:.2f}%\".format(df_b.weight.sum(), df_b_.weight.sum(), df_b_.weight.sum()/df_b.weight.sum()*100))\n",
    "\n",
    "row_name = str(c1)+' < '+col+' < '+str(c2)\n",
    "df_cutbased.loc[row_name] = [df_tM_.weight.sum(), df_tD_.weight.sum(), df_b_.weight.sum()]"
   ]
  },
  {
   "cell_type": "code",
   "execution_count": 9,
   "id": "aae299be",
   "metadata": {},
   "outputs": [
    {
     "name": "stdout",
     "output_type": "stream",
     "text": [
      "t-ch (Maj):\t1.09e+07 x |V|^2 -> 1.01e+07 x |V|^2\t: 92.25%\n",
      "t-ch (Dir):\t1.15e+07 x |V|^2 -> 1.04e+07 x |V|^2\t: 90.57%\n",
      "Bkg:\t\t5.68e+04\t -> 1.93e+04\t\t: 34.05%\n"
     ]
    },
    {
     "data": {
      "image/png": "[encoded data removed]",
      "text/plain": [
       "<Figure size 576x432 with 1 Axes>"
      ]
     },
     "metadata": {
      "needs_background": "light"
     },
     "output_type": "display_data"
    }
   ],
   "source": [
    "df_b = df_b_\n",
    "df_tM = df_tM_ \n",
    "df_tD = df_tD_\n",
    "\n",
    "f = plt.figure(figsize=(8,6))\n",
    "ax1 = plt.subplot(111)\n",
    "\n",
    "\n",
    "col = 'ptJJ'\n",
    "bins_=30\n",
    "range_=0, 1000\n",
    "ax1.hist(df_b[col], weights=[1/len(df_b)]*len(df_b), bins=bins_, range=range_, histtype='step', alpha=0.5, lw=3, label='Bkg');\n",
    "ax1.hist(df_tM[col], weights=[1/len(df_tM)]*len(df_tM), bins=bins_, range=range_, histtype='step', alpha=0.5, lw=3, label='t-ch (Majorana)');\n",
    "ax1.hist(df_tD[col], weights=[1/len(df_tD)]*len(df_tD), bins=bins_, range=range_, histtype='step', alpha=0.5, lw=3, label='t-ch (Dirac)');\n",
    "\n",
    "ax1.set_ylabel('Normlized distribution', fontsize=20)\n",
    "ax1.set_xlabel(r'$p_T(JJ) ~[\\rmGeV]$', fontsize=20)\n",
    "ax1.set_yticks([])\n",
    "ax1.legend(loc=1, fontsize=20)\n",
    "\n",
    "c1, c2 = 300, 999\n",
    "ax1.axvline(c1, color='red')\n",
    "ax1.axvline(c2, color='red')\n",
    "\n",
    "df_b_ = df_b[(df_b[col]>c1) & (df_b[col]<c2)]\n",
    "df_tM_ = df_tM[(df_tM[col]>c1) & (df_tM[col]<c2)]\n",
    "df_tD_ = df_tD[(df_tD[col]>c1) & (df_tD[col]<c2)]\n",
    "\n",
    "print(\"t-ch (Maj):\\t{:.2e} x |V|^2 -> {:.2e} x |V|^2\\t: {:.2f}%\".format(df_tM.weight.sum(), df_tM_.weight.sum(), df_tM_.weight.sum()/df_tM.weight.sum()*100))\n",
    "print(\"t-ch (Dir):\\t{:.2e} x |V|^2 -> {:.2e} x |V|^2\\t: {:.2f}%\".format(df_tD.weight.sum(), df_tD_.weight.sum(), df_tD_.weight.sum()/df_tD.weight.sum()*100))\n",
    "print(\"Bkg:\\t\\t{:.2e}\\t -> {:.2e}\\t\\t: {:.2f}%\".format(df_b.weight.sum(), df_b_.weight.sum(), df_b_.weight.sum()/df_b.weight.sum()*100))\n",
    "\n",
    "row_name = str(c1)+' < '+col+' < '+str(c2)\n",
    "df_cutbased.loc[row_name] = [df_tM_.weight.sum(), df_tD_.weight.sum(), df_b_.weight.sum()]"
   ]
  },
  {
   "cell_type": "code",
   "execution_count": 10,
   "id": "28351f43",
   "metadata": {},
   "outputs": [
    {
     "name": "stdout",
     "output_type": "stream",
     "text": [
      "t-ch (Maj):\t1.01e+07 x |V|^2 -> 9.80e+06 x |V|^2\t: 97.00%\n",
      "t-ch (Dir):\t1.04e+07 x |V|^2 -> 1.01e+07 x |V|^2\t: 97.12%\n",
      "Bkg:\t\t1.93e+04\t -> 4.73e+03\t\t: 24.46%\n"
     ]
    },
    {
     "data": {
      "image/png": "[encoded data removed]",
      "text/plain": [
       "<Figure size 576x432 with 1 Axes>"
      ]
     },
     "metadata": {
      "needs_background": "light"
     },
     "output_type": "display_data"
    }
   ],
   "source": [
    "df_b = df_b_\n",
    "df_tM = df_tM_ \n",
    "df_tD = df_tD_\n",
    "\n",
    "f = plt.figure(figsize=(8,6))\n",
    "ax1 = plt.subplot(111)\n",
    "\n",
    "\n",
    "col = 'mN'\n",
    "bins_=50\n",
    "range_=0, 2500\n",
    "ax1.hist(df_b[col], weights=[1/len(df_b)]*len(df_b), bins=bins_, range=range_, histtype='step', alpha=0.5, lw=3, label='Bkg');\n",
    "ax1.hist(df_tM[col], weights=[1/len(df_tM)]*len(df_tM), bins=bins_, range=range_, histtype='step', alpha=0.5, lw=3, label='t-ch (Majorana)');\n",
    "ax1.hist(df_tD[col], weights=[1/len(df_tD)]*len(df_tD), bins=bins_, range=range_, histtype='step', alpha=0.5, lw=3, label='t-ch (Dirac)');\n",
    "\n",
    "ax1.set_ylabel('Normlized distribution', fontsize=20)\n",
    "ax1.set_xlabel(r'$m(N) ~[\\rmGeV]$', fontsize=20)\n",
    "ax1.set_yticks([])\n",
    "ax1.legend(loc=1, fontsize=20)\n",
    "\n",
    "c1, c2 = 900, 1100\n",
    "ax1.axvline(c1, color='red')\n",
    "ax1.axvline(c2, color='red')\n",
    "\n",
    "df_b_ = df_b[(df_b[col]>c1) & (df_b[col]<c2)]\n",
    "df_tM_ = df_tM[(df_tM[col]>c1) & (df_tM[col]<c2)]\n",
    "df_tD_ = df_tD[(df_tD[col]>c1) & (df_tD[col]<c2)]\n",
    "\n",
    "print(\"t-ch (Maj):\\t{:.2e} x |V|^2 -> {:.2e} x |V|^2\\t: {:.2f}%\".format(df_tM.weight.sum(), df_tM_.weight.sum(), df_tM_.weight.sum()/df_tM.weight.sum()*100))\n",
    "print(\"t-ch (Dir):\\t{:.2e} x |V|^2 -> {:.2e} x |V|^2\\t: {:.2f}%\".format(df_tD.weight.sum(), df_tD_.weight.sum(), df_tD_.weight.sum()/df_tD.weight.sum()*100))\n",
    "print(\"Bkg:\\t\\t{:.2e}\\t -> {:.2e}\\t\\t: {:.2f}%\".format(df_b.weight.sum(), df_b_.weight.sum(), df_b_.weight.sum()/df_b.weight.sum()*100))\n",
    "\n",
    "row_name = str(c1)+' < '+col+' < '+str(c2)\n",
    "df_cutbased.loc[row_name] = [df_tM_.weight.sum(), df_tD_.weight.sum(), df_b_.weight.sum()]"
   ]
  },
  {
   "cell_type": "code",
   "execution_count": 11,
   "id": "86e77869",
   "metadata": {},
   "outputs": [
    {
     "data": {
      "text/html": [
       "<div>\n",
       "<style scoped>\n",
       "    .dataframe tbody tr th:only-of-type {\n",
       "        vertical-align: middle;\n",
       "    }\n",
       "\n",
       "    .dataframe tbody tr th {\n",
       "        vertical-align: top;\n",
       "    }\n",
       "\n",
       "    .dataframe thead th {\n",
       "        text-align: right;\n",
       "    }\n",
       "</style>\n",
       "<table border=\"1\" class=\"dataframe\">\n",
       "  <thead>\n",
       "    <tr style=\"text-align: right;\">\n",
       "      <th></th>\n",
       "      <th>tM</th>\n",
       "      <th>tD</th>\n",
       "      <th>Bkg</th>\n",
       "    </tr>\n",
       "  </thead>\n",
       "  <tbody>\n",
       "    <tr>\n",
       "      <th>init</th>\n",
       "      <td>1.2e+07</td>\n",
       "      <td>1.2e+07</td>\n",
       "      <td>1.8e+05</td>\n",
       "    </tr>\n",
       "    <tr>\n",
       "      <th>1000 &lt; pzN &lt; 1400</th>\n",
       "      <td>1.2e+07</td>\n",
       "      <td>1.2e+07</td>\n",
       "      <td>9.8e+04</td>\n",
       "    </tr>\n",
       "    <tr>\n",
       "      <th>0 &lt; ptN &lt; 300</th>\n",
       "      <td>1.1e+07</td>\n",
       "      <td>1.1e+07</td>\n",
       "      <td>5.7e+04</td>\n",
       "    </tr>\n",
       "    <tr>\n",
       "      <th>300 &lt; ptJJ &lt; 999</th>\n",
       "      <td>1e+07</td>\n",
       "      <td>1e+07</td>\n",
       "      <td>1.9e+04</td>\n",
       "    </tr>\n",
       "    <tr>\n",
       "      <th>900 &lt; mN &lt; 1100</th>\n",
       "      <td>9.8e+06</td>\n",
       "      <td>1e+07</td>\n",
       "      <td>4.7e+03</td>\n",
       "    </tr>\n",
       "  </tbody>\n",
       "</table>\n",
       "</div>"
      ],
      "text/plain": [
       "                       tM      tD     Bkg\n",
       "init              1.2e+07 1.2e+07 1.8e+05\n",
       "1000 < pzN < 1400 1.2e+07 1.2e+07 9.8e+04\n",
       "0 < ptN < 300     1.1e+07 1.1e+07 5.7e+04\n",
       "300 < ptJJ < 999    1e+07   1e+07 1.9e+04\n",
       "900 < mN < 1100   9.8e+06   1e+07 4.7e+03"
      ]
     },
     "execution_count": 11,
     "metadata": {},
     "output_type": "execute_result"
    }
   ],
   "source": [
    "pd.set_option('display.float_format', '{:.2g}'.format)\n",
    "df_cutbased"
   ]
  },
  {
   "cell_type": "code",
   "execution_count": null,
   "id": "3ceefdcb",
   "metadata": {},
   "outputs": [],
   "source": []
  },
  {
   "cell_type": "code",
   "execution_count": 78,
   "id": "d6d57da4",
   "metadata": {},
   "outputs": [
    {
     "name": "stdout",
     "output_type": "stream",
     "text": [
      "BDT eff:\n",
      "bkg:\t\t2.464853%\n",
      "t-ch (M):\t83.908254%\n",
      "t-ch (D):\t83.227625%\n"
     ]
    }
   ],
   "source": [
    "eff0, eff1, eff3 = \\\n",
    "df_b_.weight.sum() / df[df.target==0].weight.sum(), \\\n",
    "df_tM_.weight.sum() / df[df.target==1].weight.sum(), \\\n",
    "df_tD_.weight.sum() / df[df.target==3].weight.sum()\n",
    "\n",
    "print(\"BDT eff:\")\n",
    "print(\"bkg:\\t\\t{:2f}%\".format(100*eff0))\n",
    "print(\"t-ch (M):\\t{:2f}%\".format(100*eff1))\n",
    "# print(\"s-ch (M):\\t{:2f}%\".format(100*eff2))\n",
    "print(\"t-ch (D):\\t{:2f}%\".format(100*eff3))\n",
    "# print(\"s-ch (D):\\t{:2f}%\".format(100*eff4))"
   ]
  },
  {
   "cell_type": "code",
   "execution_count": 79,
   "id": "62f61eae",
   "metadata": {},
   "outputs": [
    {
     "name": "stdout",
     "output_type": "stream",
     "text": [
      "s/b ratio: \n",
      "# Maj signal / bkg = 2176 x |V|^2\n",
      "# Dir signal / bkg = 2251 x |V|^2\n"
     ]
    }
   ],
   "source": [
    "nM = df_tM_.weight.sum() \n",
    "nD = df_tD_.weight.sum() \n",
    "nb = df_b_.weight.sum()\n",
    "print(\"s/b ratio: \")\n",
    "print(f'# Maj signal / bkg = {nM/nb:.0f} x |V|^2')\n",
    "print(f'# Dir signal / bkg = {nD/nb:.0f} x |V|^2')"
   ]
  },
  {
   "cell_type": "code",
   "execution_count": 80,
   "id": "8460b7af",
   "metadata": {},
   "outputs": [
    {
     "name": "stdout",
     "output_type": "stream",
     "text": [
      "s/sqrt(b) ratio: \n",
      "# Maj signal / sqrt(bkg) = 146174 x |V|^2\n",
      "# Dir signal / sqrt(bkg) = 151184 x |V|^2\n"
     ]
    }
   ],
   "source": [
    "print(\"s/sqrt(b) ratio: \")\n",
    "print(f'# Maj signal / sqrt(bkg) = {nM/(nb)**0.5:.0f} x |V|^2')\n",
    "print(f'# Dir signal / sqrt(bkg) = {nD/(nb)**0.5:.0f} x |V|^2')"
   ]
  },
  {
   "cell_type": "code",
   "execution_count": null,
   "id": "b1b6c9bf",
   "metadata": {},
   "outputs": [],
   "source": []
  },
  {
   "cell_type": "code",
   "execution_count": null,
   "id": "6ca55ecb",
   "metadata": {},
   "outputs": [],
   "source": []
  },
  {
   "cell_type": "code",
   "execution_count": 43,
   "id": "456ccdc8",
   "metadata": {},
   "outputs": [
    {
     "data": {
      "text/plain": [
       "<matplotlib.legend.Legend at 0x7efc66073ca0>"
      ]
     },
     "execution_count": 43,
     "metadata": {},
     "output_type": "execute_result"
    },
    {
     "data": {
      "image/png": "[encoded data removed]",
      "text/plain": [
       "<Figure size 576x432 with 1 Axes>"
      ]
     },
     "metadata": {
      "needs_background": "light"
     },
     "output_type": "display_data"
    }
   ],
   "source": [
    "df_b = df[df.target==0]\n",
    "\n",
    "f = plt.figure(figsize=(8,6))\n",
    "ax1 = plt.subplot(111)\n",
    "\n",
    "ax1.hist(df_b['mN'], weights=[1/len(df_b)]*len(df_b), bins=bins_, range=range_, histtype='step', alpha=0.5, lw=3, label='Bkg');\n",
    "\n",
    "# ax1.set_yscale('log')\n",
    "\n",
    "ax1.set_title(\"After preselection (without BDT/Cut based)\", fontsize=25)\n",
    "ax1.set_ylabel('Normlized distribution', fontsize=20)\n",
    "ax1.set_xlabel(r'$m(N) ~[\\rmGeV]$', fontsize=20)\n",
    "# ax1.set_yticks([])\n",
    "ax1.legend(loc=1, fontsize=20)\n"
   ]
  },
  {
   "cell_type": "code",
   "execution_count": 55,
   "id": "e892de74",
   "metadata": {},
   "outputs": [
    {
     "data": {
      "text/plain": [
       "array([0, 1, 2, 3, 4])"
      ]
     },
     "execution_count": 55,
     "metadata": {},
     "output_type": "execute_result"
    }
   ],
   "source": [
    "np.unique(df.target)"
   ]
  },
  {
   "cell_type": "code",
   "execution_count": 88,
   "id": "6d75c5b9",
   "metadata": {},
   "outputs": [
    {
     "data": {
      "image/png": "[encoded data removed]",
      "text/plain": [
       "<Figure size 576x432 with 1 Axes>"
      ]
     },
     "metadata": {
      "needs_background": "light"
     },
     "output_type": "display_data"
    }
   ],
   "source": [
    "f = plt.figure(figsize=(8,6))\n",
    "ax1 = plt.subplot(111)\n",
    "\n",
    "\n",
    "bins_=20\n",
    "range_ = [0,1]\n",
    "ax1.hist(df[df.target==0]['pTheta'], weights=[1/len(df[df.target==0])]*len(df[df.target==0]), bins=bins_, range=range_, histtype='step', label='Bkg.', lw=3, alpha=0.5);\n",
    "# ax1.hist(df[df.target==1]['pTheta'], weights=[1/len(df[df.target==1])]*len(df[df.target==1]), bins=bins_, range=range_, histtype='step', label='Maj t-ch', lw=3, alpha=0.5);\n",
    "# ax1.hist(df[df.target==2]['pTheta'], weights=[1/len(df[df.target==2])]*len(df[df.target==2]), bins=bins_, range=range_, histtype='step', label='Maj s-ch', lw=3, alpha=0.5);\n",
    "ax1.hist(df[df.target==3]['pTheta'], weights=[1/len(df[df.target==3])]*len(df[df.target==3]), bins=bins_, range=range_, histtype='step', label='Dir t-ch', lw=3, alpha=0.5);\n",
    "# ax1.hist(df[df.target==4]['pTheta'], weights=[1/len(df[df.target==4])]*len(df[df.target==4]), bins=bins_, range=range_, histtype='step', label='Dir s-ch', lw=3, alpha=0.5);\n",
    "\n",
    "ax1.set_ylabel('Normlized distribution', fontsize=20)\n",
    "ax1.set_yticks([])\n",
    "ax1.legend(loc=1, fontsize=20)\n",
    "ax1.set_xlabel(r'$p_\\theta$', fontsize=20)\n",
    "ax1.legend(fontsize=20);"
   ]
  },
  {
   "cell_type": "code",
   "execution_count": null,
   "id": "3af3f3bf",
   "metadata": {},
   "outputs": [],
   "source": []
  }
 ],
 "metadata": {
  "kernelspec": {
   "display_name": "Python 3 (ipykernel)",
   "language": "python",
   "name": "python3"
  },
  "language_info": {
   "codemirror_mode": {
    "name": "ipython",
    "version": 3
   },
   "file_extension": ".py",
   "mimetype": "text/x-python",
   "name": "python",
   "nbconvert_exporter": "python",
   "pygments_lexer": "ipython3",
   "version": "3.10.2"
  }
 },
 "nbformat": 4,
 "nbformat_minor": 5
}
