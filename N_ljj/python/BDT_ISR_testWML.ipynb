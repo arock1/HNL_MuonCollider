{
 "cells": [
  {
   "cell_type": "code",
   "execution_count": 23,
   "id": "6fd7a5ef",
   "metadata": {},
   "outputs": [],
   "source": [
    "import uproot\n",
    "import pandas as pd\n",
    "import numpy as np\n",
    "import matplotlib.pyplot as plt\n",
    "import xgboost as xgb\n",
    "from sklearn import metrics\n",
    "from scipy.special import factorial\n",
    "from scipy.stats.distributions import chi2\n",
    "\n",
    "import warnings\n",
    "warnings.filterwarnings(\"ignore\")"
   ]
  },
  {
   "cell_type": "markdown",
   "id": "9b293dbb",
   "metadata": {},
   "source": [
    "### Loading Data"
   ]
  },
  {
   "cell_type": "code",
   "execution_count": 95,
   "id": "6cc14fa6",
   "metadata": {},
   "outputs": [],
   "source": [
    "cm = 3\n",
    "mN = 1\n",
    "V2 = 1e-6    # used in reweighting the samples"
   ]
  },
  {
   "cell_type": "code",
   "execution_count": 96,
   "id": "1043cb7e",
   "metadata": {},
   "outputs": [
    {
     "data": {
      "text/html": [
       "<div>\n",
       "<style scoped>\n",
       "    .dataframe tbody tr th:only-of-type {\n",
       "        vertical-align: middle;\n",
       "    }\n",
       "\n",
       "    .dataframe tbody tr th {\n",
       "        vertical-align: top;\n",
       "    }\n",
       "\n",
       "    .dataframe thead th {\n",
       "        text-align: right;\n",
       "    }\n",
       "</style>\n",
       "<table border=\"1\" class=\"dataframe\">\n",
       "  <thead>\n",
       "    <tr style=\"text-align: right;\">\n",
       "      <th></th>\n",
       "      <th>Type</th>\n",
       "      <th>Energy</th>\n",
       "      <th>Mass</th>\n",
       "      <th>Efficiency</th>\n",
       "    </tr>\n",
       "  </thead>\n",
       "  <tbody>\n",
       "    <tr>\n",
       "      <th>0</th>\n",
       "      <td>s_M</td>\n",
       "      <td>3</td>\n",
       "      <td>1000.0</td>\n",
       "      <td>0.568187</td>\n",
       "    </tr>\n",
       "    <tr>\n",
       "      <th>1</th>\n",
       "      <td>b_2W</td>\n",
       "      <td>3</td>\n",
       "      <td>NaN</td>\n",
       "      <td>0.660862</td>\n",
       "    </tr>\n",
       "    <tr>\n",
       "      <th>2</th>\n",
       "      <td>b_sZ</td>\n",
       "      <td>3</td>\n",
       "      <td>NaN</td>\n",
       "      <td>0.660097</td>\n",
       "    </tr>\n",
       "  </tbody>\n",
       "</table>\n",
       "</div>"
      ],
      "text/plain": [
       "   Type  Energy    Mass  Efficiency\n",
       "0   s_M       3  1000.0    0.568187\n",
       "1  b_2W       3     NaN    0.660862\n",
       "2  b_sZ       3     NaN    0.660097"
      ]
     },
     "execution_count": 96,
     "metadata": {},
     "output_type": "execute_result"
    }
   ],
   "source": [
    "df_eff = pd.read_csv(\"../data/eff_table.csv\")\n",
    "df_eff"
   ]
  },
  {
   "cell_type": "code",
   "execution_count": 97,
   "id": "4f2ab8f8",
   "metadata": {},
   "outputs": [],
   "source": [
    "eff_M = df_eff[(df_eff.Energy==cm) & (df_eff.Mass==mN*1000) & (df_eff.Type=='s_M')]['Efficiency'].values[0]\n",
    "# eff_D = df_eff[(df_eff.Energy==cm) & (df_eff.Mass==mN*1000) & (df_eff.Type=='s_D')]['Efficiency'].values[0]\n",
    "eff_b2W = df_eff[(df_eff.Energy==cm) & (df_eff.Type=='b_2W')]['Efficiency'].values[0]\n",
    "eff_bsZ = df_eff[(df_eff.Energy==cm) & (df_eff.Type=='b_sZ')]['Efficiency'].values[0]"
   ]
  },
  {
   "cell_type": "code",
   "execution_count": 98,
   "id": "5457ebb3",
   "metadata": {},
   "outputs": [],
   "source": [
    "Lumi = 1000000\n",
    "\n",
    "V2_sim = 1\n",
    "\n",
    "Xsec_M = {3: {1: 2.12E+01 / V2_sim, 2: 1.31E+01 / V2_sim}}    # first key: sqrt{s}, second key: m_N\n",
    "# Xsec_D = {3: {1: 2.16E+01 / V2_sim, 2: 1.34E+01 / V2_sim}}\n",
    "Xsec_b2W = {3: 3.35E+00}   # key: sqrt{s}\n",
    "Xsec_bsZ = {3: 3.35E+00}\n"
   ]
  },
  {
   "cell_type": "code",
   "execution_count": 99,
   "id": "677bb8ac",
   "metadata": {},
   "outputs": [],
   "source": [
    "\n",
    "modes_dt = {\n",
    "            1: {'mode': f'../data/features/sig_Maj_E-{cm}_m-{mN*1000}_reco.root', 'yields': Lumi*Xsec_M[cm][mN]*eff_M*V2},\n",
    "\n",
    "#             2: {'mode': f'../data/features/sig_Dir_E-{cm}_m-{mN*1000}_reco.root', 'yields': Lumi*Xsec_D[cm][mN]*eff_D*V2}, \n",
    "            3: {'mode': f'../data/features/bg_2W_E-3_reco.root', 'yields': Lumi*Xsec_b2W[cm]*eff_b2W},\n",
    "            4: {'mode': f'../data/features/bg_sZ_E-3_reco.root', 'yields': Lumi*Xsec_bsZ[cm]*eff_bsZ},\n",
    "           }"
   ]
  },
  {
   "cell_type": "code",
   "execution_count": 100,
   "id": "16562e4f",
   "metadata": {},
   "outputs": [
    {
     "name": "stdout",
     "output_type": "stream",
     "text": [
      "1.20e+01\n",
      "2.21e+06\n",
      "2.21e+06\n"
     ]
    }
   ],
   "source": [
    "for k, v in modes_dt.items():\n",
    "    print(f\"{v['yields']:.2e}\")"
   ]
  },
  {
   "cell_type": "code",
   "execution_count": 101,
   "id": "781f75c0",
   "metadata": {},
   "outputs": [],
   "source": [
    "def load_train_test(modes_dt, size=0.5):\n",
    "    np.random.seed(9)\n",
    "    df_train = pd.DataFrame()\n",
    "    df_test = pd.DataFrame()\n",
    "    num_lt = []\n",
    "    \n",
    "    # loop over different modes\n",
    "    for i, (k, v) in enumerate(modes_dt.items()):\n",
    "        file = uproot.open(v['mode'])\n",
    "        df_i = pd.DataFrame(np.array(file['t']['features'].array()))\n",
    "        df_i['target'] = k    # add the target label\n",
    "        df_i['weight'] = v['yields']/len(df_i)\n",
    "#         print(k, v)\n",
    "        num_lt.append(len(df_i))\n",
    "\n",
    "        # shuffle the index for training and testing sets\n",
    "        idx = df_i.index.tolist()\n",
    "        np.random.shuffle(idx)\n",
    "        \n",
    "        # cut according to the fraction\n",
    "        cut = int(np.ceil(len(idx) * size))\n",
    "        df_train_i = df_i.loc[idx[:cut]]\n",
    "        df_test_i = df_i.loc[idx[cut:]]\n",
    "        \n",
    "        # Put to the global dataframs\n",
    "        df_train = pd.concat([df_train, df_train_i])\n",
    "        df_test = pd.concat([df_test, df_test_i])\n",
    "    \n",
    "    df_train.reset_index(drop=True, inplace=True)\n",
    "    df_test.reset_index(drop=True, inplace=True)\n",
    "    \n",
    "    print('train size: {} ({:.2f}%); test size: {} ({:.2f}%)'.format(len(df_train), 100*len(df_train)/(len(df_train)+len(df_test)), len(df_test), 100*len(df_test)/(len(df_train)+len(df_test))))\n",
    "    print('data points per mode: ',num_lt)\n",
    "    return df_train, df_test\n",
    "\n",
    "    "
   ]
  },
  {
   "cell_type": "code",
   "execution_count": 102,
   "id": "068e840a",
   "metadata": {},
   "outputs": [
    {
     "name": "stdout",
     "output_type": "stream",
     "text": [
      "train size: 25993 (50.00%); test size: 25991 (50.00%)\n",
      "data points per mode:  [512, 22503, 28969]\n"
     ]
    }
   ],
   "source": [
    "tr_te_size = 0.5 \n",
    "df_train, df_test = load_train_test(modes_dt, tr_te_size)\n",
    "\n",
    "df_train_o, df_test_o = df_train.copy(), df_test.copy()"
   ]
  },
  {
   "cell_type": "markdown",
   "id": "9ed5019b",
   "metadata": {},
   "source": [
    "### Prepare for BDT"
   ]
  },
  {
   "cell_type": "code",
   "execution_count": 103,
   "id": "4621e69b",
   "metadata": {},
   "outputs": [],
   "source": [
    "def relabel(x):\n",
    "    if x != 1 and x != 2:    # bkg\n",
    "        return 0\n",
    "    \n",
    "    elif x == 1:     # Maj signal\n",
    "        return 1\n",
    "    \n",
    "    elif x == 2:     # Dir signal\n",
    "        return 2"
   ]
  },
  {
   "cell_type": "code",
   "execution_count": 104,
   "id": "496e9c24",
   "metadata": {},
   "outputs": [],
   "source": [
    "features = ['ptLep', 'etaLep', 'ELep', 'chargeLep', 'lepisMu', # lepton info\n",
    "            'DeltaPhijjl', 'DeltaRjjl',             # Delta phi & Delta R between jj(from W boson) and lepton\n",
    "            'ptJJ', 'etaJJ', 'mJJ',                 # jj(from W boson) momentum info\n",
    "            'ptN', 'pzN',                           # reconstructed N 4 momentum info\n",
    "            'EJet1', 'EJet2'\n",
    "           ]\n"
   ]
  },
  {
   "cell_type": "code",
   "execution_count": 105,
   "id": "00bf0dae",
   "metadata": {},
   "outputs": [],
   "source": [
    "# # relabel the, all bkg become one label\n",
    "df_train['target'] = df_train['target'].apply(relabel)\n",
    "df_test['target'] = df_test['target'].apply(relabel)"
   ]
  },
  {
   "cell_type": "code",
   "execution_count": 106,
   "id": "143fa1c5",
   "metadata": {},
   "outputs": [],
   "source": [
    "# getting the inputs and labels\n",
    "X_train = df_train[features]\n",
    "y_train = np.array(df_train.target)\n",
    "\n",
    "# getting the inputs and labels\n",
    "X_test = df_test[features]\n",
    "y_test = np.array(df_test.target)"
   ]
  },
  {
   "cell_type": "code",
   "execution_count": 107,
   "id": "094f7e08",
   "metadata": {},
   "outputs": [
    {
     "data": {
      "text/plain": [
       "array([0, 1])"
      ]
     },
     "execution_count": 107,
     "metadata": {},
     "output_type": "execute_result"
    }
   ],
   "source": [
    "np.unique(y_train)"
   ]
  },
  {
   "cell_type": "code",
   "execution_count": 108,
   "id": "49270025",
   "metadata": {},
   "outputs": [],
   "source": [
    "# trainging\n",
    "X_train = df_train[features]\n",
    "y_train = df_train['target']\n",
    "\n",
    "# testing\n",
    "X_test = df_test[features]\n",
    "y_test = df_test['target']\n"
   ]
  },
  {
   "cell_type": "code",
   "execution_count": 109,
   "id": "874aeeae",
   "metadata": {},
   "outputs": [
    {
     "data": {
      "text/plain": [
       "array([0, 1])"
      ]
     },
     "execution_count": 109,
     "metadata": {},
     "output_type": "execute_result"
    }
   ],
   "source": [
    "np.unique(y_train)"
   ]
  },
  {
   "cell_type": "code",
   "execution_count": null,
   "id": "1ea32f3b",
   "metadata": {},
   "outputs": [],
   "source": []
  },
  {
   "cell_type": "code",
   "execution_count": null,
   "id": "57db76f5",
   "metadata": {},
   "outputs": [],
   "source": []
  },
  {
   "cell_type": "code",
   "execution_count": null,
   "id": "412ecb88",
   "metadata": {},
   "outputs": [],
   "source": []
  },
  {
   "cell_type": "code",
   "execution_count": 110,
   "id": "49226c1b",
   "metadata": {},
   "outputs": [],
   "source": [
    "# r_col = ['ptJJ', 'etaJJ', 'mJJ', 'EJJ', 'PJJ', 'DeltaRjj', 'EJet1', 'EJet2', 'ptJet1', 'ptJet2',\n",
    "#          'etaJet1', 'etaJet2', 'phiJet1', 'phiJet2']\n",
    "r_col = ['ptJJ', 'etaJJ', 'mJJ', 'EJJ', 'PJJ', 'DeltaRjj', 'EJet1', 'EJet2', 'ptJet1', 'ptJet2']\n",
    "\n",
    "xgbr1 = xgb.XGBRegressor(seed=0)\n",
    "xgbr1.fit(df_train[df_train.target==1][r_col], \n",
    "          df_train[df_train.target==1]['EJJTrue']);\n",
    "\n",
    "xgbr2 = xgb.XGBRegressor(seed=0)\n",
    "xgbr2.fit(df_train[df_train.target==1][r_col], \n",
    "          df_train[df_train.target==1]['PJJTrue']);"
   ]
  },
  {
   "cell_type": "code",
   "execution_count": 111,
   "id": "3b0b28bb",
   "metadata": {},
   "outputs": [],
   "source": [
    "E_pred_train = xgbr1.predict(df_train[r_col])\n",
    "E_pred_test = xgbr1.predict(df_test[r_col])\n",
    "\n",
    "P_pred_train = xgbr2.predict(df_train[r_col])\n",
    "P_pred_test = xgbr2.predict(df_test[r_col])"
   ]
  },
  {
   "cell_type": "code",
   "execution_count": 112,
   "id": "8d51c619",
   "metadata": {},
   "outputs": [],
   "source": [
    "df_train['mJJ_Mod'] = (E_pred_train**2 - P_pred_train**2)**0.5\n",
    "\n",
    "df_train['EN_Mod'] = df_train['EN'] - df_train['EJJ'] + E_pred_train\n",
    "df_train['PN_Mod'] = df_train['PN'] - df_train['PJJ'] + P_pred_train\n",
    "df_train['pxN_Mod'] = df_train['pxN'] - df_train['pxJJ'] + df_train['pxJJ']/df_train['PJJ']*P_pred_train\n",
    "df_train['pyN_Mod'] = df_train['pyN'] - df_train['pyJJ'] + df_train['pyJJ']/df_train['PJJ']*P_pred_train\n",
    "df_train['pzN_Mod'] = df_train['pzN'] - df_train['pzJJ'] + df_train['pzJJ']/df_train['PJJ']*P_pred_train\n",
    "\n",
    "\n",
    "# df_train['mN_Mod'] = (df_train['EN_Mod']**2 - df_train['pxN_Mod']**2 - df_train['pyN_Mod']**2 - df_train['pzN_Mod']**2)**0.5\n",
    "df_train['mN_Mod'] = (df_train['EN_Mod']**2 - df_train['PN_Mod']**2)**0.5"
   ]
  },
  {
   "cell_type": "code",
   "execution_count": 113,
   "id": "22a7ab3f",
   "metadata": {},
   "outputs": [],
   "source": [
    "df_test['mJJ_Mod'] = (E_pred_test**2 - P_pred_test**2)**0.5\n",
    "\n",
    "df_test['EN_Mod'] = df_test['EN'] - df_test['EJJ'] + E_pred_test\n",
    "df_test['PN_Mod'] = df_test['PN'] - df_test['PJJ'] + P_pred_test\n",
    "df_test['pxN_Mod'] = df_test['pxN'] - df_test['pxJJ'] + df_test['pxJJ']/df_test['PJJ']*P_pred_test\n",
    "df_test['pyN_Mod'] = df_test['pyN'] - df_test['pyJJ'] + df_test['pyJJ']/df_test['PJJ']*P_pred_test\n",
    "df_test['pzN_Mod'] = df_test['pzN'] - df_test['pzJJ'] + df_test['pzJJ']/df_test['PJJ']*P_pred_test\n",
    "\n",
    "\n",
    "# df_test['mN_Mod'] = (df_test['EN_Mod']**2 - df_test['pxN_Mod']**2 - df_test['pyN_Mod']**2 - df_test['pzN_Mod']**2)**0.5\n",
    "df_test['mN_Mod'] = (df_test['EN_Mod']**2 - df_test['PN_Mod']**2)**0.5"
   ]
  },
  {
   "cell_type": "code",
   "execution_count": null,
   "id": "9f8b5990",
   "metadata": {},
   "outputs": [],
   "source": []
  },
  {
   "cell_type": "code",
   "execution_count": null,
   "id": "9eda8529",
   "metadata": {},
   "outputs": [],
   "source": []
  },
  {
   "cell_type": "code",
   "execution_count": 116,
   "id": "851cd7d5",
   "metadata": {},
   "outputs": [
    {
     "data": {
      "image/png": "[encoded data removed]",
      "text/plain": [
       "<Figure size 576x432 with 1 Axes>"
      ]
     },
     "metadata": {
      "needs_background": "light"
     },
     "output_type": "display_data"
    }
   ],
   "source": [
    "\n",
    "f = plt.figure(figsize=(8,6))\n",
    "# f = plt.figure(figsize=(15,6))\n",
    "ax1 = plt.subplot(111)\n",
    "\n",
    "\n",
    "# range_ = [-500,500]\n",
    "# ax1.hist(df_test[df_test.target==1]['mN']-1000, bins=20, range=range_, histtype='step', lw=3, alpha=0.5, label='raw \\nsd: {:.2f}'.format(np.std(df_test[df_test.target==1]['mN'])));\n",
    "# ax1.hist(df_test[df_test.target==1]['mN_Mod']-1000, bins=20, range=range_, histtype='step', lw=3, alpha=0.5, label='corrected \\nsd: {:.2f}'.format(np.std(df_test[df_test.target==1]['mN_Mod'])));\n",
    "\n",
    "range_ = [500,1500]\n",
    "ax1.hist(df_test[df_test.target==1]['mN'], bins=50, range=range_, histtype='step', lw=3, alpha=0.5, label='raw \\nsd: {:.2f}'.format(np.std(df_test[df_test.target==1]['mN'])));\n",
    "ax1.hist(df_test[df_test.target==1]['mN_Mod'], bins=50, range=range_, histtype='step', lw=3, alpha=0.5, label='corrected \\nsd: {:.2f}'.format(np.std(df_test[df_test.target==1]['mN_Mod'])));\n",
    "\n",
    "np.std(df_test[df_test.target==1]['mN']), np.std(df_test[df_test.target==1]['mN_Mod'])\n",
    "\n",
    "ax1.axvline(1100, color='red')\n",
    "ax1.axvline(900, color='red')\n",
    "\n",
    "ax1.set_xlabel(r\"reco $m_N$ - true $m_N$\", fontsize=20);\n",
    "ax1.legend(fontsize=20);"
   ]
  },
  {
   "cell_type": "code",
   "execution_count": 117,
   "id": "fa2972f8",
   "metadata": {},
   "outputs": [
    {
     "data": {
      "text/plain": [
       "(0.703125, 0.61328125)"
      ]
     },
     "execution_count": 117,
     "metadata": {},
     "output_type": "execute_result"
    }
   ],
   "source": [
    "len(df_test[(df_test.target==1) & (df_test['mN']<1025) & (df_test['mN']>950)]) / len(df_test[df_test.target==1]['mN']), \\\n",
    "len(df_test[(df_test.target==1) & (df_test['mN_Mod']<1025) & (df_test['mN_Mod']>950)]) / len(df_test[df_test.target==1]['mN_Mod'])"
   ]
  },
  {
   "cell_type": "code",
   "execution_count": null,
   "id": "14cdf127",
   "metadata": {},
   "outputs": [],
   "source": []
  },
  {
   "cell_type": "code",
   "execution_count": 22,
   "id": "668423f5",
   "metadata": {},
   "outputs": [
    {
     "data": {
      "text/plain": [
       "(151.9414, 148.66885)"
      ]
     },
     "execution_count": 22,
     "metadata": {},
     "output_type": "execute_result"
    },
    {
     "data": {
      "image/png": "[encoded data removed]",
      "text/plain": [
       "<Figure size 432x288 with 1 Axes>"
      ]
     },
     "metadata": {
      "needs_background": "light"
     },
     "output_type": "display_data"
    }
   ],
   "source": [
    "range_ = [500,1500]\n",
    "plt.hist(df_train[df_train.target==1]['mN'], bins=20, range=range_, histtype='step');\n",
    "plt.hist(df_train[df_train.target==1]['mN_Mod'], bins=20, range=range_, histtype='step');\n",
    "\n",
    "np.std(df_train[df_train.target==1]['mN']), np.std(df_train[df_train.target==1]['mN_Mod'])"
   ]
  },
  {
   "cell_type": "code",
   "execution_count": null,
   "id": "5690c761",
   "metadata": {},
   "outputs": [],
   "source": []
  },
  {
   "cell_type": "code",
   "execution_count": null,
   "id": "3a80a1c5",
   "metadata": {},
   "outputs": [],
   "source": []
  },
  {
   "cell_type": "code",
   "execution_count": 68,
   "id": "19102820",
   "metadata": {},
   "outputs": [],
   "source": [
    "\n",
    "# fitting, with reweighting\n",
    "xgbc1 = xgb.XGBClassifier(seed=0)\n",
    "xgbc1.fit(X_train, y_train, sample_weight=df_train.weight.values);\n",
    "# xgbc1.fit(X_train, y_train);"
   ]
  },
  {
   "cell_type": "code",
   "execution_count": 69,
   "id": "90acdccc",
   "metadata": {},
   "outputs": [],
   "source": [
    "# scores for training\n",
    "df_bdt_train_s = df_train[['target', 'weight']]\n",
    "df_bdt_train_s.loc[:, 'preds'] = 1 - xgbc1.predict_proba(X_train)[:, 0]\n",
    "\n",
    "# score for testing \n",
    "df_bdt_test_s = df_test[['target', 'weight']]\n",
    "df_bdt_test_s.loc[:, 'preds'] = 1 - xgbc1.predict_proba(X_test)[:, 0]\n"
   ]
  },
  {
   "cell_type": "code",
   "execution_count": 76,
   "id": "6bbd4eaa",
   "metadata": {},
   "outputs": [
    {
     "data": {
      "image/png": "[encoded data removed]",
      "text/plain": [
       "<Figure size 576x432 with 1 Axes>"
      ]
     },
     "metadata": {
      "needs_background": "light"
     },
     "output_type": "display_data"
    }
   ],
   "source": [
    "# BDT score distribution \n",
    "\n",
    "f = plt.figure(figsize=(8,6))\n",
    "# f = plt.figure(figsize=(15,6))\n",
    "ax1 = plt.subplot(111)\n",
    "\n",
    "df_plot = df_bdt_test_s\n",
    "# df_plot = df_bdt_train_s\n",
    "\n",
    "pred0_max = df_plot[(df_plot.target==1)]['preds'].max() \n",
    "pred0_min = df_plot[(df_plot.target==1)]['preds'].min() \n",
    "pred0_diff = pred0_max - pred0_min\n",
    "range_=[pred0_min - 0.1*pred0_max, pred0_max + 0.1*pred0_diff]\n",
    "\n",
    "bins_=20\n",
    "\n",
    "ax1.hist(df_plot[(df_plot.target==1) | (df_plot.target==2)]['preds'], weights=df_plot[(df_plot.target==1) | (df_plot.target==2)]['weight']/sum(df_plot[(df_plot.target==1) | (df_plot.target==2)]['weight']), bins=bins_, range=range_, histtype='step', lw=3, label=r'Signal', alpha=0.5);\n",
    "# ax1.hist(df_plot[(df_plot.target==1)]['preds'], weights=df_plot[df_plot.target==1]['weight']/sum(df_plot[df_plot.target==1]['weight']), bins=bins_, range=range_, histtype='step', lw=3, label=r'Signal', alpha=0.5);\n",
    "ax1.hist(df_plot[(df_plot.target==0)]['preds'], weights=df_plot[df_plot.target==0]['weight']/sum(df_plot[df_plot.target==0]['weight']), bins=bins_, range=range_, histtype='step', lw=3, label=r'Bkg', alpha=0.5);\n",
    "\n",
    "ax1.set_ylabel('Normlized distribution', fontsize=20)\n",
    "ax1.set_xlabel(r'BDT score', fontsize=20)\n",
    "ax1.set_yticks([])\n",
    "ax1.legend(loc=9, fontsize=20)\n",
    "ax1.set_title(r\"$\\sqrt{s}=$\"+str(cm)+\"; $m_N=$\"+str(mN), fontsize=20)\n",
    "\n",
    "ax1.set_yscale('log')\n",
    "\n",
    "# threshold = 0.4\n",
    "# threshold = 0.3\n",
    "threshold = 0\n",
    "\n",
    "ax1.axvline(threshold, color='red', lw=3)\n",
    "\n",
    "\n",
    "# =================================================================================\n",
    "# Apply BDT score cut\n",
    "df_bdt_cut = df_bdt_test_s[(df_bdt_test_s['preds'] >= threshold)]\n",
    "# =================================================================================\n",
    "\n"
   ]
  },
  {
   "cell_type": "code",
   "execution_count": 77,
   "id": "0f547333",
   "metadata": {},
   "outputs": [],
   "source": [
    "\n",
    "# df_bdt_cut['target'] = df_test_o.loc[df_bdt_cut.index]['target']\n",
    "df_bdt_cut['iEvt'] = df_test_o.loc[df_bdt_cut.index]['iEvt']\n",
    "df_bdt_cut1 = df_bdt_cut[(df_bdt_cut['target'] == 1)]\n",
    "# df_bdt_cut2 = df_bdt_cut[(df_bdt_cut['target'] == 2)]\n",
    "df_bdt_cut0 = df_bdt_cut[(df_bdt_cut['target'] != 1) & (df_bdt_cut['target'] != 2)]\n",
    "\n",
    "df_bdt_cut1['mN'] = df_test_o.loc[df_bdt_cut1.index]['mN']\n",
    "# df_bdt_cut2['mN'] = df_test_o.loc[df_bdt_cut2.index]['mN']\n",
    "df_bdt_cut0['mN'] = df_test_o.loc[df_bdt_cut0.index]['mN']\n"
   ]
  },
  {
   "cell_type": "code",
   "execution_count": 78,
   "id": "0c1c4ced",
   "metadata": {},
   "outputs": [
    {
     "data": {
      "image/png": "[encoded data removed]",
      "text/plain": [
       "<Figure size 576x432 with 1 Axes>"
      ]
     },
     "metadata": {
      "needs_background": "light"
     },
     "output_type": "display_data"
    }
   ],
   "source": [
    "# mN distribution after BDT cut\n",
    "\n",
    "f = plt.figure(figsize=(8,6))\n",
    "ax1 = plt.subplot(111)\n",
    "\n",
    "range_ = [mN*(1-0.25)*1000, mN*(1+0.25)*1000]\n",
    "\n",
    "col = 'm'\n",
    "particle = 'N'\n",
    "\n",
    "bins_=50\n",
    "ax1.hist(df_bdt_cut1[col+particle], weights=[1/len(df_bdt_cut1)]*len(df_bdt_cut1), bins=bins_, range=range_, histtype='step', alpha=0.5, lw=3, label='Maj.', color='C0');\n",
    "# ax1.hist(df_bdt_cut2[col+particle], weights=[1/len(df_bdt_cut2)]*len(df_bdt_cut2), bins=bins_, range=range_, histtype='step', alpha=0.5, lw=3, label='s-ch (M)', color='C1');\n",
    "ax1.hist(df_bdt_cut0[col+particle], weights=[1/len(df_bdt_cut0)]*len(df_bdt_cut0), bins=bins_, range=range_, histtype='step', alpha=0.5, lw=3, label='Bkg', color='C2');\n",
    "\n",
    "\n",
    "ax1.set_ylabel('Normlized distribution', fontsize=20)\n",
    "ax1.set_xlabel(r'$m_N ~[\\rmGeV]$', fontsize=20)\n",
    "ax1.set_yticks([])\n",
    "ax1.legend(loc=1, fontsize=20)\n",
    "ax1.set_title(r\"$\\sqrt{s}=$\"+str(cm)+\"; $m_N=$\"+str(mN), fontsize=20)\n",
    "\n",
    "\n",
    "# partition_u = 0.05\n",
    "partition_u = 0.025\n",
    "# partition_u = 0.1\n",
    "# partition_l = 0.1\n",
    "partition_l = 0.05\n",
    "ax1.axvline(1000*mN*(1-partition_l), color='red', lw=3)\n",
    "ax1.axvline(1000*mN*(1+partition_u), color='red', lw=3)\n",
    "\n",
    "# f.savefig('./figures/mN')\n",
    "\n",
    "\n",
    "# =========================================================================================\n",
    "# manully apply cut on mN\n",
    "df_bdt_cut['mN'] = df_test_o.loc[df_bdt_cut.index]['mN']\n",
    "df_bdt_cut = df_bdt_cut[(df_bdt_cut.mN>=1000*mN*(1-partition_l)) & (df_bdt_cut.mN<=1000*mN*(1+partition_u))]\n",
    "# df_bdt_cut = df_bdt_cut[(df_bdt_cut.mN>=1800) & (df_bdt_cut.mN<=2200)]\n",
    "# =========================================================================================\n",
    "\n"
   ]
  },
  {
   "cell_type": "code",
   "execution_count": 47,
   "id": "2ebc43da",
   "metadata": {},
   "outputs": [
    {
     "ename": "NameError",
     "evalue": "name 'df_bdt_cut2' is not defined",
     "output_type": "error",
     "traceback": [
      "\u001b[0;31m---------------------------------------------------------------------------\u001b[0m",
      "\u001b[0;31mNameError\u001b[0m                                 Traceback (most recent call last)",
      "Input \u001b[0;32mIn [47]\u001b[0m, in \u001b[0;36m<cell line: 8>\u001b[0;34m()\u001b[0m\n\u001b[1;32m      6\u001b[0m nb \u001b[38;5;241m=\u001b[39m df_bdt_cut0\u001b[38;5;241m.\u001b[39mweight\u001b[38;5;241m.\u001b[39msum() \u001b[38;5;241m/\u001b[39m tr_te_size          \u001b[38;5;66;03m# Bkg\u001b[39;00m\n\u001b[1;32m      7\u001b[0m nM \u001b[38;5;241m=\u001b[39m df_bdt_cut1\u001b[38;5;241m.\u001b[39mweight\u001b[38;5;241m.\u001b[39msum() \u001b[38;5;241m/\u001b[39m tr_te_size \u001b[38;5;241m/\u001b[39m V2    \u001b[38;5;66;03m# M\u001b[39;00m\n\u001b[0;32m----> 8\u001b[0m nD \u001b[38;5;241m=\u001b[39m \u001b[43mdf_bdt_cut2\u001b[49m\u001b[38;5;241m.\u001b[39mweight\u001b[38;5;241m.\u001b[39msum() \u001b[38;5;241m/\u001b[39m tr_te_size \u001b[38;5;241m/\u001b[39m V2    \u001b[38;5;66;03m# t-ch D\u001b[39;00m\n\u001b[1;32m     10\u001b[0m \u001b[38;5;28mprint\u001b[39m(\u001b[38;5;124m'\u001b[39m\u001b[38;5;124myields: \u001b[39m\u001b[38;5;124m'\u001b[39m)\n\u001b[1;32m     11\u001b[0m \u001b[38;5;28mprint\u001b[39m(\u001b[38;5;124mf\u001b[39m\u001b[38;5;124m'\u001b[39m\u001b[38;5;124mBkg:\u001b[39m\u001b[38;5;130;01m\\t\u001b[39;00m\u001b[38;5;132;01m{\u001b[39;00mnb\u001b[38;5;132;01m:\u001b[39;00m\u001b[38;5;124m.2e\u001b[39m\u001b[38;5;132;01m}\u001b[39;00m\u001b[38;5;124m'\u001b[39m)\n",
      "\u001b[0;31mNameError\u001b[0m: name 'df_bdt_cut2' is not defined"
     ]
    }
   ],
   "source": [
    "df_bdt_cut0 = df_bdt_cut[(df_bdt_cut['target'] == 0)]   # Bkg\n",
    "df_bdt_cut1 = df_bdt_cut[(df_bdt_cut['target'] == 1)]   # M\n",
    "# df_bdt_cut2 = df_bdt_cut[(df_bdt_cut['target'] == 2)]   # D\n",
    "\n",
    "# yield (without |V|^2 dependence)\n",
    "nb = df_bdt_cut0.weight.sum() / tr_te_size          # Bkg\n",
    "nM = df_bdt_cut1.weight.sum() / tr_te_size / V2    # M\n",
    "nD = df_bdt_cut2.weight.sum() / tr_te_size / V2    # t-ch D\n",
    "\n",
    "print('yields: ')\n",
    "print(f'Bkg:\\t{nb:.2e}')\n",
    "print(f'(M):\\t{nM:.2e}')\n",
    "print(f'(D):\\t{nD:.2e}')"
   ]
  },
  {
   "cell_type": "code",
   "execution_count": null,
   "id": "e18656c9",
   "metadata": {},
   "outputs": [],
   "source": [
    "N = 1.96\n",
    "# N = 1.645\n",
    "M = N**2\n",
    "\n",
    "print('Fully Majorana case:')\n",
    "upperM, lowerM = ((M+(M**2 + 4*M*nb)**0.5)/2)/(nM), ((M-(M**2 + 4*M*nb)**0.5)/2)/(nM)\n",
    "print(f\"upper limit on |V|^2: {upperM:.2e}\")\n",
    "print(f\"lower limit on |V|^2: {lowerM:.2e}\")\n",
    "print()\n",
    "\n",
    "print('Fully Dirac case:')\n",
    "upperD, lowerD = ((M+(M**2 + 4*M*nb)**0.5)/2)/(nD), ((M-(M**2 + 4*M*nb)**0.5)/2)/(nD)\n",
    "print(f\"upper limit on |V|^2: {upperD:.2e}\")\n",
    "print(f\"lower limit on |V|^2: {lowerD:.2e}\")"
   ]
  },
  {
   "cell_type": "code",
   "execution_count": null,
   "id": "2a0e530c",
   "metadata": {},
   "outputs": [],
   "source": [
    "eff0 = len(df_bdt_cut0) / len(df_test_o[(df_test_o.target!=1) & (df_test_o.target!=2)])\n",
    "eff1 = len(df_bdt_cut1) / len(df_test_o[df_test_o.target==1])\n",
    "# eff2 = len(df_bdt_cut2) / len(df_test_o[df_test_o.target==2])\n",
    "\n",
    "print(\"BDT eff:\")\n",
    "print(\"bkg:\\t{:2f}%\".format(100*eff0))\n",
    "print(\"Maj:\\t{:2f}%\".format(100*eff1))\n",
    "# print(\"Dir:\\t{:2f}%\".format(100*eff2))"
   ]
  },
  {
   "cell_type": "code",
   "execution_count": null,
   "id": "b8987b4c",
   "metadata": {},
   "outputs": [],
   "source": [
    "print(\"s/b ratio: \")\n",
    "print(f'# Maj signal / bkg = {nM/nb:.0f} x |V|^2')\n",
    "print(f'# Dir signal / bkg = {nD/nb:.0f} x |V|^2')"
   ]
  },
  {
   "cell_type": "code",
   "execution_count": null,
   "id": "a699857e",
   "metadata": {},
   "outputs": [],
   "source": [
    "print(\"s/sqrt(b) ratio: \")\n",
    "print(f'# Maj signal / sqrt(bkg) = {nM/(nb)**0.5:.0f} x |V|^2')\n",
    "print(f'# Dir signal / sqrt(bkg) = {nD/(nb)**0.5:.0f} x |V|^2')"
   ]
  },
  {
   "cell_type": "code",
   "execution_count": null,
   "id": "20ebe842",
   "metadata": {},
   "outputs": [],
   "source": []
  },
  {
   "cell_type": "code",
   "execution_count": 157,
   "id": "a5c657bb",
   "metadata": {},
   "outputs": [
    {
     "data": {
      "text/plain": [
       "{'pzN': 47.0,\n",
       " 'ptLep': 31.0,\n",
       " 'ptJJ': 26.0,\n",
       " 'DeltaRjjl': 13.0,\n",
       " 'DeltaPhijjl': 12.0,\n",
       " 'ptN': 11.0,\n",
       " 'etaLep': 10.0,\n",
       " 'ELep': 7.0,\n",
       " 'EJet1': 6.0,\n",
       " 'etaJJ': 5.0,\n",
       " 'chargeLep': 4.0,\n",
       " 'EJet2': 4.0,\n",
       " 'mJJ': 3.0}"
      ]
     },
     "execution_count": 157,
     "metadata": {},
     "output_type": "execute_result"
    }
   ],
   "source": [
    "d = xgbc1.get_booster().get_score()\n",
    "dict(sorted(d.items(), key=lambda item: -1*item[1]))"
   ]
  },
  {
   "cell_type": "code",
   "execution_count": null,
   "id": "570a8440",
   "metadata": {},
   "outputs": [],
   "source": []
  },
  {
   "cell_type": "markdown",
   "id": "b11bc5db",
   "metadata": {},
   "source": [
    "## Maj v.s. Dir"
   ]
  },
  {
   "cell_type": "code",
   "execution_count": 30,
   "id": "775d0104",
   "metadata": {},
   "outputs": [],
   "source": [
    "\n",
    "df_bdt_test_s['target'] = df_test_o.loc[df_bdt_test_s.index]['target']\n",
    "df_bdt_test_s.loc[:, 'pred1'] = xgbc1.predict_proba(X_test)[:, 1]\n",
    "df_bdt_test_s.loc[:, 'pred2'] = xgbc1.predict_proba(X_test)[:, 2]\n",
    "\n",
    "df_bdt_test_s['target'] = df_bdt_test_s['target'].apply(relabel)"
   ]
  },
  {
   "cell_type": "code",
   "execution_count": 31,
   "id": "2f13d4ec",
   "metadata": {},
   "outputs": [],
   "source": [
    "df_bdt_test_s = df_bdt_test_s.loc[df_bdt_cut.index]"
   ]
  },
  {
   "cell_type": "code",
   "execution_count": 32,
   "id": "ba855e38",
   "metadata": {},
   "outputs": [
    {
     "data": {
      "image/png": "[encoded data removed]",
      "text/plain": [
       "<Figure size 864x576 with 3 Axes>"
      ]
     },
     "metadata": {
      "needs_background": "light"
     },
     "output_type": "display_data"
    }
   ],
   "source": [
    "plt.figure(figsize=(12,8))\n",
    "\n",
    "ax1 = plt.subplot(221)\n",
    "range_=[0,1]\n",
    "bins_=50\n",
    "\n",
    "ax1.hist(df_bdt_test_s[(df_bdt_test_s.target==1)]['pred1'], weights=df_bdt_test_s[df_bdt_test_s.target==1]['weight']/sum(df_bdt_test_s[df_bdt_test_s.target==1]['weight']), bins=bins_, range=range_, histtype='step', lw=3, label=r'Signal', alpha=0.5);\n",
    "ax1.hist(df_bdt_test_s[(df_bdt_test_s.target==2)]['pred1'], weights=df_bdt_test_s[df_bdt_test_s.target==2]['weight']/sum(df_bdt_test_s[df_bdt_test_s.target==2]['weight']), bins=bins_, range=range_, histtype='step', lw=3, label=r'Signal', alpha=0.5);\n",
    "ax1.hist(df_bdt_test_s[(df_bdt_test_s.target==0)]['pred1'], weights=df_bdt_test_s[df_bdt_test_s.target==0]['weight']/sum(df_bdt_test_s[df_bdt_test_s.target==0]['weight']), bins=bins_, range=range_, histtype='step', lw=3, label=r'Signal', alpha=0.5);\n",
    "cutM=0.5\n",
    "ax1.axvline(cutM)\n",
    "ax1.set_yscale('log')\n",
    "\n",
    "ax2 = plt.subplot(222)\n",
    "range_=[0,1]\n",
    "ax2.hist(df_bdt_test_s[(df_bdt_test_s.target==1)]['pred2'], weights=df_bdt_test_s[df_bdt_test_s.target==1]['weight']/sum(df_bdt_test_s[df_bdt_test_s.target==1]['weight']), bins=bins_, range=range_, histtype='step', lw=3, label=r'Signal', alpha=0.5);\n",
    "ax2.hist(df_bdt_test_s[(df_bdt_test_s.target==2)]['pred2'], weights=df_bdt_test_s[df_bdt_test_s.target==2]['weight']/sum(df_bdt_test_s[df_bdt_test_s.target==2]['weight']), bins=bins_, range=range_, histtype='step', lw=3, label=r'Signal', alpha=0.5);\n",
    "ax2.hist(df_bdt_test_s[(df_bdt_test_s.target==0)]['pred2'], weights=df_bdt_test_s[df_bdt_test_s.target==0]['weight']/sum(df_bdt_test_s[df_bdt_test_s.target==0]['weight']), bins=bins_, range=range_, histtype='step', lw=3, label=r'Signal', alpha=0.5);\n",
    "cutD=0.5\n",
    "ax2.axvline(cutD)\n",
    "ax2.set_yscale('log')\n",
    "\n",
    "\n",
    "ax3 = plt.subplot(223)\n",
    "range_=[0,1]\n",
    "ax3.hist(df_bdt_test_s[(df_bdt_test_s.target==1)]['pred1']+df_bdt_test_s[(df_bdt_test_s.target==1)]['pred2'], weights=df_bdt_test_s[df_bdt_test_s.target==1]['weight']/sum(df_bdt_test_s[df_bdt_test_s.target==1]['weight']), bins=bins_, range=range_, histtype='step', lw=3, label=r'Signal', alpha=0.5);\n",
    "ax3.hist(df_bdt_test_s[(df_bdt_test_s.target==2)]['pred1']+df_bdt_test_s[(df_bdt_test_s.target==2)]['pred2'], weights=df_bdt_test_s[df_bdt_test_s.target==2]['weight']/sum(df_bdt_test_s[df_bdt_test_s.target==2]['weight']), bins=bins_, range=range_, histtype='step', lw=3, label=r'Signal', alpha=0.5);\n",
    "ax3.hist(df_bdt_test_s[(df_bdt_test_s.target==0)]['pred1']+df_bdt_test_s[(df_bdt_test_s.target==0)]['pred2'], weights=df_bdt_test_s[df_bdt_test_s.target==0]['weight']/sum(df_bdt_test_s[df_bdt_test_s.target==0]['weight']), bins=bins_, range=range_, histtype='step', lw=3, label=r'Signal', alpha=0.5);\n",
    "# cutD=0.5\n",
    "ax3.axvline(threshold)\n",
    "ax3.set_yscale('log')"
   ]
  },
  {
   "cell_type": "code",
   "execution_count": null,
   "id": "53e2a3ee",
   "metadata": {},
   "outputs": [],
   "source": []
  },
  {
   "cell_type": "code",
   "execution_count": null,
   "id": "6c264643",
   "metadata": {},
   "outputs": [],
   "source": []
  },
  {
   "cell_type": "code",
   "execution_count": 33,
   "id": "9fa28162",
   "metadata": {},
   "outputs": [],
   "source": [
    "def get_M_block(V2_test=1e-5):\n",
    "    df_M = df_bdt_test_s[(df_bdt_test_s.pred1>cutM) & (df_bdt_test_s.pred2<=cutD)]\n",
    "    M0, M1, M2 = df_M[df_M.target==0].weight.sum()/tr_te_size, df_M[df_M.target==1].weight.sum()/tr_te_size, df_M[df_M.target==2].weight.sum()/tr_te_size\n",
    "    M1, M2 = M1/V2*V2_test, M2/V2*V2_test\n",
    "    return M0, M1, M2\n",
    "\n",
    "def get_D_block(V2_test=1e-5):\n",
    "    df_D = df_bdt_test_s[(df_bdt_test_s.pred1<=cutM) & (df_bdt_test_s.pred2>cutD)]\n",
    "    D0, D1, D2 = df_D[df_D.target==0].weight.sum()/tr_te_size, df_D[df_D.target==1].weight.sum()/tr_te_size, df_D[df_D.target==2].weight.sum()/tr_te_size\n",
    "    D1, D2 = D1/V2*V2_test, D2/V2*V2_test\n",
    "    return D0, D1, D2\n",
    "\n",
    "    \n",
    "def N_M(r, M_M, D_M, B_M):\n",
    "    return r*M_M + (1-r)*D_M + B_M\n",
    "    \n",
    "def N_D(r, M_D, D_D, B_D):\n",
    "    return r*D_D + (1-r)*M_D + B_D\n",
    "    \n",
    "    \n",
    "def lnL(r, r_t, M_M, D_M, B_M, M_D, D_D, B_D):\n",
    "    NM = N_M(r, M_M, D_M, B_M)\n",
    "    NMt = N_M(r_t, M_M, D_M, B_M)\n",
    "    ND = N_D(r, M_D, D_D, B_D)\n",
    "    NDt = N_D(r_t, M_D, D_D, B_D)\n",
    "    \n",
    "    \n",
    "    lnL_M = (NMt)*np.log(NM) - (NMt*np.log(NMt)-NMt) - NM\n",
    "    lnL_D = (NDt)*np.log(ND) - (NDt*np.log(NDt)-NDt) - ND\n",
    "    return lnL_M + lnL_D"
   ]
  },
  {
   "cell_type": "code",
   "execution_count": null,
   "id": "9062c7bc",
   "metadata": {},
   "outputs": [],
   "source": []
  },
  {
   "cell_type": "code",
   "execution_count": null,
   "id": "cc9dff2d",
   "metadata": {},
   "outputs": [],
   "source": []
  },
  {
   "cell_type": "code",
   "execution_count": null,
   "id": "99f364f8",
   "metadata": {},
   "outputs": [],
   "source": []
  },
  {
   "cell_type": "code",
   "execution_count": null,
   "id": "b20a248e",
   "metadata": {},
   "outputs": [],
   "source": []
  },
  {
   "cell_type": "code",
   "execution_count": null,
   "id": "a0c0c028",
   "metadata": {},
   "outputs": [],
   "source": []
  },
  {
   "cell_type": "code",
   "execution_count": null,
   "id": "d619d26e",
   "metadata": {},
   "outputs": [],
   "source": []
  },
  {
   "cell_type": "code",
   "execution_count": 51,
   "id": "43b96a70",
   "metadata": {},
   "outputs": [],
   "source": [
    "V2_test = upperM\n",
    "# V2_test = 1e-5\n",
    "M0, M1, M2 = get_M_block(V2_test)\n",
    "D0, D1, D2 = get_D_block(V2_test)\n",
    "\n",
    "r = np.arange(0, 1.0000000001, 0.0001)\n",
    "rt_lt = np.arange(0, 1.00000000001, 0.01)\n",
    "\n",
    "\n",
    "def get_bounds(r, sd):\n",
    "    \n",
    "    sig = sd**2\n",
    "    upper_lt = []\n",
    "    lower_lt = []\n",
    "\n",
    "\n",
    "    for i, rt in enumerate(rt_lt):\n",
    "        if i%100 == 0:\n",
    "            print(rt, end='\\r')\n",
    "        lnL_val = lnL(r, rt, M1, M2, M0, D1, D2, D0)\n",
    "\n",
    "        if rt == 1:\n",
    "            upper_lt.append(np.nan)\n",
    "        else:\n",
    "            i_r = np.argmin(abs(lnL_val[np.argmax(lnL_val):] - (np.max(lnL_val)-sig/2))) + np.argmax(lnL_val) \n",
    "            if abs(np.max(lnL_val)-sig/2 / lnL_val[i_r] - 1) < 1/100:\n",
    "                upper_lt.append(r[i_r])\n",
    "            else: \n",
    "                upper_lt.append(np.nan)\n",
    "        \n",
    "        if rt == 0:\n",
    "            lower_lt.append(np.nan)\n",
    "        else:\n",
    "            i_l = np.argmin(abs(lnL_val[:np.argmax(lnL_val)] - (np.max(lnL_val)-sig/2)))\n",
    "            if abs(np.max(lnL_val)-sig/2 / lnL_val[i_l] - 1) < 1/100:\n",
    "                lower_lt.append(r[i_l])\n",
    "            else: \n",
    "                lower_lt.append(np.nan)\n",
    "    \n",
    "    upper_lt, lower_lt = np.array(upper_lt), np.array(lower_lt)\n",
    "#     upper_lt[np.isnan(upper_lt)] = 1\n",
    "#     lower_lt[np.isnan(lower_lt)] = 0\n",
    "    return upper_lt, lower_lt"
   ]
  },
  {
   "cell_type": "code",
   "execution_count": 52,
   "id": "d2cdad83",
   "metadata": {},
   "outputs": [
    {
     "name": "stdout",
     "output_type": "stream",
     "text": [
      "0.0\r",
      "1.0\r",
      "0.0\r",
      "1.0\r"
     ]
    }
   ],
   "source": [
    "upper_lt1, lower_lt1 = get_bounds(r, 1)\n",
    "upper_lt2, lower_lt2 = get_bounds(r, 2)"
   ]
  },
  {
   "cell_type": "code",
   "execution_count": 53,
   "id": "b373025d",
   "metadata": {},
   "outputs": [
    {
     "data": {
      "image/png": "[encoded data removed]",
      "text/plain": [
       "<Figure size 576x432 with 1 Axes>"
      ]
     },
     "metadata": {
      "needs_background": "light"
     },
     "output_type": "display_data"
    }
   ],
   "source": [
    "\n",
    "f = plt.figure(figsize=(8,6))\n",
    "# plt.figure(figsize=(18,12))\n",
    "# plt.figure(figsize=(12,8))\n",
    "\n",
    "plt.plot(rt_lt, upper_lt1, color='C0', label=r'$1\\sigma$', lw=2)\n",
    "plt.plot(rt_lt, lower_lt1, color='C0', lw=2)\n",
    "\n",
    "plt.plot(rt_lt, upper_lt2, color='C1', label=r'$2\\sigma$', lw=2)\n",
    "plt.plot(rt_lt, lower_lt2, color='C1', lw=2)\n",
    "\n",
    "plt.legend(fontsize=20)\n",
    "\n",
    "plt.title(r\"$\\sqrt{s}=$\"+str(cm)+\"; $m_N=$\"+str(mN)+\"; $|V|^2=$\"+f\"{V2_test:.2e}\", fontsize=20)\n",
    "\n",
    "\n",
    "plt.xlabel(\"Simulated r\", fontsize=20);\n",
    "plt.ylabel(r\"MLE $\\hat{r}$\", fontsize=20);\n",
    "\n",
    "plt.margins(y=0)\n",
    "plt.margins(x=0)\n",
    "\n",
    "# plt.axvline(0, c='black')\n",
    "# plt.axvline(1, c='black')\n",
    "# plt.axhline(0, c='black')\n",
    "# plt.axhline(1, c='black')\n",
    "plt.grid()\n",
    "\n",
    "\n",
    "# plt.fill_between(rt_lt[1:], upper_lt2, lower_lt2, color='yellow')\n",
    "# plt.fill_between(rt_lt[1:], upper_lt1, lower_lt1, color='green')\n",
    "# plt.plot(rt_lt[1:], rt_lt[1:], color='black')\n"
   ]
  },
  {
   "cell_type": "code",
   "execution_count": 60,
   "id": "5b14fa48",
   "metadata": {},
   "outputs": [
    {
     "data": {
      "image/png": "[encoded data removed]",
      "text/plain": [
       "<Figure size 576x432 with 1 Axes>"
      ]
     },
     "metadata": {
      "needs_background": "light"
     },
     "output_type": "display_data"
    }
   ],
   "source": [
    "\n",
    "f = plt.figure(figsize=(8,6))\n",
    "\n",
    "r = np.arange(0, 1.00000000001, 0.0001)\n",
    "\n",
    "rt = 0.7   # if the measured data is such value\n",
    "lnL_val = lnL(r, rt, M1, M2, M0, D1, D2, D0)\n",
    "\n",
    "plt.plot(r, lnL_val)    # loop over possible r, to find the one max the liklihood\n",
    "plt.axvline(rt)\n",
    "plt.axhline(np.max(lnL_val))\n",
    "plt.axhline(np.max(lnL_val)-1/2)\n",
    "\n",
    "i_r = np.argmin(abs(lnL_val[np.argmax(lnL_val):] - (np.max(lnL_val)-1/2))) + np.argmax(lnL_val) \n",
    "if abs(np.max(lnL_val)-1/2 / lnL_val[i_r] - 1) < 1/100:\n",
    "    plt.axvline(r[i_r])\n",
    "\n",
    "i_l = np.argmin(abs(lnL_val[:np.argmax(lnL_val)] - (np.max(lnL_val)-1/2)))\n",
    "if abs(np.max(lnL_val)-1/2 / lnL_val[i_l] - 1) < 1/100:\n",
    "    plt.axvline(r[i_l])\n",
    "\n",
    "    \n",
    "plt.title(r\"$\\sqrt{s}=$\"+str(cm)+\"; $m_N=$\"+str(mN)+\"; $|V|^2=$\"+f\"{V2_test:.2e}; \"+f\"$r={rt}$\", fontsize=20)\n",
    "plt.xlabel(r\"MLE $\\hat{r}$\", fontsize=20);\n",
    "plt.ylabel(r\"$\\ln{L}$\", fontsize=20);\n",
    "plt.grid()"
   ]
  },
  {
   "cell_type": "code",
   "execution_count": 41,
   "id": "394f8784",
   "metadata": {},
   "outputs": [],
   "source": [
    "sigma_pos = upper_lt1 - rt_lt\n",
    "sigma_neg = rt_lt - lower_lt1 \n",
    "\n",
    "df_sigma = pd.DataFrame(columns=['r', 'sigma_pos', 'sigma_neg'])\n",
    "df_sigma['r'] = rt_lt\n",
    "df_sigma['sigma_pos'] = sigma_pos\n",
    "df_sigma['sigma_neg'] = sigma_neg\n",
    "\n",
    "df_sigma_pos = df_sigma[['r', 'sigma_pos']].dropna()\n",
    "df_sigma_neg = df_sigma[['r', 'sigma_neg']].dropna()\n"
   ]
  },
  {
   "cell_type": "code",
   "execution_count": 42,
   "id": "9fcb7ca6",
   "metadata": {},
   "outputs": [],
   "source": [
    "df_sigma['avg'] = df_sigma[['sigma_pos', 'sigma_neg']].mean(axis=1)\n",
    "# df_sigma = df_sigma.dropna()"
   ]
  },
  {
   "cell_type": "code",
   "execution_count": 62,
   "id": "788ab7d4",
   "metadata": {},
   "outputs": [
    {
     "data": {
      "image/png": "[encoded data removed]",
      "text/plain": [
       "<Figure size 576x432 with 1 Axes>"
      ]
     },
     "metadata": {
      "needs_background": "light"
     },
     "output_type": "display_data"
    }
   ],
   "source": [
    "\n",
    "f = plt.figure(figsize=(8,6))\n",
    "plt.plot(df_sigma['r'], df_sigma['avg'], lw=2, c='C4', label=r'$\\sigma_{\\rm avg}$')\n",
    "plt.plot(df_sigma['r'], df_sigma['sigma_pos'], lw=2, c='C2', label=r'$\\sigma_+$')\n",
    "plt.plot(df_sigma['r'], df_sigma['sigma_neg'], lw=2, c='C3', label=r'$\\sigma_-$')\n",
    "# plt.plot(rt_lt, upper_lt1-lower_lt1, lw=2)\n",
    "plt.legend(fontsize=20)\n",
    "\n",
    "plt.xlabel(\"simulated r\", fontsize=20);\n",
    "# plt.ylabel(r\"$\\sigma_+ - \\sigma_-$\", fontsize=20);\n",
    "plt.ylabel(r\"$\\sigma$\", fontsize=20);\n",
    "plt.title(r\"$\\sqrt{s}=$\"+str(cm)+\"; $m_N=$\"+str(mN)+\"; $|V|^2=$\"+f\"{V2_test:.2e}\", fontsize=20)\n",
    "plt.xlim(-0.05, 1.05)\n",
    "plt.grid()"
   ]
  },
  {
   "cell_type": "code",
   "execution_count": null,
   "id": "3c722813",
   "metadata": {},
   "outputs": [],
   "source": []
  },
  {
   "cell_type": "code",
   "execution_count": 63,
   "id": "2e022fe2",
   "metadata": {},
   "outputs": [],
   "source": [
    "# width_thre = 0.1\n",
    "# sig = 1\n",
    "\n",
    "# r = np.arange(0, 1.0000000001, 0.0001)\n",
    "# rt_lt = np.arange(0, 1.00000000001, 0.01)\n",
    "\n",
    "# V2_dt = {}\n",
    "\n",
    "# # verbose = 1\n",
    "# verbose = 0\n",
    "\n",
    "# for i, rt in enumerate(rt_lt[1:]):\n",
    "# # for i, rt in enumerate(r[249:]):\n",
    "\n",
    "#     if not verbose: print(i, rt, \"............................................................................................\", end='\\r')\n",
    "#     else: print(i, rt, \"............................................................................................\")\n",
    "    \n",
    "    \n",
    "#     V2_test = 1e-3\n",
    "#     while True:\n",
    "#         M0, M1, M2 = get_M_block(V2_test)\n",
    "#         D0, D1, D2 = get_D_block(V2_test)\n",
    "\n",
    "#         upper_lt = []\n",
    "#         lower_lt = []\n",
    "\n",
    "#         lnL_val = lnL(r, rt, M1, M2, M0, D1, D2, D0)\n",
    "\n",
    "#         i_r = np.argmin(abs(lnL_val[np.argmax(lnL_val):] - (np.max(lnL_val)-sig/2))) + np.argmax(lnL_val) \n",
    "#         if abs(np.max(lnL_val)-sig/2 / lnL_val[i_r] - 1) < 1/100:\n",
    "#             upper_lt.append(r[i_r])\n",
    "#         else: \n",
    "#             upper_lt.append(np.nan)\n",
    "\n",
    "\n",
    "#         i_l = np.argmin(abs(lnL_val[:np.argmax(lnL_val)] - (np.max(lnL_val)-sig/2)))\n",
    "#         if abs(np.max(lnL_val)-sig/2 / lnL_val[i_l] - 1) < 1/100:\n",
    "#             lower_lt.append(r[i_l])\n",
    "#         else: \n",
    "#             lower_lt.append(np.nan)\n",
    "\n",
    "#         upper_lt, lower_lt = np.array(upper_lt), np.array(lower_lt)\n",
    "#         upper_lt[np.isnan(upper_lt)] = 1\n",
    "#         lower_lt[np.isnan(lower_lt)] = 0\n",
    "\n",
    "#         width = (upper_lt - lower_lt)[0]\n",
    "#         if verbose: print(V2_test, width, round(abs(width / width_thre - 1), 8), round(abs(width / width_thre - 1), 8) < 1/100)\n",
    "#         if round(abs(width / width_thre - 1), 8) < 1/100:\n",
    "#             if verbose: print(\"============================================================================================================\")\n",
    "#             V2_dt[rt] = V2_test\n",
    "#             break\n",
    "            \n",
    "#         if width < width_thre and abs(width / width_thre - 1) < 10/100:\n",
    "#             if verbose: print(\"/5\")\n",
    "#             V2_test /= (5* (1 + np.random.normal(0, 0.1)))\n",
    "#         elif width < width_thre and abs(width / width_thre - 1) < 50/100:\n",
    "#             if verbose: print(\"/10\")\n",
    "#             V2_test /= (10* (1 + np.random.normal(0, 0.1)))\n",
    "#         elif width < width_thre :\n",
    "#             if verbose: print(\"/20\")\n",
    "#             V2_test /= (20* (1 + np.random.normal(0, 0.1)))\n",
    "            \n",
    "#         else:\n",
    "#             V2_test = 10**(np.log10(V2_test)*0.999) "
   ]
  },
  {
   "cell_type": "code",
   "execution_count": 64,
   "id": "29deb637",
   "metadata": {},
   "outputs": [],
   "source": [
    "\n",
    "# f = plt.figure(figsize=(8,6))\n",
    "# plt.plot(V2_dt.keys(), V2_dt.values(), lw=2)\n",
    "# plt.yscale('log')\n",
    "# plt.margins(y=0.25)\n",
    "# # plt.ylim(1e-5, 1.5e-4)\n",
    "# # plt.ylim(1e-5, 1e-3)\n",
    "\n",
    "# # ax1.set_title(, fontsize=20)\n",
    "# plt.title(r\"min. $|V|^2$ to have $(\\sigma_+ - \\sigma_-) \\leq 0.1$\"+\"\\n\"+r\"$\\sqrt{s}=$\"+str(cm)+\"; $m_N=$\"+str(mN), fontsize=20)\n",
    "# plt.xlabel(\"simulated r\", fontsize=20);\n",
    "# plt.ylabel(r\"$|V|^2$\", fontsize=20);\n",
    "# plt.grid()"
   ]
  },
  {
   "cell_type": "code",
   "execution_count": null,
   "id": "6b5850b0",
   "metadata": {},
   "outputs": [],
   "source": []
  },
  {
   "cell_type": "code",
   "execution_count": null,
   "id": "bd7bb1ea",
   "metadata": {},
   "outputs": [],
   "source": []
  },
  {
   "cell_type": "code",
   "execution_count": null,
   "id": "d54c2970",
   "metadata": {},
   "outputs": [],
   "source": []
  },
  {
   "cell_type": "code",
   "execution_count": null,
   "id": "9d3bb93c",
   "metadata": {},
   "outputs": [],
   "source": []
  },
  {
   "cell_type": "code",
   "execution_count": 65,
   "id": "865ea6dd",
   "metadata": {},
   "outputs": [],
   "source": [
    "def get_limit(r0=1, sd=1):\n",
    "\n",
    "    rt_lt = np.arange(0,1.00000000001,0.01)\n",
    "\n",
    "    V2_dt = {}\n",
    "    for rt in rt_lt:\n",
    "        if rt==r0:\n",
    "            V2_dt[rt] = np.nan\n",
    "#             print(\"..\")\n",
    "            continue\n",
    "            \n",
    "        V2_test = 1e-3\n",
    "        print(rt, end='\\r')\n",
    "        while True:\n",
    "            M0, M1, M2 = get_M_block(V2_test)\n",
    "            D0, D1, D2 = get_D_block(V2_test)\n",
    "            lnL_valr = lnL(rt, rt, M1, M2, M0, D1, D2, D0)\n",
    "            lnL_val0 = lnL(r0, rt, M1, M2, M0, D1, D2, D0)\n",
    "            Z = (-2*(lnL_val0 - lnL_valr))**0.5\n",
    "\n",
    "            if abs(Z/sd-1) < 0.5/100:\n",
    "                V2_dt[rt] = V2_test\n",
    "                break\n",
    "            elif Z > sd:\n",
    "                V2_test /= 2\n",
    "            elif Z < sd:\n",
    "                V2_test = 10**(np.log10(V2_test)*0.999) \n",
    "    return V2_dt"
   ]
  },
  {
   "cell_type": "code",
   "execution_count": 71,
   "id": "745c6250",
   "metadata": {},
   "outputs": [
    {
     "name": "stdout",
     "output_type": "stream",
     "text": [
      "1.09000000000000013\r"
     ]
    }
   ],
   "source": [
    "V2_dt_r0_1sd = get_limit(r0=0, sd=1.)\n",
    "V2_dt_r1_1sd = get_limit(r0=1, sd=1.)\n",
    "\n",
    "V2_dt_r0_2sd = get_limit(r0=0, sd=2.)\n",
    "V2_dt_r1_2sd = get_limit(r0=1, sd=2.)"
   ]
  },
  {
   "cell_type": "code",
   "execution_count": 72,
   "id": "61666e8b",
   "metadata": {},
   "outputs": [
    {
     "data": {
      "image/png": "[encoded data removed]",
      "text/plain": [
       "<Figure size 576x432 with 1 Axes>"
      ]
     },
     "metadata": {
      "needs_background": "light"
     },
     "output_type": "display_data"
    }
   ],
   "source": [
    "\n",
    "f = plt.figure(figsize=(8,6))\n",
    "plt.plot(V2_dt_r0_1sd.keys(), V2_dt_r0_1sd.values(), label=r'$H_0: r=0$ at $1\\sigma$', c='C1')\n",
    "plt.plot(V2_dt_r1_1sd.keys(), V2_dt_r1_1sd.values(), label=r'$H_0: r=1$ at $1\\sigma$', c='C0')\n",
    "plt.plot(V2_dt_r0_2sd.keys(), V2_dt_r0_2sd.values(), label=r'$H_0: r=0$ at $2\\sigma$', c='C1', linestyle='--')\n",
    "plt.plot(V2_dt_r1_2sd.keys(), V2_dt_r1_2sd.values(), label=r'$H_0: r=1$ at $2\\sigma$', c='C0', linestyle='--')\n",
    "plt.yscale('log')\n",
    "# plt.margins(y=0.25)\n",
    "\n",
    "# plt.axhline(upperM)\n",
    "\n",
    "plt.title(r\"min. $|V|^2$ to reject $H_0$\"+\"\\n\"+r\"$\\sqrt{s}=$\"+str(cm)+\"; $m_N=$\"+str(mN), fontsize=20)\n",
    "plt.xlabel(\"simulated r\", fontsize=20);\n",
    "plt.ylabel(r\"$|V|^2$\", fontsize=20);\n",
    "plt.grid()\n",
    "plt.legend(fontsize=20)\n",
    "\n",
    "plt.yscale('log')"
   ]
  },
  {
   "cell_type": "code",
   "execution_count": null,
   "id": "cb48209b",
   "metadata": {},
   "outputs": [],
   "source": []
  },
  {
   "cell_type": "code",
   "execution_count": 46,
   "id": "68fb6967",
   "metadata": {},
   "outputs": [
    {
     "name": "stdout",
     "output_type": "stream",
     "text": [
      "Majorana region: B:0.0; M:2.939157511987635; D:0.6990934435544011\n",
      "Dirac region:    B:67.0; M:1.4985935037510099; D:2.966781409261108\n"
     ]
    }
   ],
   "source": [
    "# M0, M1, M2 = get_M_block(8.051046480648566e-07)\n",
    "# D0, D1, D2 = get_D_block(8.051046480648566e-07)\n",
    "\n",
    "# print(f\"Majorana region: B:{M0}; M:{M1}; D:{M2}\")\n",
    "# print(f\"Dirac region:    B:{D0}; M:{D1}; D:{D2}\")"
   ]
  },
  {
   "cell_type": "code",
   "execution_count": null,
   "id": "a75f7478",
   "metadata": {},
   "outputs": [],
   "source": []
  },
  {
   "cell_type": "code",
   "execution_count": null,
   "id": "f13c384a",
   "metadata": {},
   "outputs": [],
   "source": []
  },
  {
   "cell_type": "code",
   "execution_count": 47,
   "id": "daefb823",
   "metadata": {},
   "outputs": [
    {
     "name": "stdout",
     "output_type": "stream",
     "text": [
      "yields: \n",
      "Bkg:\t6.70e+01\n",
      "(M):\t4.55e+06\n",
      "(D):\t5.51e+06\n",
      "  t-ch (M):\t6.70e+06\n",
      "  s-ch (M):\t2.74e+01\n",
      "  t-ch (D):\t6.04e+06\n",
      "  s-ch (D):\t1.42e+01\n",
      "Fully Majorana case:\n",
      "upper limit on |V|^2: 3.97e-06\n",
      "lower limit on |V|^2: -3.13e-06\n",
      "\n",
      "Fully Dirac case:\n",
      "upper limit on |V|^2: 3.28e-06\n",
      "lower limit on |V|^2: -2.58e-06\n"
     ]
    }
   ],
   "source": [
    "# # df_bdt_cut0 = df_bdt_cut[(df_bdt_cut['target'] == 0)]   # Bkg\n",
    "# # df_bdt_cut1 = df_bdt_cut[(df_bdt_cut['target'] == 1)]   # t-ch M\n",
    "# # df_bdt_cut2 = df_bdt_cut[(df_bdt_cut['target'] == 2)]   # s-ch M\n",
    "# # df_bdt_cut3 = df_bdt_cut[(df_bdt_cut['target'] == 3)]   # t-ch D\n",
    "# # df_bdt_cut4 = df_bdt_cut[(df_bdt_cut['target'] == 4)]   # s-ch D\n",
    "\n",
    "# # yield (without |V|^2 dependence)\n",
    "# # nb = df_bdt_cut0.weight.sum() / tr_te_size          # Bkg\n",
    "# # ntM = df_bdt_cut1.weight.sum() / tr_te_size / V2    # t-ch M\n",
    "# # nsM = df_bdt_cut2.weight.sum() / tr_te_size / V2    # s-ch M\n",
    "# # ntD = df_bdt_cut3.weight.sum() / tr_te_size / V2    # t-ch D\n",
    "# # nsD = df_bdt_cut4.weight.sum() / tr_te_size / V2    # s-ch D\n",
    "\n",
    "# M0, M1, M2 = get_M_block(1)\n",
    "# D0, D1, D2 = get_D_block(1)\n",
    "\n",
    "# nb = M0 + D0\n",
    "# nM = M2 + D2\n",
    "# nD = M1 + D1\n",
    "\n",
    "# # nM = nsM + ntM    # total M\n",
    "# # nD = nsD + ntD    # total D\n",
    "\n",
    "# print('yields: ')\n",
    "# print(f'Bkg:\\t{nb:.2e}')\n",
    "# print(f'(M):\\t{nM:.2e}')\n",
    "# print(f'(D):\\t{nD:.2e}')\n",
    "# print(f'  t-ch (M):\\t{ntM:.2e}')\n",
    "# print(f'  s-ch (M):\\t{nsM:.2e}')\n",
    "# print(f'  t-ch (D):\\t{ntD:.2e}')\n",
    "# print(f'  s-ch (D):\\t{nsD:.2e}')\n",
    "\n",
    "# N = 1.96\n",
    "# # N = 1.645\n",
    "# M = N**2\n",
    "\n",
    "# print('Fully Majorana case:')\n",
    "# upperM, lowerM = ((M+(M**2 + 4*M*nb)**0.5)/2)/(nM), ((M-(M**2 + 4*M*nb)**0.5)/2)/(nM)\n",
    "# print(f\"upper limit on |V|^2: {upperM:.2e}\")\n",
    "# print(f\"lower limit on |V|^2: {lowerM:.2e}\")\n",
    "# print()\n",
    "\n",
    "# print('Fully Dirac case:')\n",
    "# upperD, lowerD = ((M+(M**2 + 4*M*nb)**0.5)/2)/(nD), ((M-(M**2 + 4*M*nb)**0.5)/2)/(nD)\n",
    "# print(f\"upper limit on |V|^2: {upperD:.2e}\")\n",
    "# print(f\"lower limit on |V|^2: {lowerD:.2e}\")"
   ]
  },
  {
   "cell_type": "code",
   "execution_count": null,
   "id": "1ffded4d",
   "metadata": {},
   "outputs": [],
   "source": []
  },
  {
   "cell_type": "code",
   "execution_count": null,
   "id": "d47586b3",
   "metadata": {},
   "outputs": [],
   "source": []
  },
  {
   "cell_type": "code",
   "execution_count": null,
   "id": "881c339f",
   "metadata": {},
   "outputs": [],
   "source": []
  },
  {
   "cell_type": "code",
   "execution_count": 74,
   "id": "2a812fb1",
   "metadata": {},
   "outputs": [
    {
     "data": {
      "image/png": "[encoded data removed]",
      "text/plain": [
       "<Figure size 432x288 with 1 Axes>"
      ]
     },
     "metadata": {
      "needs_background": "light"
     },
     "output_type": "display_data"
    }
   ],
   "source": [
    "bins_=20\n",
    "range_=[0, 3000]\n",
    "plt.hist(df_train[df_train.target==0].mN, bins=bins_, range=range_, histtype='step');"
   ]
  },
  {
   "cell_type": "code",
   "execution_count": 80,
   "id": "e66065e7",
   "metadata": {},
   "outputs": [
    {
     "data": {
      "image/png": "[encoded data removed]",
      "text/plain": [
       "<Figure size 432x288 with 1 Axes>"
      ]
     },
     "metadata": {
      "needs_background": "light"
     },
     "output_type": "display_data"
    }
   ],
   "source": [
    "bins_=20\n",
    "range_=[-1500, 1500]\n",
    "plt.hist(df_train[df_train.target==0].pzN, bins=bins_, range=range_, histtype='step');"
   ]
  },
  {
   "cell_type": "code",
   "execution_count": 83,
   "id": "5e0f7630",
   "metadata": {},
   "outputs": [
    {
     "data": {
      "image/png": "[encoded data removed]",
      "text/plain": [
       "<Figure size 432x288 with 1 Axes>"
      ]
     },
     "metadata": {
      "needs_background": "light"
     },
     "output_type": "display_data"
    }
   ],
   "source": [
    "bins_=20\n",
    "range_=[0, 1500]\n",
    "plt.hist(df_train[df_train.target==1]['mN'], bins=bins_, range=range_, histtype='step');"
   ]
  },
  {
   "cell_type": "code",
   "execution_count": null,
   "id": "7d806dbb",
   "metadata": {},
   "outputs": [],
   "source": []
  }
 ],
 "metadata": {
  "kernelspec": {
   "display_name": "Python 3 (ipykernel)",
   "language": "python",
   "name": "python3"
  },
  "language_info": {
   "codemirror_mode": {
    "name": "ipython",
    "version": 3
   },
   "file_extension": ".py",
   "mimetype": "text/x-python",
   "name": "python",
   "nbconvert_exporter": "python",
   "pygments_lexer": "ipython3",
   "version": "3.10.4"
  }
 },
 "nbformat": 4,
 "nbformat_minor": 5
}
