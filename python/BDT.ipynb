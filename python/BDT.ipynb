{
 "cells": [
  {
   "cell_type": "code",
   "execution_count": 852,
   "id": "6fd7a5ef",
   "metadata": {},
   "outputs": [],
   "source": [
    "import uproot\n",
    "import pandas as pd\n",
    "import numpy as np\n",
    "import matplotlib.pyplot as plt\n",
    "import xgboost as xgb\n",
    "\n",
    "import warnings\n",
    "warnings.filterwarnings(\"ignore\")"
   ]
  },
  {
   "cell_type": "code",
   "execution_count": 853,
   "id": "05da84ea",
   "metadata": {},
   "outputs": [],
   "source": [
    "cm = 3\n",
    "mN = 1\n",
    "\n",
    "# V2 = 1e-4\n",
    "V2 = 1\n",
    "\n",
    "modes_dt = {0: {'mode': f'../features/background_reco_E-{cm}TeV.root', 'yields': 1.81e4}, \n",
    "            1: {'mode': f'../features/signal_schannel_reco_E-{cm}TeV_N-{mN}TeV.root', 'yields': 1.86e2*V2},\n",
    "            2: {'mode': f'../features/signal_tchannel_reco_E-{cm}TeV_N-{mN}TeV.root', 'yields': 1.26e6*V2}\n",
    "           }"
   ]
  },
  {
   "cell_type": "code",
   "execution_count": 854,
   "id": "781f75c0",
   "metadata": {},
   "outputs": [],
   "source": [
    "def load_train_test(modes_dt, size=0.5):\n",
    "    np.random.seed(9)\n",
    "    df_train = pd.DataFrame()\n",
    "    df_test = pd.DataFrame()\n",
    "    num_lt = []\n",
    "    \n",
    "    # loop over different modes\n",
    "    for i, (k, v) in enumerate(modes_dt.items()):\n",
    "        file = uproot.open(v['mode'])\n",
    "        df_i = pd.DataFrame(np.array(file['t']['features'].array()))\n",
    "        df_i['target'] = i    # add the target label\n",
    "        df_i['weight'] = v['yields']/len(df_i)\n",
    "        num_lt.append(len(df_i))\n",
    "\n",
    "        # shuffle the index for training and testing sets\n",
    "        idx = df_i.index.tolist()\n",
    "        np.random.shuffle(idx)\n",
    "        \n",
    "        # cut according to the fraction\n",
    "        cut = int(np.ceil(len(idx) * size))\n",
    "        df_train_i = df_i.loc[idx[:cut]]\n",
    "        df_test_i = df_i.loc[idx[cut:]]\n",
    "        \n",
    "        # Put to the global dataframs\n",
    "        df_train = pd.concat([df_train, df_train_i])\n",
    "        df_test = pd.concat([df_test, df_test_i])\n",
    "    \n",
    "    df_train.reset_index(drop=True, inplace=True)\n",
    "    df_test.reset_index(drop=True, inplace=True)\n",
    "    \n",
    "    print('train size: {} ({:.2f}%); test size: {} ({:.2f}%)'.format(len(df_train), 100*len(df_train)/(len(df_train)+len(df_test)), len(df_test), 100*len(df_test)/(len(df_train)+len(df_test))))\n",
    "    print('data points per mode: ',num_lt)\n",
    "    return df_train, df_test\n",
    "\n",
    "    "
   ]
  },
  {
   "cell_type": "code",
   "execution_count": 855,
   "id": "068e840a",
   "metadata": {},
   "outputs": [
    {
     "name": "stdout",
     "output_type": "stream",
     "text": [
      "train size: 6303 (50.01%); test size: 6301 (49.99%)\n",
      "data points per mode:  [540, 6099, 5965]\n"
     ]
    }
   ],
   "source": [
    "tr_te_size = 0.5 \n",
    "df_train, df_test = load_train_test(modes_dt, tr_te_size)"
   ]
  },
  {
   "cell_type": "code",
   "execution_count": 856,
   "id": "4621e69b",
   "metadata": {},
   "outputs": [],
   "source": [
    "def relabel(x):\n",
    "    if x == 0 :    # bkg\n",
    "        return 0\n",
    "    elif x == 1:     # s-channel signal\n",
    "        return 1\n",
    "    if x == 2 :    # t-channel signal\n",
    "        return 1"
   ]
  },
  {
   "cell_type": "code",
   "execution_count": 857,
   "id": "496e9c24",
   "metadata": {},
   "outputs": [],
   "source": [
    "features = ['ptLep', 'etaLep', 'ELep', 'chargeLep', # lepton 4 momentum info\n",
    "            'DeltaPhijjl', 'DeltaRjjl',          # Delta R between jj(from W boson) and lepton\n",
    "            'ptJJ', 'etaJJ', 'mJJ',     # jj(from W boson) 4 momentum info\n",
    "            'mN', 'ptN', 'pzN'           # reconstructed N 4 momentum info\n",
    "           ]\n",
    "\n",
    "# features = ['ptLep', 'ELep', 'mJJ', \n",
    "#             'mN']\n"
   ]
  },
  {
   "cell_type": "code",
   "execution_count": 858,
   "id": "00bf0dae",
   "metadata": {},
   "outputs": [],
   "source": [
    "# relabel the, all bkg become one label\n",
    "df_train['target'] = df_train['target'].apply(relabel)\n",
    "df_test['target'] = df_test['target'].apply(relabel)"
   ]
  },
  {
   "cell_type": "code",
   "execution_count": 859,
   "id": "143fa1c5",
   "metadata": {},
   "outputs": [],
   "source": [
    "# getting the inputs and labels\n",
    "X_train = df_train[features]\n",
    "y_train = np.array(df_train.target)\n",
    "\n",
    "# getting the inputs and labels\n",
    "X_test = df_test[features]\n",
    "y_test = np.array(df_train.target)"
   ]
  },
  {
   "cell_type": "code",
   "execution_count": 860,
   "id": "19102820",
   "metadata": {},
   "outputs": [],
   "source": [
    "# trainging\n",
    "X_train = df_train[features]\n",
    "y_train = np.array([relabel(i) for i in df_train['target']])\n",
    "\n",
    "# testing\n",
    "X_test = df_test[features]\n",
    "y_test = np.array([relabel(i) for i in df_test['target']])\n",
    "\n",
    "# fitting, with reweighting\n",
    "xgbc1 = xgb.XGBClassifier(seed=0)\n",
    "xgbc1.fit(X_train, y_train, sample_weight=df_train.weight.values);\n",
    "# xgbc1.fit(X_train, y_train);"
   ]
  },
  {
   "cell_type": "code",
   "execution_count": 861,
   "id": "90acdccc",
   "metadata": {},
   "outputs": [],
   "source": [
    "# transform the BDT output to score\n",
    "def soft(prob, target):\n",
    "    return np.exp(prob[:, target])/(np.exp(prob).sum(axis=1)) \n",
    "\n",
    "# scores for training\n",
    "df_bdt_train_s = df_train[['target', 'weight']]\n",
    "df_bdt_train_s.loc[:, 'pred1'] = soft(xgbc1.predict_proba(X_train), 1)\n",
    "\n",
    "# score for testing \n",
    "df_bdt_test_s = df_test[['target', 'weight']]\n",
    "df_bdt_test_s.loc[:, 'pred1'] = soft(xgbc1.predict_proba(X_test), 1)"
   ]
  },
  {
   "cell_type": "code",
   "execution_count": 862,
   "id": "6bbd4eaa",
   "metadata": {},
   "outputs": [
    {
     "data": {
      "text/plain": [
       "<matplotlib.lines.Line2D at 0x7ff7ab63f520>"
      ]
     },
     "execution_count": 862,
     "metadata": {},
     "output_type": "execute_result"
    },
    {
     "data": {
      "image/png": "[encoded data removed]",
      "text/plain": [
       "<Figure size 576x432 with 1 Axes>"
      ]
     },
     "metadata": {
      "needs_background": "light"
     },
     "output_type": "display_data"
    }
   ],
   "source": [
    "f = plt.figure(figsize=(8,6))\n",
    "ax1 = plt.subplot(111)\n",
    "df_plot = df_bdt_test_s\n",
    "pred0_max = df_plot[(df_plot.target==1)]['pred1'].max() \n",
    "pred0_min = df_plot[(df_plot.target==1)]['pred1'].min() \n",
    "pred0_diff = pred0_max - pred0_min\n",
    "range_=[pred0_min - 0.1*pred0_max, pred0_max + 0.1*pred0_diff]\n",
    "\n",
    "\n",
    "ax1.hist(df_plot[(df_plot.target==1)]['pred1'], weights=df_plot[df_plot.target==1]['weight'], bins=30, range=range_, density=True, histtype='step', lw=3, label=r'Signal', alpha=0.5);\n",
    "ax1.hist(df_plot[(df_plot.target==0)]['pred1'], weights=df_plot[df_plot.target==0]['weight'], bins=30, range=range_, density=True, histtype='step', lw=3, label=r'Bkg', alpha=0.5);\n",
    "\n",
    "# ax1.set_yscale('log')\n",
    "\n",
    "ax1.set_ylabel('Normlized distribution', fontsize=20)\n",
    "ax1.set_xlabel(r'BDT score', fontsize=20)\n",
    "ax1.set_yticks([])\n",
    "ax1.legend(loc=9, fontsize=20)\n",
    "\n",
    "\n",
    "threshold = 0.6\n",
    "ax1.axvline(threshold, color='red', lw=3)\n",
    "\n"
   ]
  },
  {
   "cell_type": "code",
   "execution_count": 863,
   "id": "a04fe460",
   "metadata": {},
   "outputs": [
    {
     "data": {
      "text/plain": [
       "(5998, 25)"
      ]
     },
     "execution_count": 863,
     "metadata": {},
     "output_type": "execute_result"
    }
   ],
   "source": [
    "len(df_bdt_test_s[(df_bdt_test_s['pred1'] >= threshold) & (df_bdt_test_s['target'] == 1)]),\\\n",
    "len(df_bdt_test_s[(df_bdt_test_s['pred1'] >= threshold) & (df_bdt_test_s['target'] == 0)])"
   ]
  },
  {
   "cell_type": "code",
   "execution_count": null,
   "id": "a4938242",
   "metadata": {},
   "outputs": [],
   "source": []
  },
  {
   "cell_type": "code",
   "execution_count": null,
   "id": "e58a4deb",
   "metadata": {},
   "outputs": [],
   "source": []
  },
  {
   "cell_type": "code",
   "execution_count": 864,
   "id": "db274e43",
   "metadata": {},
   "outputs": [
    {
     "data": {
      "text/plain": [
       "(1675.9259259259259, 1255748.6907072698)"
      ]
     },
     "execution_count": 864,
     "metadata": {},
     "output_type": "execute_result"
    }
   ],
   "source": [
    "\n",
    "V2_after = 1\n",
    "\n",
    "b, s = \\\n",
    "df_bdt_test_s[(df_bdt_test_s['pred1'] >= threshold) & (df_bdt_test_s['target'] == 0)]['weight'].sum() / tr_te_size, \\\n",
    "df_bdt_test_s[(df_bdt_test_s['pred1'] >= threshold) & (df_bdt_test_s['target'] == 1)]['weight'].sum() / tr_te_size * V2_after\n",
    "\n",
    "b, s"
   ]
  },
  {
   "cell_type": "code",
   "execution_count": 865,
   "id": "a0151650",
   "metadata": {},
   "outputs": [
    {
     "data": {
      "text/plain": [
       "1119.8549006437984"
      ]
     },
     "execution_count": 865,
     "metadata": {},
     "output_type": "execute_result"
    }
   ],
   "source": [
    "s / (s + b)**0.5"
   ]
  },
  {
   "cell_type": "code",
   "execution_count": 866,
   "id": "09642276",
   "metadata": {},
   "outputs": [
    {
     "name": "stdout",
     "output_type": "stream",
     "text": [
      "upper limit: 6.544495211133464e-05\n",
      "lower limit: -6.238574127685127e-05\n"
     ]
    }
   ],
   "source": [
    "N = 1.96\n",
    "# N = 1.645\n",
    "\n",
    "M = N**2\n",
    "\n",
    "upper, lower = ((M+(M**2 + 4*M*b)**0.5)/2)/(s/V2), ((M-(M**2 + 4*M*b)**0.5)/2)/(s/V2)\n",
    "print(\"upper limit:\", upper)\n",
    "print(\"lower limit:\",lower)"
   ]
  },
  {
   "cell_type": "code",
   "execution_count": null,
   "id": "2a0e530c",
   "metadata": {},
   "outputs": [],
   "source": []
  },
  {
   "cell_type": "code",
   "execution_count": null,
   "id": "c104ec3e",
   "metadata": {},
   "outputs": [],
   "source": []
  },
  {
   "cell_type": "code",
   "execution_count": 867,
   "id": "55ad1472",
   "metadata": {},
   "outputs": [
    {
     "data": {
      "text/plain": [
       "{'mN': 320.0,\n",
       " 'ELep': 162.0,\n",
       " 'etaLep': 159.0,\n",
       " 'pzN': 154.0,\n",
       " 'mJJ': 135.0,\n",
       " 'ptJJ': 123.0,\n",
       " 'ptN': 122.0,\n",
       " 'ptLep': 103.0,\n",
       " 'etaJJ': 90.0,\n",
       " 'DeltaPhijjl': 89.0,\n",
       " 'DeltaRjjl': 72.0,\n",
       " 'chargeLep': 15.0}"
      ]
     },
     "execution_count": 867,
     "metadata": {},
     "output_type": "execute_result"
    }
   ],
   "source": [
    "scores = xgbc1.get_booster().get_score()\n",
    "dict(sorted(scores.items(), key=lambda item: item[1]*-1))"
   ]
  },
  {
   "cell_type": "code",
   "execution_count": null,
   "id": "2ebba14c",
   "metadata": {},
   "outputs": [],
   "source": []
  },
  {
   "cell_type": "code",
   "execution_count": null,
   "id": "505a7f5e",
   "metadata": {},
   "outputs": [],
   "source": []
  }
 ],
 "metadata": {
  "kernelspec": {
   "display_name": "Python 3 (ipykernel)",
   "language": "python",
   "name": "python3"
  },
  "language_info": {
   "codemirror_mode": {
    "name": "ipython",
    "version": 3
   },
   "file_extension": ".py",
   "mimetype": "text/x-python",
   "name": "python",
   "nbconvert_exporter": "python",
   "pygments_lexer": "ipython3",
   "version": "3.10.2"
  }
 },
 "nbformat": 4,
 "nbformat_minor": 5
}
