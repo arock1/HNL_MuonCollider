{
 "cells": [
  {
   "cell_type": "code",
   "execution_count": 1,
   "id": "6fd7a5ef",
   "metadata": {},
   "outputs": [
    {
     "name": "stderr",
     "output_type": "stream",
     "text": [
      "/home/anson/.local/lib/python3.10/site-packages/xgboost/compat.py:36: FutureWarning: pandas.Int64Index is deprecated and will be removed from pandas in a future version. Use pandas.Index with the appropriate dtype instead.\n",
      "  from pandas import MultiIndex, Int64Index\n"
     ]
    }
   ],
   "source": [
    "import uproot\n",
    "import pandas as pd\n",
    "import numpy as np\n",
    "import matplotlib.pyplot as plt\n",
    "import xgboost as xgb\n",
    "from sklearn import metrics\n",
    "\n",
    "\n",
    "import warnings\n",
    "warnings.filterwarnings(\"ignore\")"
   ]
  },
  {
   "cell_type": "markdown",
   "id": "9b293dbb",
   "metadata": {},
   "source": [
    "### Loading Data"
   ]
  },
  {
   "cell_type": "code",
   "execution_count": 2,
   "id": "05da84ea",
   "metadata": {},
   "outputs": [],
   "source": [
    "cm = 3\n",
    "\n",
    "mN = 1\n",
    "# mN = 2\n",
    "# mN = 0.2\n",
    "\n",
    "# V2 = 1e-5\n",
    "V2 = 1e-6\n",
    "\n",
    "if mN == 1:\n",
    "#     Old: BDT cut: 0.3, mN cut:[mN*0.9, mN*1.1]\n",
    "#     modes_dt = {1: {'mode': f'../features/signal_tchannel_reco_E-{cm}TeV_N-{mN}TeV.root', 'yields': 1.17e7*V2},\n",
    "#                 2: {'mode': f'../features/signal_schannel_reco_E-{cm}TeV_N-{mN}TeV.root', 'yields': 1.75e3*V2}, \n",
    "#                 3: {'mode': f'../features/signal_tchannel_reco_E-{cm}TeV_N-{mN}TeV_Dirac.root', 'yields': 1.22e7*V2},\n",
    "#                 4: {'mode': f'../features/signal_schannel_reco_E-{cm}TeV_N-{mN}TeV_Dirac.root', 'yields': 1.77e3*V2},\n",
    "#                 0: {'mode': f'../features/background_reco_E-{cm}TeV.root', 'yields': 1.88e5}\n",
    "#                }\n",
    "#     New: BDT cut: 0.3, mN cut:[mN*0.95, mN*1.025]\n",
    "    modes_dt = {1: {'mode': f'../features/signal_tchannel_reco_E-{cm}TeV_N-{mN}TeV.root', 'yields': 1.21e7*V2},\n",
    "                2: {'mode': f'../features/signal_schannel_reco_E-{cm}TeV_N-{mN}TeV.root', 'yields': 1.87e3*V2}, \n",
    "                3: {'mode': f'../features/signal_tchannel_reco_E-{cm}TeV_N-{mN}TeV_Dirac.root', 'yields': 1.26e7*V2},\n",
    "                4: {'mode': f'../features/signal_schannel_reco_E-{cm}TeV_N-{mN}TeV_Dirac.root', 'yields': 1.88e3*V2},\n",
    "                0: {'mode': f'../features/background_reco_E-{cm}TeV.root', 'yields': 1.99e5}\n",
    "               }\n",
    "elif mN == 2:\n",
    "#     modes_dt = {1: {'mode': f'../features/signal_tchannel_reco_E-{cm}TeV_N-{mN}TeV.root', 'yields': 8.06e6*V2},\n",
    "#                 2: {'mode': f'../features/signal_schannel_reco_E-{cm}TeV_N-{mN}TeV.root', 'yields': 8.36e2*V2}, \n",
    "#                 3: {'mode': f'../features/signal_tchannel_reco_E-{cm}TeV_N-{mN}TeV_Dirac.root', 'yields': 8.26e6*V2},\n",
    "#                 4: {'mode': f'../features/signal_schannel_reco_E-{cm}TeV_N-{mN}TeV_Dirac.root', 'yields': 8.58e2*V2},\n",
    "#                 0: {'mode': f'../features/background_reco_E-{cm}TeV.root', 'yields': 1.84e5}\n",
    "#                }\n",
    "    modes_dt = {1: {'mode': f'../features/signal_tchannel_reco_E-{cm}TeV_N-{mN}TeV.root', 'yields': 8.49e6*V2},\n",
    "                2: {'mode': f'../features/signal_schannel_reco_E-{cm}TeV_N-{mN}TeV.root', 'yields': 8.79e2*V2}, \n",
    "                3: {'mode': f'../features/signal_tchannel_reco_E-{cm}TeV_N-{mN}TeV_Dirac.root', 'yields': 8.69e6*V2},\n",
    "                4: {'mode': f'../features/signal_schannel_reco_E-{cm}TeV_N-{mN}TeV_Dirac.root', 'yields': 8.91e2*V2},\n",
    "                0: {'mode': f'../features/background_reco_E-{cm}TeV.root', 'yields': 1.99e5}\n",
    "               }\n",
    "elif mN == 0.2:\n",
    "    modes_dt = {1: {'mode': f'../features/signal_tchannel_reco_E-{cm}TeV_N-02TeV.root', 'yields': 5.13e5*V2},\n",
    "                2: {'mode': f'../features/signal_schannel_reco_E-{cm}TeV_N-02TeV.root', 'yields': 2.18e3*V2}, \n",
    "                3: {'mode': f'../features/signal_tchannel_reco_E-{cm}TeV_N-02TeV_Dirac.root', 'yields': 5.16e5*V2},\n",
    "                4: {'mode': f'../features/signal_schannel_reco_E-{cm}TeV_N-02TeV_Dirac.root', 'yields': 2.33e3*V2},\n",
    "                0: {'mode': f'../features/background_reco_E-{cm}TeV.root', 'yields': 1.99e5}\n",
    "               }"
   ]
  },
  {
   "cell_type": "code",
   "execution_count": 3,
   "id": "781f75c0",
   "metadata": {},
   "outputs": [],
   "source": [
    "def load_train_test(modes_dt, size=0.5):\n",
    "    np.random.seed(9)\n",
    "    df_train = pd.DataFrame()\n",
    "    df_test = pd.DataFrame()\n",
    "    num_lt = []\n",
    "    \n",
    "    # loop over different modes\n",
    "    for i, (k, v) in enumerate(modes_dt.items()):\n",
    "        file = uproot.open(v['mode'])\n",
    "        df_i = pd.DataFrame(np.array(file['t']['features'].array()))\n",
    "        df_i['target'] = k    # add the target label\n",
    "        df_i['weight'] = v['yields']/len(df_i)\n",
    "#         print(k, v)\n",
    "        num_lt.append(len(df_i))\n",
    "\n",
    "        # shuffle the index for training and testing sets\n",
    "        idx = df_i.index.tolist()\n",
    "        np.random.shuffle(idx)\n",
    "        \n",
    "        # cut according to the fraction\n",
    "        cut = int(np.ceil(len(idx) * size))\n",
    "        df_train_i = df_i.loc[idx[:cut]]\n",
    "        df_test_i = df_i.loc[idx[cut:]]\n",
    "        \n",
    "        # Put to the global dataframs\n",
    "        df_train = pd.concat([df_train, df_train_i])\n",
    "        df_test = pd.concat([df_test, df_test_i])\n",
    "    \n",
    "    df_train.reset_index(drop=True, inplace=True)\n",
    "    df_test.reset_index(drop=True, inplace=True)\n",
    "    \n",
    "    print('train size: {} ({:.2f}%); test size: {} ({:.2f}%)'.format(len(df_train), 100*len(df_train)/(len(df_train)+len(df_test)), len(df_test), 100*len(df_test)/(len(df_train)+len(df_test))))\n",
    "    print('data points per mode: ',num_lt)\n",
    "    return df_train, df_test\n",
    "\n",
    "    "
   ]
  },
  {
   "cell_type": "code",
   "execution_count": 4,
   "id": "068e840a",
   "metadata": {},
   "outputs": [
    {
     "name": "stdout",
     "output_type": "stream",
     "text": [
      "train size: 17857 (50.00%); test size: 17855 (50.00%)\n",
      "data points per mode:  [5707, 6138, 5861, 6098, 11908]\n"
     ]
    }
   ],
   "source": [
    "tr_te_size = 0.5 \n",
    "df_train, df_test = load_train_test(modes_dt, tr_te_size)\n",
    "\n",
    "\n",
    "df_train_o, df_test_o = df_train.copy(), df_test.copy()"
   ]
  },
  {
   "cell_type": "markdown",
   "id": "9ed5019b",
   "metadata": {},
   "source": [
    "### Prepare for BDT"
   ]
  },
  {
   "cell_type": "code",
   "execution_count": 5,
   "id": "4621e69b",
   "metadata": {},
   "outputs": [],
   "source": [
    "def relabel(x):\n",
    "    if x == 0 :    # bkg\n",
    "        return 0\n",
    "    elif x == 1:     # s-channel signal\n",
    "        return 1\n",
    "    elif x == 2:    # t-channel signal\n",
    "        return 1\n",
    "    elif x == 3:     # s-channel signal\n",
    "        return 1\n",
    "    elif x == 4:    # t-channel signal\n",
    "        return 1"
   ]
  },
  {
   "cell_type": "code",
   "execution_count": 6,
   "id": "496e9c24",
   "metadata": {},
   "outputs": [],
   "source": [
    "# features = ['ptLep', 'etaLep', 'ELep', 'chargeLep', # lepton info\n",
    "#             'DeltaPhijjl', 'DeltaRjjl',             # Delta phi & Delta R between jj(from W boson) and lepton\n",
    "#             'ptJJ', 'etaJJ', 'mJJ',                 # jj(from W boson) momentum info\n",
    "#             'mN', 'ptN', 'pzN'                      # reconstructed N 4 momentum info\n",
    "#            ]\n",
    "\n",
    "features = ['ptLep', 'etaLep', 'ELep', 'chargeLep', # lepton info\n",
    "            'DeltaPhijjl', 'DeltaRjjl',             # Delta phi & Delta R between jj(from W boson) and lepton\n",
    "            'ptJJ', 'etaJJ', 'mJJ',                 # jj(from W boson) momentum info\n",
    "            'ptN', 'pzN'                            # reconstructed N 4 momentum info\n",
    "           ]\n",
    "\n",
    "# features = ['ptLep', 'etaLep', 'ELep', 'chargeLep', # lepton info\n",
    "#             'DeltaPhijjl', 'DeltaRjjl',             # Delta phi & Delta R between jj(from W boson) and lepton\n",
    "#             'ptJJ', 'etaJJ', 'mJJ',                 # jj(from W boson) momentum info\n",
    "#             'ptN', 'pzN',                      # reconstructed N 4 momentum info\n",
    "#             'EJet1', 'EJet2'\n",
    "#            ]\n",
    "\n",
    "# features = ['ptLep', 'etaLep', 'ELep', 'chargeLep', # lepton info\n",
    "#             'DeltaPhijjl', 'DeltaRjjl',             # Delta phi & Delta R between jj(from W boson) and lepton\n",
    "#             'ptJJ', 'etaJJ', 'mJJ',                 # jj(from W boson) momentum info\n",
    "#             'ptN', 'pzN',                      # reconstructed N 4 momentum info\n",
    "#             'pTheta'\n",
    "#            ]\n"
   ]
  },
  {
   "cell_type": "code",
   "execution_count": 7,
   "id": "00bf0dae",
   "metadata": {},
   "outputs": [],
   "source": [
    "# relabel the, all bkg become one label\n",
    "df_train['target'] = df_train['target'].apply(relabel)\n",
    "df_test['target'] = df_test['target'].apply(relabel)"
   ]
  },
  {
   "cell_type": "code",
   "execution_count": 8,
   "id": "143fa1c5",
   "metadata": {},
   "outputs": [],
   "source": [
    "# getting the inputs and labels\n",
    "X_train = df_train[features]\n",
    "y_train = np.array(df_train.target)\n",
    "\n",
    "# getting the inputs and labels\n",
    "X_test = df_test[features]\n",
    "y_test = np.array(df_train.target)"
   ]
  },
  {
   "cell_type": "code",
   "execution_count": 9,
   "id": "19102820",
   "metadata": {},
   "outputs": [],
   "source": [
    "# trainging\n",
    "X_train = df_train[features]\n",
    "y_train = np.array([relabel(i) for i in df_train['target']])\n",
    "\n",
    "# testing\n",
    "X_test = df_test[features]\n",
    "y_test = np.array([relabel(i) for i in df_test['target']])\n",
    "\n",
    "# fitting, with reweighting\n",
    "xgbc1 = xgb.XGBClassifier(seed=0)\n",
    "xgbc1.fit(X_train, y_train, sample_weight=df_train.weight.values);\n",
    "# xgbc1.fit(X_train, y_train);"
   ]
  },
  {
   "cell_type": "code",
   "execution_count": 10,
   "id": "90acdccc",
   "metadata": {},
   "outputs": [],
   "source": [
    "# transform the BDT output to score\n",
    "# def soft(prob, target):\n",
    "#     return np.exp(prob[:, target])/(np.exp(prob).sum(axis=1)) \n",
    "\n",
    "# scores for training\n",
    "df_bdt_train_s = df_train[['target', 'weight']]\n",
    "df_bdt_train_s.loc[:, 'pred1'] = xgbc1.predict_proba(X_train)[:, 1]\n",
    "\n",
    "# score for testing \n",
    "df_bdt_test_s = df_test[['target', 'weight']]\n",
    "df_bdt_test_s.loc[:, 'pred1'] = xgbc1.predict_proba(X_test)[:, 1]\n",
    "\n",
    "\n",
    "# # scores for training\n",
    "# df_bdt_train_s = df_train[['target', 'weight']]\n",
    "# df_bdt_train_s.loc[:, 'pred1'] = xgbc1.predict_proba(X_train)[:, 1]\n",
    "\n",
    "# # score for testing \n",
    "# df_bdt_test_s = df_test[['target', 'weight']]\n",
    "# df_bdt_test_s.loc[:, 'pred1'] = xgbc1.predict_proba(X_test)[:, 1]"
   ]
  },
  {
   "cell_type": "code",
   "execution_count": 11,
   "id": "6bbd4eaa",
   "metadata": {},
   "outputs": [
    {
     "data": {
      "image/png": "[encoded data removed]",
      "text/plain": [
       "<Figure size 1080x432 with 1 Axes>"
      ]
     },
     "metadata": {
      "needs_background": "light"
     },
     "output_type": "display_data"
    }
   ],
   "source": [
    "# BDT score distribution \n",
    "\n",
    "# f = plt.figure(figsize=(8,6))\n",
    "f = plt.figure(figsize=(15,6))\n",
    "ax1 = plt.subplot(111)\n",
    "\n",
    "df_plot = df_bdt_test_s\n",
    "# df_plot = df_bdt_train_s\n",
    "\n",
    "pred0_max = df_plot[(df_plot.target==1)]['pred1'].max() \n",
    "pred0_min = df_plot[(df_plot.target==1)]['pred1'].min() \n",
    "pred0_diff = pred0_max - pred0_min\n",
    "range_=[pred0_min - 0.1*pred0_max, pred0_max + 0.1*pred0_diff]\n",
    "\n",
    "bins_=100\n",
    "\n",
    "ax1.hist(df_plot[(df_plot.target==1)]['pred1'], weights=df_plot[df_plot.target==1]['weight'], bins=bins_, range=range_, density=True, histtype='step', lw=3, label=r'Signal', alpha=0.5);\n",
    "ax1.hist(df_plot[(df_plot.target==0)]['pred1'], weights=df_plot[df_plot.target==0]['weight'], bins=bins_, range=range_, density=True, histtype='step', lw=3, label=r'Bkg', alpha=0.5);\n",
    "\n",
    "ax1.set_ylabel('Normlized distribution', fontsize=20)\n",
    "ax1.set_xlabel(r'BDT score', fontsize=20)\n",
    "ax1.set_yticks([])\n",
    "ax1.legend(loc=9, fontsize=20)\n",
    "\n",
    "ax1.set_yscale('log')\n",
    "\n",
    "# threshold = 0.4\n",
    "threshold = 0.3\n",
    "# threshold = 0.275\n",
    "\n",
    "ax1.axvline(threshold, color='red', lw=3)\n",
    "\n",
    "\n",
    "# =================================================================================\n",
    "# Apply BDT score cut\n",
    "df_bdt_cut = df_bdt_test_s[(df_bdt_test_s['pred1'] >= threshold)]\n",
    "# =================================================================================\n",
    "\n"
   ]
  },
  {
   "cell_type": "code",
   "execution_count": 12,
   "id": "0f547333",
   "metadata": {},
   "outputs": [],
   "source": [
    "\n",
    "df_bdt_cut['target'] = df_test_o.loc[df_bdt_cut.index]['target']\n",
    "df_bdt_cut['iEvt'] = df_test_o.loc[df_bdt_cut.index]['iEvt']\n",
    "df_bdt_cut0 = df_bdt_cut[(df_bdt_cut['target'] == 0)]\n",
    "df_bdt_cut1 = df_bdt_cut[(df_bdt_cut['target'] == 1)]\n",
    "df_bdt_cut2 = df_bdt_cut[(df_bdt_cut['target'] == 2)]\n",
    "df_bdt_cut3 = df_bdt_cut[(df_bdt_cut['target'] == 3)]\n",
    "df_bdt_cut4 = df_bdt_cut[(df_bdt_cut['target'] == 4)]\n",
    "\n",
    "df_bdt_cut0['mN'] = df_test_o.loc[df_bdt_cut0.index]['mN']\n",
    "df_bdt_cut1['mN'] = df_test_o.loc[df_bdt_cut1.index]['mN']\n",
    "df_bdt_cut2['mN'] = df_test_o.loc[df_bdt_cut2.index]['mN']\n",
    "df_bdt_cut3['mN'] = df_test_o.loc[df_bdt_cut3.index]['mN']\n",
    "df_bdt_cut4['mN'] = df_test_o.loc[df_bdt_cut4.index]['mN']\n"
   ]
  },
  {
   "cell_type": "code",
   "execution_count": 13,
   "id": "0c1c4ced",
   "metadata": {},
   "outputs": [
    {
     "data": {
      "image/png": "[encoded data removed]",
      "text/plain": [
       "<Figure size 576x432 with 1 Axes>"
      ]
     },
     "metadata": {
      "needs_background": "light"
     },
     "output_type": "display_data"
    }
   ],
   "source": [
    "# mN distribution after BDT cut\n",
    "\n",
    "f = plt.figure(figsize=(8,6))\n",
    "ax1 = plt.subplot(111)\n",
    "\n",
    "range_ = [mN*(1-0.25)*1000, mN*(1+0.25)*1000]\n",
    "\n",
    "col = 'm'\n",
    "particle = 'N'\n",
    "\n",
    "bins_=50\n",
    "ax1.hist(df_bdt_cut1[col+particle], weights=[1/len(df_bdt_cut1)]*len(df_bdt_cut1), bins=bins_, range=range_, histtype='step', alpha=0.5, lw=3, label='t-ch (M)', color='C0');\n",
    "ax1.hist(df_bdt_cut2[col+particle], weights=[1/len(df_bdt_cut2)]*len(df_bdt_cut2), bins=bins_, range=range_, histtype='step', alpha=0.5, lw=3, label='s-ch (M)', color='C1');\n",
    "ax1.hist(df_bdt_cut3[col+particle], weights=[1/len(df_bdt_cut3)]*len(df_bdt_cut3), bins=bins_, range=range_, histtype='step', alpha=0.5, lw=3, label='t-ch (D)', color='C0', linestyle='--');\n",
    "ax1.hist(df_bdt_cut4[col+particle], weights=[1/len(df_bdt_cut4)]*len(df_bdt_cut4), bins=bins_, range=range_, histtype='step', alpha=0.5, lw=3, label='s-ch (D)', color='C1', linestyle='--');\n",
    "ax1.hist(df_bdt_cut0[col+particle], weights=[1/len(df_bdt_cut0)]*len(df_bdt_cut0), bins=bins_, range=range_, histtype='step', alpha=0.5, lw=3, label='Bkg', color='C2');\n",
    "\n",
    "\n",
    "ax1.set_ylabel('Normlized distribution', fontsize=20)\n",
    "ax1.set_xlabel(r'$m_N ~[\\rmGeV]$', fontsize=20)\n",
    "ax1.set_yticks([])\n",
    "ax1.legend(loc=1, fontsize=20)\n",
    "\n",
    "\n",
    "# partition_u = 0.05\n",
    "partition_u = 0.025\n",
    "# partition_u = 0.1\n",
    "# partition_l = 0.1\n",
    "partition_l = 0.05\n",
    "ax1.axvline(1000*mN*(1-partition_l), color='red', lw=3)\n",
    "ax1.axvline(1000*mN*(1+partition_u), color='red', lw=3)\n",
    "\n",
    "# f.savefig('./figures/mN')\n",
    "\n",
    "\n",
    "# =========================================================================================\n",
    "# manully apply cut on mN\n",
    "df_bdt_cut['mN'] = df_test_o.loc[df_bdt_cut.index]['mN']\n",
    "df_bdt_cut = df_bdt_cut[(df_bdt_cut.mN>=1000*mN*(1-partition_l)) & (df_bdt_cut.mN<=1000*mN*(1+partition_u))]\n",
    "# df_bdt_cut = df_bdt_cut[(df_bdt_cut.mN>=1800) & (df_bdt_cut.mN<=2200)]\n",
    "# =========================================================================================\n",
    "\n"
   ]
  },
  {
   "cell_type": "code",
   "execution_count": 14,
   "id": "2ebc43da",
   "metadata": {},
   "outputs": [
    {
     "name": "stdout",
     "output_type": "stream",
     "text": [
      "yields: \n",
      "Bkg:\t1.00e+02\n",
      "(M):\t5.88e+06\n",
      "(D):\t5.53e+06\n",
      "  t-ch (M):\t5.88e+06\n",
      "  s-ch (M):\t1.77e+01\n",
      "  t-ch (D):\t5.53e+06\n",
      "  s-ch (D):\t1.05e+01\n"
     ]
    }
   ],
   "source": [
    "df_bdt_cut0 = df_bdt_cut[(df_bdt_cut['target'] == 0)]   # Bkg\n",
    "df_bdt_cut1 = df_bdt_cut[(df_bdt_cut['target'] == 1)]   # t-ch M\n",
    "df_bdt_cut2 = df_bdt_cut[(df_bdt_cut['target'] == 2)]   # s-ch M\n",
    "df_bdt_cut3 = df_bdt_cut[(df_bdt_cut['target'] == 3)]   # t-ch D\n",
    "df_bdt_cut4 = df_bdt_cut[(df_bdt_cut['target'] == 4)]   # s-ch D\n",
    "\n",
    "# yield (without |V|^2 dependence)\n",
    "nb = df_bdt_cut0.weight.sum() / tr_te_size          # Bkg\n",
    "ntM = df_bdt_cut1.weight.sum() / tr_te_size / V2    # t-ch M\n",
    "nsM = df_bdt_cut2.weight.sum() / tr_te_size / V2    # s-ch M\n",
    "ntD = df_bdt_cut3.weight.sum() / tr_te_size / V2    # t-ch D\n",
    "nsD = df_bdt_cut4.weight.sum() / tr_te_size / V2    # s-ch D\n",
    "\n",
    "nM = nsM + ntM    # total M\n",
    "nD = nsD + ntD    # total D\n",
    "\n",
    "print('yields: ')\n",
    "print(f'Bkg:\\t{nb:.2e}')\n",
    "print(f'(M):\\t{nM:.2e}')\n",
    "print(f'(D):\\t{nD:.2e}')\n",
    "print(f'  t-ch (M):\\t{ntM:.2e}')\n",
    "print(f'  s-ch (M):\\t{nsM:.2e}')\n",
    "print(f'  t-ch (D):\\t{ntD:.2e}')\n",
    "print(f'  s-ch (D):\\t{nsD:.2e}')"
   ]
  },
  {
   "cell_type": "code",
   "execution_count": 15,
   "id": "e18656c9",
   "metadata": {},
   "outputs": [
    {
     "name": "stdout",
     "output_type": "stream",
     "text": [
      "Fully Majorana case:\n",
      "upper limit on |V|^2: 3.68e-06\n",
      "lower limit on |V|^2: -3.03e-06\n",
      "\n",
      "Fully Dirac case:\n",
      "upper limit on |V|^2: 3.91e-06\n",
      "lower limit on |V|^2: -3.22e-06\n"
     ]
    }
   ],
   "source": [
    "N = 1.96\n",
    "M = N**2\n",
    "\n",
    "print('Fully Majorana case:')\n",
    "upperM, lowerM = ((M+(M**2 + 4*M*nb)**0.5)/2)/(nM), ((M-(M**2 + 4*M*nb)**0.5)/2)/(nM)\n",
    "print(f\"upper limit on |V|^2: {upperM:.2e}\")\n",
    "print(f\"lower limit on |V|^2: {lowerM:.2e}\")\n",
    "print()\n",
    "\n",
    "print('Fully Dirac case:')\n",
    "upperD, lowerD = ((M+(M**2 + 4*M*nb)**0.5)/2)/(nD), ((M-(M**2 + 4*M*nb)**0.5)/2)/(nD)\n",
    "print(f\"upper limit on |V|^2: {upperD:.2e}\")\n",
    "print(f\"lower limit on |V|^2: {lowerD:.2e}\")"
   ]
  },
  {
   "cell_type": "code",
   "execution_count": 16,
   "id": "2a0e530c",
   "metadata": {},
   "outputs": [
    {
     "name": "stdout",
     "output_type": "stream",
     "text": [
      "BDT eff:\n",
      "bkg:\t\t0.050386%\n",
      "t-ch (M):\t48.615492%\n",
      "t-ch (D):\t43.890785%\n"
     ]
    }
   ],
   "source": [
    "eff0, eff1, eff2, eff3, eff4 = \\\n",
    "len(df_bdt_cut0) / len(df_test_o[df_test_o.target==0]), \\\n",
    "len(df_bdt_cut1) / len(df_test_o[df_test_o.target==1]), \\\n",
    "len(df_bdt_cut2) / len(df_test_o[df_test_o.target==2]), \\\n",
    "len(df_bdt_cut3) / len(df_test_o[df_test_o.target==3]), \\\n",
    "len(df_bdt_cut4) / len(df_test_o[df_test_o.target==4])\n",
    "\n",
    "print(\"BDT eff:\")\n",
    "print(\"bkg:\\t\\t{:2f}%\".format(100*eff0))\n",
    "print(\"t-ch (M):\\t{:2f}%\".format(100*eff1))\n",
    "# print(\"s-ch (M):\\t{:2f}%\".format(100*eff2))\n",
    "print(\"t-ch (D):\\t{:2f}%\".format(100*eff3))\n",
    "# print(\"s-ch (D):\\t{:2f}%\".format(100*eff4))"
   ]
  },
  {
   "cell_type": "code",
   "execution_count": 17,
   "id": "b8987b4c",
   "metadata": {},
   "outputs": [
    {
     "name": "stdout",
     "output_type": "stream",
     "text": [
      "s/b ratio: \n",
      "# Maj signal / bkg = 58657 x |V|^2\n",
      "# Dir signal / bkg = 55145 x |V|^2\n"
     ]
    }
   ],
   "source": [
    "print(\"s/b ratio: \")\n",
    "print(f'# Maj signal / bkg = {nM/nb:.0f} x |V|^2')\n",
    "print(f'# Dir signal / bkg = {nD/nb:.0f} x |V|^2')"
   ]
  },
  {
   "cell_type": "code",
   "execution_count": 18,
   "id": "a699857e",
   "metadata": {},
   "outputs": [
    {
     "name": "stdout",
     "output_type": "stream",
     "text": [
      "s/sqrt(b) ratio: \n",
      "# Maj signal / sqrt(bkg) = 587357 x |V|^2\n",
      "# Dir signal / sqrt(bkg) = 552189 x |V|^2\n"
     ]
    }
   ],
   "source": [
    "print(\"s/sqrt(b) ratio: \")\n",
    "print(f'# Maj signal / sqrt(bkg) = {nM/(nb)**0.5:.0f} x |V|^2')\n",
    "print(f'# Dir signal / sqrt(bkg) = {nD/(nb)**0.5:.0f} x |V|^2')"
   ]
  },
  {
   "cell_type": "code",
   "execution_count": 19,
   "id": "d40ef54c",
   "metadata": {},
   "outputs": [
    {
     "data": {
      "text/plain": [
       "{'pzN': 115.0,\n",
       " 'ELep': 62.0,\n",
       " 'ptLep': 61.0,\n",
       " 'ptJJ': 61.0,\n",
       " 'etaLep': 57.0,\n",
       " 'DeltaRjjl': 44.0,\n",
       " 'ptN': 32.0,\n",
       " 'etaJJ': 31.0,\n",
       " 'DeltaPhijjl': 25.0,\n",
       " 'mJJ': 22.0,\n",
       " 'chargeLep': 1.0}"
      ]
     },
     "execution_count": 19,
     "metadata": {},
     "output_type": "execute_result"
    }
   ],
   "source": [
    "d = xgbc1.get_booster().get_score()\n",
    "dict(sorted(d.items(), key=lambda item: -1*item[1]))"
   ]
  },
  {
   "cell_type": "code",
   "execution_count": null,
   "id": "570a8440",
   "metadata": {},
   "outputs": [],
   "source": []
  },
  {
   "cell_type": "code",
   "execution_count": null,
   "id": "a4938242",
   "metadata": {},
   "outputs": [],
   "source": []
  },
  {
   "cell_type": "code",
   "execution_count": 40,
   "id": "96954697",
   "metadata": {},
   "outputs": [],
   "source": [
    "# df_test_o = df_test_o.set_index('iEvt')"
   ]
  },
  {
   "cell_type": "code",
   "execution_count": 180,
   "id": "869d069b",
   "metadata": {},
   "outputs": [],
   "source": [
    "for t in range(5):\n",
    "    df_bdt_cut.loc[df_bdt_cut.target==t, ['pxLep', 'pyLep', 'pzLep', 'pxN', 'pyN', 'pzN']] = \\\n",
    "    df_test_o[(df_test_o.target==t)].loc[df_bdt_cut[df_bdt_cut.target==t].iEvt][['pxLep', 'pyLep', 'pzLep', 'pxN', 'pyN', 'pzN']].values"
   ]
  },
  {
   "cell_type": "code",
   "execution_count": 181,
   "id": "2ed087de",
   "metadata": {},
   "outputs": [],
   "source": [
    "# df = df_tD_o\n",
    "df = df_bdt_cut\n",
    "\n",
    "pp = np.array([0,0,1])\n",
    "\n",
    "Nk = []\n",
    "Nr = []\n",
    "Nn = []\n",
    "\n",
    "# for i in range(len(df)):\n",
    "# for i in range(10):\n",
    "# k = np.array([df.iloc[i]['pxN'], df.iloc[i]['pyN'], df.iloc[i]['pzN']])\n",
    "k = np.array(df[['pzN', 'pyN', 'pzN']])\n",
    "k = k / (np.sum(k**2, axis=1) ** 0.5).reshape(-1,1)\n",
    "\n",
    "yp = np.dot(k, pp)\n",
    "rp = (1-yp**2)**0.5\n",
    "r = np.sign(yp).reshape(-1,1) * (pp-k*yp.reshape(-1,1)) / rp.reshape(-1,1)\n",
    "    \n",
    "n = np.cross(k, r)\n",
    "    \n",
    "vLep = df[['pxLep', 'pyLep', 'pzLep']]\n",
    "    \n",
    "df['Nk'] = np.diag(np.dot(k, vLep.T)) / np.diag(np.dot(vLep, vLep.T)) * np.diag(np.dot(k, k.T))\n",
    "df['Nr'] = np.diag(np.dot(r, vLep.T)) / np.diag(np.dot(vLep, vLep.T)) * np.diag(np.dot(r, r.T))\n",
    "df['Nn'] = np.diag(np.dot(n, vLep.T)) / np.diag(np.dot(vLep, vLep.T)) * np.diag(np.dot(n, n.T))"
   ]
  },
  {
   "cell_type": "code",
   "execution_count": 195,
   "id": "3d9f0fea",
   "metadata": {},
   "outputs": [],
   "source": [
    "Nk_pos_s = df[(df.Nk>0) & (df.target!=0)].weight.sum() / tr_te_size \n",
    "Nk_pos_b = df[(df.Nk>0) & (df.target==0)].weight.sum() / tr_te_size\n",
    "\n",
    "Nk_neg_s = df[(df.Nk<0) & (df.target!=0)].weight.sum() / tr_te_size \n",
    "Nk_neg_b = df[(df.Nk<0) & (df.target==0)].weight.sum() / tr_te_size "
   ]
  },
  {
   "cell_type": "code",
   "execution_count": 196,
   "id": "48613003",
   "metadata": {},
   "outputs": [
    {
     "data": {
      "text/plain": [
       "1.4288615976941144"
      ]
     },
     "execution_count": 196,
     "metadata": {},
     "output_type": "execute_result"
    }
   ],
   "source": [
    "(1/(Nk_pos_s/(Nk_pos_s+Nk_pos_b)**0.5) + 1/(Nk_neg_s/(Nk_neg_s+Nk_neg_b)**0.5))**0.5"
   ]
  },
  {
   "cell_type": "code",
   "execution_count": 197,
   "id": "aa6c4bf4",
   "metadata": {},
   "outputs": [
    {
     "data": {
      "text/plain": [
       "(10.482035201965019, 100.26872690628149)"
      ]
     },
     "execution_count": 197,
     "metadata": {},
     "output_type": "execute_result"
    }
   ],
   "source": [
    "Nk_pos_s, Nk_pos_b"
   ]
  },
  {
   "cell_type": "code",
   "execution_count": 198,
   "id": "2d8d928f",
   "metadata": {},
   "outputs": [
    {
     "data": {
      "text/plain": [
       "(0.9287321334001024, 0.0)"
      ]
     },
     "execution_count": 198,
     "metadata": {},
     "output_type": "execute_result"
    }
   ],
   "source": [
    "Nk_neg_s, Nk_neg_b"
   ]
  },
  {
   "cell_type": "code",
   "execution_count": null,
   "id": "10aa69f0",
   "metadata": {},
   "outputs": [],
   "source": []
  }
 ],
 "metadata": {
  "kernelspec": {
   "display_name": "Python 3 (ipykernel)",
   "language": "python",
   "name": "python3"
  },
  "language_info": {
   "codemirror_mode": {
    "name": "ipython",
    "version": 3
   },
   "file_extension": ".py",
   "mimetype": "text/x-python",
   "name": "python",
   "nbconvert_exporter": "python",
   "pygments_lexer": "ipython3",
   "version": "3.10.2"
  }
 },
 "nbformat": 4,
 "nbformat_minor": 5
}
