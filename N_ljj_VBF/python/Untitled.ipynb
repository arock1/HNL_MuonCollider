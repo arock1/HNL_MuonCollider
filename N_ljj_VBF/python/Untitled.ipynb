{
 "cells": [
  {
   "cell_type": "code",
   "execution_count": 503,
   "id": "bc10a38e",
   "metadata": {},
   "outputs": [],
   "source": [
    "import warnings\n",
    "warnings.filterwarnings(\"ignore\")\n",
    "import uproot\n",
    "import pandas as pd\n",
    "import numpy as np\n",
    "import matplotlib.pyplot as plt\n",
    "import xgboost as xgb"
   ]
  },
  {
   "cell_type": "code",
   "execution_count": 504,
   "id": "ad227d52",
   "metadata": {},
   "outputs": [],
   "source": [
    "cm = 3\n",
    "mN = 0.2\n",
    "V2 = 1e-2    # used in reweighting the samples\n",
    "\n",
    "mN_string = str(int(mN*1000))"
   ]
  },
  {
   "cell_type": "code",
   "execution_count": 505,
   "id": "9b4c9d24",
   "metadata": {},
   "outputs": [
    {
     "data": {
      "text/html": [
       "<div>\n",
       "<style scoped>\n",
       "    .dataframe tbody tr th:only-of-type {\n",
       "        vertical-align: middle;\n",
       "    }\n",
       "\n",
       "    .dataframe tbody tr th {\n",
       "        vertical-align: top;\n",
       "    }\n",
       "\n",
       "    .dataframe thead th {\n",
       "        text-align: right;\n",
       "    }\n",
       "</style>\n",
       "<table border=\"1\" class=\"dataframe\">\n",
       "  <thead>\n",
       "    <tr style=\"text-align: right;\">\n",
       "      <th></th>\n",
       "      <th>Type</th>\n",
       "      <th>Energy</th>\n",
       "      <th>Mass</th>\n",
       "      <th>Efficiency</th>\n",
       "    </tr>\n",
       "  </thead>\n",
       "  <tbody>\n",
       "    <tr>\n",
       "      <th>0</th>\n",
       "      <td>s_M</td>\n",
       "      <td>3</td>\n",
       "      <td>200.0</td>\n",
       "      <td>0.261975</td>\n",
       "    </tr>\n",
       "    <tr>\n",
       "      <th>1</th>\n",
       "      <td>s_D</td>\n",
       "      <td>3</td>\n",
       "      <td>200.0</td>\n",
       "      <td>0.222220</td>\n",
       "    </tr>\n",
       "    <tr>\n",
       "      <th>2</th>\n",
       "      <td>b_MuMu_lllqqv</td>\n",
       "      <td>3</td>\n",
       "      <td>NaN</td>\n",
       "      <td>0.261975</td>\n",
       "    </tr>\n",
       "  </tbody>\n",
       "</table>\n",
       "</div>"
      ],
      "text/plain": [
       "            Type  Energy   Mass  Efficiency\n",
       "0            s_M       3  200.0    0.261975\n",
       "1            s_D       3  200.0    0.222220\n",
       "2  b_MuMu_lllqqv       3    NaN    0.261975"
      ]
     },
     "execution_count": 505,
     "metadata": {},
     "output_type": "execute_result"
    }
   ],
   "source": [
    "df_eff = pd.read_csv(\"../data/eff_table.csv\")\n",
    "df_eff"
   ]
  },
  {
   "cell_type": "code",
   "execution_count": 506,
   "id": "7a0a4bfe",
   "metadata": {},
   "outputs": [
    {
     "data": {
      "text/plain": [
       "0    3\n",
       "1    3\n",
       "2    3\n",
       "Name: Energy, dtype: int64"
      ]
     },
     "execution_count": 506,
     "metadata": {},
     "output_type": "execute_result"
    }
   ],
   "source": [
    "df_eff['Energy']"
   ]
  },
  {
   "cell_type": "code",
   "execution_count": 507,
   "id": "ac602cfc",
   "metadata": {},
   "outputs": [
    {
     "data": {
      "text/html": [
       "<div>\n",
       "<style scoped>\n",
       "    .dataframe tbody tr th:only-of-type {\n",
       "        vertical-align: middle;\n",
       "    }\n",
       "\n",
       "    .dataframe tbody tr th {\n",
       "        vertical-align: top;\n",
       "    }\n",
       "\n",
       "    .dataframe thead th {\n",
       "        text-align: right;\n",
       "    }\n",
       "</style>\n",
       "<table border=\"1\" class=\"dataframe\">\n",
       "  <thead>\n",
       "    <tr style=\"text-align: right;\">\n",
       "      <th></th>\n",
       "      <th>Type</th>\n",
       "      <th>Energy</th>\n",
       "      <th>Mass</th>\n",
       "      <th>Efficiency</th>\n",
       "    </tr>\n",
       "  </thead>\n",
       "  <tbody>\n",
       "    <tr>\n",
       "      <th>0</th>\n",
       "      <td>s_M</td>\n",
       "      <td>3</td>\n",
       "      <td>200.0</td>\n",
       "      <td>0.261975</td>\n",
       "    </tr>\n",
       "    <tr>\n",
       "      <th>1</th>\n",
       "      <td>s_D</td>\n",
       "      <td>3</td>\n",
       "      <td>200.0</td>\n",
       "      <td>0.222220</td>\n",
       "    </tr>\n",
       "    <tr>\n",
       "      <th>2</th>\n",
       "      <td>b_MuMu_lllqqv</td>\n",
       "      <td>3</td>\n",
       "      <td>NaN</td>\n",
       "      <td>0.261975</td>\n",
       "    </tr>\n",
       "  </tbody>\n",
       "</table>\n",
       "</div>"
      ],
      "text/plain": [
       "            Type  Energy   Mass  Efficiency\n",
       "0            s_M       3  200.0    0.261975\n",
       "1            s_D       3  200.0    0.222220\n",
       "2  b_MuMu_lllqqv       3    NaN    0.261975"
      ]
     },
     "execution_count": 507,
     "metadata": {},
     "output_type": "execute_result"
    }
   ],
   "source": [
    "df_eff[(df_eff.Energy==cm)]"
   ]
  },
  {
   "cell_type": "code",
   "execution_count": 508,
   "id": "db42aeea",
   "metadata": {},
   "outputs": [],
   "source": [
    "# extract the reconstruction eff from the eff table\n",
    "\n",
    "eff_M = df_eff[(df_eff.Energy==cm) & (df_eff.Mass==mN*1000) & (df_eff.Type=='s_M')]['Efficiency'].values[0]\n",
    "eff_D = df_eff[(df_eff.Energy==cm) & (df_eff.Mass==mN*1000) & (df_eff.Type=='s_D')]['Efficiency'].values[0]\n",
    "eff_baMu_qql = df_eff[(df_eff.Energy==cm) & (df_eff.Type=='b_MuMu_lllqqv')]['Efficiency'].values[0]\n",
    "# eff_baMu_qqv = df_eff[(df_eff.Energy==cm) & (df_eff.Type=='b_aMu_qqv')]['Efficiency'].values[0]\n",
    "# eff_bMuMu_qqlv = df_eff[(df_eff.Energy==cm) & (df_eff.Type=='b_MuMu_qqlv')]['Efficiency'].values[0]\n",
    "# eff_bMuMu_qqll = df_eff[(df_eff.Energy==cm) & (df_eff.Type=='b_MuMu_qqll')]['Efficiency'].values[0]\n",
    "# eff_baa_qqlv = df_eff[(df_eff.Energy==cm) & (df_eff.Type=='b_aa_qqlv')]['Efficiency'].values[0]"
   ]
  },
  {
   "cell_type": "code",
   "execution_count": 509,
   "id": "c3120d83",
   "metadata": {},
   "outputs": [],
   "source": [
    "# store the muon collider luminosity, Xsec, for later estimating the yields\n",
    "\n",
    "Lumi = 1000000\n",
    "\n",
    "V2_sim = 0.2**2\n",
    "\n",
    "# corss section when |V|^2 = 1\n",
    "Xsec_M = {3: {0.2: 3.70E+00 / V2_sim}}    # first key: sqrt{s}, second key: m_N\n",
    "Xsec_D = {3: {0.2: 3.76E+00 / V2_sim}}\n",
    "Xsec_bMuMu_lllqqv = {3: 3.83E+00}   # key: sqrt{s}\n",
    "# Xsec_baMu_qqv = {3: 1.02E+01}\n",
    "# Xsec_bMuMu_qqlv = {3: 6.03E+00}\n",
    "# Xsec_bMuMu_qqll = {3: 3.16E+00}\n",
    "# Xsec_baa_qqlv = {3: 3.88E-01}"
   ]
  },
  {
   "cell_type": "code",
   "execution_count": 515,
   "id": "f8a69c36",
   "metadata": {},
   "outputs": [],
   "source": [
    "# read the files, and calculate the corresponding yields\n",
    "\n",
    "modes_dt = {\n",
    "            1: {'mode': f'../data/features/sig_Maj_E-{cm}_m-{mN_string}_reco.root', 'yields': Lumi*Xsec_M[cm][mN]*eff_M*V2},\n",
    "            2: {'mode': f'../data/features/sig_Dir_E-{cm}_m-{mN_string}_reco.root', 'yields': Lumi*Xsec_D[cm][mN]*eff_D*V2}, \n",
    "            3: {'mode': f'../data/features/bg_MuMu_lllqqv_E-{cm}_reco.root', 'yields': Lumi*Xsec_bMuMu_lllqqv[cm]*eff_baMu_qql},\n",
    "           }"
   ]
  },
  {
   "cell_type": "code",
   "execution_count": 516,
   "id": "bc5b4b87",
   "metadata": {},
   "outputs": [
    {
     "name": "stdout",
     "output_type": "stream",
     "text": [
      "2.42e+05\n",
      "2.09e+05\n",
      "1.00e+06\n",
      "\n",
      "1.00e+06\n"
     ]
    }
   ],
   "source": [
    "for k, v in modes_dt.items():\n",
    "    print(f\"{v['yields']:.2e}\")\n",
    "print()\n",
    "\n",
    "b=0\n",
    "for k, v in modes_dt.items():\n",
    "    if (k < 3): continue\n",
    "    b += v['yields']\n",
    "    \n",
    "print(f\"{b:.2e}\")"
   ]
  },
  {
   "cell_type": "code",
   "execution_count": 517,
   "id": "b5ed7dcd",
   "metadata": {},
   "outputs": [],
   "source": [
    "def load_train_test(modes_dt, size=0.5):\n",
    "    np.random.seed(9)\n",
    "    df_train = pd.DataFrame()\n",
    "    df_test = pd.DataFrame()\n",
    "    num_lt = []\n",
    "    \n",
    "    # loop over different modes\n",
    "    for i, (k, v) in enumerate(modes_dt.items()):\n",
    "        file = uproot.open(v['mode'])\n",
    "        print(\"reading: \", v['mode'])\n",
    "        df_i = pd.DataFrame(np.array(file['t']['features'].array()))\n",
    "        df_i['target'] = k    # add the target label\n",
    "        df_i['weight'] = v['yields']/len(df_i)\n",
    "#         print(k, v)\n",
    "        num_lt.append(len(df_i))\n",
    "\n",
    "        # shuffle the index for training and testing sets\n",
    "        idx = df_i.index.tolist()\n",
    "        np.random.shuffle(idx)\n",
    "        \n",
    "        # cut according to the fraction\n",
    "        cut = int(np.ceil(len(idx) * size))\n",
    "        df_train_i = df_i.loc[idx[:cut]]\n",
    "        df_test_i = df_i.loc[idx[cut:]]\n",
    "        \n",
    "        # Put to the global dataframs\n",
    "        df_train = pd.concat([df_train, df_train_i])\n",
    "        df_test = pd.concat([df_test, df_test_i])\n",
    "    \n",
    "    df_train.reset_index(drop=True, inplace=True)\n",
    "    df_test.reset_index(drop=True, inplace=True)\n",
    "    \n",
    "    print('\\ntrain size: {} ({:.2f}%); test size: {} ({:.2f}%)'.format(len(df_train), 100*len(df_train)/(len(df_train)+len(df_test)), len(df_test), 100*len(df_test)/(len(df_train)+len(df_test))))\n",
    "    print('data points per mode: ',num_lt)\n",
    "    return df_train, df_test\n",
    "\n",
    "    "
   ]
  },
  {
   "cell_type": "code",
   "execution_count": 518,
   "id": "e3b46b6f",
   "metadata": {},
   "outputs": [
    {
     "name": "stdout",
     "output_type": "stream",
     "text": [
      "reading:  ../data/features/sig_Maj_E-3_m-200_reco.root\n",
      "reading:  ../data/features/sig_Dir_E-3_m-200_reco.root\n",
      "reading:  ../data/features/bg_MuMu_lllqqv_E-3_reco.root\n",
      "\n",
      "train size: 8796 (50.01%); test size: 8793 (49.99%)\n",
      "data points per mode:  [5863, 5863, 5863]\n"
     ]
    }
   ],
   "source": [
    "tr_te_size = 0.5 \n",
    "df_train, df_test = load_train_test(modes_dt, tr_te_size)\n",
    "\n",
    "df_train_o, df_test_o = df_train.copy(), df_test.copy()"
   ]
  },
  {
   "cell_type": "code",
   "execution_count": null,
   "id": "6f6090c0",
   "metadata": {},
   "outputs": [],
   "source": []
  },
  {
   "cell_type": "code",
   "execution_count": 519,
   "id": "72b5601e",
   "metadata": {},
   "outputs": [],
   "source": [
    "def relabel(x):\n",
    "    if x != 1 and x != 2:    # bkg\n",
    "        return 0\n",
    "    \n",
    "    elif x == 1:     # Maj signal\n",
    "        return 1\n",
    "    \n",
    "    elif x == 2:     # Dir signal\n",
    "        return 2"
   ]
  },
  {
   "cell_type": "code",
   "execution_count": 520,
   "id": "6b4c1e8f",
   "metadata": {},
   "outputs": [],
   "source": [
    "features = ['ptLep', 'etaLep', 'ELep',      # lepton kinematics info \n",
    "            'chargeLep', 'lepisMu',         # lepton type info\n",
    "            'DeltaPhijjl', 'DeltaRjjl',     # Delta phi & Delta R between jj(from W boson) and lepton\n",
    "            'ptJJ', 'etaJJ', 'mJJ',         # jj(from W boson) momentum info\n",
    "            'ptN', 'pzN',                   # reconstructed N 4 momentum info\n",
    "            'EJet1', 'EJet2',               # energy inbalance of the jets, for W boson classification\n",
    "            'ptFwMu'                        # Forward muon pT\n",
    "           ]\n"
   ]
  },
  {
   "cell_type": "code",
   "execution_count": 521,
   "id": "a6057f91",
   "metadata": {},
   "outputs": [],
   "source": [
    "# # relabel the, all bkg become one label\n",
    "df_train['target'] = df_train['target'].apply(relabel)\n",
    "df_test['target'] = df_test['target'].apply(relabel)"
   ]
  },
  {
   "cell_type": "code",
   "execution_count": null,
   "id": "522b1ff4",
   "metadata": {},
   "outputs": [],
   "source": []
  },
  {
   "cell_type": "code",
   "execution_count": 522,
   "id": "49270025",
   "metadata": {},
   "outputs": [],
   "source": [
    "# trainging\n",
    "X_train = df_train[features]\n",
    "y_train = df_train['target']\n",
    "\n",
    "# testing\n",
    "X_test = df_test[features]\n",
    "y_test = df_test['target']\n"
   ]
  },
  {
   "cell_type": "code",
   "execution_count": 523,
   "id": "874aeeae",
   "metadata": {},
   "outputs": [
    {
     "data": {
      "text/plain": [
       "array([0, 1, 2])"
      ]
     },
     "execution_count": 523,
     "metadata": {},
     "output_type": "execute_result"
    }
   ],
   "source": [
    "np.unique(y_train)"
   ]
  },
  {
   "cell_type": "code",
   "execution_count": 524,
   "id": "19102820",
   "metadata": {},
   "outputs": [],
   "source": [
    "\n",
    "# fitting, with reweighting\n",
    "xgbc1 = xgb.XGBClassifier(seed=0)\n",
    "xgbc1.fit(X_train, y_train, sample_weight=df_train.weight.values);\n",
    "# xgbc1.fit(X_train, y_train);"
   ]
  },
  {
   "cell_type": "code",
   "execution_count": 525,
   "id": "90acdccc",
   "metadata": {},
   "outputs": [],
   "source": [
    "# the \"preds\" means the prob. of the event being HNL (Maj/Dir)\n",
    "# since the 0 index is the bkg, so the prob. of HNL is 1 - prob. of bkg\n",
    "\n",
    "# scores for training\n",
    "df_bdt_train_s = df_train[['target', 'weight']]\n",
    "df_bdt_train_s.loc[:, 'preds'] = 1 - xgbc1.predict_proba(X_train)[:, 0]\n",
    "\n",
    "# score for testing \n",
    "df_bdt_test_s = df_test[['target', 'weight']]\n",
    "df_bdt_test_s.loc[:, 'preds'] = 1 - xgbc1.predict_proba(X_test)[:, 0]\n"
   ]
  },
  {
   "cell_type": "code",
   "execution_count": 526,
   "id": "51d8bfe2",
   "metadata": {},
   "outputs": [],
   "source": [
    "def bdt_cut(df, cut):\n",
    "    df1 = df[(df['preds'] >= cut)]    # pass cut to be classified as HNL\n",
    "#    \"/ 2\" because the samples include M & D. now assume they are just half half\n",
    "    S1 = df1[df1['target'] != 0]['weight'].values.sum() / 2    # Number of signals\n",
    "    B1 = df1[df1['target'] == 0]['weight'].values.sum()    # Number of bkg.\n",
    "    return ((S1+B1)**0.5, (0.1*B1), S1/(np.sqrt(S1+B1)))\n",
    "\n",
    "\n",
    "\n",
    "\n",
    "# looping to find the optimal cut\n",
    "def find_opt_cut(df_bdt_train_s, step=0.01):\n",
    "    # cuts\n",
    "    cuts = np.arange(0, 1, step)\n",
    "    \n",
    "    # store cuts\n",
    "    c_lt = []\n",
    "    # store losses\n",
    "    loss1, loss2 = [], []\n",
    "    snr = []\n",
    "\n",
    "    # loop over two cuts\n",
    "    for i1, c1 in enumerate(cuts):\n",
    "        print(\"{}/{}\".format(i1, len(cuts)), end='\\r')\n",
    "        res = bdt_cut(df_bdt_train_s, c1)\n",
    "        c_lt.append(c1)    \n",
    "        loss1.append(res[0])\n",
    "        loss2.append(res[1])\n",
    "        snr.append(res[2])\n",
    "        \n",
    "    # store the cuts and corresponding losses\n",
    "    df_bdt_loss = pd.DataFrame([c_lt, loss1, loss2, snr]).T\n",
    "    df_bdt_loss.columns = ['c', 'loss1', 'loss2', 'snr']\n",
    "\n",
    "    df_bdt_loss['loss'] = (df_bdt_loss['loss1']**2 + df_bdt_loss['loss2']**2)**0.5\n",
    "    df_bdt_loss['tot'] = (df_bdt_loss['loss'] - df_bdt_loss['loss'].min())/(df_bdt_loss['loss'].max() - df_bdt_loss['loss'].min()) - \\\n",
    "                        ((df_bdt_loss['snr'] - df_bdt_loss['snr'].min())/(df_bdt_loss['snr'].max() - df_bdt_loss['snr'].min()))\n",
    "    \n",
    "    return df_bdt_loss.iloc[df_bdt_loss['tot'].argmin()][['c']].values"
   ]
  },
  {
   "cell_type": "code",
   "execution_count": 527,
   "id": "a69a43ce",
   "metadata": {},
   "outputs": [
    {
     "name": "stdout",
     "output_type": "stream",
     "text": [
      "99/100\r"
     ]
    }
   ],
   "source": [
    "# the optimal threshold\n",
    "threshold = find_opt_cut(df_bdt_train_s)[0]"
   ]
  },
  {
   "cell_type": "code",
   "execution_count": 528,
   "id": "6bbd4eaa",
   "metadata": {},
   "outputs": [
    {
     "data": {
      "image/png": "[encoded data removed]",
      "text/plain": [
       "<Figure size 576x432 with 1 Axes>"
      ]
     },
     "metadata": {
      "needs_background": "light"
     },
     "output_type": "display_data"
    }
   ],
   "source": [
    "# BDT score distribution \n",
    "\n",
    "f = plt.figure(figsize=(8,6))\n",
    "ax1 = plt.subplot(111)\n",
    "\n",
    "df_plot = df_bdt_test_s\n",
    "# df_plot = df_bdt_train_s\n",
    "\n",
    "range_=[0, 1]\n",
    "bins_=20\n",
    "\n",
    "ax1.hist(df_plot[df_plot.target!=0]['preds'], weights=df_plot[df_plot.target!=0]['weight']/sum(df_plot[df_plot.target!=0]['weight']), bins=bins_, range=range_, histtype='step', lw=3, label=r'Signal', alpha=0.5);\n",
    "ax1.hist(df_plot[df_plot.target==0]['preds'], weights=df_plot[df_plot.target==0]['weight']/sum(df_plot[df_plot.target==0]['weight']), bins=bins_, range=range_, histtype='step', lw=3, label=r'Bkg', alpha=0.5);\n",
    "\n",
    "ax1.set_ylabel('Normlized distribution', fontsize=20)\n",
    "ax1.set_xlabel(r'BDT score', fontsize=20)\n",
    "ax1.set_yticks([])\n",
    "ax1.legend(loc=9, fontsize=20)\n",
    "ax1.set_title(r\"$\\sqrt{s}=$\"+str(cm)+\"; $m_N=$\"+str(mN), fontsize=20)\n",
    "ax1.axvline(threshold, color='purple', lw=3)\n",
    "\n",
    "# ax1.set_yscale('log')\n",
    "\n",
    "\n",
    "\n",
    "\n",
    "# =================================================================================\n",
    "# Apply BDT score cut\n",
    "df_bdt_cut = df_bdt_test_s[(df_bdt_test_s['preds'] >= threshold)]\n",
    "# =================================================================================\n",
    "\n"
   ]
  },
  {
   "cell_type": "code",
   "execution_count": 529,
   "id": "0f547333",
   "metadata": {},
   "outputs": [],
   "source": [
    "# separate to Maj/Dir/bkg\n",
    "\n",
    "df_bdt_cut['iEvt'] = df_test_o.loc[df_bdt_cut.index]['iEvt']\n",
    "df_bdt_cut['mN'] = df_test_o.loc[df_bdt_cut.index]['mN']\n",
    "df_bdt_cut['lepisEle'] = df_test_o.loc[df_bdt_cut.index]['lepisEle']\n",
    "df_bdt_cut['lepisMu'] = df_test_o.loc[df_bdt_cut.index]['lepisMu']\n",
    "df_bdt_cut1 = df_bdt_cut[(df_bdt_cut['target'] == 1)]\n",
    "df_bdt_cut2 = df_bdt_cut[(df_bdt_cut['target'] == 2)]\n",
    "df_bdt_cut0 = df_bdt_cut[(df_bdt_cut['target'] != 1) & (df_bdt_cut['target'] != 2)]\n"
   ]
  },
  {
   "cell_type": "code",
   "execution_count": 530,
   "id": "0c1c4ced",
   "metadata": {},
   "outputs": [
    {
     "name": "stdout",
     "output_type": "stream",
     "text": [
      "Mass range: [190.0, 204.99999999999997]\n"
     ]
    },
    {
     "data": {
      "image/png": "[encoded data removed]",
      "text/plain": [
       "<Figure size 576x432 with 1 Axes>"
      ]
     },
     "metadata": {
      "needs_background": "light"
     },
     "output_type": "display_data"
    }
   ],
   "source": [
    "# mN distribution after BDT cut\n",
    "\n",
    "f = plt.figure(figsize=(8,6))\n",
    "ax1 = plt.subplot(111)\n",
    "\n",
    "range_ = [mN*(1-0.25)*1000, mN*(1+0.25)*1000]\n",
    "# range_ = [0, 1000]\n",
    "\n",
    "bins_=20\n",
    "ax1.hist(df_bdt_cut1['mN'], weights=[1/len(df_bdt_cut1)]*len(df_bdt_cut1), bins=bins_, range=range_, histtype='step', alpha=0.5, lw=3, label='Maj.', color='C0');\n",
    "ax1.hist(df_bdt_cut2['mN'], weights=[1/len(df_bdt_cut2)]*len(df_bdt_cut2), bins=bins_, range=range_, histtype='step', alpha=0.5, lw=3, label='Dir.', color='C1');\n",
    "ax1.hist(df_bdt_cut0['mN'], weights=[1/len(df_bdt_cut0)]*len(df_bdt_cut0), bins=bins_, range=range_, histtype='step', alpha=0.5, lw=3, label='Bkg.', color='C2');\n",
    "\n",
    "ax1.set_ylabel('Normlized distribution', fontsize=20)\n",
    "ax1.set_xlabel(r'$m_N ~[\\rmGeV]$', fontsize=20)\n",
    "ax1.set_yticks([])\n",
    "ax1.legend(loc=1, fontsize=20)\n",
    "ax1.set_title(r\"$\\sqrt{s}=$\"+str(cm)+\"; $m_N=$\"+str(mN), fontsize=20)\n",
    "\n",
    "# mass range cut\n",
    "partition_u = 0.025\n",
    "partition_l = 0.05\n",
    "ax1.axvline(1000*mN*(1-partition_l), color='purple', lw=3)\n",
    "ax1.axvline(1000*mN*(1+partition_u), color='purple', lw=3)\n",
    "\n",
    "print(\"Mass range: [{}, {}]\".format(1000*mN*(1-partition_l), 1000*mN*(1+partition_u)))\n",
    "\n",
    "# f.savefig('./figures/mN')\n",
    "\n",
    "# =========================================================================================\n",
    "# manully apply cut on mN\n",
    "df_bdt_cut['mN'] = df_test_o.loc[df_bdt_cut.index]['mN']\n",
    "df_bdt_cut = df_bdt_cut[(df_bdt_cut.mN>=1000*mN*(1-partition_l)) & (df_bdt_cut.mN<=1000*mN*(1+partition_u))]\n",
    "# =========================================================================================\n"
   ]
  },
  {
   "cell_type": "code",
   "execution_count": null,
   "id": "6f2dcb53",
   "metadata": {},
   "outputs": [],
   "source": []
  },
  {
   "cell_type": "code",
   "execution_count": null,
   "id": "af8b5f39",
   "metadata": {},
   "outputs": [],
   "source": []
  },
  {
   "cell_type": "code",
   "execution_count": null,
   "id": "97a9a455",
   "metadata": {},
   "outputs": [],
   "source": []
  },
  {
   "cell_type": "code",
   "execution_count": 531,
   "id": "2ebc43da",
   "metadata": {},
   "outputs": [
    {
     "name": "stdout",
     "output_type": "stream",
     "text": [
      "yields: \n",
      "Bkg:\t2.92e+05\n",
      "(M):\t2.84e+06 x |V|^2\n",
      "(D):\t2.63e+06 x |V|^2\n"
     ]
    }
   ],
   "source": [
    "# yields after BDT and mass cuts\n",
    "\n",
    "df_bdt_cut0 = df_bdt_cut[(df_bdt_cut['target'] == 0)]   # Bkg\n",
    "df_bdt_cut1 = df_bdt_cut[(df_bdt_cut['target'] == 1)]   # M\n",
    "df_bdt_cut2 = df_bdt_cut[(df_bdt_cut['target'] == 2)]   # D\n",
    "\n",
    "# yield (without |V|^2 dependence)\n",
    "nb = df_bdt_cut0.weight.sum() / tr_te_size          # Bkg\n",
    "nM = df_bdt_cut1.weight.sum() / tr_te_size / V2    # M\n",
    "nD = df_bdt_cut2.weight.sum() / tr_te_size / V2    #  D\n",
    "\n",
    "print('yields: ')\n",
    "print(f'Bkg:\\t{nb:.2e}')\n",
    "print(f'(M):\\t{nM:.2e} x |V|^2')\n",
    "print(f'(D):\\t{nD:.2e} x |V|^2')"
   ]
  },
  {
   "cell_type": "code",
   "execution_count": 532,
   "id": "2a0e530c",
   "metadata": {},
   "outputs": [
    {
     "name": "stdout",
     "output_type": "stream",
     "text": [
      "BDT eff:\n",
      "bkg:\t29.102695%\n",
      "Maj:\t11.702491%\n",
      "Dir:\t12.589560%\n"
     ]
    }
   ],
   "source": [
    "# eff. of the BDT and mass cuts\n",
    "\n",
    "eff0 = len(df_bdt_cut0) / len(df_test_o[(df_test_o.target!=1) & (df_test_o.target!=2)])\n",
    "eff1 = len(df_bdt_cut1) / len(df_test_o[df_test_o.target==1])\n",
    "eff2 = len(df_bdt_cut2) / len(df_test_o[df_test_o.target==2])\n",
    "\n",
    "print(\"BDT eff:\")\n",
    "print(\"bkg:\\t{:2f}%\".format(100*eff0))\n",
    "print(\"Maj:\\t{:2f}%\".format(100*eff1))\n",
    "print(\"Dir:\\t{:2f}%\".format(100*eff2))"
   ]
  },
  {
   "cell_type": "code",
   "execution_count": 533,
   "id": "e18656c9",
   "metadata": {},
   "outputs": [
    {
     "name": "stdout",
     "output_type": "stream",
     "text": [
      "Fully Majorana case:\n",
      "upper limit on |V|^2: 3.74e-04\n",
      "lower limit on |V|^2: -3.73e-04\n",
      "\n",
      "Fully Dirac case:\n",
      "upper limit on |V|^2: 4.04e-04\n",
      "lower limit on |V|^2: -4.02e-04\n"
     ]
    }
   ],
   "source": [
    "# limits on |V|^2\n",
    "\n",
    "N = 1.96\n",
    "M = N**2\n",
    "\n",
    "print('Fully Majorana case:')\n",
    "upperM, lowerM = ((M+(M**2 + 4*M*nb)**0.5)/2)/(nM), ((M-(M**2 + 4*M*nb)**0.5)/2)/(nM)\n",
    "print(f\"upper limit on |V|^2: {upperM:.2e}\")\n",
    "print(f\"lower limit on |V|^2: {lowerM:.2e}\")\n",
    "print()\n",
    "\n",
    "print('Fully Dirac case:')\n",
    "upperD, lowerD = ((M+(M**2 + 4*M*nb)**0.5)/2)/(nD), ((M-(M**2 + 4*M*nb)**0.5)/2)/(nD)\n",
    "print(f\"upper limit on |V|^2: {upperD:.2e}\")\n",
    "print(f\"lower limit on |V|^2: {lowerD:.2e}\")"
   ]
  },
  {
   "cell_type": "code",
   "execution_count": 534,
   "id": "b8987b4c",
   "metadata": {},
   "outputs": [
    {
     "name": "stdout",
     "output_type": "stream",
     "text": [
      "s/b ratio: \n",
      "# Maj signal / bkg = 10 x |V|^2\n",
      "# Dir signal / bkg = 9 x |V|^2\n"
     ]
    }
   ],
   "source": [
    "# s/b ratio\n",
    "\n",
    "print(\"s/b ratio: \")\n",
    "print(f'# Maj signal / bkg = {nM/nb:.0f} x |V|^2')\n",
    "print(f'# Dir signal / bkg = {nD/nb:.0f} x |V|^2')"
   ]
  },
  {
   "cell_type": "code",
   "execution_count": 535,
   "id": "a699857e",
   "metadata": {},
   "outputs": [
    {
     "name": "stdout",
     "output_type": "stream",
     "text": [
      "s/sqrt(b) ratio: \n",
      "# Maj signal / sqrt(bkg) = 5247 x |V|^2\n",
      "# Dir signal / sqrt(bkg) = 4866 x |V|^2\n"
     ]
    }
   ],
   "source": [
    "# s/sqrt(b)\n",
    "\n",
    "print(\"s/sqrt(b) ratio: \")\n",
    "print(f'# Maj signal / sqrt(bkg) = {nM/(nb)**0.5:.0f} x |V|^2')\n",
    "print(f'# Dir signal / sqrt(bkg) = {nD/(nb)**0.5:.0f} x |V|^2')"
   ]
  },
  {
   "cell_type": "code",
   "execution_count": 536,
   "id": "a5c657bb",
   "metadata": {},
   "outputs": [
    {
     "data": {
      "text/plain": [
       "{'ptLep': 1794.0,\n",
       " 'etaLep': 1092.0,\n",
       " 'mJJ': 934.0,\n",
       " 'DeltaPhijjl': 868.0,\n",
       " 'ptJJ': 704.0,\n",
       " 'ptFwMu': 702.0,\n",
       " 'etaJJ': 692.0,\n",
       " 'ELep': 670.0,\n",
       " 'DeltaRjjl': 626.0,\n",
       " 'ptN': 569.0,\n",
       " 'pzN': 508.0,\n",
       " 'chargeLep': 71.0}"
      ]
     },
     "execution_count": 536,
     "metadata": {},
     "output_type": "execute_result"
    }
   ],
   "source": [
    "# importance of the features used in BDT\n",
    "d = xgbc1.get_booster().get_score()\n",
    "dict(sorted(d.items(), key=lambda item: -1*item[1]))"
   ]
  },
  {
   "cell_type": "code",
   "execution_count": null,
   "id": "d4c86205",
   "metadata": {},
   "outputs": [],
   "source": []
  },
  {
   "cell_type": "code",
   "execution_count": null,
   "id": "0cbe92d0",
   "metadata": {},
   "outputs": [],
   "source": []
  },
  {
   "cell_type": "code",
   "execution_count": 40,
   "id": "bc200a32",
   "metadata": {},
   "outputs": [],
   "source": [
    "# get the prediction score for Maj/Dir\n",
    "# df_bdt_test_s['target'] = df_test_o.loc[df_bdt_test_s.index]['target']\n",
    "df_bdt_test_s['target'] = df_test_o.loc[df_test.index]['target']\n",
    "df_bdt_test_s.loc[:, 'pred1'] = xgbc1.predict_proba(X_test)[:, 1]\n",
    "df_bdt_test_s.loc[:, 'pred2'] = xgbc1.predict_proba(X_test)[:, 2]\n",
    "\n",
    "df_bdt_test_s['target'] = df_bdt_test_s['target'].apply(relabel)\n",
    "\n",
    "# only get events that survive in the BDT and mass cut\n",
    "df_bdt_test_s = df_bdt_test_s.loc[df_bdt_cut.index]"
   ]
  },
  {
   "cell_type": "code",
   "execution_count": 41,
   "id": "c0e7f927",
   "metadata": {},
   "outputs": [],
   "source": [
    "def bdt_cut_2(df, cut1, cut2, signal1=1, signal2=2):\n",
    "    df1 = df[(df['pred1'] >= cut1) & (df['pred2'] < cut2)]    # pass tau cut, not pass mu cut\n",
    "    df2 = df[(df['pred1'] < cut1) & (df['pred2'] >= cut2)]    # pass mu cut, not pass tau cut\n",
    "    \n",
    "    S1 = df1[df1['target'] == signal1]['weight'].values.sum()    # Number of tau signals\n",
    "    B1 = df1[df1['target'] != signal1]['weight'].values.sum()    # Number of tau bkg.\n",
    "    \n",
    "    S2 = df2[df2['target'] == signal2]['weight'].values.sum()    # Number of mu signals\n",
    "    B2 = df2[df2['target'] != signal2]['weight'].values.sum()    # Number of mu bkg.\n",
    "    \n",
    "    return ((S1+B1)**0.5, (0.1*B1), S1/(np.sqrt(S1+B1))), ((S2+B2)**0.5, (0.1*B2), S2/(np.sqrt(S2+B2)))\n",
    "\n",
    "\n",
    "\n",
    "\n",
    "\n",
    "\n",
    "# looping to find the optimal cut\n",
    "def find_opt_cut_2(df_bdt_train_s, step=0.01):\n",
    "\n",
    "    # tau cut\n",
    "#     cuts1 = np.arange(round(df_bdt_train_s.min()['pred0'], 2) - step, round(df_bdt_train_s.max()['pred0'], 2) + step, step)\n",
    "    cuts1 = np.arange(0, 1, step)\n",
    "    # mu cut\n",
    "    cuts2 = np.arange(0, 1, step)\n",
    "\n",
    "    # store cuts (tau, and mu)\n",
    "    c1_lt, c2_lt = [], []\n",
    "    # store losses\n",
    "    loss11, loss12 = [], []\n",
    "    loss21, loss22 = [], []\n",
    "    snr1, snr2 = [], []\n",
    "\n",
    "    # loop over two cuts\n",
    "    for i1, c1 in enumerate(cuts1):\n",
    "        for i2, c2 in enumerate(cuts2):\n",
    "            print(\"{}/{}; {}/{}\".format(i1, len(cuts1), i2, len(cuts2)), end='\\r')\n",
    "            res1, res2 = bdt_cut_2(df_bdt_train_s, c1, c2)\n",
    "            c1_lt.append(c1); c2_lt.append(c2)\n",
    "\n",
    "            loss11.append(res1[0]); loss12.append(res1[1])\n",
    "            loss21.append(res2[0]); loss22.append(res2[1])\n",
    "            snr1.append(res1[2]), snr2.append(res2[2])\n",
    "\n",
    "    # store the cuts and corresponding losses\n",
    "    df_bdt_loss = pd.DataFrame([c1_lt, c2_lt, loss11, loss12, snr1, loss21, loss22, snr2]).T\n",
    "    df_bdt_loss.columns = ['c1', 'c2', 'loss11', 'loss12', 'snr1', 'loss21', 'loss22', 'snr2']\n",
    "\n",
    "    df_bdt_loss['loss1'] = (df_bdt_loss['loss11']**2 + df_bdt_loss['loss12']**2)**0.5\n",
    "    df_bdt_loss['tot1'] = (df_bdt_loss['loss1'] - df_bdt_loss['loss1'].min())/(df_bdt_loss['loss1'].max() - df_bdt_loss['loss1'].min()) - \\\n",
    "        ((df_bdt_loss['snr1'] - df_bdt_loss['snr1'].min())/(df_bdt_loss['snr1'].max() - df_bdt_loss['snr1'].min()))\n",
    "\n",
    "    df_bdt_loss['loss2'] = (df_bdt_loss['loss21']**2 + df_bdt_loss['loss22']**2)**0.5\n",
    "    df_bdt_loss['tot2'] = (df_bdt_loss['loss2'] - df_bdt_loss['loss2'].min())/(df_bdt_loss['loss2'].max() - df_bdt_loss['loss2'].min()) - \\\n",
    "        ((df_bdt_loss['snr2'] - df_bdt_loss['snr2'].min())/(df_bdt_loss['snr2'].max() - df_bdt_loss['snr2'].min()))\n",
    "\n",
    "    df_bdt_loss['tot'] = df_bdt_loss['tot1'] + df_bdt_loss['tot2']\n",
    "\n",
    "    return df_bdt_loss.iloc[df_bdt_loss['tot'].argmin()][['c1', 'c2']].values"
   ]
  },
  {
   "cell_type": "code",
   "execution_count": 42,
   "id": "04cb438f",
   "metadata": {},
   "outputs": [
    {
     "name": "stdout",
     "output_type": "stream",
     "text": [
      "57/100; 21/100\r"
     ]
    },
    {
     "ename": "KeyboardInterrupt",
     "evalue": "",
     "output_type": "error",
     "traceback": [
      "\u001b[0;31m---------------------------------------------------------------------------\u001b[0m",
      "\u001b[0;31mKeyboardInterrupt\u001b[0m                         Traceback (most recent call last)",
      "Input \u001b[0;32mIn [42]\u001b[0m, in \u001b[0;36m<cell line: 1>\u001b[0;34m()\u001b[0m\n\u001b[0;32m----> 1\u001b[0m cutM, cutD \u001b[38;5;241m=\u001b[39m \u001b[43mfind_opt_cut_2\u001b[49m\u001b[43m(\u001b[49m\u001b[43mdf_bdt_test_s\u001b[49m\u001b[43m)\u001b[49m\n",
      "Input \u001b[0;32mIn [41]\u001b[0m, in \u001b[0;36mfind_opt_cut_2\u001b[0;34m(df_bdt_train_s, step)\u001b[0m\n\u001b[1;32m     36\u001b[0m \u001b[38;5;28;01mfor\u001b[39;00m i2, c2 \u001b[38;5;129;01min\u001b[39;00m \u001b[38;5;28menumerate\u001b[39m(cuts2):\n\u001b[1;32m     37\u001b[0m     \u001b[38;5;28mprint\u001b[39m(\u001b[38;5;124m\"\u001b[39m\u001b[38;5;132;01m{}\u001b[39;00m\u001b[38;5;124m/\u001b[39m\u001b[38;5;132;01m{}\u001b[39;00m\u001b[38;5;124m; \u001b[39m\u001b[38;5;132;01m{}\u001b[39;00m\u001b[38;5;124m/\u001b[39m\u001b[38;5;132;01m{}\u001b[39;00m\u001b[38;5;124m\"\u001b[39m\u001b[38;5;241m.\u001b[39mformat(i1, \u001b[38;5;28mlen\u001b[39m(cuts1), i2, \u001b[38;5;28mlen\u001b[39m(cuts2)), end\u001b[38;5;241m=\u001b[39m\u001b[38;5;124m'\u001b[39m\u001b[38;5;130;01m\\r\u001b[39;00m\u001b[38;5;124m'\u001b[39m)\n\u001b[0;32m---> 38\u001b[0m     res1, res2 \u001b[38;5;241m=\u001b[39m \u001b[43mbdt_cut_2\u001b[49m\u001b[43m(\u001b[49m\u001b[43mdf_bdt_train_s\u001b[49m\u001b[43m,\u001b[49m\u001b[43m \u001b[49m\u001b[43mc1\u001b[49m\u001b[43m,\u001b[49m\u001b[43m \u001b[49m\u001b[43mc2\u001b[49m\u001b[43m)\u001b[49m\n\u001b[1;32m     39\u001b[0m     c1_lt\u001b[38;5;241m.\u001b[39mappend(c1); c2_lt\u001b[38;5;241m.\u001b[39mappend(c2)\n\u001b[1;32m     41\u001b[0m     loss11\u001b[38;5;241m.\u001b[39mappend(res1[\u001b[38;5;241m0\u001b[39m]); loss12\u001b[38;5;241m.\u001b[39mappend(res1[\u001b[38;5;241m1\u001b[39m])\n",
      "Input \u001b[0;32mIn [41]\u001b[0m, in \u001b[0;36mbdt_cut_2\u001b[0;34m(df, cut1, cut2, signal1, signal2)\u001b[0m\n\u001b[1;32m      5\u001b[0m S1 \u001b[38;5;241m=\u001b[39m df1[df1[\u001b[38;5;124m'\u001b[39m\u001b[38;5;124mtarget\u001b[39m\u001b[38;5;124m'\u001b[39m] \u001b[38;5;241m==\u001b[39m signal1][\u001b[38;5;124m'\u001b[39m\u001b[38;5;124mweight\u001b[39m\u001b[38;5;124m'\u001b[39m]\u001b[38;5;241m.\u001b[39mvalues\u001b[38;5;241m.\u001b[39msum()    \u001b[38;5;66;03m# Number of tau signals\u001b[39;00m\n\u001b[1;32m      6\u001b[0m B1 \u001b[38;5;241m=\u001b[39m df1[df1[\u001b[38;5;124m'\u001b[39m\u001b[38;5;124mtarget\u001b[39m\u001b[38;5;124m'\u001b[39m] \u001b[38;5;241m!=\u001b[39m signal1][\u001b[38;5;124m'\u001b[39m\u001b[38;5;124mweight\u001b[39m\u001b[38;5;124m'\u001b[39m]\u001b[38;5;241m.\u001b[39mvalues\u001b[38;5;241m.\u001b[39msum()    \u001b[38;5;66;03m# Number of tau bkg.\u001b[39;00m\n\u001b[0;32m----> 8\u001b[0m S2 \u001b[38;5;241m=\u001b[39m \u001b[43mdf2\u001b[49m\u001b[43m[\u001b[49m\u001b[43mdf2\u001b[49m\u001b[43m[\u001b[49m\u001b[38;5;124;43m'\u001b[39;49m\u001b[38;5;124;43mtarget\u001b[39;49m\u001b[38;5;124;43m'\u001b[39;49m\u001b[43m]\u001b[49m\u001b[43m \u001b[49m\u001b[38;5;241;43m==\u001b[39;49m\u001b[43m \u001b[49m\u001b[43msignal2\u001b[49m\u001b[43m]\u001b[49m[\u001b[38;5;124m'\u001b[39m\u001b[38;5;124mweight\u001b[39m\u001b[38;5;124m'\u001b[39m]\u001b[38;5;241m.\u001b[39mvalues\u001b[38;5;241m.\u001b[39msum()    \u001b[38;5;66;03m# Number of mu signals\u001b[39;00m\n\u001b[1;32m      9\u001b[0m B2 \u001b[38;5;241m=\u001b[39m df2[df2[\u001b[38;5;124m'\u001b[39m\u001b[38;5;124mtarget\u001b[39m\u001b[38;5;124m'\u001b[39m] \u001b[38;5;241m!=\u001b[39m signal2][\u001b[38;5;124m'\u001b[39m\u001b[38;5;124mweight\u001b[39m\u001b[38;5;124m'\u001b[39m]\u001b[38;5;241m.\u001b[39mvalues\u001b[38;5;241m.\u001b[39msum()    \u001b[38;5;66;03m# Number of mu bkg.\u001b[39;00m\n\u001b[1;32m     11\u001b[0m \u001b[38;5;28;01mreturn\u001b[39;00m ((S1\u001b[38;5;241m+\u001b[39mB1)\u001b[38;5;241m*\u001b[39m\u001b[38;5;241m*\u001b[39m\u001b[38;5;241m0.5\u001b[39m, (\u001b[38;5;241m0.1\u001b[39m\u001b[38;5;241m*\u001b[39mB1), S1\u001b[38;5;241m/\u001b[39m(np\u001b[38;5;241m.\u001b[39msqrt(S1\u001b[38;5;241m+\u001b[39mB1))), ((S2\u001b[38;5;241m+\u001b[39mB2)\u001b[38;5;241m*\u001b[39m\u001b[38;5;241m*\u001b[39m\u001b[38;5;241m0.5\u001b[39m, (\u001b[38;5;241m0.1\u001b[39m\u001b[38;5;241m*\u001b[39mB2), S2\u001b[38;5;241m/\u001b[39m(np\u001b[38;5;241m.\u001b[39msqrt(S2\u001b[38;5;241m+\u001b[39mB2)))\n",
      "File \u001b[0;32m~/anaconda3/lib/python3.9/site-packages/pandas/core/frame.py:3496\u001b[0m, in \u001b[0;36mDataFrame.__getitem__\u001b[0;34m(self, key)\u001b[0m\n\u001b[1;32m   3494\u001b[0m \u001b[38;5;66;03m# Do we have a (boolean) 1d indexer?\u001b[39;00m\n\u001b[1;32m   3495\u001b[0m \u001b[38;5;28;01mif\u001b[39;00m com\u001b[38;5;241m.\u001b[39mis_bool_indexer(key):\n\u001b[0;32m-> 3496\u001b[0m     \u001b[38;5;28;01mreturn\u001b[39;00m \u001b[38;5;28;43mself\u001b[39;49m\u001b[38;5;241;43m.\u001b[39;49m\u001b[43m_getitem_bool_array\u001b[49m\u001b[43m(\u001b[49m\u001b[43mkey\u001b[49m\u001b[43m)\u001b[49m\n\u001b[1;32m   3498\u001b[0m \u001b[38;5;66;03m# We are left with two options: a single key, and a collection of keys,\u001b[39;00m\n\u001b[1;32m   3499\u001b[0m \u001b[38;5;66;03m# We interpret tuples as collections only for non-MultiIndex\u001b[39;00m\n\u001b[1;32m   3500\u001b[0m is_single_key \u001b[38;5;241m=\u001b[39m \u001b[38;5;28misinstance\u001b[39m(key, \u001b[38;5;28mtuple\u001b[39m) \u001b[38;5;129;01mor\u001b[39;00m \u001b[38;5;129;01mnot\u001b[39;00m is_list_like(key)\n",
      "File \u001b[0;32m~/anaconda3/lib/python3.9/site-packages/pandas/core/frame.py:3551\u001b[0m, in \u001b[0;36mDataFrame._getitem_bool_array\u001b[0;34m(self, key)\u001b[0m\n\u001b[1;32m   3549\u001b[0m key \u001b[38;5;241m=\u001b[39m check_bool_indexer(\u001b[38;5;28mself\u001b[39m\u001b[38;5;241m.\u001b[39mindex, key)\n\u001b[1;32m   3550\u001b[0m indexer \u001b[38;5;241m=\u001b[39m key\u001b[38;5;241m.\u001b[39mnonzero()[\u001b[38;5;241m0\u001b[39m]\n\u001b[0;32m-> 3551\u001b[0m \u001b[38;5;28;01mreturn\u001b[39;00m \u001b[38;5;28;43mself\u001b[39;49m\u001b[38;5;241;43m.\u001b[39;49m\u001b[43m_take_with_is_copy\u001b[49m\u001b[43m(\u001b[49m\u001b[43mindexer\u001b[49m\u001b[43m,\u001b[49m\u001b[43m \u001b[49m\u001b[43maxis\u001b[49m\u001b[38;5;241;43m=\u001b[39;49m\u001b[38;5;241;43m0\u001b[39;49m\u001b[43m)\u001b[49m\n",
      "File \u001b[0;32m~/anaconda3/lib/python3.9/site-packages/pandas/core/generic.py:3716\u001b[0m, in \u001b[0;36mNDFrame._take_with_is_copy\u001b[0;34m(self, indices, axis)\u001b[0m\n\u001b[1;32m   3708\u001b[0m \u001b[38;5;28;01mdef\u001b[39;00m \u001b[38;5;21m_take_with_is_copy\u001b[39m(\u001b[38;5;28mself\u001b[39m: NDFrameT, indices, axis\u001b[38;5;241m=\u001b[39m\u001b[38;5;241m0\u001b[39m) \u001b[38;5;241m-\u001b[39m\u001b[38;5;241m>\u001b[39m NDFrameT:\n\u001b[1;32m   3709\u001b[0m     \u001b[38;5;124;03m\"\"\"\u001b[39;00m\n\u001b[1;32m   3710\u001b[0m \u001b[38;5;124;03m    Internal version of the `take` method that sets the `_is_copy`\u001b[39;00m\n\u001b[1;32m   3711\u001b[0m \u001b[38;5;124;03m    attribute to keep track of the parent dataframe (using in indexing\u001b[39;00m\n\u001b[0;32m   (...)\u001b[0m\n\u001b[1;32m   3714\u001b[0m \u001b[38;5;124;03m    See the docstring of `take` for full explanation of the parameters.\u001b[39;00m\n\u001b[1;32m   3715\u001b[0m \u001b[38;5;124;03m    \"\"\"\u001b[39;00m\n\u001b[0;32m-> 3716\u001b[0m     result \u001b[38;5;241m=\u001b[39m \u001b[38;5;28;43mself\u001b[39;49m\u001b[38;5;241;43m.\u001b[39;49m\u001b[43mtake\u001b[49m\u001b[43m(\u001b[49m\u001b[43mindices\u001b[49m\u001b[38;5;241;43m=\u001b[39;49m\u001b[43mindices\u001b[49m\u001b[43m,\u001b[49m\u001b[43m \u001b[49m\u001b[43maxis\u001b[49m\u001b[38;5;241;43m=\u001b[39;49m\u001b[43maxis\u001b[49m\u001b[43m)\u001b[49m\n\u001b[1;32m   3717\u001b[0m     \u001b[38;5;66;03m# Maybe set copy if we didn't actually change the index.\u001b[39;00m\n\u001b[1;32m   3718\u001b[0m     \u001b[38;5;28;01mif\u001b[39;00m \u001b[38;5;129;01mnot\u001b[39;00m result\u001b[38;5;241m.\u001b[39m_get_axis(axis)\u001b[38;5;241m.\u001b[39mequals(\u001b[38;5;28mself\u001b[39m\u001b[38;5;241m.\u001b[39m_get_axis(axis)):\n",
      "File \u001b[0;32m~/anaconda3/lib/python3.9/site-packages/pandas/core/generic.py:3703\u001b[0m, in \u001b[0;36mNDFrame.take\u001b[0;34m(self, indices, axis, is_copy, **kwargs)\u001b[0m\n\u001b[1;32m   3699\u001b[0m nv\u001b[38;5;241m.\u001b[39mvalidate_take((), kwargs)\n\u001b[1;32m   3701\u001b[0m \u001b[38;5;28mself\u001b[39m\u001b[38;5;241m.\u001b[39m_consolidate_inplace()\n\u001b[0;32m-> 3703\u001b[0m new_data \u001b[38;5;241m=\u001b[39m \u001b[38;5;28;43mself\u001b[39;49m\u001b[38;5;241;43m.\u001b[39;49m\u001b[43m_mgr\u001b[49m\u001b[38;5;241;43m.\u001b[39;49m\u001b[43mtake\u001b[49m\u001b[43m(\u001b[49m\n\u001b[1;32m   3704\u001b[0m \u001b[43m    \u001b[49m\u001b[43mindices\u001b[49m\u001b[43m,\u001b[49m\u001b[43m \u001b[49m\u001b[43maxis\u001b[49m\u001b[38;5;241;43m=\u001b[39;49m\u001b[38;5;28;43mself\u001b[39;49m\u001b[38;5;241;43m.\u001b[39;49m\u001b[43m_get_block_manager_axis\u001b[49m\u001b[43m(\u001b[49m\u001b[43maxis\u001b[49m\u001b[43m)\u001b[49m\u001b[43m,\u001b[49m\u001b[43m \u001b[49m\u001b[43mverify\u001b[49m\u001b[38;5;241;43m=\u001b[39;49m\u001b[38;5;28;43;01mTrue\u001b[39;49;00m\n\u001b[1;32m   3705\u001b[0m \u001b[43m\u001b[49m\u001b[43m)\u001b[49m\n\u001b[1;32m   3706\u001b[0m \u001b[38;5;28;01mreturn\u001b[39;00m \u001b[38;5;28mself\u001b[39m\u001b[38;5;241m.\u001b[39m_constructor(new_data)\u001b[38;5;241m.\u001b[39m__finalize__(\u001b[38;5;28mself\u001b[39m, method\u001b[38;5;241m=\u001b[39m\u001b[38;5;124m\"\u001b[39m\u001b[38;5;124mtake\u001b[39m\u001b[38;5;124m\"\u001b[39m)\n",
      "File \u001b[0;32m~/anaconda3/lib/python3.9/site-packages/pandas/core/internals/managers.py:900\u001b[0m, in \u001b[0;36mBaseBlockManager.take\u001b[0;34m(self, indexer, axis, verify)\u001b[0m\n\u001b[1;32m    897\u001b[0m indexer \u001b[38;5;241m=\u001b[39m maybe_convert_indices(indexer, n, verify\u001b[38;5;241m=\u001b[39mverify)\n\u001b[1;32m    899\u001b[0m new_labels \u001b[38;5;241m=\u001b[39m \u001b[38;5;28mself\u001b[39m\u001b[38;5;241m.\u001b[39maxes[axis]\u001b[38;5;241m.\u001b[39mtake(indexer)\n\u001b[0;32m--> 900\u001b[0m \u001b[38;5;28;01mreturn\u001b[39;00m \u001b[38;5;28;43mself\u001b[39;49m\u001b[38;5;241;43m.\u001b[39;49m\u001b[43mreindex_indexer\u001b[49m\u001b[43m(\u001b[49m\n\u001b[1;32m    901\u001b[0m \u001b[43m    \u001b[49m\u001b[43mnew_axis\u001b[49m\u001b[38;5;241;43m=\u001b[39;49m\u001b[43mnew_labels\u001b[49m\u001b[43m,\u001b[49m\n\u001b[1;32m    902\u001b[0m \u001b[43m    \u001b[49m\u001b[43mindexer\u001b[49m\u001b[38;5;241;43m=\u001b[39;49m\u001b[43mindexer\u001b[49m\u001b[43m,\u001b[49m\n\u001b[1;32m    903\u001b[0m \u001b[43m    \u001b[49m\u001b[43maxis\u001b[49m\u001b[38;5;241;43m=\u001b[39;49m\u001b[43maxis\u001b[49m\u001b[43m,\u001b[49m\n\u001b[1;32m    904\u001b[0m \u001b[43m    \u001b[49m\u001b[43mallow_dups\u001b[49m\u001b[38;5;241;43m=\u001b[39;49m\u001b[38;5;28;43;01mTrue\u001b[39;49;00m\u001b[43m,\u001b[49m\n\u001b[1;32m    905\u001b[0m \u001b[43m    \u001b[49m\u001b[43mconsolidate\u001b[49m\u001b[38;5;241;43m=\u001b[39;49m\u001b[38;5;28;43;01mFalse\u001b[39;49;00m\u001b[43m,\u001b[49m\n\u001b[1;32m    906\u001b[0m \u001b[43m\u001b[49m\u001b[43m)\u001b[49m\n",
      "File \u001b[0;32m~/anaconda3/lib/python3.9/site-packages/pandas/core/internals/managers.py:692\u001b[0m, in \u001b[0;36mBaseBlockManager.reindex_indexer\u001b[0;34m(self, new_axis, indexer, axis, fill_value, allow_dups, copy, consolidate, only_slice, use_na_proxy)\u001b[0m\n\u001b[1;32m    685\u001b[0m     new_blocks \u001b[38;5;241m=\u001b[39m \u001b[38;5;28mself\u001b[39m\u001b[38;5;241m.\u001b[39m_slice_take_blocks_ax0(\n\u001b[1;32m    686\u001b[0m         indexer,\n\u001b[1;32m    687\u001b[0m         fill_value\u001b[38;5;241m=\u001b[39mfill_value,\n\u001b[1;32m    688\u001b[0m         only_slice\u001b[38;5;241m=\u001b[39monly_slice,\n\u001b[1;32m    689\u001b[0m         use_na_proxy\u001b[38;5;241m=\u001b[39muse_na_proxy,\n\u001b[1;32m    690\u001b[0m     )\n\u001b[1;32m    691\u001b[0m \u001b[38;5;28;01melse\u001b[39;00m:\n\u001b[0;32m--> 692\u001b[0m     new_blocks \u001b[38;5;241m=\u001b[39m [\n\u001b[1;32m    693\u001b[0m         blk\u001b[38;5;241m.\u001b[39mtake_nd(\n\u001b[1;32m    694\u001b[0m             indexer,\n\u001b[1;32m    695\u001b[0m             axis\u001b[38;5;241m=\u001b[39m\u001b[38;5;241m1\u001b[39m,\n\u001b[1;32m    696\u001b[0m             fill_value\u001b[38;5;241m=\u001b[39m(\n\u001b[1;32m    697\u001b[0m                 fill_value \u001b[38;5;28;01mif\u001b[39;00m fill_value \u001b[38;5;129;01mis\u001b[39;00m \u001b[38;5;129;01mnot\u001b[39;00m \u001b[38;5;28;01mNone\u001b[39;00m \u001b[38;5;28;01melse\u001b[39;00m blk\u001b[38;5;241m.\u001b[39mfill_value\n\u001b[1;32m    698\u001b[0m             ),\n\u001b[1;32m    699\u001b[0m         )\n\u001b[1;32m    700\u001b[0m         \u001b[38;5;28;01mfor\u001b[39;00m blk \u001b[38;5;129;01min\u001b[39;00m \u001b[38;5;28mself\u001b[39m\u001b[38;5;241m.\u001b[39mblocks\n\u001b[1;32m    701\u001b[0m     ]\n\u001b[1;32m    703\u001b[0m new_axes \u001b[38;5;241m=\u001b[39m \u001b[38;5;28mlist\u001b[39m(\u001b[38;5;28mself\u001b[39m\u001b[38;5;241m.\u001b[39maxes)\n\u001b[1;32m    704\u001b[0m new_axes[axis] \u001b[38;5;241m=\u001b[39m new_axis\n",
      "File \u001b[0;32m~/anaconda3/lib/python3.9/site-packages/pandas/core/internals/managers.py:693\u001b[0m, in \u001b[0;36m<listcomp>\u001b[0;34m(.0)\u001b[0m\n\u001b[1;32m    685\u001b[0m     new_blocks \u001b[38;5;241m=\u001b[39m \u001b[38;5;28mself\u001b[39m\u001b[38;5;241m.\u001b[39m_slice_take_blocks_ax0(\n\u001b[1;32m    686\u001b[0m         indexer,\n\u001b[1;32m    687\u001b[0m         fill_value\u001b[38;5;241m=\u001b[39mfill_value,\n\u001b[1;32m    688\u001b[0m         only_slice\u001b[38;5;241m=\u001b[39monly_slice,\n\u001b[1;32m    689\u001b[0m         use_na_proxy\u001b[38;5;241m=\u001b[39muse_na_proxy,\n\u001b[1;32m    690\u001b[0m     )\n\u001b[1;32m    691\u001b[0m \u001b[38;5;28;01melse\u001b[39;00m:\n\u001b[1;32m    692\u001b[0m     new_blocks \u001b[38;5;241m=\u001b[39m [\n\u001b[0;32m--> 693\u001b[0m         \u001b[43mblk\u001b[49m\u001b[38;5;241;43m.\u001b[39;49m\u001b[43mtake_nd\u001b[49m\u001b[43m(\u001b[49m\n\u001b[1;32m    694\u001b[0m \u001b[43m            \u001b[49m\u001b[43mindexer\u001b[49m\u001b[43m,\u001b[49m\n\u001b[1;32m    695\u001b[0m \u001b[43m            \u001b[49m\u001b[43maxis\u001b[49m\u001b[38;5;241;43m=\u001b[39;49m\u001b[38;5;241;43m1\u001b[39;49m\u001b[43m,\u001b[49m\n\u001b[1;32m    696\u001b[0m \u001b[43m            \u001b[49m\u001b[43mfill_value\u001b[49m\u001b[38;5;241;43m=\u001b[39;49m\u001b[43m(\u001b[49m\n\u001b[1;32m    697\u001b[0m \u001b[43m                \u001b[49m\u001b[43mfill_value\u001b[49m\u001b[43m \u001b[49m\u001b[38;5;28;43;01mif\u001b[39;49;00m\u001b[43m \u001b[49m\u001b[43mfill_value\u001b[49m\u001b[43m \u001b[49m\u001b[38;5;129;43;01mis\u001b[39;49;00m\u001b[43m \u001b[49m\u001b[38;5;129;43;01mnot\u001b[39;49;00m\u001b[43m \u001b[49m\u001b[38;5;28;43;01mNone\u001b[39;49;00m\u001b[43m \u001b[49m\u001b[38;5;28;43;01melse\u001b[39;49;00m\u001b[43m \u001b[49m\u001b[43mblk\u001b[49m\u001b[38;5;241;43m.\u001b[39;49m\u001b[43mfill_value\u001b[49m\n\u001b[1;32m    698\u001b[0m \u001b[43m            \u001b[49m\u001b[43m)\u001b[49m\u001b[43m,\u001b[49m\n\u001b[1;32m    699\u001b[0m \u001b[43m        \u001b[49m\u001b[43m)\u001b[49m\n\u001b[1;32m    700\u001b[0m         \u001b[38;5;28;01mfor\u001b[39;00m blk \u001b[38;5;129;01min\u001b[39;00m \u001b[38;5;28mself\u001b[39m\u001b[38;5;241m.\u001b[39mblocks\n\u001b[1;32m    701\u001b[0m     ]\n\u001b[1;32m    703\u001b[0m new_axes \u001b[38;5;241m=\u001b[39m \u001b[38;5;28mlist\u001b[39m(\u001b[38;5;28mself\u001b[39m\u001b[38;5;241m.\u001b[39maxes)\n\u001b[1;32m    704\u001b[0m new_axes[axis] \u001b[38;5;241m=\u001b[39m new_axis\n",
      "File \u001b[0;32m~/anaconda3/lib/python3.9/site-packages/pandas/core/internals/blocks.py:1137\u001b[0m, in \u001b[0;36mBlock.take_nd\u001b[0;34m(self, indexer, axis, new_mgr_locs, fill_value)\u001b[0m\n\u001b[1;32m   1134\u001b[0m \u001b[38;5;28;01melse\u001b[39;00m:\n\u001b[1;32m   1135\u001b[0m     allow_fill \u001b[38;5;241m=\u001b[39m \u001b[38;5;28;01mTrue\u001b[39;00m\n\u001b[0;32m-> 1137\u001b[0m new_values \u001b[38;5;241m=\u001b[39m \u001b[43malgos\u001b[49m\u001b[38;5;241;43m.\u001b[39;49m\u001b[43mtake_nd\u001b[49m\u001b[43m(\u001b[49m\n\u001b[1;32m   1138\u001b[0m \u001b[43m    \u001b[49m\u001b[43mvalues\u001b[49m\u001b[43m,\u001b[49m\u001b[43m \u001b[49m\u001b[43mindexer\u001b[49m\u001b[43m,\u001b[49m\u001b[43m \u001b[49m\u001b[43maxis\u001b[49m\u001b[38;5;241;43m=\u001b[39;49m\u001b[43maxis\u001b[49m\u001b[43m,\u001b[49m\u001b[43m \u001b[49m\u001b[43mallow_fill\u001b[49m\u001b[38;5;241;43m=\u001b[39;49m\u001b[43mallow_fill\u001b[49m\u001b[43m,\u001b[49m\u001b[43m \u001b[49m\u001b[43mfill_value\u001b[49m\u001b[38;5;241;43m=\u001b[39;49m\u001b[43mfill_value\u001b[49m\n\u001b[1;32m   1139\u001b[0m \u001b[43m\u001b[49m\u001b[43m)\u001b[49m\n\u001b[1;32m   1141\u001b[0m \u001b[38;5;66;03m# Called from three places in managers, all of which satisfy\u001b[39;00m\n\u001b[1;32m   1142\u001b[0m \u001b[38;5;66;03m#  this assertion\u001b[39;00m\n\u001b[1;32m   1143\u001b[0m \u001b[38;5;28;01massert\u001b[39;00m \u001b[38;5;129;01mnot\u001b[39;00m (axis \u001b[38;5;241m==\u001b[39m \u001b[38;5;241m0\u001b[39m \u001b[38;5;129;01mand\u001b[39;00m new_mgr_locs \u001b[38;5;129;01mis\u001b[39;00m \u001b[38;5;28;01mNone\u001b[39;00m)\n",
      "File \u001b[0;32m~/anaconda3/lib/python3.9/site-packages/pandas/core/array_algos/take.py:117\u001b[0m, in \u001b[0;36mtake_nd\u001b[0;34m(arr, indexer, axis, fill_value, allow_fill)\u001b[0m\n\u001b[1;32m    114\u001b[0m     \u001b[38;5;28;01mreturn\u001b[39;00m arr\u001b[38;5;241m.\u001b[39mtake(indexer, fill_value\u001b[38;5;241m=\u001b[39mfill_value, allow_fill\u001b[38;5;241m=\u001b[39mallow_fill)\n\u001b[1;32m    116\u001b[0m arr \u001b[38;5;241m=\u001b[39m np\u001b[38;5;241m.\u001b[39masarray(arr)\n\u001b[0;32m--> 117\u001b[0m \u001b[38;5;28;01mreturn\u001b[39;00m \u001b[43m_take_nd_ndarray\u001b[49m\u001b[43m(\u001b[49m\u001b[43marr\u001b[49m\u001b[43m,\u001b[49m\u001b[43m \u001b[49m\u001b[43mindexer\u001b[49m\u001b[43m,\u001b[49m\u001b[43m \u001b[49m\u001b[43maxis\u001b[49m\u001b[43m,\u001b[49m\u001b[43m \u001b[49m\u001b[43mfill_value\u001b[49m\u001b[43m,\u001b[49m\u001b[43m \u001b[49m\u001b[43mallow_fill\u001b[49m\u001b[43m)\u001b[49m\n",
      "\u001b[0;31mKeyboardInterrupt\u001b[0m: "
     ]
    }
   ],
   "source": [
    "cutM, cutD = find_opt_cut_2(df_bdt_test_s)"
   ]
  },
  {
   "cell_type": "code",
   "execution_count": null,
   "id": "5d79ff85",
   "metadata": {},
   "outputs": [],
   "source": [
    "# BDT score distribution \n",
    "\n",
    "f = plt.figure(figsize=(8,6))\n",
    "ax1 = plt.subplot(111)\n",
    "\n",
    "df_plot = df_bdt_test_s\n",
    "\n",
    "range_=[0, 1]\n",
    "bins_=20\n",
    "\n",
    "ax1.hist(df_plot[df_plot.target==1]['pred1'], weights=df_plot[df_plot.target==1]['weight']/sum(df_plot[df_plot.target==1]['weight']), bins=bins_, range=range_, histtype='step', lw=3, label=r'Maj.', alpha=0.5, color='C0');\n",
    "ax1.hist(df_plot[df_plot.target==2]['pred1'], weights=df_plot[df_plot.target==2]['weight']/sum(df_plot[df_plot.target==2]['weight']), bins=bins_, range=range_, histtype='step', lw=3, label=r'Dir.', alpha=0.5, color='C1');\n",
    "ax1.hist(df_plot[df_plot.target==0]['pred1'], weights=df_plot[df_plot.target==0]['weight']/sum(df_plot[df_plot.target==0]['weight']), bins=bins_, range=range_, histtype='step', lw=3, label=r'Bkg.', alpha=0.5, color='C2');\n",
    "\n",
    "ax1.set_ylabel('Normlized distribution', fontsize=20)\n",
    "ax1.set_xlabel(r'BDT score (HNL=Maj.)', fontsize=20)\n",
    "ax1.set_yticks([])\n",
    "ax1.legend(loc=2, fontsize=20)\n",
    "ax1.set_title(r\"$\\sqrt{s}=$\"+str(cm)+\"; $m_N=$\"+str(mN), fontsize=20)\n",
    "ax1.set_yscale('log')\n",
    "ax1.axvline(cutM)\n",
    "\n",
    "\n",
    "\n"
   ]
  },
  {
   "cell_type": "code",
   "execution_count": 408,
   "id": "4e40bba6",
   "metadata": {},
   "outputs": [
    {
     "data": {
      "text/plain": [
       "<matplotlib.lines.Line2D at 0x7f263cd8e370>"
      ]
     },
     "execution_count": 408,
     "metadata": {},
     "output_type": "execute_result"
    },
    {
     "data": {
      "image/png": "[encoded data removed]",
      "text/plain": [
       "<Figure size 576x432 with 1 Axes>"
      ]
     },
     "metadata": {
      "needs_background": "light"
     },
     "output_type": "display_data"
    }
   ],
   "source": [
    "# BDT score distribution \n",
    "\n",
    "f = plt.figure(figsize=(8,6))\n",
    "ax1 = plt.subplot(111)\n",
    "\n",
    "df_plot = df_bdt_test_s\n",
    "\n",
    "range_=[0, 1]\n",
    "bins_=20\n",
    "\n",
    "ax1.hist(df_plot[df_plot.target==1]['pred2'], weights=df_plot[df_plot.target==1]['weight']/sum(df_plot[df_plot.target==1]['weight']), bins=bins_, range=range_, histtype='step', lw=3, label=r'Maj.', alpha=0.5, color='C0');\n",
    "ax1.hist(df_plot[df_plot.target==2]['pred2'], weights=df_plot[df_plot.target==2]['weight']/sum(df_plot[df_plot.target==2]['weight']), bins=bins_, range=range_, histtype='step', lw=3, label=r'Dir.', alpha=0.5, color='C1');\n",
    "ax1.hist(df_plot[df_plot.target==0]['pred2'], weights=df_plot[df_plot.target==0]['weight']/sum(df_plot[df_plot.target==0]['weight']), bins=bins_, range=range_, histtype='step', lw=3, label=r'Bkg.', alpha=0.5, color='C2');\n",
    "\n",
    "ax1.set_ylabel('Normlized distribution', fontsize=20)\n",
    "ax1.set_xlabel(r'BDT score (HNL=Dir.)', fontsize=20)\n",
    "ax1.set_yticks([])\n",
    "ax1.legend(loc=1, fontsize=20)\n",
    "ax1.set_title(r\"$\\sqrt{s}=$\"+str(cm)+\"; $m_N=$\"+str(mN), fontsize=20)\n",
    "ax1.set_yscale('log')\n",
    "ax1.axvline(cutD)\n",
    "\n",
    "\n",
    "\n",
    "\n"
   ]
  },
  {
   "cell_type": "code",
   "execution_count": 409,
   "id": "b6ada71f",
   "metadata": {},
   "outputs": [
    {
     "data": {
      "image/png": "[encoded data removed]",
      "text/plain": [
       "<Figure size 864x576 with 2 Axes>"
      ]
     },
     "metadata": {
      "needs_background": "light"
     },
     "output_type": "display_data"
    }
   ],
   "source": [
    "# Distributions of Maj/Dir/bkg. regions\n",
    "\n",
    "plt.figure(figsize=(12,8))\n",
    "\n",
    "ax1 = plt.subplot(221)\n",
    "range_=[0,1]\n",
    "bins_=50\n",
    "\n",
    "# Maj. region\n",
    "ax1.hist(df_bdt_test_s[(df_bdt_test_s.target==1)]['pred1'], weights=df_bdt_test_s[df_bdt_test_s.target==1]['weight']/sum(df_bdt_test_s[df_bdt_test_s.target==1]['weight']), bins=bins_, range=range_, histtype='step', lw=3, label=r'Signal', alpha=0.5);\n",
    "ax1.hist(df_bdt_test_s[(df_bdt_test_s.target==2)]['pred1'], weights=df_bdt_test_s[df_bdt_test_s.target==2]['weight']/sum(df_bdt_test_s[df_bdt_test_s.target==2]['weight']), bins=bins_, range=range_, histtype='step', lw=3, label=r'Signal', alpha=0.5);\n",
    "ax1.hist(df_bdt_test_s[(df_bdt_test_s.target==0)]['pred1'], weights=df_bdt_test_s[df_bdt_test_s.target==0]['weight']/sum(df_bdt_test_s[df_bdt_test_s.target==0]['weight']), bins=bins_, range=range_, histtype='step', lw=3, label=r'Signal', alpha=0.5);\n",
    "ax1.axvline(cutM)\n",
    "ax1.set_yscale('log')\n",
    "\n",
    "# Dir. region\n",
    "ax2 = plt.subplot(222)\n",
    "range_=[0,1]\n",
    "ax2.hist(df_bdt_test_s[(df_bdt_test_s.target==1)]['pred2'], weights=df_bdt_test_s[df_bdt_test_s.target==1]['weight']/sum(df_bdt_test_s[df_bdt_test_s.target==1]['weight']), bins=bins_, range=range_, histtype='step', lw=3, label=r'Signal', alpha=0.5);\n",
    "ax2.hist(df_bdt_test_s[(df_bdt_test_s.target==2)]['pred2'], weights=df_bdt_test_s[df_bdt_test_s.target==2]['weight']/sum(df_bdt_test_s[df_bdt_test_s.target==2]['weight']), bins=bins_, range=range_, histtype='step', lw=3, label=r'Signal', alpha=0.5);\n",
    "ax2.hist(df_bdt_test_s[(df_bdt_test_s.target==0)]['pred2'], weights=df_bdt_test_s[df_bdt_test_s.target==0]['weight']/sum(df_bdt_test_s[df_bdt_test_s.target==0]['weight']), bins=bins_, range=range_, histtype='step', lw=3, label=r'Signal', alpha=0.5);\n",
    "ax2.axvline(cutD)\n",
    "ax2.set_yscale('log')\n",
    "\n",
    "# # Bkg. region\n",
    "# ax3 = plt.subplot(223)\n",
    "# range_=[0,1]\n",
    "# ax3.hist(df_bdt_test_s[(df_bdt_test_s.target==1)]['pred1']+df_bdt_test_s[(df_bdt_test_s.target==1)]['pred2'], weights=df_bdt_test_s[df_bdt_test_s.target==1]['weight']/sum(df_bdt_test_s[df_bdt_test_s.target==1]['weight']), bins=bins_, range=range_, histtype='step', lw=3, label=r'Signal', alpha=0.5);\n",
    "# ax3.hist(df_bdt_test_s[(df_bdt_test_s.target==2)]['pred1']+df_bdt_test_s[(df_bdt_test_s.target==2)]['pred2'], weights=df_bdt_test_s[df_bdt_test_s.target==2]['weight']/sum(df_bdt_test_s[df_bdt_test_s.target==2]['weight']), bins=bins_, range=range_, histtype='step', lw=3, label=r'Signal', alpha=0.5);\n",
    "# ax3.hist(df_bdt_test_s[(df_bdt_test_s.target==0)]['pred1']+df_bdt_test_s[(df_bdt_test_s.target==0)]['pred2'], weights=df_bdt_test_s[df_bdt_test_s.target==0]['weight']/sum(df_bdt_test_s[df_bdt_test_s.target==0]['weight']), bins=bins_, range=range_, histtype='step', lw=3, label=r'Signal', alpha=0.5);\n",
    "# # cutD=0.5\n",
    "# ax3.axvline(threshold)\n",
    "# ax3.set_yscale('log')"
   ]
  },
  {
   "cell_type": "code",
   "execution_count": 410,
   "id": "b361cd96",
   "metadata": {},
   "outputs": [],
   "source": [
    "# get the expected yields at the corresponding regions (after BDT and mass cuts)\n",
    "def get_M_block(V2_test=1e-5):\n",
    "#     pass Maj. not pass Dir. => Maj. region\n",
    "    df_M = df_bdt_test_s[(df_bdt_test_s.pred1>cutM) & (df_bdt_test_s.pred2<=cutD)]\n",
    "#     number of Bkg., Maj., Dir. in the Maj. region\n",
    "    M0, M1, M2 = df_M[df_M.target==0].weight.sum()/tr_te_size, df_M[df_M.target==1].weight.sum()/tr_te_size, df_M[df_M.target==2].weight.sum()/tr_te_size\n",
    "#     rescale Maj/Dir by the V2_test\n",
    "    M1, M2 = M1/V2*V2_test, M2/V2*V2_test\n",
    "    return M0, M1, M2\n",
    "\n",
    "def get_D_block(V2_test=1e-5):\n",
    "#     not pass Maj. pass Dir. => Dir. region\n",
    "    df_D = df_bdt_test_s[(df_bdt_test_s.pred1<=cutM) & (df_bdt_test_s.pred2>cutD)]\n",
    "#     number of Bkg., Maj., Dir. in the Maj. region\n",
    "    D0, D1, D2 = df_D[df_D.target==0].weight.sum()/tr_te_size, df_D[df_D.target==1].weight.sum()/tr_te_size, df_D[df_D.target==2].weight.sum()/tr_te_size\n",
    "#     rescale Maj/Dir by the V2_test\n",
    "    D1, D2 = D1/V2*V2_test, D2/V2*V2_test\n",
    "    return D0, D1, D2\n",
    "\n",
    "    \n",
    "# number of events in Maj region\n",
    "def N_M(r, M_M, D_M, B_M):\n",
    "    return r*M_M + (1-r)*D_M + B_M\n",
    "    \n",
    "# number of events in Dir region\n",
    "def N_D(r, M_D, D_D, B_D):\n",
    "    return r*D_D + (1-r)*M_D + B_D\n",
    "\n",
    "# log likelihood\n",
    "# r_t: simulated (means if in the real world, the real mixing is r_t); \n",
    "# r: r_hat\n",
    "def lnL(r, r_t, M_M, D_M, B_M, M_D, D_D, B_D):\n",
    "    NM = N_M(r, M_M, D_M, B_M)\n",
    "    NMt = N_M(r_t, M_M, D_M, B_M)\n",
    "    ND = N_D(r, M_D, D_D, B_D)\n",
    "    NDt = N_D(r_t, M_D, D_D, B_D)\n",
    "    \n",
    "    lnL_M = (NMt)*np.log(NM) - (NMt*np.log(NMt)-NMt) - NM\n",
    "    lnL_D = (NDt)*np.log(ND) - (NDt*np.log(NDt)-NDt) - ND\n",
    "    return lnL_M + lnL_D"
   ]
  },
  {
   "cell_type": "code",
   "execution_count": 411,
   "id": "d70220ce",
   "metadata": {},
   "outputs": [],
   "source": [
    "V2_test = upperM\n",
    "# V2_test = 1e-5\n",
    "M0, M1, M2 = get_M_block(V2_test)\n",
    "D0, D1, D2 = get_D_block(V2_test)\n",
    "\n",
    "r = np.arange(0, 1.0000000001, 0.0001)\n",
    "rt_lt = np.arange(0, 1.00000000001, 0.01)\n",
    "\n",
    "def get_bounds(r, sd):\n",
    "#     significant level\n",
    "    sig = sd**2\n",
    "    upper_lt = []\n",
    "    lower_lt = []\n",
    "\n",
    "    for i, rt in enumerate(rt_lt):\n",
    "        if i%100 == 0:\n",
    "            print(rt, end='\\r')\n",
    "#         array of values of different r (r_hat) with a specific r (simulated r)\n",
    "        lnL_val = lnL(r, rt, M1, M2, M0, D1, D2, D0)\n",
    "\n",
    "#         storing the upper bound\n",
    "        if rt == 1:\n",
    "            upper_lt.append(np.nan)\n",
    "        else:\n",
    "#             find the index of r which gives the closest value to the corresponding significant level\n",
    "            i_r = np.argmin(abs(lnL_val[np.argmax(lnL_val):] - (np.max(lnL_val)-sig/2))) + np.argmax(lnL_val) \n",
    "            if abs(np.max(lnL_val)-sig/2 / lnL_val[i_r] - 1) < 1/100:\n",
    "                upper_lt.append(r[i_r])\n",
    "            else: \n",
    "                upper_lt.append(np.nan)\n",
    "        \n",
    "#         storing the lower bound\n",
    "        if rt == 0:\n",
    "            lower_lt.append(np.nan)\n",
    "        else:\n",
    "#             find the index of r which gives the closest value to the corresponding significant level\n",
    "            i_l = np.argmin(abs(lnL_val[:np.argmax(lnL_val)] - (np.max(lnL_val)-sig/2)))\n",
    "            if abs(np.max(lnL_val)-sig/2 / lnL_val[i_l] - 1) < 1/100:\n",
    "                lower_lt.append(r[i_l])\n",
    "            else: \n",
    "                lower_lt.append(np.nan)\n",
    "    \n",
    "    upper_lt, lower_lt = np.array(upper_lt), np.array(lower_lt)\n",
    "    return upper_lt, lower_lt"
   ]
  },
  {
   "cell_type": "code",
   "execution_count": 412,
   "id": "a70cf024",
   "metadata": {},
   "outputs": [
    {
     "name": "stdout",
     "output_type": "stream",
     "text": [
      "1.0\r"
     ]
    }
   ],
   "source": [
    "# one sigma\n",
    "upper_lt1, lower_lt1 = get_bounds(r, 1)\n",
    "# two sigma\n",
    "upper_lt2, lower_lt2 = get_bounds(r, 2)"
   ]
  },
  {
   "cell_type": "code",
   "execution_count": 413,
   "id": "6f7c7a90",
   "metadata": {},
   "outputs": [
    {
     "data": {
      "image/png": "[encoded data removed]",
      "text/plain": [
       "<Figure size 576x432 with 1 Axes>"
      ]
     },
     "metadata": {
      "needs_background": "light"
     },
     "output_type": "display_data"
    }
   ],
   "source": [
    "\n",
    "f = plt.figure(figsize=(8,6))\n",
    "\n",
    "plt.plot(rt_lt, upper_lt1, color='C0', label=r'$1\\sigma$', lw=2)\n",
    "plt.plot(rt_lt, lower_lt1, color='C0', lw=2)\n",
    "\n",
    "plt.plot(rt_lt, upper_lt2, color='C1', label=r'$2\\sigma$', lw=2)\n",
    "plt.plot(rt_lt, lower_lt2, color='C1', lw=2)\n",
    "\n",
    "plt.legend(fontsize=20)\n",
    "\n",
    "plt.title(r\"$\\sqrt{s}=$\"+str(cm)+\"; $m_N=$\"+str(mN)+\"; $|V|^2=$\"+f\"{V2_test:.2e}\", fontsize=20)\n",
    "plt.xlabel(\"Simulated r\", fontsize=20);\n",
    "plt.ylabel(r\"MLE $\\hat{r}$\", fontsize=20);\n",
    "\n",
    "plt.margins(y=0)\n",
    "plt.margins(x=0)\n",
    "\n",
    "plt.grid()\n"
   ]
  },
  {
   "cell_type": "code",
   "execution_count": 414,
   "id": "181df07b",
   "metadata": {},
   "outputs": [
    {
     "data": {
      "image/png": "[encoded data removed]",
      "text/plain": [
       "<Figure size 576x432 with 1 Axes>"
      ]
     },
     "metadata": {
      "needs_background": "light"
     },
     "output_type": "display_data"
    }
   ],
   "source": [
    "# exmaple of a slide with specific r_t (simulated r)\n",
    "rt = 0.7   # if the measured data is such value\n",
    "\n",
    "f = plt.figure(figsize=(8,6))\n",
    "\n",
    "r = np.arange(0, 1.00000000001, 0.0001)\n",
    "\n",
    "lnL_val = lnL(r, rt, M1, M2, M0, D1, D2, D0)\n",
    "\n",
    "plt.plot(r, lnL_val)    # loop over possible r, to find the one max the liklihood\n",
    "plt.axvline(rt)\n",
    "plt.axhline(np.max(lnL_val))\n",
    "plt.axhline(np.max(lnL_val)-1/2)\n",
    "\n",
    "i_r = np.argmin(abs(lnL_val[np.argmax(lnL_val):] - (np.max(lnL_val)-1/2))) + np.argmax(lnL_val) \n",
    "if abs(np.max(lnL_val)-1/2 / lnL_val[i_r] - 1) < 1/100:\n",
    "    plt.axvline(r[i_r])\n",
    "\n",
    "i_l = np.argmin(abs(lnL_val[:np.argmax(lnL_val)] - (np.max(lnL_val)-1/2)))\n",
    "if abs(np.max(lnL_val)-1/2 / lnL_val[i_l] - 1) < 1/100:\n",
    "    plt.axvline(r[i_l])\n",
    "\n",
    "    \n",
    "plt.title(r\"$\\sqrt{s}=$\"+str(cm)+\"; $m_N=$\"+str(mN)+\"; $|V|^2=$\"+f\"{V2_test:.2e}; \"+f\"$r={rt}$\", fontsize=20)\n",
    "plt.xlabel(r\"MLE $\\hat{r}$\", fontsize=20);\n",
    "plt.ylabel(r\"$\\ln{L}$\", fontsize=20);\n",
    "plt.grid()"
   ]
  },
  {
   "cell_type": "code",
   "execution_count": 415,
   "id": "b37495e1",
   "metadata": {},
   "outputs": [],
   "source": [
    "# width of one sigma (since it is asymmetric, so need to separate upper and lower)\n",
    "sigma_pos = upper_lt1 - rt_lt\n",
    "sigma_neg = rt_lt - lower_lt1 \n",
    "\n",
    "df_sigma = pd.DataFrame(columns=['r', 'sigma_pos', 'sigma_neg'])\n",
    "df_sigma['r'] = rt_lt\n",
    "df_sigma['sigma_pos'] = sigma_pos\n",
    "df_sigma['sigma_neg'] = sigma_neg\n",
    "\n",
    "df_sigma_pos = df_sigma[['r', 'sigma_pos']].dropna()\n",
    "df_sigma_neg = df_sigma[['r', 'sigma_neg']].dropna()\n",
    "\n",
    "# avg of them \n",
    "df_sigma['avg'] = df_sigma[['sigma_pos', 'sigma_neg']].mean(axis=1)"
   ]
  },
  {
   "cell_type": "code",
   "execution_count": 416,
   "id": "f7b2d89f",
   "metadata": {},
   "outputs": [
    {
     "data": {
      "image/png": "[encoded data removed]",
      "text/plain": [
       "<Figure size 576x432 with 1 Axes>"
      ]
     },
     "metadata": {
      "needs_background": "light"
     },
     "output_type": "display_data"
    }
   ],
   "source": [
    "\n",
    "f = plt.figure(figsize=(8,6))\n",
    "plt.plot(df_sigma['r'], df_sigma['avg'], lw=2, c='C4', label=r'$\\sigma_{\\rm avg}$')\n",
    "plt.plot(df_sigma['r'], df_sigma['sigma_pos'], lw=2, c='C2', label=r'$\\sigma_+$')\n",
    "plt.plot(df_sigma['r'], df_sigma['sigma_neg'], lw=2, c='C3', label=r'$\\sigma_-$')\n",
    "plt.legend(fontsize=20)\n",
    "\n",
    "plt.xlabel(\"simulated r\", fontsize=20);\n",
    "plt.ylabel(r\"$\\sigma$\", fontsize=20);\n",
    "plt.title(r\"$\\sqrt{s}=$\"+str(cm)+\"; $m_N=$\"+str(mN)+\"; $|V|^2=$\"+f\"{V2_test:.2e}\", fontsize=20)\n",
    "plt.xlim(-0.05, 1.05)\n",
    "plt.grid()"
   ]
  },
  {
   "cell_type": "code",
   "execution_count": 417,
   "id": "7bb50a75",
   "metadata": {},
   "outputs": [],
   "source": [
    "# get the limit of |V|^2 to reject the null hypothesis H0 (e.g. r0=1 means fully Maj)\n",
    "def get_limit(r0=1, sd=1):\n",
    "    rt_lt = np.arange(0,1.00000000001,0.01)\n",
    "\n",
    "    V2_dt = {}\n",
    "#     loop over each possible r_t (truth r in the real world)\n",
    "    for rt in rt_lt:\n",
    "        if rt==r0:\n",
    "            V2_dt[rt] = np.nan\n",
    "            continue\n",
    "            \n",
    "#         set some inital V2\n",
    "        V2_test = 1e-3\n",
    "        print(rt, end='\\r')\n",
    "        while True:\n",
    "#             calculate the significance\n",
    "            M0, M1, M2 = get_M_block(V2_test)\n",
    "            D0, D1, D2 = get_D_block(V2_test)\n",
    "            lnL_valr = lnL(rt, rt, M1, M2, M0, D1, D2, D0)\n",
    "            lnL_val0 = lnL(r0, rt, M1, M2, M0, D1, D2, D0)\n",
    "            Z = (-2*(lnL_val0 - lnL_valr))**0.5\n",
    "\n",
    "#             if it is close enough to the targeted signifiant level, \n",
    "#             then store the vlaue and stop the loop\n",
    "            if abs(Z/sd-1) < 0.5/100:\n",
    "                V2_dt[rt] = V2_test\n",
    "                break\n",
    "#              if it is too large, halve the V2 and re calculate the significance \n",
    "            elif Z > sd:\n",
    "                V2_test /= 2\n",
    "#             if it is too small, make the V2 a little bit larger\n",
    "            elif Z < sd:\n",
    "                V2_test = 10**(np.log10(V2_test)*0.999) \n",
    "    return V2_dt"
   ]
  },
  {
   "cell_type": "code",
   "execution_count": 418,
   "id": "6ebe728c",
   "metadata": {},
   "outputs": [
    {
     "name": "stdout",
     "output_type": "stream",
     "text": [
      "0.74000000000000013\r"
     ]
    },
    {
     "ename": "KeyboardInterrupt",
     "evalue": "",
     "output_type": "error",
     "traceback": [
      "\u001b[0;31m---------------------------------------------------------------------------\u001b[0m",
      "\u001b[0;31mKeyboardInterrupt\u001b[0m                         Traceback (most recent call last)",
      "Input \u001b[0;32mIn [418]\u001b[0m, in \u001b[0;36m<cell line: 2>\u001b[0;34m()\u001b[0m\n\u001b[1;32m      1\u001b[0m V2_dt_r0_1sd \u001b[38;5;241m=\u001b[39m get_limit(r0\u001b[38;5;241m=\u001b[39m\u001b[38;5;241m0\u001b[39m, sd\u001b[38;5;241m=\u001b[39m\u001b[38;5;241m1.\u001b[39m)\n\u001b[0;32m----> 2\u001b[0m V2_dt_r1_1sd \u001b[38;5;241m=\u001b[39m \u001b[43mget_limit\u001b[49m\u001b[43m(\u001b[49m\u001b[43mr0\u001b[49m\u001b[38;5;241;43m=\u001b[39;49m\u001b[38;5;241;43m1\u001b[39;49m\u001b[43m,\u001b[49m\u001b[43m \u001b[49m\u001b[43msd\u001b[49m\u001b[38;5;241;43m=\u001b[39;49m\u001b[38;5;241;43m1.\u001b[39;49m\u001b[43m)\u001b[49m\n\u001b[1;32m      4\u001b[0m V2_dt_r0_2sd \u001b[38;5;241m=\u001b[39m get_limit(r0\u001b[38;5;241m=\u001b[39m\u001b[38;5;241m0\u001b[39m, sd\u001b[38;5;241m=\u001b[39m\u001b[38;5;241m2.\u001b[39m)\n\u001b[1;32m      5\u001b[0m V2_dt_r1_2sd \u001b[38;5;241m=\u001b[39m get_limit(r0\u001b[38;5;241m=\u001b[39m\u001b[38;5;241m1\u001b[39m, sd\u001b[38;5;241m=\u001b[39m\u001b[38;5;241m2.\u001b[39m)\n",
      "Input \u001b[0;32mIn [417]\u001b[0m, in \u001b[0;36mget_limit\u001b[0;34m(r0, sd)\u001b[0m\n\u001b[1;32m     15\u001b[0m         \u001b[38;5;28;01mwhile\u001b[39;00m \u001b[38;5;28;01mTrue\u001b[39;00m:\n\u001b[1;32m     16\u001b[0m \u001b[38;5;66;03m#             calculate the significance\u001b[39;00m\n\u001b[1;32m     17\u001b[0m             M0, M1, M2 \u001b[38;5;241m=\u001b[39m get_M_block(V2_test)\n\u001b[0;32m---> 18\u001b[0m             D0, D1, D2 \u001b[38;5;241m=\u001b[39m \u001b[43mget_D_block\u001b[49m\u001b[43m(\u001b[49m\u001b[43mV2_test\u001b[49m\u001b[43m)\u001b[49m\n\u001b[1;32m     19\u001b[0m             lnL_valr \u001b[38;5;241m=\u001b[39m lnL(rt, rt, M1, M2, M0, D1, D2, D0)\n\u001b[1;32m     20\u001b[0m             lnL_val0 \u001b[38;5;241m=\u001b[39m lnL(r0, rt, M1, M2, M0, D1, D2, D0)\n",
      "Input \u001b[0;32mIn [410]\u001b[0m, in \u001b[0;36mget_D_block\u001b[0;34m(V2_test)\u001b[0m\n\u001b[1;32m     11\u001b[0m \u001b[38;5;28;01mdef\u001b[39;00m \u001b[38;5;21mget_D_block\u001b[39m(V2_test\u001b[38;5;241m=\u001b[39m\u001b[38;5;241m1e-5\u001b[39m):\n\u001b[1;32m     12\u001b[0m \u001b[38;5;66;03m#     not pass Maj. pass Dir. => Dir. region\u001b[39;00m\n\u001b[0;32m---> 13\u001b[0m     df_D \u001b[38;5;241m=\u001b[39m \u001b[43mdf_bdt_test_s\u001b[49m\u001b[43m[\u001b[49m\u001b[43m(\u001b[49m\u001b[43mdf_bdt_test_s\u001b[49m\u001b[38;5;241;43m.\u001b[39;49m\u001b[43mpred1\u001b[49m\u001b[38;5;241;43m<\u001b[39;49m\u001b[38;5;241;43m=\u001b[39;49m\u001b[43mcutM\u001b[49m\u001b[43m)\u001b[49m\u001b[43m \u001b[49m\u001b[38;5;241;43m&\u001b[39;49m\u001b[43m \u001b[49m\u001b[43m(\u001b[49m\u001b[43mdf_bdt_test_s\u001b[49m\u001b[38;5;241;43m.\u001b[39;49m\u001b[43mpred2\u001b[49m\u001b[38;5;241;43m>\u001b[39;49m\u001b[43mcutD\u001b[49m\u001b[43m)\u001b[49m\u001b[43m]\u001b[49m\n\u001b[1;32m     14\u001b[0m \u001b[38;5;66;03m#     number of Bkg., Maj., Dir. in the Maj. region\u001b[39;00m\n\u001b[1;32m     15\u001b[0m     D0, D1, D2 \u001b[38;5;241m=\u001b[39m df_D[df_D\u001b[38;5;241m.\u001b[39mtarget\u001b[38;5;241m==\u001b[39m\u001b[38;5;241m0\u001b[39m]\u001b[38;5;241m.\u001b[39mweight\u001b[38;5;241m.\u001b[39msum()\u001b[38;5;241m/\u001b[39mtr_te_size, df_D[df_D\u001b[38;5;241m.\u001b[39mtarget\u001b[38;5;241m==\u001b[39m\u001b[38;5;241m1\u001b[39m]\u001b[38;5;241m.\u001b[39mweight\u001b[38;5;241m.\u001b[39msum()\u001b[38;5;241m/\u001b[39mtr_te_size, df_D[df_D\u001b[38;5;241m.\u001b[39mtarget\u001b[38;5;241m==\u001b[39m\u001b[38;5;241m2\u001b[39m]\u001b[38;5;241m.\u001b[39mweight\u001b[38;5;241m.\u001b[39msum()\u001b[38;5;241m/\u001b[39mtr_te_size\n",
      "File \u001b[0;32m~/anaconda3/lib/python3.9/site-packages/pandas/core/frame.py:3496\u001b[0m, in \u001b[0;36mDataFrame.__getitem__\u001b[0;34m(self, key)\u001b[0m\n\u001b[1;32m   3494\u001b[0m \u001b[38;5;66;03m# Do we have a (boolean) 1d indexer?\u001b[39;00m\n\u001b[1;32m   3495\u001b[0m \u001b[38;5;28;01mif\u001b[39;00m com\u001b[38;5;241m.\u001b[39mis_bool_indexer(key):\n\u001b[0;32m-> 3496\u001b[0m     \u001b[38;5;28;01mreturn\u001b[39;00m \u001b[38;5;28;43mself\u001b[39;49m\u001b[38;5;241;43m.\u001b[39;49m\u001b[43m_getitem_bool_array\u001b[49m\u001b[43m(\u001b[49m\u001b[43mkey\u001b[49m\u001b[43m)\u001b[49m\n\u001b[1;32m   3498\u001b[0m \u001b[38;5;66;03m# We are left with two options: a single key, and a collection of keys,\u001b[39;00m\n\u001b[1;32m   3499\u001b[0m \u001b[38;5;66;03m# We interpret tuples as collections only for non-MultiIndex\u001b[39;00m\n\u001b[1;32m   3500\u001b[0m is_single_key \u001b[38;5;241m=\u001b[39m \u001b[38;5;28misinstance\u001b[39m(key, \u001b[38;5;28mtuple\u001b[39m) \u001b[38;5;129;01mor\u001b[39;00m \u001b[38;5;129;01mnot\u001b[39;00m is_list_like(key)\n",
      "File \u001b[0;32m~/anaconda3/lib/python3.9/site-packages/pandas/core/frame.py:3551\u001b[0m, in \u001b[0;36mDataFrame._getitem_bool_array\u001b[0;34m(self, key)\u001b[0m\n\u001b[1;32m   3549\u001b[0m key \u001b[38;5;241m=\u001b[39m check_bool_indexer(\u001b[38;5;28mself\u001b[39m\u001b[38;5;241m.\u001b[39mindex, key)\n\u001b[1;32m   3550\u001b[0m indexer \u001b[38;5;241m=\u001b[39m key\u001b[38;5;241m.\u001b[39mnonzero()[\u001b[38;5;241m0\u001b[39m]\n\u001b[0;32m-> 3551\u001b[0m \u001b[38;5;28;01mreturn\u001b[39;00m \u001b[38;5;28;43mself\u001b[39;49m\u001b[38;5;241;43m.\u001b[39;49m\u001b[43m_take_with_is_copy\u001b[49m\u001b[43m(\u001b[49m\u001b[43mindexer\u001b[49m\u001b[43m,\u001b[49m\u001b[43m \u001b[49m\u001b[43maxis\u001b[49m\u001b[38;5;241;43m=\u001b[39;49m\u001b[38;5;241;43m0\u001b[39;49m\u001b[43m)\u001b[49m\n",
      "File \u001b[0;32m~/anaconda3/lib/python3.9/site-packages/pandas/core/generic.py:3718\u001b[0m, in \u001b[0;36mNDFrame._take_with_is_copy\u001b[0;34m(self, indices, axis)\u001b[0m\n\u001b[1;32m   3716\u001b[0m result \u001b[38;5;241m=\u001b[39m \u001b[38;5;28mself\u001b[39m\u001b[38;5;241m.\u001b[39mtake(indices\u001b[38;5;241m=\u001b[39mindices, axis\u001b[38;5;241m=\u001b[39maxis)\n\u001b[1;32m   3717\u001b[0m \u001b[38;5;66;03m# Maybe set copy if we didn't actually change the index.\u001b[39;00m\n\u001b[0;32m-> 3718\u001b[0m \u001b[38;5;28;01mif\u001b[39;00m \u001b[38;5;129;01mnot\u001b[39;00m \u001b[43mresult\u001b[49m\u001b[38;5;241;43m.\u001b[39;49m\u001b[43m_get_axis\u001b[49m\u001b[43m(\u001b[49m\u001b[43maxis\u001b[49m\u001b[43m)\u001b[49m\u001b[38;5;241;43m.\u001b[39;49m\u001b[43mequals\u001b[49m\u001b[43m(\u001b[49m\u001b[38;5;28;43mself\u001b[39;49m\u001b[38;5;241;43m.\u001b[39;49m\u001b[43m_get_axis\u001b[49m\u001b[43m(\u001b[49m\u001b[43maxis\u001b[49m\u001b[43m)\u001b[49m\u001b[43m)\u001b[49m:\n\u001b[1;32m   3719\u001b[0m     result\u001b[38;5;241m.\u001b[39m_set_is_copy(\u001b[38;5;28mself\u001b[39m)\n\u001b[1;32m   3720\u001b[0m \u001b[38;5;28;01mreturn\u001b[39;00m result\n",
      "File \u001b[0;32m~/anaconda3/lib/python3.9/site-packages/pandas/core/indexes/base.py:5237\u001b[0m, in \u001b[0;36mIndex.equals\u001b[0;34m(self, other)\u001b[0m\n\u001b[1;32m   5178\u001b[0m \u001b[38;5;28;01mdef\u001b[39;00m \u001b[38;5;21mequals\u001b[39m(\u001b[38;5;28mself\u001b[39m, other: Any) \u001b[38;5;241m-\u001b[39m\u001b[38;5;241m>\u001b[39m \u001b[38;5;28mbool\u001b[39m:\n\u001b[1;32m   5179\u001b[0m     \u001b[38;5;124;03m\"\"\"\u001b[39;00m\n\u001b[1;32m   5180\u001b[0m \u001b[38;5;124;03m    Determine if two Index object are equal.\u001b[39;00m\n\u001b[1;32m   5181\u001b[0m \n\u001b[0;32m   (...)\u001b[0m\n\u001b[1;32m   5235\u001b[0m \u001b[38;5;124;03m    True\u001b[39;00m\n\u001b[1;32m   5236\u001b[0m \u001b[38;5;124;03m    \"\"\"\u001b[39;00m\n\u001b[0;32m-> 5237\u001b[0m     \u001b[38;5;28;01mif\u001b[39;00m \u001b[38;5;28;43mself\u001b[39;49m\u001b[38;5;241;43m.\u001b[39;49m\u001b[43mis_\u001b[49m(other):\n\u001b[1;32m   5238\u001b[0m         \u001b[38;5;28;01mreturn\u001b[39;00m \u001b[38;5;28;01mTrue\u001b[39;00m\n\u001b[1;32m   5240\u001b[0m     \u001b[38;5;28;01mif\u001b[39;00m \u001b[38;5;129;01mnot\u001b[39;00m \u001b[38;5;28misinstance\u001b[39m(other, Index):\n",
      "\u001b[0;31mKeyboardInterrupt\u001b[0m: "
     ]
    }
   ],
   "source": [
    "V2_dt_r0_1sd = get_limit(r0=0, sd=1.)\n",
    "V2_dt_r1_1sd = get_limit(r0=1, sd=1.)\n",
    "\n",
    "V2_dt_r0_2sd = get_limit(r0=0, sd=2.)\n",
    "V2_dt_r1_2sd = get_limit(r0=1, sd=2.)"
   ]
  },
  {
   "cell_type": "code",
   "execution_count": null,
   "id": "cf5ad72f",
   "metadata": {},
   "outputs": [],
   "source": [
    "\n",
    "f = plt.figure(figsize=(8,6))\n",
    "plt.plot(V2_dt_r0_1sd.keys(), V2_dt_r0_1sd.values(), label=r'$H_0: r=0$ at $1\\sigma$', c='C1')\n",
    "plt.plot(V2_dt_r1_1sd.keys(), V2_dt_r1_1sd.values(), label=r'$H_0: r=1$ at $1\\sigma$', c='C0')\n",
    "plt.plot(V2_dt_r0_2sd.keys(), V2_dt_r0_2sd.values(), label=r'$H_0: r=0$ at $2\\sigma$', c='C1', linestyle='--')\n",
    "plt.plot(V2_dt_r1_2sd.keys(), V2_dt_r1_2sd.values(), label=r'$H_0: r=1$ at $2\\sigma$', c='C0', linestyle='--')\n",
    "plt.yscale('log')\n",
    "# plt.margins(y=0.25)\n",
    "\n",
    "# plt.axhline(upperM)\n",
    "\n",
    "plt.title(r\"min. $|V|^2$ to reject $H_0$\"+\"\\n\"+r\"$\\sqrt{s}=$\"+str(cm)+\"; $m_N=$\"+str(mN), fontsize=20)\n",
    "plt.xlabel(\"simulated r\", fontsize=20);\n",
    "plt.ylabel(r\"$|V|^2$\", fontsize=20);\n",
    "plt.grid()\n",
    "plt.legend(fontsize=20)\n",
    "\n",
    "plt.yscale('log')"
   ]
  },
  {
   "cell_type": "code",
   "execution_count": null,
   "id": "591ad223",
   "metadata": {},
   "outputs": [],
   "source": []
  },
  {
   "cell_type": "code",
   "execution_count": null,
   "id": "d7b39f1c",
   "metadata": {},
   "outputs": [],
   "source": []
  },
  {
   "cell_type": "code",
   "execution_count": null,
   "id": "121b2e75",
   "metadata": {},
   "outputs": [],
   "source": []
  },
  {
   "cell_type": "code",
   "execution_count": 322,
   "id": "33c44379",
   "metadata": {},
   "outputs": [],
   "source": [
    "df_plot = pd.concat([df_train, df_test])"
   ]
  },
  {
   "cell_type": "code",
   "execution_count": 323,
   "id": "b91f7915",
   "metadata": {},
   "outputs": [
    {
     "data": {
      "image/png": "[encoded data removed]",
      "text/plain": [
       "<Figure size 576x432 with 1 Axes>"
      ]
     },
     "metadata": {
      "needs_background": "light"
     },
     "output_type": "display_data"
    }
   ],
   "source": [
    "f = plt.figure(figsize=(8,6))\n",
    "ax1 = plt.subplot(111)\n",
    "\n",
    "\n",
    "range_=[-1800, 1800]\n",
    "bins_=20\n",
    "\n",
    "ax1.hist(df_plot[df_plot.target==1]['pzN'], weights=df_plot[df_plot.target==1]['weight']/sum(df_plot[df_plot.target==1]['weight']), bins=bins_, range=range_, histtype='step', lw=3, label=r'Maj.', alpha=0.5, color='C0');\n",
    "ax1.hist(df_plot[df_plot.target==2]['pzN'], weights=df_plot[df_plot.target==2]['weight']/sum(df_plot[df_plot.target==2]['weight']), bins=bins_, range=range_, histtype='step', lw=3, label=r'Dir.', alpha=0.5, color='C1');\n",
    "ax1.hist(df_plot[df_plot.target==0]['pzN'], weights=df_plot[df_plot.target==0]['weight']/sum(df_plot[df_plot.target==0]['weight']), bins=bins_, range=range_, histtype='step', lw=3, label=r'Bkg.', alpha=0.5, color='C3');\n",
    "\n",
    "ax1.set_ylabel('Normlized distribution', fontsize=20)\n",
    "ax1.set_xlabel(r'$p_z(N)$ [GeV]', fontsize=20)\n",
    "ax1.set_yticks([])\n",
    "ax1.legend(loc=1, fontsize=20)\n",
    "ax1.set_title(r\"$\\sqrt{s}=$\"+str(cm)+\"; $m_N=$\"+str(mN), fontsize=20);\n",
    "\n",
    "# ax1.set_yscale('log')\n",
    "\n"
   ]
  },
  {
   "cell_type": "code",
   "execution_count": null,
   "id": "c619a689",
   "metadata": {},
   "outputs": [],
   "source": []
  },
  {
   "cell_type": "code",
   "execution_count": null,
   "id": "5f103c99",
   "metadata": {},
   "outputs": [],
   "source": []
  },
  {
   "cell_type": "code",
   "execution_count": null,
   "id": "26b0ada7",
   "metadata": {},
   "outputs": [],
   "source": []
  },
  {
   "cell_type": "code",
   "execution_count": null,
   "id": "86b59fbc",
   "metadata": {},
   "outputs": [],
   "source": []
  },
  {
   "cell_type": "code",
   "execution_count": 324,
   "id": "1ea4dd08",
   "metadata": {},
   "outputs": [
    {
     "data": {
      "text/plain": [
       "array([1, 2, 3])"
      ]
     },
     "execution_count": 324,
     "metadata": {},
     "output_type": "execute_result"
    }
   ],
   "source": [
    "np.unique(df_plot.target)"
   ]
  },
  {
   "cell_type": "code",
   "execution_count": 348,
   "id": "c4634ae2",
   "metadata": {},
   "outputs": [],
   "source": [
    "df_plot = pd.concat([df_train_o, df_test_o])\n",
    "df_maj = df_plot[df_plot.target==1]\n",
    "df_dir = df_plot[df_plot.target==2]"
   ]
  },
  {
   "cell_type": "code",
   "execution_count": 210,
   "id": "7989a262",
   "metadata": {},
   "outputs": [],
   "source": [
    "df_maj['etaDiff'] = (df_maj['etaJJTrue'] - df_maj['etaLepTrue'])\n",
    "df_maj['phiDiff'] = abs(df_maj['phiJJTrue'] - df_maj['phiLepTrue'])"
   ]
  },
  {
   "cell_type": "code",
   "execution_count": 211,
   "id": "cc3048a9",
   "metadata": {},
   "outputs": [],
   "source": [
    "df_maj.loc[df_maj['phiDiff'] > np.pi, 'phiDiff'] = 2*np.pi - df_maj.loc[df_maj['phiDiff'] > np.pi, 'phiDiff']"
   ]
  },
  {
   "cell_type": "code",
   "execution_count": 159,
   "id": "e1cb7c0f",
   "metadata": {},
   "outputs": [
    {
     "data": {
      "text/plain": [
       "6.282980442047119"
      ]
     },
     "execution_count": 159,
     "metadata": {},
     "output_type": "execute_result"
    }
   ],
   "source": [
    "df_maj.phiDiff.max()\n"
   ]
  },
  {
   "cell_type": "code",
   "execution_count": 212,
   "id": "80cb10fc",
   "metadata": {},
   "outputs": [],
   "source": [
    "df_maj['DeltaR'] = ((df_maj['phiDiff'])**2 + (df_maj['etaDiff'])**2)**0.5"
   ]
  },
  {
   "cell_type": "code",
   "execution_count": 160,
   "id": "d1f245c6",
   "metadata": {},
   "outputs": [
    {
     "data": {
      "text/plain": [
       "6.283185307179586"
      ]
     },
     "execution_count": 160,
     "metadata": {},
     "output_type": "execute_result"
    }
   ],
   "source": [
    "2 * np.pi"
   ]
  },
  {
   "cell_type": "code",
   "execution_count": 213,
   "id": "f494cd83",
   "metadata": {},
   "outputs": [
    {
     "data": {
      "image/png": "[encoded data removed]",
      "text/plain": [
       "<Figure size 864x576 with 3 Axes>"
      ]
     },
     "metadata": {
      "needs_background": "light"
     },
     "output_type": "display_data"
    }
   ],
   "source": [
    "plt.figure(figsize=(12,8))\n",
    "ax1 = plt.subplot(221)\n",
    "ax1.hist(df_maj['DeltaR']);\n",
    "ax1.set_xlabel(r'$\\Delta R$');\n",
    "\n",
    "ax2 = plt.subplot(222)\n",
    "ax2.hist(df_maj['etaDiff']);\n",
    "ax2.set_xlabel(r'$\\Delta\\eta$');\n",
    "\n",
    "ax3 = plt.subplot(223)\n",
    "ax3.hist(df_maj['phiDiff']);\n",
    "ax3.set_xlabel(r'$\\Delta\\phi$');"
   ]
  },
  {
   "cell_type": "code",
   "execution_count": null,
   "id": "803494a3",
   "metadata": {},
   "outputs": [],
   "source": []
  },
  {
   "cell_type": "code",
   "execution_count": null,
   "id": "7ff16374",
   "metadata": {},
   "outputs": [],
   "source": []
  },
  {
   "cell_type": "code",
   "execution_count": null,
   "id": "4114d3f6",
   "metadata": {},
   "outputs": [],
   "source": []
  },
  {
   "cell_type": "code",
   "execution_count": 217,
   "id": "ba88665e",
   "metadata": {},
   "outputs": [
    {
     "data": {
      "text/plain": [
       "7545"
      ]
     },
     "execution_count": 217,
     "metadata": {},
     "output_type": "execute_result"
    }
   ],
   "source": [
    "np.sum(abs(df_maj['etaLep'] / df_maj['etaLepTrue'] - 1)<1)"
   ]
  },
  {
   "cell_type": "code",
   "execution_count": 216,
   "id": "e9002654",
   "metadata": {},
   "outputs": [
    {
     "data": {
      "text/plain": [
       "9776"
      ]
     },
     "execution_count": 216,
     "metadata": {},
     "output_type": "execute_result"
    }
   ],
   "source": [
    "len(df_maj)"
   ]
  },
  {
   "cell_type": "code",
   "execution_count": 218,
   "id": "cae6e3a8",
   "metadata": {},
   "outputs": [
    {
     "data": {
      "text/plain": [
       "0.7717880523731587"
      ]
     },
     "execution_count": 218,
     "metadata": {},
     "output_type": "execute_result"
    }
   ],
   "source": [
    "np.sum(abs(df_maj['etaLep'] / df_maj['etaLepTrue'] - 1)<1) / len(df_maj)"
   ]
  },
  {
   "cell_type": "code",
   "execution_count": 259,
   "id": "c419a8c5",
   "metadata": {},
   "outputs": [
    {
     "data": {
      "image/png": "[encoded data removed]",
      "text/plain": [
       "<Figure size 432x288 with 1 Axes>"
      ]
     },
     "metadata": {
      "needs_background": "light"
     },
     "output_type": "display_data"
    }
   ],
   "source": [
    "plt.hist(df_maj['mJJ'], bins=10);"
   ]
  },
  {
   "cell_type": "code",
   "execution_count": 261,
   "id": "566a005b",
   "metadata": {},
   "outputs": [
    {
     "data": {
      "image/png": "[encoded data removed]",
      "text/plain": [
       "<Figure size 432x288 with 1 Axes>"
      ]
     },
     "metadata": {
      "needs_background": "light"
     },
     "output_type": "display_data"
    }
   ],
   "source": [
    "plt.hist(df_maj['mJJ'], range=[0, 200], bins=20);"
   ]
  },
  {
   "cell_type": "code",
   "execution_count": 264,
   "id": "c054dd8d",
   "metadata": {},
   "outputs": [
    {
     "data": {
      "image/png": "[encoded data removed]",
      "text/plain": [
       "<Figure size 432x288 with 1 Axes>"
      ]
     },
     "metadata": {
      "needs_background": "light"
     },
     "output_type": "display_data"
    }
   ],
   "source": [
    "plt.hist(df_maj.loc[df_maj['mJJ']<25, 'etaJJTrue']);"
   ]
  },
  {
   "cell_type": "code",
   "execution_count": null,
   "id": "696b4cdd",
   "metadata": {},
   "outputs": [],
   "source": []
  },
  {
   "cell_type": "code",
   "execution_count": null,
   "id": "3468103e",
   "metadata": {},
   "outputs": [],
   "source": []
  },
  {
   "cell_type": "code",
   "execution_count": 453,
   "id": "2ef9a2da",
   "metadata": {},
   "outputs": [],
   "source": [
    "df_plot = pd.concat([df_train_o, df_test_o])\n",
    "df_maj = df_plot[df_plot.target==1]\n",
    "df_dir = df_plot[df_plot.target==2]"
   ]
  },
  {
   "cell_type": "code",
   "execution_count": 456,
   "id": "39709207",
   "metadata": {},
   "outputs": [
    {
     "data": {
      "text/html": [
       "<div>\n",
       "<style scoped>\n",
       "    .dataframe tbody tr th:only-of-type {\n",
       "        vertical-align: middle;\n",
       "    }\n",
       "\n",
       "    .dataframe tbody tr th {\n",
       "        vertical-align: top;\n",
       "    }\n",
       "\n",
       "    .dataframe thead th {\n",
       "        text-align: right;\n",
       "    }\n",
       "</style>\n",
       "<table border=\"1\" class=\"dataframe\">\n",
       "  <thead>\n",
       "    <tr style=\"text-align: right;\">\n",
       "      <th></th>\n",
       "      <th>iEvt</th>\n",
       "      <th>ptLep</th>\n",
       "      <th>etaLep</th>\n",
       "      <th>phiLep</th>\n",
       "      <th>ELep</th>\n",
       "      <th>pxLep</th>\n",
       "      <th>pyLep</th>\n",
       "      <th>pzLep</th>\n",
       "      <th>chargeLep</th>\n",
       "      <th>lepisEle</th>\n",
       "      <th>...</th>\n",
       "      <th>pyLepTrue</th>\n",
       "      <th>pzLepTrue</th>\n",
       "      <th>MET</th>\n",
       "      <th>DeltaPhiNMET</th>\n",
       "      <th>ptl2</th>\n",
       "      <th>pzl2</th>\n",
       "      <th>El2</th>\n",
       "      <th>mJJl2</th>\n",
       "      <th>target</th>\n",
       "      <th>weight</th>\n",
       "    </tr>\n",
       "  </thead>\n",
       "  <tbody>\n",
       "    <tr>\n",
       "      <th>0</th>\n",
       "      <td>5672</td>\n",
       "      <td>285.863556</td>\n",
       "      <td>0.265530</td>\n",
       "      <td>1.256161</td>\n",
       "      <td>296.000488</td>\n",
       "      <td>88.466087</td>\n",
       "      <td>271.830322</td>\n",
       "      <td>76.800514</td>\n",
       "      <td>1</td>\n",
       "      <td>0</td>\n",
       "      <td>...</td>\n",
       "      <td>274.004120</td>\n",
       "      <td>77.121635</td>\n",
       "      <td>0.000</td>\n",
       "      <td>6.016270e+35</td>\n",
       "      <td>0.000000e+00</td>\n",
       "      <td>-2.446158e+18</td>\n",
       "      <td>0.000000e+00</td>\n",
       "      <td>-1.182411e-37</td>\n",
       "      <td>1</td>\n",
       "      <td>0.04195</td>\n",
       "    </tr>\n",
       "    <tr>\n",
       "      <th>1</th>\n",
       "      <td>16735</td>\n",
       "      <td>128.894989</td>\n",
       "      <td>-0.166217</td>\n",
       "      <td>-1.318530</td>\n",
       "      <td>130.679657</td>\n",
       "      <td>32.172104</td>\n",
       "      <td>-124.815361</td>\n",
       "      <td>-21.523325</td>\n",
       "      <td>-1</td>\n",
       "      <td>0</td>\n",
       "      <td>...</td>\n",
       "      <td>268.873901</td>\n",
       "      <td>217.784592</td>\n",
       "      <td>0.000</td>\n",
       "      <td>6.016270e+35</td>\n",
       "      <td>0.000000e+00</td>\n",
       "      <td>-2.446158e+18</td>\n",
       "      <td>0.000000e+00</td>\n",
       "      <td>-1.182411e-37</td>\n",
       "      <td>1</td>\n",
       "      <td>0.04195</td>\n",
       "    </tr>\n",
       "    <tr>\n",
       "      <th>2</th>\n",
       "      <td>1392</td>\n",
       "      <td>186.396683</td>\n",
       "      <td>-0.050343</td>\n",
       "      <td>-1.876725</td>\n",
       "      <td>186.632935</td>\n",
       "      <td>-56.138691</td>\n",
       "      <td>-177.741867</td>\n",
       "      <td>-9.387722</td>\n",
       "      <td>1</td>\n",
       "      <td>0</td>\n",
       "      <td>...</td>\n",
       "      <td>183.728088</td>\n",
       "      <td>-206.904266</td>\n",
       "      <td>0.000</td>\n",
       "      <td>6.016270e+35</td>\n",
       "      <td>0.000000e+00</td>\n",
       "      <td>-2.446158e+18</td>\n",
       "      <td>0.000000e+00</td>\n",
       "      <td>-1.182411e-37</td>\n",
       "      <td>1</td>\n",
       "      <td>0.04195</td>\n",
       "    </tr>\n",
       "    <tr>\n",
       "      <th>3</th>\n",
       "      <td>12628</td>\n",
       "      <td>333.320038</td>\n",
       "      <td>-0.645969</td>\n",
       "      <td>-0.497665</td>\n",
       "      <td>405.315338</td>\n",
       "      <td>292.888153</td>\n",
       "      <td>-159.118744</td>\n",
       "      <td>-230.604141</td>\n",
       "      <td>-1</td>\n",
       "      <td>0</td>\n",
       "      <td>...</td>\n",
       "      <td>101.991463</td>\n",
       "      <td>324.235229</td>\n",
       "      <td>0.000</td>\n",
       "      <td>6.016270e+35</td>\n",
       "      <td>0.000000e+00</td>\n",
       "      <td>-2.446158e+18</td>\n",
       "      <td>0.000000e+00</td>\n",
       "      <td>-1.182411e-37</td>\n",
       "      <td>1</td>\n",
       "      <td>0.04195</td>\n",
       "    </tr>\n",
       "    <tr>\n",
       "      <th>4</th>\n",
       "      <td>8844</td>\n",
       "      <td>119.289024</td>\n",
       "      <td>0.254609</td>\n",
       "      <td>-2.722450</td>\n",
       "      <td>123.176445</td>\n",
       "      <td>-108.963127</td>\n",
       "      <td>-48.547997</td>\n",
       "      <td>30.701220</td>\n",
       "      <td>-1</td>\n",
       "      <td>0</td>\n",
       "      <td>...</td>\n",
       "      <td>137.115997</td>\n",
       "      <td>439.287018</td>\n",
       "      <td>0.000</td>\n",
       "      <td>6.016270e+35</td>\n",
       "      <td>0.000000e+00</td>\n",
       "      <td>-2.446158e+18</td>\n",
       "      <td>0.000000e+00</td>\n",
       "      <td>-1.182411e-37</td>\n",
       "      <td>1</td>\n",
       "      <td>0.04195</td>\n",
       "    </tr>\n",
       "    <tr>\n",
       "      <th>...</th>\n",
       "      <td>...</td>\n",
       "      <td>...</td>\n",
       "      <td>...</td>\n",
       "      <td>...</td>\n",
       "      <td>...</td>\n",
       "      <td>...</td>\n",
       "      <td>...</td>\n",
       "      <td>...</td>\n",
       "      <td>...</td>\n",
       "      <td>...</td>\n",
       "      <td>...</td>\n",
       "      <td>...</td>\n",
       "      <td>...</td>\n",
       "      <td>...</td>\n",
       "      <td>...</td>\n",
       "      <td>...</td>\n",
       "      <td>...</td>\n",
       "      <td>...</td>\n",
       "      <td>...</td>\n",
       "      <td>...</td>\n",
       "      <td>...</td>\n",
       "    </tr>\n",
       "    <tr>\n",
       "      <th>11317</th>\n",
       "      <td>11462</td>\n",
       "      <td>105.552513</td>\n",
       "      <td>1.137388</td>\n",
       "      <td>-0.146714</td>\n",
       "      <td>181.511597</td>\n",
       "      <td>104.418541</td>\n",
       "      <td>-15.430513</td>\n",
       "      <td>147.665604</td>\n",
       "      <td>-1</td>\n",
       "      <td>0</td>\n",
       "      <td>...</td>\n",
       "      <td>0.000000</td>\n",
       "      <td>0.000000</td>\n",
       "      <td>-93.944</td>\n",
       "      <td>1.116399e-32</td>\n",
       "      <td>2.482456e-22</td>\n",
       "      <td>-1.297539e-18</td>\n",
       "      <td>-2.039093e+21</td>\n",
       "      <td>-3.523410e+16</td>\n",
       "      <td>3</td>\n",
       "      <td>0.08500</td>\n",
       "    </tr>\n",
       "    <tr>\n",
       "      <th>11318</th>\n",
       "      <td>98479</td>\n",
       "      <td>285.046600</td>\n",
       "      <td>-0.101465</td>\n",
       "      <td>0.449977</td>\n",
       "      <td>286.515137</td>\n",
       "      <td>256.672272</td>\n",
       "      <td>123.979446</td>\n",
       "      <td>-28.971766</td>\n",
       "      <td>1</td>\n",
       "      <td>1</td>\n",
       "      <td>...</td>\n",
       "      <td>0.000000</td>\n",
       "      <td>0.000000</td>\n",
       "      <td>-93.944</td>\n",
       "      <td>1.116399e-32</td>\n",
       "      <td>2.482456e-22</td>\n",
       "      <td>-1.297539e-18</td>\n",
       "      <td>-2.039093e+21</td>\n",
       "      <td>-3.523410e+16</td>\n",
       "      <td>3</td>\n",
       "      <td>0.08500</td>\n",
       "    </tr>\n",
       "    <tr>\n",
       "      <th>11319</th>\n",
       "      <td>84587</td>\n",
       "      <td>317.153687</td>\n",
       "      <td>-1.138674</td>\n",
       "      <td>-2.734880</td>\n",
       "      <td>545.959045</td>\n",
       "      <td>-291.282227</td>\n",
       "      <td>-125.463631</td>\n",
       "      <td>-444.392639</td>\n",
       "      <td>1</td>\n",
       "      <td>1</td>\n",
       "      <td>...</td>\n",
       "      <td>0.000000</td>\n",
       "      <td>0.000000</td>\n",
       "      <td>-93.944</td>\n",
       "      <td>1.116399e-32</td>\n",
       "      <td>2.482456e-22</td>\n",
       "      <td>-1.297539e-18</td>\n",
       "      <td>-2.039093e+21</td>\n",
       "      <td>-3.523410e+16</td>\n",
       "      <td>3</td>\n",
       "      <td>0.08500</td>\n",
       "    </tr>\n",
       "    <tr>\n",
       "      <th>11320</th>\n",
       "      <td>74516</td>\n",
       "      <td>139.278244</td>\n",
       "      <td>-2.180899</td>\n",
       "      <td>-0.631965</td>\n",
       "      <td>624.468201</td>\n",
       "      <td>112.379211</td>\n",
       "      <td>-82.276016</td>\n",
       "      <td>-608.738098</td>\n",
       "      <td>1</td>\n",
       "      <td>1</td>\n",
       "      <td>...</td>\n",
       "      <td>0.000000</td>\n",
       "      <td>0.000000</td>\n",
       "      <td>-93.944</td>\n",
       "      <td>1.116399e-32</td>\n",
       "      <td>2.482456e-22</td>\n",
       "      <td>-1.297539e-18</td>\n",
       "      <td>-2.039093e+21</td>\n",
       "      <td>-3.523410e+16</td>\n",
       "      <td>3</td>\n",
       "      <td>0.08500</td>\n",
       "    </tr>\n",
       "    <tr>\n",
       "      <th>11321</th>\n",
       "      <td>30333</td>\n",
       "      <td>127.285370</td>\n",
       "      <td>1.096687</td>\n",
       "      <td>-0.554469</td>\n",
       "      <td>211.815887</td>\n",
       "      <td>108.215492</td>\n",
       "      <td>-67.014717</td>\n",
       "      <td>169.305649</td>\n",
       "      <td>1</td>\n",
       "      <td>0</td>\n",
       "      <td>...</td>\n",
       "      <td>0.000000</td>\n",
       "      <td>0.000000</td>\n",
       "      <td>-93.944</td>\n",
       "      <td>1.116399e-32</td>\n",
       "      <td>2.482456e-22</td>\n",
       "      <td>-1.297539e-18</td>\n",
       "      <td>-2.039093e+21</td>\n",
       "      <td>-3.523410e+16</td>\n",
       "      <td>3</td>\n",
       "      <td>0.08500</td>\n",
       "    </tr>\n",
       "  </tbody>\n",
       "</table>\n",
       "<p>22647 rows × 71 columns</p>\n",
       "</div>"
      ],
      "text/plain": [
       "        iEvt       ptLep    etaLep    phiLep        ELep       pxLep  \\\n",
       "0       5672  285.863556  0.265530  1.256161  296.000488   88.466087   \n",
       "1      16735  128.894989 -0.166217 -1.318530  130.679657   32.172104   \n",
       "2       1392  186.396683 -0.050343 -1.876725  186.632935  -56.138691   \n",
       "3      12628  333.320038 -0.645969 -0.497665  405.315338  292.888153   \n",
       "4       8844  119.289024  0.254609 -2.722450  123.176445 -108.963127   \n",
       "...      ...         ...       ...       ...         ...         ...   \n",
       "11317  11462  105.552513  1.137388 -0.146714  181.511597  104.418541   \n",
       "11318  98479  285.046600 -0.101465  0.449977  286.515137  256.672272   \n",
       "11319  84587  317.153687 -1.138674 -2.734880  545.959045 -291.282227   \n",
       "11320  74516  139.278244 -2.180899 -0.631965  624.468201  112.379211   \n",
       "11321  30333  127.285370  1.096687 -0.554469  211.815887  108.215492   \n",
       "\n",
       "            pyLep       pzLep  chargeLep  lepisEle  ...   pyLepTrue  \\\n",
       "0      271.830322   76.800514          1         0  ...  274.004120   \n",
       "1     -124.815361  -21.523325         -1         0  ...  268.873901   \n",
       "2     -177.741867   -9.387722          1         0  ...  183.728088   \n",
       "3     -159.118744 -230.604141         -1         0  ...  101.991463   \n",
       "4      -48.547997   30.701220         -1         0  ...  137.115997   \n",
       "...           ...         ...        ...       ...  ...         ...   \n",
       "11317  -15.430513  147.665604         -1         0  ...    0.000000   \n",
       "11318  123.979446  -28.971766          1         1  ...    0.000000   \n",
       "11319 -125.463631 -444.392639          1         1  ...    0.000000   \n",
       "11320  -82.276016 -608.738098          1         1  ...    0.000000   \n",
       "11321  -67.014717  169.305649          1         0  ...    0.000000   \n",
       "\n",
       "        pzLepTrue     MET  DeltaPhiNMET          ptl2          pzl2  \\\n",
       "0       77.121635   0.000  6.016270e+35  0.000000e+00 -2.446158e+18   \n",
       "1      217.784592   0.000  6.016270e+35  0.000000e+00 -2.446158e+18   \n",
       "2     -206.904266   0.000  6.016270e+35  0.000000e+00 -2.446158e+18   \n",
       "3      324.235229   0.000  6.016270e+35  0.000000e+00 -2.446158e+18   \n",
       "4      439.287018   0.000  6.016270e+35  0.000000e+00 -2.446158e+18   \n",
       "...           ...     ...           ...           ...           ...   \n",
       "11317    0.000000 -93.944  1.116399e-32  2.482456e-22 -1.297539e-18   \n",
       "11318    0.000000 -93.944  1.116399e-32  2.482456e-22 -1.297539e-18   \n",
       "11319    0.000000 -93.944  1.116399e-32  2.482456e-22 -1.297539e-18   \n",
       "11320    0.000000 -93.944  1.116399e-32  2.482456e-22 -1.297539e-18   \n",
       "11321    0.000000 -93.944  1.116399e-32  2.482456e-22 -1.297539e-18   \n",
       "\n",
       "                El2         mJJl2  target   weight  \n",
       "0      0.000000e+00 -1.182411e-37       1  0.04195  \n",
       "1      0.000000e+00 -1.182411e-37       1  0.04195  \n",
       "2      0.000000e+00 -1.182411e-37       1  0.04195  \n",
       "3      0.000000e+00 -1.182411e-37       1  0.04195  \n",
       "4      0.000000e+00 -1.182411e-37       1  0.04195  \n",
       "...             ...           ...     ...      ...  \n",
       "11317 -2.039093e+21 -3.523410e+16       3  0.08500  \n",
       "11318 -2.039093e+21 -3.523410e+16       3  0.08500  \n",
       "11319 -2.039093e+21 -3.523410e+16       3  0.08500  \n",
       "11320 -2.039093e+21 -3.523410e+16       3  0.08500  \n",
       "11321 -2.039093e+21 -3.523410e+16       3  0.08500  \n",
       "\n",
       "[22647 rows x 71 columns]"
      ]
     },
     "execution_count": 456,
     "metadata": {},
     "output_type": "execute_result"
    }
   ],
   "source": [
    "df_plot"
   ]
  },
  {
   "cell_type": "code",
   "execution_count": 457,
   "id": "94a5ebf3",
   "metadata": {},
   "outputs": [
    {
     "data": {
      "text/plain": [
       "(0.5081653926337735, 0.49183460736622653)"
      ]
     },
     "execution_count": 457,
     "metadata": {},
     "output_type": "execute_result"
    }
   ],
   "source": [
    "len(df_maj[df_maj.chargeLep*df_maj.chargeLep2 == 1]) / len(df_maj[abs(df_maj.chargeLep*df_maj.chargeLep2) == 1]), \\\n",
    "len(df_maj[df_maj.chargeLep*df_maj.chargeLep2 == -1]) / len(df_maj[abs(df_maj.chargeLep*df_maj.chargeLep2) == 1])"
   ]
  },
  {
   "cell_type": "code",
   "execution_count": 458,
   "id": "731a9055",
   "metadata": {},
   "outputs": [
    {
     "ename": "ZeroDivisionError",
     "evalue": "division by zero",
     "output_type": "error",
     "traceback": [
      "\u001b[0;31m---------------------------------------------------------------------------\u001b[0m",
      "\u001b[0;31mZeroDivisionError\u001b[0m                         Traceback (most recent call last)",
      "Input \u001b[0;32mIn [458]\u001b[0m, in \u001b[0;36m<cell line: 1>\u001b[0;34m()\u001b[0m\n\u001b[0;32m----> 1\u001b[0m \u001b[38;5;28;43mlen\u001b[39;49m\u001b[43m(\u001b[49m\u001b[43mdf_dir\u001b[49m\u001b[43m[\u001b[49m\u001b[43mdf_dir\u001b[49m\u001b[38;5;241;43m.\u001b[39;49m\u001b[43mchargeLep\u001b[49m\u001b[38;5;241;43m*\u001b[39;49m\u001b[43mdf_dir\u001b[49m\u001b[38;5;241;43m.\u001b[39;49m\u001b[43mchargeLep2\u001b[49m\u001b[43m \u001b[49m\u001b[38;5;241;43m==\u001b[39;49m\u001b[43m \u001b[49m\u001b[38;5;241;43m1\u001b[39;49m\u001b[43m]\u001b[49m\u001b[43m)\u001b[49m\u001b[43m \u001b[49m\u001b[38;5;241;43m/\u001b[39;49m\u001b[43m \u001b[49m\u001b[38;5;28;43mlen\u001b[39;49m\u001b[43m(\u001b[49m\u001b[43mdf_dir\u001b[49m\u001b[43m[\u001b[49m\u001b[38;5;28;43mabs\u001b[39;49m\u001b[43m(\u001b[49m\u001b[43mdf_dir\u001b[49m\u001b[38;5;241;43m.\u001b[39;49m\u001b[43mchargeLep\u001b[49m\u001b[38;5;241;43m*\u001b[39;49m\u001b[43mdf_dir\u001b[49m\u001b[38;5;241;43m.\u001b[39;49m\u001b[43mchargeLep2\u001b[49m\u001b[43m)\u001b[49m\u001b[43m \u001b[49m\u001b[38;5;241;43m==\u001b[39;49m\u001b[43m \u001b[49m\u001b[38;5;241;43m1\u001b[39;49m\u001b[43m]\u001b[49m\u001b[43m)\u001b[49m, \\\n\u001b[1;32m      2\u001b[0m \u001b[38;5;28mlen\u001b[39m(df_dir[df_dir\u001b[38;5;241m.\u001b[39mchargeLep\u001b[38;5;241m*\u001b[39mdf_dir\u001b[38;5;241m.\u001b[39mchargeLep2 \u001b[38;5;241m==\u001b[39m \u001b[38;5;241m-\u001b[39m\u001b[38;5;241m1\u001b[39m]) \u001b[38;5;241m/\u001b[39m \u001b[38;5;28mlen\u001b[39m(df_dir[\u001b[38;5;28mabs\u001b[39m(df_dir\u001b[38;5;241m.\u001b[39mchargeLep\u001b[38;5;241m*\u001b[39mdf_dir\u001b[38;5;241m.\u001b[39mchargeLep2) \u001b[38;5;241m==\u001b[39m \u001b[38;5;241m1\u001b[39m])\n",
      "\u001b[0;31mZeroDivisionError\u001b[0m: division by zero"
     ]
    }
   ],
   "source": [
    "len(df_dir[df_dir.chargeLep*df_dir.chargeLep2 == 1]) / len(df_dir[abs(df_dir.chargeLep*df_dir.chargeLep2) == 1]), \\\n",
    "len(df_dir[df_dir.chargeLep*df_dir.chargeLep2 == -1]) / len(df_dir[abs(df_dir.chargeLep*df_dir.chargeLep2) == 1])"
   ]
  },
  {
   "cell_type": "code",
   "execution_count": 443,
   "id": "2946d23a",
   "metadata": {},
   "outputs": [
    {
     "ename": "AttributeError",
     "evalue": "'DataFrame' object has no attribute 'chargeLep2'",
     "output_type": "error",
     "traceback": [
      "\u001b[0;31m---------------------------------------------------------------------------\u001b[0m",
      "\u001b[0;31mAttributeError\u001b[0m                            Traceback (most recent call last)",
      "Input \u001b[0;32mIn [443]\u001b[0m, in \u001b[0;36m<cell line: 1>\u001b[0;34m()\u001b[0m\n\u001b[0;32m----> 1\u001b[0m df_maj\u001b[38;5;241m.\u001b[39mloc[df_maj\u001b[38;5;241m.\u001b[39mchargeLep\u001b[38;5;241m*\u001b[39m\u001b[43mdf_maj\u001b[49m\u001b[38;5;241;43m.\u001b[39;49m\u001b[43mchargeLep2\u001b[49m \u001b[38;5;241m==\u001b[39m \u001b[38;5;241m1\u001b[39m, [\u001b[38;5;124m'\u001b[39m\u001b[38;5;124miEvt\u001b[39m\u001b[38;5;124m'\u001b[39m, \u001b[38;5;124m'\u001b[39m\u001b[38;5;124mchargeLep\u001b[39m\u001b[38;5;124m'\u001b[39m, \u001b[38;5;124m'\u001b[39m\u001b[38;5;124mchargeLep2\u001b[39m\u001b[38;5;124m'\u001b[39m]]\n",
      "File \u001b[0;32m~/anaconda3/lib/python3.9/site-packages/pandas/core/generic.py:5575\u001b[0m, in \u001b[0;36mNDFrame.__getattr__\u001b[0;34m(self, name)\u001b[0m\n\u001b[1;32m   5568\u001b[0m \u001b[38;5;28;01mif\u001b[39;00m (\n\u001b[1;32m   5569\u001b[0m     name \u001b[38;5;129;01mnot\u001b[39;00m \u001b[38;5;129;01min\u001b[39;00m \u001b[38;5;28mself\u001b[39m\u001b[38;5;241m.\u001b[39m_internal_names_set\n\u001b[1;32m   5570\u001b[0m     \u001b[38;5;129;01mand\u001b[39;00m name \u001b[38;5;129;01mnot\u001b[39;00m \u001b[38;5;129;01min\u001b[39;00m \u001b[38;5;28mself\u001b[39m\u001b[38;5;241m.\u001b[39m_metadata\n\u001b[1;32m   5571\u001b[0m     \u001b[38;5;129;01mand\u001b[39;00m name \u001b[38;5;129;01mnot\u001b[39;00m \u001b[38;5;129;01min\u001b[39;00m \u001b[38;5;28mself\u001b[39m\u001b[38;5;241m.\u001b[39m_accessors\n\u001b[1;32m   5572\u001b[0m     \u001b[38;5;129;01mand\u001b[39;00m \u001b[38;5;28mself\u001b[39m\u001b[38;5;241m.\u001b[39m_info_axis\u001b[38;5;241m.\u001b[39m_can_hold_identifiers_and_holds_name(name)\n\u001b[1;32m   5573\u001b[0m ):\n\u001b[1;32m   5574\u001b[0m     \u001b[38;5;28;01mreturn\u001b[39;00m \u001b[38;5;28mself\u001b[39m[name]\n\u001b[0;32m-> 5575\u001b[0m \u001b[38;5;28;01mreturn\u001b[39;00m \u001b[38;5;28;43mobject\u001b[39;49m\u001b[38;5;241;43m.\u001b[39;49m\u001b[38;5;21;43m__getattribute__\u001b[39;49m\u001b[43m(\u001b[49m\u001b[38;5;28;43mself\u001b[39;49m\u001b[43m,\u001b[49m\u001b[43m \u001b[49m\u001b[43mname\u001b[49m\u001b[43m)\u001b[49m\n",
      "\u001b[0;31mAttributeError\u001b[0m: 'DataFrame' object has no attribute 'chargeLep2'"
     ]
    }
   ],
   "source": [
    "df_maj.loc[df_maj.chargeLep*df_maj.chargeLep2 == 1, ['iEvt', 'chargeLep', 'chargeLep2']]"
   ]
  },
  {
   "cell_type": "code",
   "execution_count": 444,
   "id": "5ecea802",
   "metadata": {},
   "outputs": [
    {
     "ename": "AttributeError",
     "evalue": "'DataFrame' object has no attribute 'chargeLep2'",
     "output_type": "error",
     "traceback": [
      "\u001b[0;31m---------------------------------------------------------------------------\u001b[0m",
      "\u001b[0;31mAttributeError\u001b[0m                            Traceback (most recent call last)",
      "Input \u001b[0;32mIn [444]\u001b[0m, in \u001b[0;36m<cell line: 1>\u001b[0;34m()\u001b[0m\n\u001b[0;32m----> 1\u001b[0m df_maj\u001b[38;5;241m.\u001b[39mloc[(df_maj\u001b[38;5;241m.\u001b[39mchargeLep\u001b[38;5;241m*\u001b[39m\u001b[43mdf_maj\u001b[49m\u001b[38;5;241;43m.\u001b[39;49m\u001b[43mchargeLep2\u001b[49m \u001b[38;5;241m==\u001b[39m \u001b[38;5;241m-\u001b[39m\u001b[38;5;241m1\u001b[39m) \u001b[38;5;241m&\u001b[39m (df_maj\u001b[38;5;241m.\u001b[39mlep2isMu\u001b[38;5;241m==\u001b[39m\u001b[38;5;241m1\u001b[39m), \n\u001b[1;32m      2\u001b[0m                                                          [\u001b[38;5;124m'\u001b[39m\u001b[38;5;124miEvt\u001b[39m\u001b[38;5;124m'\u001b[39m, \u001b[38;5;124m'\u001b[39m\u001b[38;5;124mchargeLep\u001b[39m\u001b[38;5;124m'\u001b[39m, \u001b[38;5;124m'\u001b[39m\u001b[38;5;124mchargeLep2\u001b[39m\u001b[38;5;124m'\u001b[39m, \u001b[38;5;124m'\u001b[39m\u001b[38;5;124mlep2isEle\u001b[39m\u001b[38;5;124m'\u001b[39m, \u001b[38;5;124m'\u001b[39m\u001b[38;5;124mlep2isMu\u001b[39m\u001b[38;5;124m'\u001b[39m]]\n",
      "File \u001b[0;32m~/anaconda3/lib/python3.9/site-packages/pandas/core/generic.py:5575\u001b[0m, in \u001b[0;36mNDFrame.__getattr__\u001b[0;34m(self, name)\u001b[0m\n\u001b[1;32m   5568\u001b[0m \u001b[38;5;28;01mif\u001b[39;00m (\n\u001b[1;32m   5569\u001b[0m     name \u001b[38;5;129;01mnot\u001b[39;00m \u001b[38;5;129;01min\u001b[39;00m \u001b[38;5;28mself\u001b[39m\u001b[38;5;241m.\u001b[39m_internal_names_set\n\u001b[1;32m   5570\u001b[0m     \u001b[38;5;129;01mand\u001b[39;00m name \u001b[38;5;129;01mnot\u001b[39;00m \u001b[38;5;129;01min\u001b[39;00m \u001b[38;5;28mself\u001b[39m\u001b[38;5;241m.\u001b[39m_metadata\n\u001b[1;32m   5571\u001b[0m     \u001b[38;5;129;01mand\u001b[39;00m name \u001b[38;5;129;01mnot\u001b[39;00m \u001b[38;5;129;01min\u001b[39;00m \u001b[38;5;28mself\u001b[39m\u001b[38;5;241m.\u001b[39m_accessors\n\u001b[1;32m   5572\u001b[0m     \u001b[38;5;129;01mand\u001b[39;00m \u001b[38;5;28mself\u001b[39m\u001b[38;5;241m.\u001b[39m_info_axis\u001b[38;5;241m.\u001b[39m_can_hold_identifiers_and_holds_name(name)\n\u001b[1;32m   5573\u001b[0m ):\n\u001b[1;32m   5574\u001b[0m     \u001b[38;5;28;01mreturn\u001b[39;00m \u001b[38;5;28mself\u001b[39m[name]\n\u001b[0;32m-> 5575\u001b[0m \u001b[38;5;28;01mreturn\u001b[39;00m \u001b[38;5;28;43mobject\u001b[39;49m\u001b[38;5;241;43m.\u001b[39;49m\u001b[38;5;21;43m__getattribute__\u001b[39;49m\u001b[43m(\u001b[49m\u001b[38;5;28;43mself\u001b[39;49m\u001b[43m,\u001b[49m\u001b[43m \u001b[49m\u001b[43mname\u001b[49m\u001b[43m)\u001b[49m\n",
      "\u001b[0;31mAttributeError\u001b[0m: 'DataFrame' object has no attribute 'chargeLep2'"
     ]
    }
   ],
   "source": [
    "df_maj.loc[(df_maj.chargeLep*df_maj.chargeLep2 == -1) & (df_maj.lep2isMu==1), \n",
    "                                                         ['iEvt', 'chargeLep', 'chargeLep2', 'lep2isEle', 'lep2isMu']]"
   ]
  },
  {
   "cell_type": "code",
   "execution_count": null,
   "id": "6a7d7140",
   "metadata": {},
   "outputs": [],
   "source": []
  },
  {
   "cell_type": "code",
   "execution_count": null,
   "id": "38dda2af",
   "metadata": {},
   "outputs": [],
   "source": []
  }
 ],
 "metadata": {
  "kernelspec": {
   "display_name": "Python 3 (ipykernel)",
   "language": "python",
   "name": "python3"
  },
  "language_info": {
   "codemirror_mode": {
    "name": "ipython",
    "version": 3
   },
   "file_extension": ".py",
   "mimetype": "text/x-python",
   "name": "python",
   "nbconvert_exporter": "python",
   "pygments_lexer": "ipython3",
   "version": "3.9.12"
  }
 },
 "nbformat": 4,
 "nbformat_minor": 5
}
