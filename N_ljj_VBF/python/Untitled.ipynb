{
 "cells": [
  {
   "cell_type": "code",
   "execution_count": 1,
   "id": "bc10a38e",
   "metadata": {},
   "outputs": [],
   "source": [
    "import warnings\n",
    "warnings.filterwarnings(\"ignore\")\n",
    "import uproot\n",
    "import pandas as pd\n",
    "import numpy as np\n",
    "import matplotlib.pyplot as plt\n",
    "import xgboost as xgb"
   ]
  },
  {
   "cell_type": "code",
   "execution_count": 2,
   "id": "ad227d52",
   "metadata": {},
   "outputs": [],
   "source": [
    "cm = 3\n",
    "mN = 0.2\n",
    "V2 = 1e-1    # used in reweighting the samples\n",
    "\n",
    "mN_string = str(int(mN*1000))"
   ]
  },
  {
   "cell_type": "code",
   "execution_count": 3,
   "id": "9b4c9d24",
   "metadata": {},
   "outputs": [
    {
     "data": {
      "text/html": [
       "<div>\n",
       "<style scoped>\n",
       "    .dataframe tbody tr th:only-of-type {\n",
       "        vertical-align: middle;\n",
       "    }\n",
       "\n",
       "    .dataframe tbody tr th {\n",
       "        vertical-align: top;\n",
       "    }\n",
       "\n",
       "    .dataframe thead th {\n",
       "        text-align: right;\n",
       "    }\n",
       "</style>\n",
       "<table border=\"1\" class=\"dataframe\">\n",
       "  <thead>\n",
       "    <tr style=\"text-align: right;\">\n",
       "      <th></th>\n",
       "      <th>Type</th>\n",
       "      <th>Energy</th>\n",
       "      <th>Mass</th>\n",
       "      <th>Efficiency</th>\n",
       "    </tr>\n",
       "  </thead>\n",
       "  <tbody>\n",
       "    <tr>\n",
       "      <th>0</th>\n",
       "      <td>s_M</td>\n",
       "      <td>3</td>\n",
       "      <td>200.0</td>\n",
       "      <td>0.261975</td>\n",
       "    </tr>\n",
       "    <tr>\n",
       "      <th>1</th>\n",
       "      <td>b_MuMu_lllqqv</td>\n",
       "      <td>3</td>\n",
       "      <td>NaN</td>\n",
       "      <td>0.261975</td>\n",
       "    </tr>\n",
       "    <tr>\n",
       "      <th>2</th>\n",
       "      <td>s_D</td>\n",
       "      <td>3</td>\n",
       "      <td>200.0</td>\n",
       "      <td>0.275995</td>\n",
       "    </tr>\n",
       "    <tr>\n",
       "      <th>3</th>\n",
       "      <td>b_MG5MuMu_lllqqv</td>\n",
       "      <td>3</td>\n",
       "      <td>NaN</td>\n",
       "      <td>0.145460</td>\n",
       "    </tr>\n",
       "  </tbody>\n",
       "</table>\n",
       "</div>"
      ],
      "text/plain": [
       "               Type  Energy   Mass  Efficiency\n",
       "0               s_M       3  200.0    0.261975\n",
       "1     b_MuMu_lllqqv       3    NaN    0.261975\n",
       "2               s_D       3  200.0    0.275995\n",
       "3  b_MG5MuMu_lllqqv       3    NaN    0.145460"
      ]
     },
     "execution_count": 3,
     "metadata": {},
     "output_type": "execute_result"
    }
   ],
   "source": [
    "df_eff = pd.read_csv(\"../data/eff_table.csv\")\n",
    "df_eff"
   ]
  },
  {
   "cell_type": "code",
   "execution_count": 4,
   "id": "db42aeea",
   "metadata": {},
   "outputs": [],
   "source": [
    "# extract the reconstruction eff from the eff table\n",
    "\n",
    "eff_M = df_eff[(df_eff.Energy==cm) & (df_eff.Mass==mN*1000) & (df_eff.Type=='s_M')]['Efficiency'].values[0]\n",
    "eff_D = df_eff[(df_eff.Energy==cm) & (df_eff.Mass==mN*1000) & (df_eff.Type=='s_D')]['Efficiency'].values[0]\n",
    "# eff_baMu_qql = df_eff[(df_eff.Energy==cm) & (df_eff.Type=='b_MuMu_lllqqv')]['Efficiency'].values[0]\n",
    "eff_bMuMu_lllqqv = df_eff[(df_eff.Energy==cm) & (df_eff.Type=='b_MG5MuMu_lllqqv')]['Efficiency'].values[0]"
   ]
  },
  {
   "cell_type": "code",
   "execution_count": 5,
   "id": "9eb631b2",
   "metadata": {},
   "outputs": [],
   "source": [
    "eff_M = 0.347117\n",
    "eff_D = 0.35194\n",
    "eff_bMuMu_lllqqv = 0.30291"
   ]
  },
  {
   "cell_type": "code",
   "execution_count": 6,
   "id": "c3120d83",
   "metadata": {},
   "outputs": [
    {
     "data": {
      "text/plain": [
       "{3: {0.2: 0.0026560490694249998}}"
      ]
     },
     "execution_count": 6,
     "metadata": {},
     "output_type": "execute_result"
    }
   ],
   "source": [
    "# store the muon collider luminosity, Xsec, for later estimating the yields\n",
    "\n",
    "Lumi = 1000000\n",
    "\n",
    "V2_sim = 2e-2\n",
    "\n",
    "# corss section when |V|^2 = 1\n",
    "Xsec_M = {3: {0.2: 5.31209813885e-05 / V2_sim}}    # first key: sqrt{s}, second key: m_N\n",
    "Xsec_D = {3: {0.2: 5.54451933986e-05 / V2_sim}}\n",
    "Xsec_bMuMu_lllqqv = {3: 0.00850002507732}   # key: sqrt{s}\n",
    "\n",
    "Xsec_M"
   ]
  },
  {
   "cell_type": "code",
   "execution_count": 7,
   "id": "f8a69c36",
   "metadata": {},
   "outputs": [],
   "source": [
    "# read the files, and calculate the corresponding yields\n",
    "\n",
    "modes_dt = {\n",
    "            1: {'mode': f'../data/features/sig_Maj_E-{cm}_m-{mN_string}_reco.root', 'yields': Lumi*Xsec_M[cm][mN]*eff_M*V2},\n",
    "            2: {'mode': f'../data/features/sig_Dir_E-{cm}_m-{mN_string}_reco.root', 'yields': Lumi*Xsec_D[cm][mN]*eff_D*V2}, \n",
    "            3: {'mode': f'../data/features/bg_MG5MuMu_lllqqv_E-{cm}_reco.root', 'yields': Lumi*Xsec_bMuMu_lllqqv[cm]*eff_bMuMu_lllqqv},\n",
    "           }"
   ]
  },
  {
   "cell_type": "code",
   "execution_count": 8,
   "id": "bc5b4b87",
   "metadata": {},
   "outputs": [
    {
     "name": "stdout",
     "output_type": "stream",
     "text": [
      "9.22e+01\n",
      "9.76e+01\n",
      "2.57e+03\n",
      "\n",
      "2.57e+03\n"
     ]
    }
   ],
   "source": [
    "for k, v in modes_dt.items():\n",
    "    print(f\"{v['yields']:.2e}\")\n",
    "print()\n",
    "\n",
    "b=0\n",
    "for k, v in modes_dt.items():\n",
    "    if (k < 3): continue\n",
    "    b += v['yields']\n",
    "    \n",
    "print(f\"{b:.2e}\")"
   ]
  },
  {
   "cell_type": "code",
   "execution_count": 9,
   "id": "b5ed7dcd",
   "metadata": {},
   "outputs": [],
   "source": [
    "def load_train_test(modes_dt, size=0.5):\n",
    "    np.random.seed(9)\n",
    "    df_train = pd.DataFrame()\n",
    "    df_test = pd.DataFrame()\n",
    "    num_lt = []\n",
    "    \n",
    "    # loop over different modes\n",
    "    for i, (k, v) in enumerate(modes_dt.items()):\n",
    "        file = uproot.open(v['mode'])\n",
    "        print(\"reading: \", v['mode'])\n",
    "        df_i = pd.DataFrame(np.array(file['t']['features'].array()))\n",
    "        df_i['target'] = k    # add the target label\n",
    "        df_i['weight'] = v['yields']/len(df_i)\n",
    "#         print(k, v)\n",
    "        num_lt.append(len(df_i))\n",
    "\n",
    "        # shuffle the index for training and testing sets\n",
    "        idx = df_i.index.tolist()\n",
    "        np.random.shuffle(idx)\n",
    "        \n",
    "        # cut according to the fraction\n",
    "        cut = int(np.ceil(len(idx) * size))\n",
    "        df_train_i = df_i.loc[idx[:cut]]\n",
    "        df_test_i = df_i.loc[idx[cut:]]\n",
    "        \n",
    "        # Put to the global dataframs\n",
    "        df_train = pd.concat([df_train, df_train_i])\n",
    "        df_test = pd.concat([df_test, df_test_i])\n",
    "    \n",
    "    df_train.reset_index(drop=True, inplace=True)\n",
    "    df_test.reset_index(drop=True, inplace=True)\n",
    "    \n",
    "    print('\\ntrain size: {} ({:.2f}%); test size: {} ({:.2f}%)'.format(len(df_train), 100*len(df_train)/(len(df_train)+len(df_test)), len(df_test), 100*len(df_test)/(len(df_train)+len(df_test))))\n",
    "    print('data points per mode: ',num_lt)\n",
    "    return df_train, df_test\n",
    "\n",
    "    "
   ]
  },
  {
   "cell_type": "code",
   "execution_count": 10,
   "id": "e3b46b6f",
   "metadata": {},
   "outputs": [
    {
     "name": "stdout",
     "output_type": "stream",
     "text": [
      "reading:  ../data/features/sig_Maj_E-3_m-200_reco.root\n",
      "reading:  ../data/features/sig_Dir_E-3_m-200_reco.root\n",
      "reading:  ../data/features/bg_MG5MuMu_lllqqv_E-3_reco.root\n",
      "\n",
      "train size: 22288 (50.00%); test size: 22286 (50.00%)\n",
      "data points per mode:  [5532, 8751, 30291]\n"
     ]
    }
   ],
   "source": [
    "tr_te_size = 0.5 \n",
    "df_train, df_test = load_train_test(modes_dt, tr_te_size)\n",
    "\n",
    "df_train_o, df_test_o = df_train.copy(), df_test.copy()"
   ]
  },
  {
   "cell_type": "code",
   "execution_count": null,
   "id": "6f6090c0",
   "metadata": {},
   "outputs": [],
   "source": []
  },
  {
   "cell_type": "code",
   "execution_count": 11,
   "id": "72b5601e",
   "metadata": {},
   "outputs": [],
   "source": [
    "def relabel(x):\n",
    "    if x != 1 and x != 2:    # bkg\n",
    "        return 0\n",
    "    \n",
    "    elif x == 1:     # Maj signal\n",
    "        return 1\n",
    "    \n",
    "    elif x == 2:     # Dir signal\n",
    "        return 2"
   ]
  },
  {
   "cell_type": "code",
   "execution_count": 12,
   "id": "6b4c1e8f",
   "metadata": {},
   "outputs": [],
   "source": [
    "features = ['ptLep1', 'etaLep1', 'ELep1',      # lepton kinematics info \n",
    "            'ptLep2', 'etaLep2', 'ELep2',      # lepton kinematics info \n",
    "            'chargeLep1', 'lep1isMu',         # lepton type info\n",
    "            'chargeLep2', 'lep2isMu',         # lepton type info\n",
    "            'DeltaPhijjl1', 'DeltaPhijjl2', \n",
    "            'DeltaRjjl1', 'DeltaRjjl2',     # Delta phi & Delta R between jj(from W boson) and lepton\n",
    "            'ptJJ', 'etaJJ', 'mJJ',         # jj(from W boson) momentum info\n",
    "            'ptN1', 'pzN1',\n",
    "            'ptN2', 'pzN2',# reconstructed N 4 momentum info\n",
    "            'EJet1', 'EJet2',               # energy inbalance of the jets, for W boson classification\n",
    "            'ptFwMu',                       # Forward muon pT\n",
    "           ]\n"
   ]
  },
  {
   "cell_type": "code",
   "execution_count": 13,
   "id": "a6057f91",
   "metadata": {},
   "outputs": [],
   "source": [
    "# # relabel the, all bkg become one label\n",
    "df_train['target'] = df_train['target'].apply(relabel)\n",
    "df_test['target'] = df_test['target'].apply(relabel)"
   ]
  },
  {
   "cell_type": "code",
   "execution_count": null,
   "id": "522b1ff4",
   "metadata": {},
   "outputs": [],
   "source": []
  },
  {
   "cell_type": "code",
   "execution_count": 14,
   "id": "49270025",
   "metadata": {},
   "outputs": [],
   "source": [
    "# trainging\n",
    "X_train = df_train[features]\n",
    "y_train = df_train['target']\n",
    "\n",
    "# testing\n",
    "X_test = df_test[features]\n",
    "y_test = df_test['target']\n"
   ]
  },
  {
   "cell_type": "code",
   "execution_count": 15,
   "id": "874aeeae",
   "metadata": {},
   "outputs": [
    {
     "data": {
      "text/plain": [
       "array([0, 1, 2])"
      ]
     },
     "execution_count": 15,
     "metadata": {},
     "output_type": "execute_result"
    }
   ],
   "source": [
    "np.unique(y_train)"
   ]
  },
  {
   "cell_type": "code",
   "execution_count": 16,
   "id": "19102820",
   "metadata": {},
   "outputs": [],
   "source": [
    "\n",
    "# fitting, with reweighting\n",
    "xgbc1 = xgb.XGBClassifier(seed=0)\n",
    "xgbc1.fit(X_train, y_train, sample_weight=df_train.weight.values);\n",
    "# xgbc1.fit(X_train, y_train);"
   ]
  },
  {
   "cell_type": "code",
   "execution_count": 63,
   "id": "90acdccc",
   "metadata": {},
   "outputs": [],
   "source": [
    "# the \"preds\" means the prob. of the event being HNL (Maj/Dir)\n",
    "# since the 0 index is the bkg, so the prob. of HNL is 1 - prob. of bkg\n",
    "\n",
    "# scores for training\n",
    "df_bdt_train_s = df_train[['target', 'weight']]\n",
    "df_bdt_train_s.loc[:, 'preds'] = 1 - xgbc1.predict_proba(X_train)[:, 0]\n",
    "\n",
    "# score for testing \n",
    "df_bdt_test_s = df_test[['target', 'weight']]\n",
    "df_bdt_test_s.loc[:, 'preds'] = 1 - xgbc1.predict_proba(X_test)[:, 0]\n"
   ]
  },
  {
   "cell_type": "code",
   "execution_count": 18,
   "id": "51d8bfe2",
   "metadata": {},
   "outputs": [],
   "source": [
    "def bdt_cut(df, cut):\n",
    "    df1 = df[(df['preds'] >= cut)]    # pass cut to be classified as HNL\n",
    "#    \"/ 2\" because the samples include M & D. now assume they are just half half\n",
    "    S1 = df1[df1['target'] != 0]['weight'].values.sum() / 2    # Number of signals\n",
    "    B1 = df1[df1['target'] == 0]['weight'].values.sum()    # Number of bkg.\n",
    "    return ((S1+B1)**0.5, (0.1*B1), S1/(np.sqrt(S1+B1)))\n",
    "\n",
    "\n",
    "\n",
    "\n",
    "# looping to find the optimal cut\n",
    "def find_opt_cut(df_bdt_train_s, step=0.01):\n",
    "    # cuts\n",
    "    cuts = np.arange(0, 1, step)\n",
    "    \n",
    "    # store cuts\n",
    "    c_lt = []\n",
    "    # store losses\n",
    "    loss1, loss2 = [], []\n",
    "    snr = []\n",
    "\n",
    "    # loop over two cuts\n",
    "    for i1, c1 in enumerate(cuts):\n",
    "        print(\"{}/{}\".format(i1, len(cuts)), end='\\r')\n",
    "        res = bdt_cut(df_bdt_train_s, c1)\n",
    "        c_lt.append(c1)    \n",
    "        loss1.append(res[0])\n",
    "        loss2.append(res[1])\n",
    "        snr.append(res[2])\n",
    "        \n",
    "    # store the cuts and corresponding losses\n",
    "    df_bdt_loss = pd.DataFrame([c_lt, loss1, loss2, snr]).T\n",
    "    df_bdt_loss.columns = ['c', 'loss1', 'loss2', 'snr']\n",
    "\n",
    "    df_bdt_loss['loss'] = (df_bdt_loss['loss1']**2 + df_bdt_loss['loss2']**2)**0.5\n",
    "    df_bdt_loss['tot'] = (df_bdt_loss['loss'] - df_bdt_loss['loss'].min())/(df_bdt_loss['loss'].max() - df_bdt_loss['loss'].min()) - \\\n",
    "                        ((df_bdt_loss['snr'] - df_bdt_loss['snr'].min())/(df_bdt_loss['snr'].max() - df_bdt_loss['snr'].min()))\n",
    "    \n",
    "    return df_bdt_loss.iloc[df_bdt_loss['tot'].argmin()][['c']].values"
   ]
  },
  {
   "cell_type": "code",
   "execution_count": 19,
   "id": "a69a43ce",
   "metadata": {},
   "outputs": [
    {
     "name": "stdout",
     "output_type": "stream",
     "text": [
      "0/100\r",
      "1/100\r",
      "2/100\r",
      "3/100\r",
      "4/100\r",
      "5/100\r",
      "6/100\r",
      "7/100\r",
      "8/100\r",
      "9/100\r",
      "10/100\r",
      "11/100\r",
      "12/100\r",
      "13/100\r",
      "14/100\r",
      "15/100\r",
      "16/100\r",
      "17/100\r",
      "18/100\r",
      "19/100\r",
      "20/100\r",
      "21/100\r",
      "22/100\r",
      "23/100\r",
      "24/100\r",
      "25/100\r",
      "26/100\r",
      "27/100\r",
      "28/100\r",
      "29/100\r",
      "30/100\r",
      "31/100\r",
      "32/100\r",
      "33/100\r",
      "34/100\r",
      "35/100\r",
      "36/100\r",
      "37/100\r",
      "38/100\r",
      "39/100\r",
      "40/100\r",
      "41/100\r",
      "42/100\r",
      "43/100\r",
      "44/100\r",
      "45/100\r",
      "46/100\r",
      "47/100\r",
      "48/100\r",
      "49/100\r",
      "50/100\r",
      "51/100\r",
      "52/100\r",
      "53/100\r",
      "54/100\r",
      "55/100\r",
      "56/100\r",
      "57/100\r",
      "58/100\r",
      "59/100\r",
      "60/100\r",
      "61/100\r",
      "62/100\r",
      "63/100\r",
      "64/100\r",
      "65/100\r",
      "66/100\r",
      "67/100\r",
      "68/100\r",
      "69/100\r",
      "70/100\r",
      "71/100\r",
      "72/100\r",
      "73/100\r",
      "74/100\r",
      "75/100\r",
      "76/100\r",
      "77/100\r",
      "78/100\r",
      "79/100\r",
      "80/100\r",
      "81/100\r",
      "82/100\r",
      "83/100\r",
      "84/100\r",
      "85/100\r",
      "86/100\r",
      "87/100\r",
      "88/100\r",
      "89/100\r",
      "90/100\r",
      "91/100\r",
      "92/100\r",
      "93/100\r",
      "94/100\r",
      "95/100\r",
      "96/100\r",
      "97/100\r",
      "98/100\r",
      "99/100\r"
     ]
    },
    {
     "data": {
      "text/plain": [
       "0.42"
      ]
     },
     "execution_count": 19,
     "metadata": {},
     "output_type": "execute_result"
    }
   ],
   "source": [
    "# the optimal threshold\n",
    "threshold = find_opt_cut(df_bdt_train_s)[0]\n",
    "threshold"
   ]
  },
  {
   "cell_type": "code",
   "execution_count": 65,
   "id": "6bbd4eaa",
   "metadata": {},
   "outputs": [
    {
     "data": {
      "image/png": "[encoded data removed]",
      "text/plain": [
       "<Figure size 576x432 with 1 Axes>"
      ]
     },
     "metadata": {
      "needs_background": "light"
     },
     "output_type": "display_data"
    }
   ],
   "source": [
    "# BDT score distribution \n",
    "\n",
    "f = plt.figure(figsize=(8,6))\n",
    "ax1 = plt.subplot(111)\n",
    "\n",
    "df_plot = df_bdt_test_s\n",
    "# df_plot = df_bdt_train_s\n",
    "\n",
    "range_=[0, 1]\n",
    "bins_=20\n",
    "\n",
    "ax1.hist(df_plot[df_plot.target!=0]['preds'], weights=df_plot[df_plot.target!=0]['weight']/sum(df_plot[df_plot.target!=0]['weight']), bins=bins_, range=range_, histtype='step', lw=3, label=r'Signal', alpha=0.5);\n",
    "ax1.hist(df_plot[df_plot.target==0]['preds'], weights=df_plot[df_plot.target==0]['weight']/sum(df_plot[df_plot.target==0]['weight']), bins=bins_, range=range_, histtype='step', lw=3, label=r'Bkg', alpha=0.5);\n",
    "\n",
    "ax1.set_ylabel('Normlized distribution', fontsize=20)\n",
    "ax1.set_xlabel(r'BDT score', fontsize=20)\n",
    "ax1.set_yticks([])\n",
    "ax1.legend(loc=9, fontsize=20)\n",
    "ax1.set_title(r\"$\\sqrt{s}=$\"+str(cm)+\"; $m_N=$\"+str(mN), fontsize=20)\n",
    "ax1.axvline(threshold, color='purple', lw=3)\n",
    "\n",
    "ax1.set_yscale('log')\n",
    "\n",
    "\n",
    "\n",
    "\n",
    "# =================================================================================\n",
    "# Apply BDT score cut\n",
    "df_bdt_cut = df_bdt_test_s[(df_bdt_test_s['preds'] >= threshold)]\n",
    "# =================================================================================\n",
    "\n"
   ]
  },
  {
   "cell_type": "code",
   "execution_count": 66,
   "id": "0f547333",
   "metadata": {},
   "outputs": [],
   "source": [
    "# separate to Maj/Dir/bkg\n",
    "\n",
    "df_bdt_cut['iEvt'] = df_test_o.loc[df_bdt_cut.index]['iEvt']\n",
    "df_bdt_cut['mN1'] = df_test_o.loc[df_bdt_cut.index]['mN1']\n",
    "df_bdt_cut['mN2'] = df_test_o.loc[df_bdt_cut.index]['mN2']\n",
    "df_bdt_cut['lep1isEle'] = df_test_o.loc[df_bdt_cut.index]['lep1isEle']\n",
    "df_bdt_cut['lep2isEle'] = df_test_o.loc[df_bdt_cut.index]['lep2isEle']\n",
    "df_bdt_cut['chargeLep1'] = df_test_o.loc[df_bdt_cut.index]['chargeLep1']\n",
    "df_bdt_cut['chargeLep2'] = df_test_o.loc[df_bdt_cut.index]['chargeLep2']\n",
    "df_bdt_cut1 = df_bdt_cut[(df_bdt_cut['target'] == 1)]\n",
    "df_bdt_cut2 = df_bdt_cut[(df_bdt_cut['target'] == 2)]\n",
    "df_bdt_cut0 = df_bdt_cut[(df_bdt_cut['target'] != 1) & (df_bdt_cut['target'] != 2)]\n"
   ]
  },
  {
   "cell_type": "code",
   "execution_count": 67,
   "id": "0c1c4ced",
   "metadata": {},
   "outputs": [
    {
     "name": "stdout",
     "output_type": "stream",
     "text": [
      "Mass range: [190.0, 204.99999999999997]\n"
     ]
    },
    {
     "data": {
      "image/png": "[encoded data removed]",
      "text/plain": [
       "<Figure size 576x432 with 1 Axes>"
      ]
     },
     "metadata": {
      "needs_background": "light"
     },
     "output_type": "display_data"
    }
   ],
   "source": [
    "# mN distribution after BDT cut\n",
    "\n",
    "f = plt.figure(figsize=(8,6))\n",
    "ax1 = plt.subplot(111)\n",
    "\n",
    "range_ = [mN*(1-0.25)*1000, mN*(1+0.25)*1000]\n",
    "# range_ = [0, 1000]\n",
    "\n",
    "bins_=20\n",
    "ax1.hist(pd.concat([df_bdt_cut1['mN1'], df_bdt_cut1['mN2']]), weights=[1/len(df_bdt_cut1)]*len(df_bdt_cut1)*2, bins=bins_, range=range_, histtype='step', alpha=0.5, lw=3, label='Maj.', color='C0', stacked=True);\n",
    "ax1.hist(pd.concat([df_bdt_cut2['mN1'], df_bdt_cut2['mN2']]), weights=[1/len(df_bdt_cut2)]*len(df_bdt_cut2)*2, bins=bins_, range=range_, histtype='step', alpha=0.5, lw=3, label='Dir.', color='C1', stacked=True);\n",
    "ax1.hist(pd.concat([df_bdt_cut0['mN1'], df_bdt_cut0['mN2']]), weights=[1/len(df_bdt_cut0)]*len(df_bdt_cut0)*2, bins=bins_, range=range_, histtype='step', alpha=0.5, lw=3, label='Bkg.', color='C2', stacked=True);\n",
    "\n",
    "ax1.set_ylabel('Normlized distribution', fontsize=20)\n",
    "ax1.set_xlabel(r'$m_N ~[\\rmGeV]$', fontsize=20)\n",
    "ax1.set_yticks([])\n",
    "ax1.legend(loc=1, fontsize=20)\n",
    "ax1.set_title(r\"$\\sqrt{s}=$\"+str(cm)+\"; $m_N=$\"+str(mN), fontsize=20)\n",
    "\n",
    "# mass range cut\n",
    "partition_u = 0.025\n",
    "partition_l = 0.05\n",
    "ax1.axvline(1000*mN*(1-partition_l), color='purple', lw=3)\n",
    "ax1.axvline(1000*mN*(1+partition_u), color='purple', lw=3)\n",
    "\n",
    "print(\"Mass range: [{}, {}]\".format(1000*mN*(1-partition_l), 1000*mN*(1+partition_u)))\n",
    "\n",
    "# f.savefig('./figures/mN')\n",
    "\n",
    "# =========================================================================================\n",
    "# manully apply cut on mN\n",
    "df_bdt_cut['mN1'] = df_test_o.loc[df_bdt_cut.index]['mN1']\n",
    "df_bdt_cut['mN2'] = df_test_o.loc[df_bdt_cut.index]['mN2']\n",
    "df_bdt_cut = df_bdt_cut[((df_bdt_cut.mN1>=1000*mN*(1-partition_l)) & (df_bdt_cut.mN1<=1000*mN*(1+partition_u))) | \n",
    "                       ((df_bdt_cut.mN2>=1000*mN*(1-partition_l)) & (df_bdt_cut.mN2<=1000*mN*(1+partition_u)))]\n",
    "# =========================================================================================\n"
   ]
  },
  {
   "cell_type": "code",
   "execution_count": null,
   "id": "6f2dcb53",
   "metadata": {},
   "outputs": [],
   "source": []
  },
  {
   "cell_type": "code",
   "execution_count": null,
   "id": "af8b5f39",
   "metadata": {},
   "outputs": [],
   "source": []
  },
  {
   "cell_type": "code",
   "execution_count": null,
   "id": "97a9a455",
   "metadata": {},
   "outputs": [],
   "source": []
  },
  {
   "cell_type": "code",
   "execution_count": 24,
   "id": "2ebc43da",
   "metadata": {},
   "outputs": [
    {
     "name": "stdout",
     "output_type": "stream",
     "text": [
      "yields: \n",
      "Bkg:\t3.40e-01\n",
      "(M):\t6.82e+02 x |V|^2\n",
      "(D):\t7.39e+02 x |V|^2\n"
     ]
    }
   ],
   "source": [
    "# yields after BDT and mass cuts\n",
    "\n",
    "df_bdt_cut0 = df_bdt_cut[(df_bdt_cut['target'] == 0)]   # Bkg\n",
    "df_bdt_cut1 = df_bdt_cut[(df_bdt_cut['target'] == 1)]   # M\n",
    "df_bdt_cut2 = df_bdt_cut[(df_bdt_cut['target'] == 2)]   # D\n",
    "\n",
    "# yield (without |V|^2 dependence)\n",
    "nb = df_bdt_cut0.weight.sum() / tr_te_size          # Bkg\n",
    "nM = df_bdt_cut1.weight.sum() / tr_te_size / V2    # M\n",
    "nD = df_bdt_cut2.weight.sum() / tr_te_size / V2    #  D\n",
    "\n",
    "print('yields: ')\n",
    "print(f'Bkg:\\t{nb:.2e}')\n",
    "print(f'(M):\\t{nM:.2e} x |V|^2')\n",
    "print(f'(D):\\t{nD:.2e} x |V|^2')"
   ]
  },
  {
   "cell_type": "code",
   "execution_count": 25,
   "id": "2a0e530c",
   "metadata": {},
   "outputs": [
    {
     "name": "stdout",
     "output_type": "stream",
     "text": [
      "BDT eff:\n",
      "bkg:\t0.013206%\n",
      "Maj:\t74.005785%\n",
      "Dir:\t75.771429%\n"
     ]
    }
   ],
   "source": [
    "# eff. of the BDT and mass cuts\n",
    "\n",
    "eff0 = len(df_bdt_cut0) / len(df_test_o[(df_test_o.target!=1) & (df_test_o.target!=2)])\n",
    "eff1 = len(df_bdt_cut1) / len(df_test_o[df_test_o.target==1])\n",
    "eff2 = len(df_bdt_cut2) / len(df_test_o[df_test_o.target==2])\n",
    "\n",
    "print(\"BDT eff:\")\n",
    "print(\"bkg:\\t{:2f}%\".format(100*eff0))\n",
    "print(\"Maj:\\t{:2f}%\".format(100*eff1))\n",
    "print(\"Dir:\\t{:2f}%\".format(100*eff2))"
   ]
  },
  {
   "cell_type": "code",
   "execution_count": 26,
   "id": "e18656c9",
   "metadata": {},
   "outputs": [
    {
     "name": "stdout",
     "output_type": "stream",
     "text": [
      "Fully Majorana case:\n",
      "upper limit on |V|^2: 6.09e-03\n",
      "lower limit on |V|^2: -4.61e-04\n",
      "\n",
      "Fully Dirac case:\n",
      "upper limit on |V|^2: 5.62e-03\n",
      "lower limit on |V|^2: -4.25e-04\n"
     ]
    }
   ],
   "source": [
    "# limits on |V|^2\n",
    "\n",
    "N = 1.96\n",
    "M = N**2\n",
    "\n",
    "print('Fully Majorana case:')\n",
    "upperM, lowerM = ((M+(M**2 + 4*M*nb)**0.5)/2)/(nM), ((M-(M**2 + 4*M*nb)**0.5)/2)/(nM)\n",
    "print(f\"upper limit on |V|^2: {upperM:.2e}\")\n",
    "print(f\"lower limit on |V|^2: {lowerM:.2e}\")\n",
    "print()\n",
    "\n",
    "print('Fully Dirac case:')\n",
    "upperD, lowerD = ((M+(M**2 + 4*M*nb)**0.5)/2)/(nD), ((M-(M**2 + 4*M*nb)**0.5)/2)/(nD)\n",
    "print(f\"upper limit on |V|^2: {upperD:.2e}\")\n",
    "print(f\"lower limit on |V|^2: {lowerD:.2e}\")"
   ]
  },
  {
   "cell_type": "code",
   "execution_count": 27,
   "id": "b8987b4c",
   "metadata": {},
   "outputs": [
    {
     "name": "stdout",
     "output_type": "stream",
     "text": [
      "s/b ratio: \n",
      "# Maj signal / bkg = 2007 x |V|^2\n",
      "# Dir signal / bkg = 2174 x |V|^2\n"
     ]
    }
   ],
   "source": [
    "# s/b ratio\n",
    "\n",
    "print(\"s/b ratio: \")\n",
    "print(f'# Maj signal / bkg = {nM/nb:.0f} x |V|^2')\n",
    "print(f'# Dir signal / bkg = {nD/nb:.0f} x |V|^2')"
   ]
  },
  {
   "cell_type": "code",
   "execution_count": 28,
   "id": "a699857e",
   "metadata": {},
   "outputs": [
    {
     "name": "stdout",
     "output_type": "stream",
     "text": [
      "s/sqrt(b) ratio: \n",
      "# Maj signal / sqrt(bkg) = 1170 x |V|^2\n",
      "# Dir signal / sqrt(bkg) = 1268 x |V|^2\n"
     ]
    }
   ],
   "source": [
    "# s/sqrt(b)\n",
    "\n",
    "print(\"s/sqrt(b) ratio: \")\n",
    "print(f'# Maj signal / sqrt(bkg) = {nM/(nb)**0.5:.0f} x |V|^2')\n",
    "print(f'# Dir signal / sqrt(bkg) = {nD/(nb)**0.5:.0f} x |V|^2')"
   ]
  },
  {
   "cell_type": "code",
   "execution_count": 29,
   "id": "a5c657bb",
   "metadata": {},
   "outputs": [
    {
     "data": {
      "text/plain": [
       "{'ptFwMu': 277.0,\n",
       " 'DeltaRjjl2': 239.0,\n",
       " 'ELep1': 224.0,\n",
       " 'DeltaRjjl1': 218.0,\n",
       " 'ELep2': 193.0,\n",
       " 'ptLep1': 192.0,\n",
       " 'ptLep2': 186.0,\n",
       " 'ptN2': 171.0,\n",
       " 'pzN1': 169.0,\n",
       " 'mJJ': 163.0,\n",
       " 'pzN2': 161.0,\n",
       " 'etaLep2': 159.0,\n",
       " 'ptJJ': 152.0,\n",
       " 'DeltaPhijjl1': 149.0,\n",
       " 'DeltaPhijjl2': 148.0,\n",
       " 'ptN1': 141.0,\n",
       " 'etaLep1': 136.0,\n",
       " 'etaJJ': 122.0,\n",
       " 'chargeLep2': 95.0,\n",
       " 'chargeLep1': 78.0,\n",
       " 'lep2isMu': 25.0,\n",
       " 'lep1isMu': 6.0}"
      ]
     },
     "execution_count": 29,
     "metadata": {},
     "output_type": "execute_result"
    }
   ],
   "source": [
    "# importance of the features used in BDT\n",
    "d = xgbc1.get_booster().get_score()\n",
    "dict(sorted(d.items(), key=lambda item: -1*item[1]))"
   ]
  },
  {
   "cell_type": "code",
   "execution_count": null,
   "id": "d4c86205",
   "metadata": {},
   "outputs": [],
   "source": []
  },
  {
   "cell_type": "code",
   "execution_count": null,
   "id": "0cbe92d0",
   "metadata": {},
   "outputs": [],
   "source": []
  },
  {
   "cell_type": "code",
   "execution_count": 30,
   "id": "bc200a32",
   "metadata": {},
   "outputs": [],
   "source": [
    "# get the prediction score for Maj/Dir\n",
    "# df_bdt_test_s['target'] = df_test_o.loc[df_bdt_test_s.index]['target']\n",
    "df_bdt_test_s['target'] = df_test_o.loc[df_test.index]['target']\n",
    "df_bdt_test_s.loc[:, 'pred1'] = xgbc1.predict_proba(X_test)[:, 1]\n",
    "df_bdt_test_s.loc[:, 'pred2'] = xgbc1.predict_proba(X_test)[:, 2]\n",
    "\n",
    "df_bdt_test_s['target'] = df_bdt_test_s['target'].apply(relabel)\n",
    "\n",
    "# only get events that survive in the BDT and mass cut\n",
    "df_bdt_test_s = df_bdt_test_s.loc[df_bdt_cut.index]"
   ]
  },
  {
   "cell_type": "code",
   "execution_count": 31,
   "id": "c0e7f927",
   "metadata": {},
   "outputs": [],
   "source": [
    "def bdt_cut_2(df, cut1, cut2, signal1=1, signal2=2):\n",
    "    df1 = df[(df['pred1'] >= cut1) & (df['pred2'] < cut2)]    # pass tau cut, not pass mu cut\n",
    "    df2 = df[(df['pred1'] < cut1) & (df['pred2'] >= cut2)]    # pass mu cut, not pass tau cut\n",
    "    \n",
    "    S1 = df1[df1['target'] == signal1]['weight'].values.sum()    # Number of tau signals\n",
    "    B1 = df1[df1['target'] != signal1]['weight'].values.sum()    # Number of tau bkg.\n",
    "    \n",
    "    S2 = df2[df2['target'] == signal2]['weight'].values.sum()    # Number of mu signals\n",
    "    B2 = df2[df2['target'] != signal2]['weight'].values.sum()    # Number of mu bkg.\n",
    "    \n",
    "    return ((S1+B1)**0.5, (0.1*B1), S1/(np.sqrt(S1+B1))), ((S2+B2)**0.5, (0.1*B2), S2/(np.sqrt(S2+B2)))\n",
    "\n",
    "\n",
    "\n",
    "\n",
    "\n",
    "\n",
    "# looping to find the optimal cut\n",
    "def find_opt_cut_2(df_bdt_train_s, step=0.01):\n",
    "\n",
    "    # tau cut\n",
    "#     cuts1 = np.arange(round(df_bdt_train_s.min()['pred0'], 2) - step, round(df_bdt_train_s.max()['pred0'], 2) + step, step)\n",
    "    cuts1 = np.arange(0, 1, step)\n",
    "    # mu cut\n",
    "    cuts2 = np.arange(0, 1, step)\n",
    "\n",
    "    # store cuts (tau, and mu)\n",
    "    c1_lt, c2_lt = [], []\n",
    "    # store losses\n",
    "    loss11, loss12 = [], []\n",
    "    loss21, loss22 = [], []\n",
    "    snr1, snr2 = [], []\n",
    "\n",
    "    # loop over two cuts\n",
    "    for i1, c1 in enumerate(cuts1):\n",
    "        for i2, c2 in enumerate(cuts2):\n",
    "            print(\"{}/{}; {}/{}\".format(i1, len(cuts1), i2, len(cuts2)), end='\\r')\n",
    "            res1, res2 = bdt_cut_2(df_bdt_train_s, c1, c2)\n",
    "            c1_lt.append(c1); c2_lt.append(c2)\n",
    "\n",
    "            loss11.append(res1[0]); loss12.append(res1[1])\n",
    "            loss21.append(res2[0]); loss22.append(res2[1])\n",
    "            snr1.append(res1[2]), snr2.append(res2[2])\n",
    "\n",
    "    # store the cuts and corresponding losses\n",
    "    df_bdt_loss = pd.DataFrame([c1_lt, c2_lt, loss11, loss12, snr1, loss21, loss22, snr2]).T\n",
    "    df_bdt_loss.columns = ['c1', 'c2', 'loss11', 'loss12', 'snr1', 'loss21', 'loss22', 'snr2']\n",
    "\n",
    "    df_bdt_loss['loss1'] = (df_bdt_loss['loss11']**2 + df_bdt_loss['loss12']**2)**0.5\n",
    "    df_bdt_loss['tot1'] = (df_bdt_loss['loss1'] - df_bdt_loss['loss1'].min())/(df_bdt_loss['loss1'].max() - df_bdt_loss['loss1'].min()) - \\\n",
    "        ((df_bdt_loss['snr1'] - df_bdt_loss['snr1'].min())/(df_bdt_loss['snr1'].max() - df_bdt_loss['snr1'].min()))\n",
    "\n",
    "    df_bdt_loss['loss2'] = (df_bdt_loss['loss21']**2 + df_bdt_loss['loss22']**2)**0.5\n",
    "    df_bdt_loss['tot2'] = (df_bdt_loss['loss2'] - df_bdt_loss['loss2'].min())/(df_bdt_loss['loss2'].max() - df_bdt_loss['loss2'].min()) - \\\n",
    "        ((df_bdt_loss['snr2'] - df_bdt_loss['snr2'].min())/(df_bdt_loss['snr2'].max() - df_bdt_loss['snr2'].min()))\n",
    "\n",
    "    df_bdt_loss['tot'] = df_bdt_loss['tot1'] + df_bdt_loss['tot2']\n",
    "\n",
    "    return df_bdt_loss.iloc[df_bdt_loss['tot'].argmin()][['c1', 'c2']].values"
   ]
  },
  {
   "cell_type": "code",
   "execution_count": 32,
   "id": "04cb438f",
   "metadata": {},
   "outputs": [
    {
     "name": "stdout",
     "output_type": "stream",
     "text": [
      "99/100; 99/100\r"
     ]
    }
   ],
   "source": [
    "cutM, cutD = find_opt_cut_2(df_bdt_test_s)"
   ]
  },
  {
   "cell_type": "code",
   "execution_count": 33,
   "id": "5d79ff85",
   "metadata": {},
   "outputs": [
    {
     "data": {
      "text/plain": [
       "<matplotlib.lines.Line2D at 0x7f5a246bc790>"
      ]
     },
     "execution_count": 33,
     "metadata": {},
     "output_type": "execute_result"
    },
    {
     "data": {
      "image/png": "[encoded data removed]",
      "text/plain": [
       "<Figure size 576x432 with 1 Axes>"
      ]
     },
     "metadata": {
      "needs_background": "light"
     },
     "output_type": "display_data"
    }
   ],
   "source": [
    "# BDT score distribution \n",
    "\n",
    "f = plt.figure(figsize=(8,6))\n",
    "ax1 = plt.subplot(111)\n",
    "\n",
    "df_plot = df_bdt_test_s\n",
    "\n",
    "range_=[0, 1]\n",
    "bins_=20\n",
    "\n",
    "ax1.hist(df_plot[df_plot.target==1]['pred1'], weights=df_plot[df_plot.target==1]['weight']/sum(df_plot[df_plot.target==1]['weight']), bins=bins_, range=range_, histtype='step', lw=3, label=r'Maj.', alpha=0.5, color='C0');\n",
    "ax1.hist(df_plot[df_plot.target==2]['pred1'], weights=df_plot[df_plot.target==2]['weight']/sum(df_plot[df_plot.target==2]['weight']), bins=bins_, range=range_, histtype='step', lw=3, label=r'Dir.', alpha=0.5, color='C1');\n",
    "ax1.hist(df_plot[df_plot.target==0]['pred1'], weights=df_plot[df_plot.target==0]['weight']/sum(df_plot[df_plot.target==0]['weight']), bins=bins_, range=range_, histtype='step', lw=3, label=r'Bkg.', alpha=0.5, color='C2');\n",
    "\n",
    "ax1.set_ylabel('Normlized distribution', fontsize=20)\n",
    "ax1.set_xlabel(r'BDT score (HNL=Maj.)', fontsize=20)\n",
    "ax1.set_yticks([])\n",
    "ax1.legend(loc=2, fontsize=20)\n",
    "ax1.set_title(r\"$\\sqrt{s}=$\"+str(cm)+\"; $m_N=$\"+str(mN), fontsize=20)\n",
    "ax1.set_yscale('log')\n",
    "ax1.axvline(cutM)\n",
    "\n",
    "\n",
    "\n"
   ]
  },
  {
   "cell_type": "code",
   "execution_count": 34,
   "id": "4e40bba6",
   "metadata": {},
   "outputs": [
    {
     "data": {
      "text/plain": [
       "<matplotlib.lines.Line2D at 0x7f5a804fe610>"
      ]
     },
     "execution_count": 34,
     "metadata": {},
     "output_type": "execute_result"
    },
    {
     "data": {
      "image/png": "[encoded data removed]",
      "text/plain": [
       "<Figure size 576x432 with 1 Axes>"
      ]
     },
     "metadata": {
      "needs_background": "light"
     },
     "output_type": "display_data"
    }
   ],
   "source": [
    "# BDT score distribution \n",
    "\n",
    "f = plt.figure(figsize=(8,6))\n",
    "ax1 = plt.subplot(111)\n",
    "\n",
    "df_plot = df_bdt_test_s\n",
    "\n",
    "range_=[0, 1]\n",
    "bins_=20\n",
    "\n",
    "ax1.hist(df_plot[df_plot.target==1]['pred2'], weights=df_plot[df_plot.target==1]['weight']/sum(df_plot[df_plot.target==1]['weight']), bins=bins_, range=range_, histtype='step', lw=3, label=r'Maj.', alpha=0.5, color='C0');\n",
    "ax1.hist(df_plot[df_plot.target==2]['pred2'], weights=df_plot[df_plot.target==2]['weight']/sum(df_plot[df_plot.target==2]['weight']), bins=bins_, range=range_, histtype='step', lw=3, label=r'Dir.', alpha=0.5, color='C1');\n",
    "ax1.hist(df_plot[df_plot.target==0]['pred2'], weights=df_plot[df_plot.target==0]['weight']/sum(df_plot[df_plot.target==0]['weight']), bins=bins_, range=range_, histtype='step', lw=3, label=r'Bkg.', alpha=0.5, color='C2');\n",
    "\n",
    "ax1.set_ylabel('Normlized distribution', fontsize=20)\n",
    "ax1.set_xlabel(r'BDT score (HNL=Dir.)', fontsize=20)\n",
    "ax1.set_yticks([])\n",
    "ax1.legend(loc=1, fontsize=20)\n",
    "ax1.set_title(r\"$\\sqrt{s}=$\"+str(cm)+\"; $m_N=$\"+str(mN), fontsize=20)\n",
    "ax1.set_yscale('log')\n",
    "ax1.axvline(cutD)\n",
    "\n",
    "\n",
    "\n",
    "\n"
   ]
  },
  {
   "cell_type": "code",
   "execution_count": 35,
   "id": "b6ada71f",
   "metadata": {},
   "outputs": [
    {
     "data": {
      "image/png": "[encoded data removed]",
      "text/plain": [
       "<Figure size 864x576 with 2 Axes>"
      ]
     },
     "metadata": {
      "needs_background": "light"
     },
     "output_type": "display_data"
    }
   ],
   "source": [
    "# Distributions of Maj/Dir/bkg. regions\n",
    "\n",
    "plt.figure(figsize=(12,8))\n",
    "\n",
    "ax1 = plt.subplot(221)\n",
    "range_=[0,1]\n",
    "bins_=50\n",
    "\n",
    "# Maj. region\n",
    "ax1.hist(df_bdt_test_s[(df_bdt_test_s.target==1)]['pred1'], weights=df_bdt_test_s[df_bdt_test_s.target==1]['weight']/sum(df_bdt_test_s[df_bdt_test_s.target==1]['weight']), bins=bins_, range=range_, histtype='step', lw=3, label=r'Signal', alpha=0.5);\n",
    "ax1.hist(df_bdt_test_s[(df_bdt_test_s.target==2)]['pred1'], weights=df_bdt_test_s[df_bdt_test_s.target==2]['weight']/sum(df_bdt_test_s[df_bdt_test_s.target==2]['weight']), bins=bins_, range=range_, histtype='step', lw=3, label=r'Signal', alpha=0.5);\n",
    "ax1.hist(df_bdt_test_s[(df_bdt_test_s.target==0)]['pred1'], weights=df_bdt_test_s[df_bdt_test_s.target==0]['weight']/sum(df_bdt_test_s[df_bdt_test_s.target==0]['weight']), bins=bins_, range=range_, histtype='step', lw=3, label=r'Signal', alpha=0.5);\n",
    "ax1.axvline(cutM)\n",
    "ax1.set_yscale('log')\n",
    "\n",
    "# Dir. region\n",
    "ax2 = plt.subplot(222)\n",
    "range_=[0,1]\n",
    "ax2.hist(df_bdt_test_s[(df_bdt_test_s.target==1)]['pred2'], weights=df_bdt_test_s[df_bdt_test_s.target==1]['weight']/sum(df_bdt_test_s[df_bdt_test_s.target==1]['weight']), bins=bins_, range=range_, histtype='step', lw=3, label=r'Signal', alpha=0.5);\n",
    "ax2.hist(df_bdt_test_s[(df_bdt_test_s.target==2)]['pred2'], weights=df_bdt_test_s[df_bdt_test_s.target==2]['weight']/sum(df_bdt_test_s[df_bdt_test_s.target==2]['weight']), bins=bins_, range=range_, histtype='step', lw=3, label=r'Signal', alpha=0.5);\n",
    "ax2.hist(df_bdt_test_s[(df_bdt_test_s.target==0)]['pred2'], weights=df_bdt_test_s[df_bdt_test_s.target==0]['weight']/sum(df_bdt_test_s[df_bdt_test_s.target==0]['weight']), bins=bins_, range=range_, histtype='step', lw=3, label=r'Signal', alpha=0.5);\n",
    "ax2.axvline(cutD)\n",
    "ax2.set_yscale('log')\n",
    "\n",
    "# # Bkg. region\n",
    "# ax3 = plt.subplot(223)\n",
    "# range_=[0,1]\n",
    "# ax3.hist(df_bdt_test_s[(df_bdt_test_s.target==1)]['pred1']+df_bdt_test_s[(df_bdt_test_s.target==1)]['pred2'], weights=df_bdt_test_s[df_bdt_test_s.target==1]['weight']/sum(df_bdt_test_s[df_bdt_test_s.target==1]['weight']), bins=bins_, range=range_, histtype='step', lw=3, label=r'Signal', alpha=0.5);\n",
    "# ax3.hist(df_bdt_test_s[(df_bdt_test_s.target==2)]['pred1']+df_bdt_test_s[(df_bdt_test_s.target==2)]['pred2'], weights=df_bdt_test_s[df_bdt_test_s.target==2]['weight']/sum(df_bdt_test_s[df_bdt_test_s.target==2]['weight']), bins=bins_, range=range_, histtype='step', lw=3, label=r'Signal', alpha=0.5);\n",
    "# ax3.hist(df_bdt_test_s[(df_bdt_test_s.target==0)]['pred1']+df_bdt_test_s[(df_bdt_test_s.target==0)]['pred2'], weights=df_bdt_test_s[df_bdt_test_s.target==0]['weight']/sum(df_bdt_test_s[df_bdt_test_s.target==0]['weight']), bins=bins_, range=range_, histtype='step', lw=3, label=r'Signal', alpha=0.5);\n",
    "# # cutD=0.5\n",
    "# ax3.axvline(threshold)\n",
    "# ax3.set_yscale('log')"
   ]
  },
  {
   "cell_type": "code",
   "execution_count": 36,
   "id": "b361cd96",
   "metadata": {},
   "outputs": [],
   "source": [
    "# get the expected yields at the corresponding regions (after BDT and mass cuts)\n",
    "def get_M_block(V2_test=1e-5):\n",
    "#     pass Maj. not pass Dir. => Maj. region\n",
    "    df_M = df_bdt_test_s[(df_bdt_test_s.pred1>cutM) & (df_bdt_test_s.pred2<=cutD)]\n",
    "#     number of Bkg., Maj., Dir. in the Maj. region\n",
    "    M0, M1, M2 = df_M[df_M.target==0].weight.sum()/tr_te_size, df_M[df_M.target==1].weight.sum()/tr_te_size, df_M[df_M.target==2].weight.sum()/tr_te_size\n",
    "#     rescale Maj/Dir by the V2_test\n",
    "    M1, M2 = M1/V2*V2_test, M2/V2*V2_test\n",
    "    return M0, M1, M2\n",
    "\n",
    "def get_D_block(V2_test=1e-5):\n",
    "#     not pass Maj. pass Dir. => Dir. region\n",
    "    df_D = df_bdt_test_s[(df_bdt_test_s.pred1<=cutM) & (df_bdt_test_s.pred2>cutD)]\n",
    "#     number of Bkg., Maj., Dir. in the Maj. region\n",
    "    D0, D1, D2 = df_D[df_D.target==0].weight.sum()/tr_te_size, df_D[df_D.target==1].weight.sum()/tr_te_size, df_D[df_D.target==2].weight.sum()/tr_te_size\n",
    "#     rescale Maj/Dir by the V2_test\n",
    "    D1, D2 = D1/V2*V2_test, D2/V2*V2_test\n",
    "    return D0, D1, D2\n",
    "\n",
    "    \n",
    "# number of events in Maj region\n",
    "def N_M(r, M_M, D_M, B_M):\n",
    "    return r*M_M + (1-r)*D_M + B_M\n",
    "    \n",
    "# number of events in Dir region\n",
    "def N_D(r, M_D, D_D, B_D):\n",
    "    return r*D_D + (1-r)*M_D + B_D\n",
    "\n",
    "# log likelihood\n",
    "# r_t: simulated (means if in the real world, the real mixing is r_t); \n",
    "# r: r_hat\n",
    "def lnL(r, r_t, M_M, D_M, B_M, M_D, D_D, B_D):\n",
    "    NM = N_M(r, M_M, D_M, B_M)\n",
    "    NMt = N_M(r_t, M_M, D_M, B_M)\n",
    "    ND = N_D(r, M_D, D_D, B_D)\n",
    "    NDt = N_D(r_t, M_D, D_D, B_D)\n",
    "    \n",
    "    lnL_M = (NMt)*np.log(NM) - (NMt*np.log(NMt)-NMt) - NM\n",
    "    lnL_D = (NDt)*np.log(ND) - (NDt*np.log(NDt)-NDt) - ND\n",
    "    return lnL_M + lnL_D"
   ]
  },
  {
   "cell_type": "code",
   "execution_count": 37,
   "id": "d70220ce",
   "metadata": {},
   "outputs": [],
   "source": [
    "V2_test = upperM\n",
    "# V2_test = 1e-5\n",
    "M0, M1, M2 = get_M_block(V2_test)\n",
    "D0, D1, D2 = get_D_block(V2_test)\n",
    "\n",
    "r = np.arange(0, 1.0000000001, 0.0001)\n",
    "rt_lt = np.arange(0, 1.00000000001, 0.01)\n",
    "\n",
    "def get_bounds(r, sd):\n",
    "#     significant level\n",
    "    sig = sd**2\n",
    "    upper_lt = []\n",
    "    lower_lt = []\n",
    "\n",
    "    for i, rt in enumerate(rt_lt):\n",
    "        if i%100 == 0:\n",
    "            print(rt, end='\\r')\n",
    "#         array of values of different r (r_hat) with a specific r (simulated r)\n",
    "        lnL_val = lnL(r, rt, M1, M2, M0, D1, D2, D0)\n",
    "\n",
    "#         storing the upper bound\n",
    "        if rt == 1:\n",
    "            upper_lt.append(np.nan)\n",
    "        else:\n",
    "#             find the index of r which gives the closest value to the corresponding significant level\n",
    "            i_r = np.argmin(abs(lnL_val[np.argmax(lnL_val):] - (np.max(lnL_val)-sig/2))) + np.argmax(lnL_val) \n",
    "            if abs(np.max(lnL_val)-sig/2 / lnL_val[i_r] - 1) < 1/100:\n",
    "                upper_lt.append(r[i_r])\n",
    "            else: \n",
    "                upper_lt.append(np.nan)\n",
    "        \n",
    "#         storing the lower bound\n",
    "        if rt == 0:\n",
    "            lower_lt.append(np.nan)\n",
    "        else:\n",
    "#             find the index of r which gives the closest value to the corresponding significant level\n",
    "            i_l = np.argmin(abs(lnL_val[:np.argmax(lnL_val)] - (np.max(lnL_val)-sig/2)))\n",
    "            if abs(np.max(lnL_val)-sig/2 / lnL_val[i_l] - 1) < 1/100:\n",
    "                lower_lt.append(r[i_l])\n",
    "            else: \n",
    "                lower_lt.append(np.nan)\n",
    "    \n",
    "    upper_lt, lower_lt = np.array(upper_lt), np.array(lower_lt)\n",
    "    return upper_lt, lower_lt"
   ]
  },
  {
   "cell_type": "code",
   "execution_count": 38,
   "id": "a70cf024",
   "metadata": {},
   "outputs": [
    {
     "name": "stdout",
     "output_type": "stream",
     "text": [
      "1.0\r"
     ]
    }
   ],
   "source": [
    "# one sigma\n",
    "upper_lt1, lower_lt1 = get_bounds(r, 1)\n",
    "# two sigma\n",
    "upper_lt2, lower_lt2 = get_bounds(r, 2)"
   ]
  },
  {
   "cell_type": "code",
   "execution_count": 39,
   "id": "6f7c7a90",
   "metadata": {},
   "outputs": [
    {
     "data": {
      "image/png": "[encoded data removed]",
      "text/plain": [
       "<Figure size 576x432 with 1 Axes>"
      ]
     },
     "metadata": {
      "needs_background": "light"
     },
     "output_type": "display_data"
    }
   ],
   "source": [
    "\n",
    "f = plt.figure(figsize=(8,6))\n",
    "\n",
    "plt.plot(rt_lt, upper_lt1, color='C0', label=r'$1\\sigma$', lw=2)\n",
    "plt.plot(rt_lt, lower_lt1, color='C0', lw=2)\n",
    "\n",
    "plt.plot(rt_lt, upper_lt2, color='C1', label=r'$2\\sigma$', lw=2)\n",
    "plt.plot(rt_lt, lower_lt2, color='C1', lw=2)\n",
    "\n",
    "plt.legend(fontsize=20)\n",
    "\n",
    "plt.title(r\"$\\sqrt{s}=$\"+str(cm)+\"; $m_N=$\"+str(mN)+\"; $|V|^2=$\"+f\"{V2_test:.2e}\", fontsize=20)\n",
    "plt.xlabel(\"Simulated r\", fontsize=20);\n",
    "plt.ylabel(r\"MLE $\\hat{r}$\", fontsize=20);\n",
    "\n",
    "plt.margins(y=0)\n",
    "plt.margins(x=0)\n",
    "\n",
    "plt.grid()\n"
   ]
  },
  {
   "cell_type": "code",
   "execution_count": 40,
   "id": "181df07b",
   "metadata": {},
   "outputs": [
    {
     "data": {
      "image/png": "[encoded data removed]",
      "text/plain": [
       "<Figure size 576x432 with 1 Axes>"
      ]
     },
     "metadata": {
      "needs_background": "light"
     },
     "output_type": "display_data"
    }
   ],
   "source": [
    "# exmaple of a slide with specific r_t (simulated r)\n",
    "rt = 0.7   # if the measured data is such value\n",
    "\n",
    "f = plt.figure(figsize=(8,6))\n",
    "\n",
    "r = np.arange(0, 1.00000000001, 0.0001)\n",
    "\n",
    "lnL_val = lnL(r, rt, M1, M2, M0, D1, D2, D0)\n",
    "\n",
    "plt.plot(r, lnL_val)    # loop over possible r, to find the one max the liklihood\n",
    "plt.axvline(rt)\n",
    "plt.axhline(np.max(lnL_val))\n",
    "plt.axhline(np.max(lnL_val)-1/2)\n",
    "\n",
    "i_r = np.argmin(abs(lnL_val[np.argmax(lnL_val):] - (np.max(lnL_val)-1/2))) + np.argmax(lnL_val) \n",
    "if abs(np.max(lnL_val)-1/2 / lnL_val[i_r] - 1) < 1/100:\n",
    "    plt.axvline(r[i_r])\n",
    "\n",
    "i_l = np.argmin(abs(lnL_val[:np.argmax(lnL_val)] - (np.max(lnL_val)-1/2)))\n",
    "if abs(np.max(lnL_val)-1/2 / lnL_val[i_l] - 1) < 1/100:\n",
    "    plt.axvline(r[i_l])\n",
    "\n",
    "    \n",
    "plt.title(r\"$\\sqrt{s}=$\"+str(cm)+\"; $m_N=$\"+str(mN)+\"; $|V|^2=$\"+f\"{V2_test:.2e}; \"+f\"$r={rt}$\", fontsize=20)\n",
    "plt.xlabel(r\"MLE $\\hat{r}$\", fontsize=20);\n",
    "plt.ylabel(r\"$\\ln{L}$\", fontsize=20);\n",
    "plt.grid()"
   ]
  },
  {
   "cell_type": "code",
   "execution_count": 41,
   "id": "b37495e1",
   "metadata": {},
   "outputs": [],
   "source": [
    "# width of one sigma (since it is asymmetric, so need to separate upper and lower)\n",
    "sigma_pos = upper_lt1 - rt_lt\n",
    "sigma_neg = rt_lt - lower_lt1 \n",
    "\n",
    "df_sigma = pd.DataFrame(columns=['r', 'sigma_pos', 'sigma_neg'])\n",
    "df_sigma['r'] = rt_lt\n",
    "df_sigma['sigma_pos'] = sigma_pos\n",
    "df_sigma['sigma_neg'] = sigma_neg\n",
    "\n",
    "df_sigma_pos = df_sigma[['r', 'sigma_pos']].dropna()\n",
    "df_sigma_neg = df_sigma[['r', 'sigma_neg']].dropna()\n",
    "\n",
    "# avg of them \n",
    "df_sigma['avg'] = df_sigma[['sigma_pos', 'sigma_neg']].mean(axis=1)"
   ]
  },
  {
   "cell_type": "code",
   "execution_count": 42,
   "id": "f7b2d89f",
   "metadata": {},
   "outputs": [
    {
     "data": {
      "image/png": "[encoded data removed]",
      "text/plain": [
       "<Figure size 576x432 with 1 Axes>"
      ]
     },
     "metadata": {
      "needs_background": "light"
     },
     "output_type": "display_data"
    }
   ],
   "source": [
    "\n",
    "f = plt.figure(figsize=(8,6))\n",
    "plt.plot(df_sigma['r'], df_sigma['avg'], lw=2, c='C4', label=r'$\\sigma_{\\rm avg}$')\n",
    "plt.plot(df_sigma['r'], df_sigma['sigma_pos'], lw=2, c='C2', label=r'$\\sigma_+$')\n",
    "plt.plot(df_sigma['r'], df_sigma['sigma_neg'], lw=2, c='C3', label=r'$\\sigma_-$')\n",
    "plt.legend(fontsize=20)\n",
    "\n",
    "plt.xlabel(\"simulated r\", fontsize=20);\n",
    "plt.ylabel(r\"$\\sigma$\", fontsize=20);\n",
    "plt.title(r\"$\\sqrt{s}=$\"+str(cm)+\"; $m_N=$\"+str(mN)+\"; $|V|^2=$\"+f\"{V2_test:.2e}\", fontsize=20)\n",
    "plt.xlim(-0.05, 1.05)\n",
    "plt.grid()"
   ]
  },
  {
   "cell_type": "code",
   "execution_count": 384,
   "id": "7bb50a75",
   "metadata": {},
   "outputs": [],
   "source": [
    "# get the limit of |V|^2 to reject the null hypothesis H0 (e.g. r0=1 means fully Maj)\n",
    "def get_limit(r0=1, sd=1):\n",
    "    rt_lt = np.arange(0,1.00000000001,0.01)\n",
    "\n",
    "    V2_dt = {}\n",
    "#     loop over each possible r_t (truth r in the real world)\n",
    "    for rt in rt_lt:\n",
    "        if rt==r0:\n",
    "            V2_dt[rt] = np.nan\n",
    "            continue\n",
    "            \n",
    "#         set some inital V2\n",
    "        V2_test = 1e-3\n",
    "        print(rt, end='\\r')\n",
    "        while True:\n",
    "#             calculate the significance\n",
    "            M0, M1, M2 = get_M_block(V2_test)\n",
    "            D0, D1, D2 = get_D_block(V2_test)\n",
    "            lnL_valr = lnL(rt, rt, M1, M2, M0, D1, D2, D0)\n",
    "            lnL_val0 = lnL(r0, rt, M1, M2, M0, D1, D2, D0)\n",
    "            Z = (-2*(lnL_val0 - lnL_valr))**0.5\n",
    "\n",
    "#             if it is close enough to the targeted signifiant level, \n",
    "#             then store the vlaue and stop the loop\n",
    "            if abs(Z/sd-1) < 0.5/100:\n",
    "                V2_dt[rt] = V2_test\n",
    "                break\n",
    "#              if it is too large, halve the V2 and re calculate the significance \n",
    "            elif Z > sd:\n",
    "                V2_test /= 2\n",
    "#             if it is too small, make the V2 a little bit larger\n",
    "            elif Z < sd:\n",
    "                V2_test = 10**(np.log10(V2_test)*0.999) \n",
    "    return V2_dt"
   ]
  },
  {
   "cell_type": "code",
   "execution_count": 385,
   "id": "6ebe728c",
   "metadata": {},
   "outputs": [
    {
     "name": "stdout",
     "output_type": "stream",
     "text": [
      "0.01\r"
     ]
    },
    {
     "ename": "KeyboardInterrupt",
     "evalue": "",
     "output_type": "error",
     "traceback": [
      "\u001b[0;31m---------------------------------------------------------------------------\u001b[0m",
      "\u001b[0;31mKeyboardInterrupt\u001b[0m                         Traceback (most recent call last)",
      "Input \u001b[0;32mIn [385]\u001b[0m, in \u001b[0;36m<cell line: 1>\u001b[0;34m()\u001b[0m\n\u001b[0;32m----> 1\u001b[0m V2_dt_r0_1sd \u001b[38;5;241m=\u001b[39m \u001b[43mget_limit\u001b[49m\u001b[43m(\u001b[49m\u001b[43mr0\u001b[49m\u001b[38;5;241;43m=\u001b[39;49m\u001b[38;5;241;43m0\u001b[39;49m\u001b[43m,\u001b[49m\u001b[43m \u001b[49m\u001b[43msd\u001b[49m\u001b[38;5;241;43m=\u001b[39;49m\u001b[38;5;241;43m1.\u001b[39;49m\u001b[43m)\u001b[49m\n\u001b[1;32m      2\u001b[0m V2_dt_r1_1sd \u001b[38;5;241m=\u001b[39m get_limit(r0\u001b[38;5;241m=\u001b[39m\u001b[38;5;241m1\u001b[39m, sd\u001b[38;5;241m=\u001b[39m\u001b[38;5;241m1.\u001b[39m)\n\u001b[1;32m      4\u001b[0m V2_dt_r0_2sd \u001b[38;5;241m=\u001b[39m get_limit(r0\u001b[38;5;241m=\u001b[39m\u001b[38;5;241m0\u001b[39m, sd\u001b[38;5;241m=\u001b[39m\u001b[38;5;241m2.\u001b[39m)\n",
      "Input \u001b[0;32mIn [384]\u001b[0m, in \u001b[0;36mget_limit\u001b[0;34m(r0, sd)\u001b[0m\n\u001b[1;32m     15\u001b[0m         \u001b[38;5;28;01mwhile\u001b[39;00m \u001b[38;5;28;01mTrue\u001b[39;00m:\n\u001b[1;32m     16\u001b[0m \u001b[38;5;66;03m#             calculate the significance\u001b[39;00m\n\u001b[1;32m     17\u001b[0m             M0, M1, M2 \u001b[38;5;241m=\u001b[39m get_M_block(V2_test)\n\u001b[0;32m---> 18\u001b[0m             D0, D1, D2 \u001b[38;5;241m=\u001b[39m \u001b[43mget_D_block\u001b[49m\u001b[43m(\u001b[49m\u001b[43mV2_test\u001b[49m\u001b[43m)\u001b[49m\n\u001b[1;32m     19\u001b[0m             lnL_valr \u001b[38;5;241m=\u001b[39m lnL(rt, rt, M1, M2, M0, D1, D2, D0)\n\u001b[1;32m     20\u001b[0m             lnL_val0 \u001b[38;5;241m=\u001b[39m lnL(r0, rt, M1, M2, M0, D1, D2, D0)\n",
      "Input \u001b[0;32mIn [377]\u001b[0m, in \u001b[0;36mget_D_block\u001b[0;34m(V2_test)\u001b[0m\n\u001b[1;32m     11\u001b[0m \u001b[38;5;28;01mdef\u001b[39;00m \u001b[38;5;21mget_D_block\u001b[39m(V2_test\u001b[38;5;241m=\u001b[39m\u001b[38;5;241m1e-5\u001b[39m):\n\u001b[1;32m     12\u001b[0m \u001b[38;5;66;03m#     not pass Maj. pass Dir. => Dir. region\u001b[39;00m\n\u001b[0;32m---> 13\u001b[0m     df_D \u001b[38;5;241m=\u001b[39m df_bdt_test_s[(df_bdt_test_s\u001b[38;5;241m.\u001b[39mpred1\u001b[38;5;241m<\u001b[39m\u001b[38;5;241m=\u001b[39mcutM) \u001b[38;5;241m&\u001b[39m (\u001b[43mdf_bdt_test_s\u001b[49m\u001b[38;5;241;43m.\u001b[39;49m\u001b[43mpred2\u001b[49m\u001b[38;5;241;43m>\u001b[39;49m\u001b[43mcutD\u001b[49m)]\n\u001b[1;32m     14\u001b[0m \u001b[38;5;66;03m#     number of Bkg., Maj., Dir. in the Maj. region\u001b[39;00m\n\u001b[1;32m     15\u001b[0m     D0, D1, D2 \u001b[38;5;241m=\u001b[39m df_D[df_D\u001b[38;5;241m.\u001b[39mtarget\u001b[38;5;241m==\u001b[39m\u001b[38;5;241m0\u001b[39m]\u001b[38;5;241m.\u001b[39mweight\u001b[38;5;241m.\u001b[39msum()\u001b[38;5;241m/\u001b[39mtr_te_size, df_D[df_D\u001b[38;5;241m.\u001b[39mtarget\u001b[38;5;241m==\u001b[39m\u001b[38;5;241m1\u001b[39m]\u001b[38;5;241m.\u001b[39mweight\u001b[38;5;241m.\u001b[39msum()\u001b[38;5;241m/\u001b[39mtr_te_size, df_D[df_D\u001b[38;5;241m.\u001b[39mtarget\u001b[38;5;241m==\u001b[39m\u001b[38;5;241m2\u001b[39m]\u001b[38;5;241m.\u001b[39mweight\u001b[38;5;241m.\u001b[39msum()\u001b[38;5;241m/\u001b[39mtr_te_size\n",
      "File \u001b[0;32m~/anaconda3/lib/python3.9/site-packages/pandas/core/ops/common.py:70\u001b[0m, in \u001b[0;36m_unpack_zerodim_and_defer.<locals>.new_method\u001b[0;34m(self, other)\u001b[0m\n\u001b[1;32m     66\u001b[0m             \u001b[38;5;28;01mreturn\u001b[39;00m \u001b[38;5;28mNotImplemented\u001b[39m\n\u001b[1;32m     68\u001b[0m other \u001b[38;5;241m=\u001b[39m item_from_zerodim(other)\n\u001b[0;32m---> 70\u001b[0m \u001b[38;5;28;01mreturn\u001b[39;00m \u001b[43mmethod\u001b[49m\u001b[43m(\u001b[49m\u001b[38;5;28;43mself\u001b[39;49m\u001b[43m,\u001b[49m\u001b[43m \u001b[49m\u001b[43mother\u001b[49m\u001b[43m)\u001b[49m\n",
      "File \u001b[0;32m~/anaconda3/lib/python3.9/site-packages/pandas/core/arraylike.py:56\u001b[0m, in \u001b[0;36mOpsMixin.__gt__\u001b[0;34m(self, other)\u001b[0m\n\u001b[1;32m     54\u001b[0m \u001b[38;5;129m@unpack_zerodim_and_defer\u001b[39m(\u001b[38;5;124m\"\u001b[39m\u001b[38;5;124m__gt__\u001b[39m\u001b[38;5;124m\"\u001b[39m)\n\u001b[1;32m     55\u001b[0m \u001b[38;5;28;01mdef\u001b[39;00m \u001b[38;5;21m__gt__\u001b[39m(\u001b[38;5;28mself\u001b[39m, other):\n\u001b[0;32m---> 56\u001b[0m     \u001b[38;5;28;01mreturn\u001b[39;00m \u001b[38;5;28;43mself\u001b[39;49m\u001b[38;5;241;43m.\u001b[39;49m\u001b[43m_cmp_method\u001b[49m\u001b[43m(\u001b[49m\u001b[43mother\u001b[49m\u001b[43m,\u001b[49m\u001b[43m \u001b[49m\u001b[43moperator\u001b[49m\u001b[38;5;241;43m.\u001b[39;49m\u001b[43mgt\u001b[49m\u001b[43m)\u001b[49m\n",
      "File \u001b[0;32m~/anaconda3/lib/python3.9/site-packages/pandas/core/series.py:5625\u001b[0m, in \u001b[0;36mSeries._cmp_method\u001b[0;34m(self, other, op)\u001b[0m\n\u001b[1;32m   5622\u001b[0m \u001b[38;5;28;01mwith\u001b[39;00m np\u001b[38;5;241m.\u001b[39merrstate(\u001b[38;5;28mall\u001b[39m\u001b[38;5;241m=\u001b[39m\u001b[38;5;124m\"\u001b[39m\u001b[38;5;124mignore\u001b[39m\u001b[38;5;124m\"\u001b[39m):\n\u001b[1;32m   5623\u001b[0m     res_values \u001b[38;5;241m=\u001b[39m ops\u001b[38;5;241m.\u001b[39mcomparison_op(lvalues, rvalues, op)\n\u001b[0;32m-> 5625\u001b[0m \u001b[38;5;28;01mreturn\u001b[39;00m \u001b[38;5;28;43mself\u001b[39;49m\u001b[38;5;241;43m.\u001b[39;49m\u001b[43m_construct_result\u001b[49m\u001b[43m(\u001b[49m\u001b[43mres_values\u001b[49m\u001b[43m,\u001b[49m\u001b[43m \u001b[49m\u001b[43mname\u001b[49m\u001b[38;5;241;43m=\u001b[39;49m\u001b[43mres_name\u001b[49m\u001b[43m)\u001b[49m\n",
      "File \u001b[0;32m~/anaconda3/lib/python3.9/site-packages/pandas/core/series.py:3017\u001b[0m, in \u001b[0;36mSeries._construct_result\u001b[0;34m(self, result, name)\u001b[0m\n\u001b[1;32m   3013\u001b[0m     \u001b[38;5;28;01mreturn\u001b[39;00m (res1, res2)\n\u001b[1;32m   3015\u001b[0m \u001b[38;5;66;03m# We do not pass dtype to ensure that the Series constructor\u001b[39;00m\n\u001b[1;32m   3016\u001b[0m \u001b[38;5;66;03m#  does inference in the case where `result` has object-dtype.\u001b[39;00m\n\u001b[0;32m-> 3017\u001b[0m out \u001b[38;5;241m=\u001b[39m \u001b[38;5;28;43mself\u001b[39;49m\u001b[38;5;241;43m.\u001b[39;49m\u001b[43m_constructor\u001b[49m\u001b[43m(\u001b[49m\u001b[43mresult\u001b[49m\u001b[43m,\u001b[49m\u001b[43m \u001b[49m\u001b[43mindex\u001b[49m\u001b[38;5;241;43m=\u001b[39;49m\u001b[38;5;28;43mself\u001b[39;49m\u001b[38;5;241;43m.\u001b[39;49m\u001b[43mindex\u001b[49m\u001b[43m)\u001b[49m\n\u001b[1;32m   3018\u001b[0m out \u001b[38;5;241m=\u001b[39m out\u001b[38;5;241m.\u001b[39m__finalize__(\u001b[38;5;28mself\u001b[39m)\n\u001b[1;32m   3020\u001b[0m \u001b[38;5;66;03m# Set the result's name after __finalize__ is called because __finalize__\u001b[39;00m\n\u001b[1;32m   3021\u001b[0m \u001b[38;5;66;03m#  would set it back to self.name\u001b[39;00m\n",
      "File \u001b[0;32m~/anaconda3/lib/python3.9/site-packages/pandas/core/series.py:460\u001b[0m, in \u001b[0;36mSeries.__init__\u001b[0;34m(self, data, index, dtype, name, copy, fastpath)\u001b[0m\n\u001b[1;32m    457\u001b[0m             data \u001b[38;5;241m=\u001b[39m SingleArrayManager\u001b[38;5;241m.\u001b[39mfrom_array(data, index)\n\u001b[1;32m    459\u001b[0m NDFrame\u001b[38;5;241m.\u001b[39m\u001b[38;5;21m__init__\u001b[39m(\u001b[38;5;28mself\u001b[39m, data)\n\u001b[0;32m--> 460\u001b[0m \u001b[38;5;28mself\u001b[39m\u001b[38;5;241m.\u001b[39mname \u001b[38;5;241m=\u001b[39m name\n\u001b[1;32m    461\u001b[0m \u001b[38;5;28mself\u001b[39m\u001b[38;5;241m.\u001b[39m_set_axis(\u001b[38;5;241m0\u001b[39m, index, fastpath\u001b[38;5;241m=\u001b[39m\u001b[38;5;28;01mTrue\u001b[39;00m)\n",
      "File \u001b[0;32m~/anaconda3/lib/python3.9/site-packages/pandas/core/generic.py:5597\u001b[0m, in \u001b[0;36mNDFrame.__setattr__\u001b[0;34m(self, name, value)\u001b[0m\n\u001b[1;32m   5595\u001b[0m     \u001b[38;5;28mobject\u001b[39m\u001b[38;5;241m.\u001b[39m\u001b[38;5;21m__setattr__\u001b[39m(\u001b[38;5;28mself\u001b[39m, name, value)\n\u001b[1;32m   5596\u001b[0m \u001b[38;5;28;01melif\u001b[39;00m name \u001b[38;5;129;01min\u001b[39;00m \u001b[38;5;28mself\u001b[39m\u001b[38;5;241m.\u001b[39m_metadata:\n\u001b[0;32m-> 5597\u001b[0m     \u001b[38;5;28;43mobject\u001b[39;49m\u001b[38;5;241;43m.\u001b[39;49m\u001b[38;5;21;43m__setattr__\u001b[39;49m\u001b[43m(\u001b[49m\u001b[38;5;28;43mself\u001b[39;49m\u001b[43m,\u001b[49m\u001b[43m \u001b[49m\u001b[43mname\u001b[49m\u001b[43m,\u001b[49m\u001b[43m \u001b[49m\u001b[43mvalue\u001b[49m\u001b[43m)\u001b[49m\n\u001b[1;32m   5598\u001b[0m \u001b[38;5;28;01melse\u001b[39;00m:\n\u001b[1;32m   5599\u001b[0m     \u001b[38;5;28;01mtry\u001b[39;00m:\n",
      "\u001b[0;31mKeyboardInterrupt\u001b[0m: "
     ]
    }
   ],
   "source": [
    "V2_dt_r0_1sd = get_limit(r0=0, sd=1.)\n",
    "V2_dt_r1_1sd = get_limit(r0=1, sd=1.)\n",
    "\n",
    "V2_dt_r0_2sd = get_limit(r0=0, sd=2.)\n",
    "V2_dt_r1_2sd = get_limit(r0=1, sd=2.)"
   ]
  },
  {
   "cell_type": "code",
   "execution_count": null,
   "id": "cf5ad72f",
   "metadata": {},
   "outputs": [],
   "source": [
    "\n",
    "f = plt.figure(figsize=(8,6))\n",
    "plt.plot(V2_dt_r0_1sd.keys(), V2_dt_r0_1sd.values(), label=r'$H_0: r=0$ at $1\\sigma$', c='C1')\n",
    "plt.plot(V2_dt_r1_1sd.keys(), V2_dt_r1_1sd.values(), label=r'$H_0: r=1$ at $1\\sigma$', c='C0')\n",
    "plt.plot(V2_dt_r0_2sd.keys(), V2_dt_r0_2sd.values(), label=r'$H_0: r=0$ at $2\\sigma$', c='C1', linestyle='--')\n",
    "plt.plot(V2_dt_r1_2sd.keys(), V2_dt_r1_2sd.values(), label=r'$H_0: r=1$ at $2\\sigma$', c='C0', linestyle='--')\n",
    "plt.yscale('log')\n",
    "# plt.margins(y=0.25)\n",
    "\n",
    "# plt.axhline(upperM)\n",
    "\n",
    "plt.title(r\"min. $|V|^2$ to reject $H_0$\"+\"\\n\"+r\"$\\sqrt{s}=$\"+str(cm)+\"; $m_N=$\"+str(mN), fontsize=20)\n",
    "plt.xlabel(\"simulated r\", fontsize=20);\n",
    "plt.ylabel(r\"$|V|^2$\", fontsize=20);\n",
    "plt.grid()\n",
    "plt.legend(fontsize=20)\n",
    "\n",
    "plt.yscale('log')"
   ]
  },
  {
   "cell_type": "code",
   "execution_count": null,
   "id": "591ad223",
   "metadata": {},
   "outputs": [],
   "source": []
  },
  {
   "cell_type": "code",
   "execution_count": null,
   "id": "d7b39f1c",
   "metadata": {},
   "outputs": [],
   "source": []
  },
  {
   "cell_type": "code",
   "execution_count": null,
   "id": "121b2e75",
   "metadata": {},
   "outputs": [],
   "source": []
  },
  {
   "cell_type": "code",
   "execution_count": 895,
   "id": "33c44379",
   "metadata": {},
   "outputs": [],
   "source": [
    "df_plot = pd.concat([df_train, df_test])"
   ]
  },
  {
   "cell_type": "code",
   "execution_count": 323,
   "id": "b91f7915",
   "metadata": {},
   "outputs": [
    {
     "data": {
      "image/png": "[encoded data removed]",
      "text/plain": [
       "<Figure size 576x432 with 1 Axes>"
      ]
     },
     "metadata": {
      "needs_background": "light"
     },
     "output_type": "display_data"
    }
   ],
   "source": [
    "f = plt.figure(figsize=(8,6))\n",
    "ax1 = plt.subplot(111)\n",
    "\n",
    "\n",
    "range_=[-1800, 1800]\n",
    "bins_=20\n",
    "\n",
    "ax1.hist(df_plot[df_plot.target==1]['pzN'], weights=df_plot[df_plot.target==1]['weight']/sum(df_plot[df_plot.target==1]['weight']), bins=bins_, range=range_, histtype='step', lw=3, label=r'Maj.', alpha=0.5, color='C0');\n",
    "ax1.hist(df_plot[df_plot.target==2]['pzN'], weights=df_plot[df_plot.target==2]['weight']/sum(df_plot[df_plot.target==2]['weight']), bins=bins_, range=range_, histtype='step', lw=3, label=r'Dir.', alpha=0.5, color='C1');\n",
    "ax1.hist(df_plot[df_plot.target==0]['pzN'], weights=df_plot[df_plot.target==0]['weight']/sum(df_plot[df_plot.target==0]['weight']), bins=bins_, range=range_, histtype='step', lw=3, label=r'Bkg.', alpha=0.5, color='C3');\n",
    "\n",
    "ax1.set_ylabel('Normlized distribution', fontsize=20)\n",
    "ax1.set_xlabel(r'$p_z(N)$ [GeV]', fontsize=20)\n",
    "ax1.set_yticks([])\n",
    "ax1.legend(loc=1, fontsize=20)\n",
    "ax1.set_title(r\"$\\sqrt{s}=$\"+str(cm)+\"; $m_N=$\"+str(mN), fontsize=20);\n",
    "\n",
    "# ax1.set_yscale('log')\n",
    "\n"
   ]
  },
  {
   "cell_type": "code",
   "execution_count": null,
   "id": "c619a689",
   "metadata": {},
   "outputs": [],
   "source": []
  },
  {
   "cell_type": "code",
   "execution_count": null,
   "id": "5f103c99",
   "metadata": {},
   "outputs": [],
   "source": []
  },
  {
   "cell_type": "code",
   "execution_count": null,
   "id": "26b0ada7",
   "metadata": {},
   "outputs": [],
   "source": []
  },
  {
   "cell_type": "code",
   "execution_count": null,
   "id": "86b59fbc",
   "metadata": {},
   "outputs": [],
   "source": []
  },
  {
   "cell_type": "code",
   "execution_count": 44,
   "id": "1ea4dd08",
   "metadata": {},
   "outputs": [
    {
     "data": {
      "text/plain": [
       "array([0, 1, 2])"
      ]
     },
     "execution_count": 44,
     "metadata": {},
     "output_type": "execute_result"
    }
   ],
   "source": [
    "np.unique(df_plot.target)"
   ]
  },
  {
   "cell_type": "code",
   "execution_count": 45,
   "id": "c4634ae2",
   "metadata": {},
   "outputs": [],
   "source": [
    "df_plot = pd.concat([df_train_o, df_test_o])\n",
    "df_maj = df_plot[df_plot.target==1]\n",
    "df_dir = df_plot[df_plot.target==2]"
   ]
  },
  {
   "cell_type": "code",
   "execution_count": 511,
   "id": "7989a262",
   "metadata": {},
   "outputs": [],
   "source": [
    "df_maj['etaDiff'] = (df_maj['etaJJTrue'] - df_maj['etaLepTrue'])\n",
    "df_maj['phiDiff'] = abs(df_maj['phiJJTrue'] - df_maj['phiLepTrue'])\n",
    "\n",
    "df_dir['etaDiff'] = (df_dir['etaJJTrue'] - df_dir['etaLepTrue'])\n",
    "df_dir['phiDiff'] = abs(df_dir['phiJJTrue'] - df_dir['phiLepTrue'])"
   ]
  },
  {
   "cell_type": "code",
   "execution_count": 512,
   "id": "f251ee75",
   "metadata": {},
   "outputs": [],
   "source": [
    "df_maj.loc[df_maj['phiDiff'] > np.pi, 'phiDiff'] = 2*np.pi - df_maj.loc[df_maj['phiDiff'] > np.pi, 'phiDiff']\n",
    "df_dir.loc[df_dir['phiDiff'] > np.pi, 'phiDiff'] = 2*np.pi - df_dir.loc[df_dir['phiDiff'] > np.pi, 'phiDiff']"
   ]
  },
  {
   "cell_type": "code",
   "execution_count": 513,
   "id": "80cb10fc",
   "metadata": {},
   "outputs": [],
   "source": [
    "df_maj['DeltaR'] = ((df_maj['phiDiff'])**2 + (df_maj['etaDiff'])**2)**0.5\n",
    "df_dir['DeltaR'] = ((df_dir['phiDiff'])**2 + (df_dir['etaDiff'])**2)**0.5"
   ]
  },
  {
   "cell_type": "code",
   "execution_count": 514,
   "id": "f494cd83",
   "metadata": {},
   "outputs": [
    {
     "data": {
      "image/png": "[encoded data removed]",
      "text/plain": [
       "<Figure size 864x576 with 3 Axes>"
      ]
     },
     "metadata": {
      "needs_background": "light"
     },
     "output_type": "display_data"
    }
   ],
   "source": [
    "plt.figure(figsize=(12,8))\n",
    "ax1 = plt.subplot(221)\n",
    "ax1.hist(df_maj['DeltaR']);\n",
    "ax1.set_xlabel(r'$\\Delta R$');\n",
    "\n",
    "ax2 = plt.subplot(222)\n",
    "ax2.hist(df_maj['etaDiff']);\n",
    "ax2.set_xlabel(r'$\\Delta\\eta$');\n",
    "\n",
    "ax3 = plt.subplot(223)\n",
    "ax3.hist(df_maj['phiDiff']);\n",
    "ax3.set_xlabel(r'$\\Delta\\phi$');"
   ]
  },
  {
   "cell_type": "code",
   "execution_count": 515,
   "id": "221c5957",
   "metadata": {},
   "outputs": [
    {
     "data": {
      "image/png": "[encoded data removed]",
      "text/plain": [
       "<Figure size 864x576 with 3 Axes>"
      ]
     },
     "metadata": {
      "needs_background": "light"
     },
     "output_type": "display_data"
    }
   ],
   "source": [
    "plt.figure(figsize=(12,8))\n",
    "ax1 = plt.subplot(221)\n",
    "ax1.hist(df_dir['DeltaR']);\n",
    "ax1.set_xlabel(r'$\\Delta R$');\n",
    "\n",
    "ax2 = plt.subplot(222)\n",
    "ax2.hist(df_dir['etaDiff']);\n",
    "ax2.set_xlabel(r'$\\Delta\\eta$');\n",
    "\n",
    "ax3 = plt.subplot(223)\n",
    "ax3.hist(df_dir['phiDiff']);\n",
    "ax3.set_xlabel(r'$\\Delta\\phi$');"
   ]
  },
  {
   "cell_type": "code",
   "execution_count": null,
   "id": "803494a3",
   "metadata": {},
   "outputs": [],
   "source": []
  },
  {
   "cell_type": "code",
   "execution_count": null,
   "id": "7ff16374",
   "metadata": {},
   "outputs": [],
   "source": []
  },
  {
   "cell_type": "code",
   "execution_count": null,
   "id": "4114d3f6",
   "metadata": {},
   "outputs": [],
   "source": []
  },
  {
   "cell_type": "code",
   "execution_count": 190,
   "id": "ba88665e",
   "metadata": {},
   "outputs": [
    {
     "data": {
      "text/plain": [
       "4454"
      ]
     },
     "execution_count": 190,
     "metadata": {},
     "output_type": "execute_result"
    }
   ],
   "source": [
    "np.sum(abs(df_maj['etaLep'] / df_maj['etaLepTrue'] - 1)<1)"
   ]
  },
  {
   "cell_type": "code",
   "execution_count": 191,
   "id": "e9002654",
   "metadata": {},
   "outputs": [
    {
     "data": {
      "text/plain": [
       "5863"
      ]
     },
     "execution_count": 191,
     "metadata": {},
     "output_type": "execute_result"
    }
   ],
   "source": [
    "len(df_maj)"
   ]
  },
  {
   "cell_type": "code",
   "execution_count": 192,
   "id": "cae6e3a8",
   "metadata": {},
   "outputs": [
    {
     "data": {
      "text/plain": [
       "0.7596793450451987"
      ]
     },
     "execution_count": 192,
     "metadata": {},
     "output_type": "execute_result"
    }
   ],
   "source": [
    "np.sum(abs(df_maj['etaLep'] / df_maj['etaLepTrue'] - 1)<1) / len(df_maj)"
   ]
  },
  {
   "cell_type": "code",
   "execution_count": 193,
   "id": "c419a8c5",
   "metadata": {},
   "outputs": [
    {
     "data": {
      "image/png": "[encoded data removed]",
      "text/plain": [
       "<Figure size 432x288 with 1 Axes>"
      ]
     },
     "metadata": {
      "needs_background": "light"
     },
     "output_type": "display_data"
    }
   ],
   "source": [
    "plt.hist(df_maj['mJJ'], bins=10);"
   ]
  },
  {
   "cell_type": "code",
   "execution_count": 972,
   "id": "566a005b",
   "metadata": {},
   "outputs": [
    {
     "data": {
      "image/png": "[encoded data removed]",
      "text/plain": [
       "<Figure size 432x288 with 1 Axes>"
      ]
     },
     "metadata": {
      "needs_background": "light"
     },
     "output_type": "display_data"
    }
   ],
   "source": [
    "plt.hist(df_maj['mJJ'], range=[0, 200], bins=20);"
   ]
  },
  {
   "cell_type": "code",
   "execution_count": null,
   "id": "696b4cdd",
   "metadata": {},
   "outputs": [],
   "source": []
  },
  {
   "cell_type": "code",
   "execution_count": null,
   "id": "3468103e",
   "metadata": {},
   "outputs": [],
   "source": []
  },
  {
   "cell_type": "code",
   "execution_count": 49,
   "id": "2ef9a2da",
   "metadata": {},
   "outputs": [],
   "source": [
    "df_plot = pd.concat([df_train_o, df_test_o])\n",
    "# df_plot = df_bdt_cut\n",
    "df_maj = df_plot[df_plot.target==1]\n",
    "df_dir = df_plot[df_plot.target==2]\n",
    "df_bkg = df_plot[df_plot.target==3]"
   ]
  },
  {
   "cell_type": "code",
   "execution_count": null,
   "id": "e2bfc4b8",
   "metadata": {},
   "outputs": [],
   "source": []
  },
  {
   "cell_type": "code",
   "execution_count": 1005,
   "id": "94a5ebf3",
   "metadata": {},
   "outputs": [],
   "source": [
    "nM_SS = len(df_maj[df_maj.chargeLep*df_maj.chargeLep2 == 1])\n",
    "nM_OS = len(df_maj[df_maj.chargeLep*df_maj.chargeLep2 == -1])"
   ]
  },
  {
   "cell_type": "code",
   "execution_count": 1006,
   "id": "731a9055",
   "metadata": {},
   "outputs": [],
   "source": [
    "nD_SS = len(df_dir[df_dir.chargeLep*df_dir.chargeLep2 == 1]) \n",
    "nD_OS = len(df_dir[df_dir.chargeLep*df_dir.chargeLep2 == -1])"
   ]
  },
  {
   "cell_type": "code",
   "execution_count": 1007,
   "id": "6a7d7140",
   "metadata": {},
   "outputs": [
    {
     "ename": "ZeroDivisionError",
     "evalue": "division by zero",
     "output_type": "error",
     "traceback": [
      "\u001b[0;31m---------------------------------------------------------------------------\u001b[0m",
      "\u001b[0;31mZeroDivisionError\u001b[0m                         Traceback (most recent call last)",
      "Input \u001b[0;32mIn [1007]\u001b[0m, in \u001b[0;36m<cell line: 1>\u001b[0;34m()\u001b[0m\n\u001b[0;32m----> 1\u001b[0m fM_SS, fM_OS \u001b[38;5;241m=\u001b[39m \u001b[43mnM_SS\u001b[49m\u001b[43m \u001b[49m\u001b[38;5;241;43m/\u001b[39;49m\u001b[43m \u001b[49m\u001b[43m(\u001b[49m\u001b[43mnM_SS\u001b[49m\u001b[43m \u001b[49m\u001b[38;5;241;43m+\u001b[39;49m\u001b[43m \u001b[49m\u001b[43mnM_OS\u001b[49m\u001b[43m)\u001b[49m, nM_OS \u001b[38;5;241m/\u001b[39m (nM_SS \u001b[38;5;241m+\u001b[39m nM_OS)\n",
      "\u001b[0;31mZeroDivisionError\u001b[0m: division by zero"
     ]
    }
   ],
   "source": [
    "fM_SS, fM_OS = nM_SS / (nM_SS + nM_OS), nM_OS / (nM_SS + nM_OS)"
   ]
  },
  {
   "cell_type": "code",
   "execution_count": 1008,
   "id": "38dda2af",
   "metadata": {},
   "outputs": [],
   "source": [
    "fD_SS, fD_OS = nD_SS / (nD_SS + nD_OS), nD_OS / (nD_SS + nD_OS)"
   ]
  },
  {
   "cell_type": "code",
   "execution_count": 1009,
   "id": "1d9a2588",
   "metadata": {},
   "outputs": [
    {
     "name": "stdout",
     "output_type": "stream",
     "text": [
      "Maj.: SS=50.76%;\tOS=49.24%\n",
      "Dir.: SS=0.02%;\tOS=99.98%\n"
     ]
    }
   ],
   "source": [
    "print(F\"Maj.: SS={100*fM_SS:.2f}%;\\tOS={100*fM_OS:.2f}%\")\n",
    "print(F\"Dir.: SS={100*fD_SS:.2f}%;\\tOS={100*fD_OS:.2f}%\")"
   ]
  },
  {
   "cell_type": "code",
   "execution_count": null,
   "id": "2376da33",
   "metadata": {},
   "outputs": [],
   "source": []
  },
  {
   "cell_type": "code",
   "execution_count": 43,
   "id": "cdb26cdf",
   "metadata": {},
   "outputs": [
    {
     "ename": "KeyError",
     "evalue": "'ptLep'",
     "output_type": "error",
     "traceback": [
      "\u001b[0;31m---------------------------------------------------------------------------\u001b[0m",
      "\u001b[0;31mKeyError\u001b[0m                                  Traceback (most recent call last)",
      "File \u001b[0;32m~/anaconda3/lib/python3.9/site-packages/pandas/core/indexes/base.py:3621\u001b[0m, in \u001b[0;36mIndex.get_loc\u001b[0;34m(self, key, method, tolerance)\u001b[0m\n\u001b[1;32m   3620\u001b[0m \u001b[38;5;28;01mtry\u001b[39;00m:\n\u001b[0;32m-> 3621\u001b[0m     \u001b[38;5;28;01mreturn\u001b[39;00m \u001b[38;5;28;43mself\u001b[39;49m\u001b[38;5;241;43m.\u001b[39;49m\u001b[43m_engine\u001b[49m\u001b[38;5;241;43m.\u001b[39;49m\u001b[43mget_loc\u001b[49m\u001b[43m(\u001b[49m\u001b[43mcasted_key\u001b[49m\u001b[43m)\u001b[49m\n\u001b[1;32m   3622\u001b[0m \u001b[38;5;28;01mexcept\u001b[39;00m \u001b[38;5;167;01mKeyError\u001b[39;00m \u001b[38;5;28;01mas\u001b[39;00m err:\n",
      "File \u001b[0;32m~/anaconda3/lib/python3.9/site-packages/pandas/_libs/index.pyx:136\u001b[0m, in \u001b[0;36mpandas._libs.index.IndexEngine.get_loc\u001b[0;34m()\u001b[0m\n",
      "File \u001b[0;32m~/anaconda3/lib/python3.9/site-packages/pandas/_libs/index.pyx:163\u001b[0m, in \u001b[0;36mpandas._libs.index.IndexEngine.get_loc\u001b[0;34m()\u001b[0m\n",
      "File \u001b[0;32mpandas/_libs/hashtable_class_helper.pxi:5198\u001b[0m, in \u001b[0;36mpandas._libs.hashtable.PyObjectHashTable.get_item\u001b[0;34m()\u001b[0m\n",
      "File \u001b[0;32mpandas/_libs/hashtable_class_helper.pxi:5206\u001b[0m, in \u001b[0;36mpandas._libs.hashtable.PyObjectHashTable.get_item\u001b[0;34m()\u001b[0m\n",
      "\u001b[0;31mKeyError\u001b[0m: 'ptLep'",
      "\nThe above exception was the direct cause of the following exception:\n",
      "\u001b[0;31mKeyError\u001b[0m                                  Traceback (most recent call last)",
      "Input \u001b[0;32mIn [43]\u001b[0m, in \u001b[0;36m<cell line: 1>\u001b[0;34m()\u001b[0m\n\u001b[0;32m----> 1\u001b[0m plt\u001b[38;5;241m.\u001b[39mhist(\u001b[43mdf_plot\u001b[49m\u001b[43m[\u001b[49m\u001b[43mdf_plot\u001b[49m\u001b[38;5;241;43m.\u001b[39;49m\u001b[43mtarget\u001b[49m\u001b[38;5;241;43m==\u001b[39;49m\u001b[38;5;241;43m3\u001b[39;49m\u001b[43m]\u001b[49m\u001b[43m[\u001b[49m\u001b[38;5;124;43m'\u001b[39;49m\u001b[38;5;124;43mptLep\u001b[39;49m\u001b[38;5;124;43m'\u001b[39;49m\u001b[43m]\u001b[49m, weights\u001b[38;5;241m=\u001b[39m[\u001b[38;5;241m1\u001b[39m\u001b[38;5;241m/\u001b[39m\u001b[38;5;28mlen\u001b[39m(df_plot[df_plot\u001b[38;5;241m.\u001b[39mtarget\u001b[38;5;241m==\u001b[39m\u001b[38;5;241m3\u001b[39m])] \u001b[38;5;241m*\u001b[39m \u001b[38;5;28mlen\u001b[39m(df_plot[df_plot\u001b[38;5;241m.\u001b[39mtarget\u001b[38;5;241m==\u001b[39m\u001b[38;5;241m3\u001b[39m]), \n\u001b[1;32m      2\u001b[0m          \u001b[38;5;28mrange\u001b[39m\u001b[38;5;241m=\u001b[39m[\u001b[38;5;241m0\u001b[39m, \u001b[38;5;241m500\u001b[39m], bins\u001b[38;5;241m=\u001b[39m\u001b[38;5;241m50\u001b[39m, histtype\u001b[38;5;241m=\u001b[39m\u001b[38;5;124m'\u001b[39m\u001b[38;5;124mstep\u001b[39m\u001b[38;5;124m'\u001b[39m);\n\u001b[1;32m      3\u001b[0m plt\u001b[38;5;241m.\u001b[39mhist(df_plot[(df_plot\u001b[38;5;241m.\u001b[39mtarget\u001b[38;5;241m==\u001b[39m\u001b[38;5;241m1\u001b[39m) \u001b[38;5;241m&\u001b[39m (df_plot\u001b[38;5;241m.\u001b[39mptLep\u001b[38;5;241m!=\u001b[39m\u001b[38;5;241m0\u001b[39m)][\u001b[38;5;124m'\u001b[39m\u001b[38;5;124mptLep\u001b[39m\u001b[38;5;124m'\u001b[39m], weights\u001b[38;5;241m=\u001b[39m[\u001b[38;5;241m1\u001b[39m\u001b[38;5;241m/\u001b[39m\u001b[38;5;28mlen\u001b[39m(df_plot[(df_plot\u001b[38;5;241m.\u001b[39mtarget\u001b[38;5;241m==\u001b[39m\u001b[38;5;241m1\u001b[39m) \u001b[38;5;241m&\u001b[39m (df_plot\u001b[38;5;241m.\u001b[39mptLep\u001b[38;5;241m!=\u001b[39m\u001b[38;5;241m0\u001b[39m)])] \u001b[38;5;241m*\u001b[39m \u001b[38;5;28mlen\u001b[39m(df_plot[(df_plot\u001b[38;5;241m.\u001b[39mtarget\u001b[38;5;241m==\u001b[39m\u001b[38;5;241m1\u001b[39m) \u001b[38;5;241m&\u001b[39m (df_plot\u001b[38;5;241m.\u001b[39mptLep\u001b[38;5;241m!=\u001b[39m\u001b[38;5;241m0\u001b[39m)]), \n\u001b[1;32m      4\u001b[0m          \u001b[38;5;28mrange\u001b[39m\u001b[38;5;241m=\u001b[39m[\u001b[38;5;241m0\u001b[39m, \u001b[38;5;241m500\u001b[39m], bins\u001b[38;5;241m=\u001b[39m\u001b[38;5;241m50\u001b[39m, histtype\u001b[38;5;241m=\u001b[39m\u001b[38;5;124m'\u001b[39m\u001b[38;5;124mstep\u001b[39m\u001b[38;5;124m'\u001b[39m)\n",
      "File \u001b[0;32m~/anaconda3/lib/python3.9/site-packages/pandas/core/frame.py:3505\u001b[0m, in \u001b[0;36mDataFrame.__getitem__\u001b[0;34m(self, key)\u001b[0m\n\u001b[1;32m   3503\u001b[0m \u001b[38;5;28;01mif\u001b[39;00m \u001b[38;5;28mself\u001b[39m\u001b[38;5;241m.\u001b[39mcolumns\u001b[38;5;241m.\u001b[39mnlevels \u001b[38;5;241m>\u001b[39m \u001b[38;5;241m1\u001b[39m:\n\u001b[1;32m   3504\u001b[0m     \u001b[38;5;28;01mreturn\u001b[39;00m \u001b[38;5;28mself\u001b[39m\u001b[38;5;241m.\u001b[39m_getitem_multilevel(key)\n\u001b[0;32m-> 3505\u001b[0m indexer \u001b[38;5;241m=\u001b[39m \u001b[38;5;28;43mself\u001b[39;49m\u001b[38;5;241;43m.\u001b[39;49m\u001b[43mcolumns\u001b[49m\u001b[38;5;241;43m.\u001b[39;49m\u001b[43mget_loc\u001b[49m\u001b[43m(\u001b[49m\u001b[43mkey\u001b[49m\u001b[43m)\u001b[49m\n\u001b[1;32m   3506\u001b[0m \u001b[38;5;28;01mif\u001b[39;00m is_integer(indexer):\n\u001b[1;32m   3507\u001b[0m     indexer \u001b[38;5;241m=\u001b[39m [indexer]\n",
      "File \u001b[0;32m~/anaconda3/lib/python3.9/site-packages/pandas/core/indexes/base.py:3623\u001b[0m, in \u001b[0;36mIndex.get_loc\u001b[0;34m(self, key, method, tolerance)\u001b[0m\n\u001b[1;32m   3621\u001b[0m     \u001b[38;5;28;01mreturn\u001b[39;00m \u001b[38;5;28mself\u001b[39m\u001b[38;5;241m.\u001b[39m_engine\u001b[38;5;241m.\u001b[39mget_loc(casted_key)\n\u001b[1;32m   3622\u001b[0m \u001b[38;5;28;01mexcept\u001b[39;00m \u001b[38;5;167;01mKeyError\u001b[39;00m \u001b[38;5;28;01mas\u001b[39;00m err:\n\u001b[0;32m-> 3623\u001b[0m     \u001b[38;5;28;01mraise\u001b[39;00m \u001b[38;5;167;01mKeyError\u001b[39;00m(key) \u001b[38;5;28;01mfrom\u001b[39;00m \u001b[38;5;21;01merr\u001b[39;00m\n\u001b[1;32m   3624\u001b[0m \u001b[38;5;28;01mexcept\u001b[39;00m \u001b[38;5;167;01mTypeError\u001b[39;00m:\n\u001b[1;32m   3625\u001b[0m     \u001b[38;5;66;03m# If we have a listlike key, _check_indexing_error will raise\u001b[39;00m\n\u001b[1;32m   3626\u001b[0m     \u001b[38;5;66;03m#  InvalidIndexError. Otherwise we fall through and re-raise\u001b[39;00m\n\u001b[1;32m   3627\u001b[0m     \u001b[38;5;66;03m#  the TypeError.\u001b[39;00m\n\u001b[1;32m   3628\u001b[0m     \u001b[38;5;28mself\u001b[39m\u001b[38;5;241m.\u001b[39m_check_indexing_error(key)\n",
      "\u001b[0;31mKeyError\u001b[0m: 'ptLep'"
     ]
    }
   ],
   "source": [
    "plt.hist(df_plot[df_plot.target==3]['ptLep'], weights=[1/len(df_plot[df_plot.target==3])] * len(df_plot[df_plot.target==3]), \n",
    "         range=[0, 500], bins=50, histtype='step');\n",
    "plt.hist(df_plot[(df_plot.target==1) & (df_plot.ptLep!=0)]['ptLep'], weights=[1/len(df_plot[(df_plot.target==1) & (df_plot.ptLep!=0)])] * len(df_plot[(df_plot.target==1) & (df_plot.ptLep!=0)]), \n",
    "         range=[0, 500], bins=50, histtype='step');"
   ]
  },
  {
   "cell_type": "code",
   "execution_count": null,
   "id": "7fb50029",
   "metadata": {},
   "outputs": [],
   "source": [
    "plt.hist(df_plot[df_plot.target==3]['ELep'], weights=[1/len(df_plot[df_plot.target==3])] * len(df_plot[df_plot.target==3]), \n",
    "         range=[0, 500], bins=50, histtype='step');\n",
    "plt.hist(df_plot[(df_plot.target==1) & (df_plot.ptLep!=0)]['ELep'], weights=[1/len(df_plot[(df_plot.target==1) & (df_plot.ptLep!=0)])] * len(df_plot[(df_plot.target==1) & (df_plot.ptLep!=0)]), \n",
    "         range=[0, 500], bins=50, histtype='step');"
   ]
  },
  {
   "cell_type": "code",
   "execution_count": 1012,
   "id": "bfcc3c3d",
   "metadata": {},
   "outputs": [
    {
     "data": {
      "image/png": "[encoded data removed]",
      "text/plain": [
       "<Figure size 432x288 with 1 Axes>"
      ]
     },
     "metadata": {
      "needs_background": "light"
     },
     "output_type": "display_data"
    }
   ],
   "source": [
    "range_ = [0, 800]\n",
    "\n",
    "plt.hist(abs(df_plot[(df_plot.target==3) & (df_plot.ptLep!=0) & (df_plot.ptLep2!=0)]['ptLep'] - df_plot[(df_plot.target==3) & (df_plot.ptLep!=0) & (df_plot.ptLep2!=0)]['ptLep2']), \n",
    "         weights=[1/len(df_plot[(df_plot.target==3) & (df_plot.ptLep!=0) & (df_plot.ptLep2!=0)])] * len(df_plot[(df_plot.target==3) & (df_plot.ptLep!=0) & (df_plot.ptLep2!=0)]), \n",
    "         range=range_, bins=50, histtype='step');\n",
    "\n",
    "plt.hist(abs(df_plot[(df_plot.target==1) & (df_plot.ptLep!=0) & (df_plot.ptLep2!=0)]['ptLep'] - df_plot[(df_plot.target==1) & (df_plot.ptLep!=0) & (df_plot.ptLep2!=0)]['ptLep2']), \n",
    "         weights=[1/len(df_plot[(df_plot.target==1) & (df_plot.ptLep!=0) & (df_plot.ptLep2!=0)])] * len(df_plot[(df_plot.target==1) & (df_plot.ptLep!=0) & (df_plot.ptLep2!=0)]), \n",
    "         range=range_, bins=50, histtype='step');\n"
   ]
  },
  {
   "cell_type": "code",
   "execution_count": 1013,
   "id": "6da10648",
   "metadata": {},
   "outputs": [
    {
     "data": {
      "image/png": "[encoded data removed]",
      "text/plain": [
       "<Figure size 432x288 with 1 Axes>"
      ]
     },
     "metadata": {
      "needs_background": "light"
     },
     "output_type": "display_data"
    }
   ],
   "source": [
    "range_ = [0,3000]\n",
    "\n",
    "plt.hist(df_plot[(df_plot.target==3) & (df_plot.ptLep!=0) & (df_plot.ptLep2!=0)]['mNLep'], \n",
    "         weights=[1/len(df_plot[(df_plot.target==3) & (df_plot.ptLep!=0) & (df_plot.ptLep2!=0)])] * len(df_plot[(df_plot.target==3) & (df_plot.ptLep!=0) & (df_plot.ptLep2!=0)]), \n",
    "         range=range_, bins=50, histtype='step');\n",
    "\n",
    "plt.hist(df_plot[(df_plot.target==1) & (df_plot.ptLep!=0) & (df_plot.ptLep2!=0)]['mNLep'], \n",
    "         weights=[1/len(df_plot[(df_plot.target==1) & (df_plot.ptLep!=0) & (df_plot.ptLep2!=0)])] * len(df_plot[(df_plot.target==1) & (df_plot.ptLep!=0) & (df_plot.ptLep2!=0)]), \n",
    "         range=range_, bins=50, histtype='step');\n"
   ]
  },
  {
   "cell_type": "code",
   "execution_count": 1014,
   "id": "cf11bc0c",
   "metadata": {},
   "outputs": [],
   "source": [
    "df_plot['etaDiffLeps'] = (df_plot['etaLep'] - df_plot['etaLep2'])\n",
    "df_plot['phiDiffLeps'] = (df_plot['phiLep'] - df_plot['phiLep2'])"
   ]
  },
  {
   "cell_type": "code",
   "execution_count": 1015,
   "id": "04716160",
   "metadata": {},
   "outputs": [],
   "source": [
    "df_plot.loc[df_plot['phiDiffLeps'] > np.pi, 'phiDiffLeps'] = 2*np.pi - df_plot.loc[df_plot['phiDiffLeps'] > np.pi, 'phiDiffLeps']"
   ]
  },
  {
   "cell_type": "code",
   "execution_count": 1016,
   "id": "298fa0ed",
   "metadata": {},
   "outputs": [],
   "source": [
    "df_plot['DeltaRLeps'] = ((df_plot['phiDiffLeps'])**2 + (df_plot['etaDiffLeps'])**2)**0.5"
   ]
  },
  {
   "cell_type": "code",
   "execution_count": 1017,
   "id": "1af39500",
   "metadata": {},
   "outputs": [
    {
     "data": {
      "image/png": "[encoded data removed]",
      "text/plain": [
       "<Figure size 432x288 with 1 Axes>"
      ]
     },
     "metadata": {
      "needs_background": "light"
     },
     "output_type": "display_data"
    }
   ],
   "source": [
    "range_ = [0,10]\n",
    "\n",
    "plt.hist(df_plot[(df_plot.target==3) & (df_plot.ptLep!=0) & (df_plot.ptLep2!=0)]['DeltaRLeps'], \n",
    "         weights=[1/len(df_plot[(df_plot.target==3) & (df_plot.ptLep!=0) & (df_plot.ptLep2!=0)])] * len(df_plot[(df_plot.target==3) & (df_plot.ptLep!=0) & (df_plot.ptLep2!=0)]), \n",
    "         range=range_, bins=50, histtype='step');\n",
    "\n",
    "plt.hist(df_plot[(df_plot.target==1) & (df_plot.ptLep!=0) & (df_plot.ptLep2!=0)]['DeltaRLeps'], \n",
    "         weights=[1/len(df_plot[(df_plot.target==1) & (df_plot.ptLep!=0) & (df_plot.ptLep2!=0)])] * len(df_plot[(df_plot.target==1) & (df_plot.ptLep!=0) & (df_plot.ptLep2!=0)]), \n",
    "         range=range_, bins=50, histtype='step');\n"
   ]
  },
  {
   "cell_type": "code",
   "execution_count": null,
   "id": "c824175d",
   "metadata": {},
   "outputs": [],
   "source": []
  },
  {
   "cell_type": "code",
   "execution_count": 1018,
   "id": "cb779b6a",
   "metadata": {},
   "outputs": [
    {
     "data": {
      "image/png": "[encoded data removed]",
      "text/plain": [
       "<Figure size 432x288 with 1 Axes>"
      ]
     },
     "metadata": {
      "needs_background": "light"
     },
     "output_type": "display_data"
    }
   ],
   "source": [
    "plt.hist(df_maj['ptNTrue'], range=[0, 1500], bins=50);"
   ]
  },
  {
   "cell_type": "code",
   "execution_count": 1019,
   "id": "ed519ec5",
   "metadata": {},
   "outputs": [
    {
     "data": {
      "image/png": "[encoded data removed]",
      "text/plain": [
       "<Figure size 432x288 with 1 Axes>"
      ]
     },
     "metadata": {
      "needs_background": "light"
     },
     "output_type": "display_data"
    }
   ],
   "source": [
    "plt.hist(df_maj['ENTrue'], range=[0, 2000], bins=50);"
   ]
  },
  {
   "cell_type": "code",
   "execution_count": 1020,
   "id": "6ba95de5",
   "metadata": {},
   "outputs": [
    {
     "data": {
      "image/png": "[encoded data removed]",
      "text/plain": [
       "<Figure size 432x288 with 1 Axes>"
      ]
     },
     "metadata": {
      "needs_background": "light"
     },
     "output_type": "display_data"
    }
   ],
   "source": [
    "plt.hist(df_maj['etaLepTrue'], range=[-4, 4], bins=50);"
   ]
  },
  {
   "cell_type": "code",
   "execution_count": null,
   "id": "2caa5468",
   "metadata": {},
   "outputs": [],
   "source": []
  },
  {
   "cell_type": "code",
   "execution_count": 1021,
   "id": "2e92f5b9",
   "metadata": {},
   "outputs": [
    {
     "data": {
      "image/png": "[encoded data removed]",
      "text/plain": [
       "<Figure size 432x288 with 1 Axes>"
      ]
     },
     "metadata": {
      "needs_background": "light"
     },
     "output_type": "display_data"
    }
   ],
   "source": [
    "plt.hist(df_maj['ptLepTrue'], range=[0, 900], bins=50);"
   ]
  },
  {
   "cell_type": "code",
   "execution_count": 1022,
   "id": "024fcba4",
   "metadata": {},
   "outputs": [
    {
     "data": {
      "image/png": "[encoded data removed]",
      "text/plain": [
       "<Figure size 432x288 with 1 Axes>"
      ]
     },
     "metadata": {
      "needs_background": "light"
     },
     "output_type": "display_data"
    }
   ],
   "source": [
    "plt.hist(df_maj['ELepTrue'], range=[0, 900], bins=50);"
   ]
  },
  {
   "cell_type": "code",
   "execution_count": 1023,
   "id": "5c01804a",
   "metadata": {},
   "outputs": [
    {
     "data": {
      "text/plain": [
       "(0.32507627488013946, 0.21952636931570535)"
      ]
     },
     "execution_count": 1023,
     "metadata": {},
     "output_type": "execute_result"
    }
   ],
   "source": [
    "len(df_maj[df_maj['ptLepTrue']<100]) / len(df_maj) ,\\\n",
    "len(df_maj[df_maj['ELepTrue']<100]) / len(df_maj)"
   ]
  },
  {
   "cell_type": "code",
   "execution_count": 1024,
   "id": "7e30ec38",
   "metadata": {},
   "outputs": [
    {
     "data": {
      "text/plain": [
       "(0.006247275897137876, 0.0018160685747493825)"
      ]
     },
     "execution_count": 1024,
     "metadata": {},
     "output_type": "execute_result"
    }
   ],
   "source": [
    "len(df_maj[df_maj['ptLepTrue']<10]) / len(df_maj) ,\\\n",
    "len(df_maj[df_maj['ELepTrue']<10]) / len(df_maj)"
   ]
  },
  {
   "cell_type": "code",
   "execution_count": 1025,
   "id": "bc8b730b",
   "metadata": {},
   "outputs": [
    {
     "data": {
      "image/png": "[encoded data removed]",
      "text/plain": [
       "<Figure size 432x288 with 1 Axes>"
      ]
     },
     "metadata": {
      "needs_background": "light"
     },
     "output_type": "display_data"
    }
   ],
   "source": [
    "plt.hist(df_maj['EJJTrue'], range=[0, 1000], bins=50);"
   ]
  },
  {
   "cell_type": "code",
   "execution_count": 1026,
   "id": "2763d13e",
   "metadata": {},
   "outputs": [
    {
     "data": {
      "image/png": "[encoded data removed]",
      "text/plain": [
       "<Figure size 432x288 with 1 Axes>"
      ]
     },
     "metadata": {
      "needs_background": "light"
     },
     "output_type": "display_data"
    }
   ],
   "source": [
    "plt.hist(df_maj['etaJJTrue'], range=[-5, 5], bins=50);"
   ]
  },
  {
   "cell_type": "code",
   "execution_count": 1027,
   "id": "c26f51b5",
   "metadata": {},
   "outputs": [
    {
     "data": {
      "text/plain": [
       "<matplotlib.lines.Line2D at 0x7f888bbccdf0>"
      ]
     },
     "execution_count": 1027,
     "metadata": {},
     "output_type": "execute_result"
    },
    {
     "data": {
      "image/png": "[encoded data removed]",
      "text/plain": [
       "<Figure size 432x288 with 1 Axes>"
      ]
     },
     "metadata": {
      "needs_background": "light"
     },
     "output_type": "display_data"
    }
   ],
   "source": [
    "plt.hist(df_maj['ptJJTrue'], range=[0, 1000], bins=50);\n",
    "plt.axvline(100, color='red')"
   ]
  },
  {
   "cell_type": "code",
   "execution_count": 1028,
   "id": "f60bb3a9",
   "metadata": {},
   "outputs": [
    {
     "data": {
      "text/plain": [
       "0.19569954961499347"
      ]
     },
     "execution_count": 1028,
     "metadata": {},
     "output_type": "execute_result"
    }
   ],
   "source": [
    "len(df_maj[df_maj['ptJJTrue']<100]) / len(df_maj)"
   ]
  },
  {
   "cell_type": "code",
   "execution_count": 1029,
   "id": "9abac116",
   "metadata": {},
   "outputs": [
    {
     "data": {
      "image/png": "[encoded data removed]",
      "text/plain": [
       "<Figure size 432x288 with 1 Axes>"
      ]
     },
     "metadata": {
      "needs_background": "light"
     },
     "output_type": "display_data"
    }
   ],
   "source": [
    "plt.hist(df_maj['ptLep2'], range=[0, 1000], bins=50);"
   ]
  },
  {
   "cell_type": "code",
   "execution_count": 1030,
   "id": "46084ca6",
   "metadata": {},
   "outputs": [
    {
     "data": {
      "image/png": "[encoded data removed]",
      "text/plain": [
       "<Figure size 432x288 with 1 Axes>"
      ]
     },
     "metadata": {
      "needs_background": "light"
     },
     "output_type": "display_data"
    }
   ],
   "source": [
    "plt.hist(df_maj['ptLep'], range=[0, 1000], bins=50);"
   ]
  },
  {
   "cell_type": "code",
   "execution_count": 1031,
   "id": "e9170d92",
   "metadata": {},
   "outputs": [
    {
     "data": {
      "image/png": "[encoded data removed]",
      "text/plain": [
       "<Figure size 432x288 with 1 Axes>"
      ]
     },
     "metadata": {
      "needs_background": "light"
     },
     "output_type": "display_data"
    }
   ],
   "source": [
    "plt.hist(df_maj['mN'], range=[0, 1000], bins=50);"
   ]
  },
  {
   "cell_type": "code",
   "execution_count": 1032,
   "id": "fd95683b",
   "metadata": {},
   "outputs": [
    {
     "data": {
      "image/png": "[encoded data removed]",
      "text/plain": [
       "<Figure size 432x288 with 1 Axes>"
      ]
     },
     "metadata": {
      "needs_background": "light"
     },
     "output_type": "display_data"
    }
   ],
   "source": [
    "plt.hist(df_maj['mN2'], range=[0, 1000], bins=50);"
   ]
  },
  {
   "cell_type": "code",
   "execution_count": 1035,
   "id": "0a6e85b4",
   "metadata": {},
   "outputs": [
    {
     "data": {
      "text/plain": [
       "<matplotlib.collections.PathCollection at 0x7f888c921820>"
      ]
     },
     "execution_count": 1035,
     "metadata": {},
     "output_type": "execute_result"
    },
    {
     "data": {
      "image/png": "[encoded data removed]",
      "text/plain": [
       "<Figure size 432x288 with 1 Axes>"
      ]
     },
     "metadata": {
      "needs_background": "light"
     },
     "output_type": "display_data"
    }
   ],
   "source": [
    "plt.scatter(df_maj['mN2'], df_maj['mN'], alpha=0.05)"
   ]
  },
  {
   "cell_type": "code",
   "execution_count": null,
   "id": "e0839896",
   "metadata": {},
   "outputs": [],
   "source": []
  },
  {
   "cell_type": "code",
   "execution_count": null,
   "id": "cca2615f",
   "metadata": {},
   "outputs": [],
   "source": []
  },
  {
   "cell_type": "code",
   "execution_count": 48,
   "id": "d8016eaa",
   "metadata": {},
   "outputs": [],
   "source": []
  },
  {
   "cell_type": "code",
   "execution_count": null,
   "id": "6dee0fdf",
   "metadata": {},
   "outputs": [],
   "source": []
  },
  {
   "cell_type": "code",
   "execution_count": null,
   "id": "56f36ad3",
   "metadata": {},
   "outputs": [],
   "source": []
  }
 ],
 "metadata": {
  "kernelspec": {
   "display_name": "Python 3 (ipykernel)",
   "language": "python",
   "name": "python3"
  },
  "language_info": {
   "codemirror_mode": {
    "name": "ipython",
    "version": 3
   },
   "file_extension": ".py",
   "mimetype": "text/x-python",
   "name": "python",
   "nbconvert_exporter": "python",
   "pygments_lexer": "ipython3",
   "version": "3.9.12"
  }
 },
 "nbformat": 4,
 "nbformat_minor": 5
}
